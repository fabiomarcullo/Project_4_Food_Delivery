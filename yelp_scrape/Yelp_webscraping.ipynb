{
 "cells": [
  {
   "cell_type": "code",
   "execution_count": 1,
   "id": "7cac0f9a",
   "metadata": {},
   "outputs": [],
   "source": [
    "#Importing dependencies/libraries\n",
    "\n",
    "from splinter import Browser\n",
    "from bs4 import BeautifulSoup as soup\n",
    "import pandas as pd\n",
    "import time"
   ]
  },
  {
   "cell_type": "code",
   "execution_count": 22,
   "id": "0727d0a9",
   "metadata": {},
   "outputs": [
    {
     "ename": "WebDriverException",
     "evalue": "Message: unknown error: cannot find Chrome binary\nStacktrace:\n0   chromedriver                        0x000000010485e924 chromedriver + 4303140\n1   chromedriver                        0x0000000104857050 chromedriver + 4272208\n2   chromedriver                        0x000000010448b328 chromedriver + 291624\n3   chromedriver                        0x00000001044b3a7c chromedriver + 457340\n4   chromedriver                        0x00000001044b2ffc chromedriver + 454652\n5   chromedriver                        0x00000001044f2040 chromedriver + 712768\n6   chromedriver                        0x00000001044f180c chromedriver + 710668\n7   chromedriver                        0x00000001044bc8d4 chromedriver + 493780\n8   chromedriver                        0x00000001044bd71c chromedriver + 497436\n9   chromedriver                        0x000000010481f7dc chromedriver + 4044764\n10  chromedriver                        0x0000000104823d20 chromedriver + 4062496\n11  chromedriver                        0x0000000104829f40 chromedriver + 4087616\n12  chromedriver                        0x0000000104824824 chromedriver + 4065316\n13  chromedriver                        0x00000001047fcd1c chromedriver + 3902748\n14  chromedriver                        0x0000000104840414 chromedriver + 4178964\n15  chromedriver                        0x000000010484056c chromedriver + 4179308\n16  chromedriver                        0x0000000104850830 chromedriver + 4245552\n17  libsystem_pthread.dylib             0x0000000196cf606c _pthread_start + 148\n18  libsystem_pthread.dylib             0x0000000196cf0e2c thread_start + 8\n",
     "output_type": "error",
     "traceback": [
      "\u001b[0;31m---------------------------------------------------------------------------\u001b[0m",
      "\u001b[0;31mWebDriverException\u001b[0m                        Traceback (most recent call last)",
      "Cell \u001b[0;32mIn[22], line 3\u001b[0m\n\u001b[1;32m      1\u001b[0m \u001b[38;5;66;03m#Setting up the browser\u001b[39;00m\n\u001b[0;32m----> 3\u001b[0m browser \u001b[38;5;241m=\u001b[39m \u001b[43mBrowser\u001b[49m\u001b[43m(\u001b[49m\u001b[38;5;124;43m'\u001b[39;49m\u001b[38;5;124;43mchrome\u001b[39;49m\u001b[38;5;124;43m'\u001b[39;49m\u001b[43m)\u001b[49m\n",
      "File \u001b[0;32m~/anaconda3/lib/python3.10/site-packages/splinter/browser.py:125\u001b[0m, in \u001b[0;36mBrowser\u001b[0;34m(driver_name, retry_count, *args, **kwargs)\u001b[0m\n\u001b[1;32m    122\u001b[0m \u001b[38;5;28;01mif\u001b[39;00m driver \u001b[38;5;129;01mis\u001b[39;00m \u001b[38;5;28;01mNone\u001b[39;00m:\n\u001b[1;32m    123\u001b[0m     \u001b[38;5;28;01mraise\u001b[39;00m DriverNotFoundError(\u001b[38;5;124mf\u001b[39m\u001b[38;5;124m'\u001b[39m\u001b[38;5;124mDriver for \u001b[39m\u001b[38;5;132;01m{\u001b[39;00mdriver_name\u001b[38;5;132;01m}\u001b[39;00m\u001b[38;5;124m was not found.\u001b[39m\u001b[38;5;124m'\u001b[39m)\n\u001b[0;32m--> 125\u001b[0m \u001b[38;5;28;01mreturn\u001b[39;00m \u001b[43mget_driver\u001b[49m\u001b[43m(\u001b[49m\u001b[43mdriver\u001b[49m\u001b[43m,\u001b[49m\u001b[43m \u001b[49m\u001b[43mretry_count\u001b[49m\u001b[38;5;241;43m=\u001b[39;49m\u001b[43mretry_count\u001b[49m\u001b[43m,\u001b[49m\u001b[43m \u001b[49m\u001b[38;5;241;43m*\u001b[39;49m\u001b[43margs\u001b[49m\u001b[43m,\u001b[49m\u001b[43m \u001b[49m\u001b[38;5;241;43m*\u001b[39;49m\u001b[38;5;241;43m*\u001b[39;49m\u001b[43mkwargs\u001b[49m\u001b[43m)\u001b[49m\n",
      "File \u001b[0;32m~/anaconda3/lib/python3.10/site-packages/splinter/browser.py:97\u001b[0m, in \u001b[0;36mget_driver\u001b[0;34m(driver, retry_count, *args, **kwargs)\u001b[0m\n\u001b[1;32m     94\u001b[0m     \u001b[38;5;28;01mexcept\u001b[39;00m driver_exceptions \u001b[38;5;28;01mas\u001b[39;00m e:\n\u001b[1;32m     95\u001b[0m         err \u001b[38;5;241m=\u001b[39m e\n\u001b[0;32m---> 97\u001b[0m \u001b[38;5;28;01mraise\u001b[39;00m err\n",
      "File \u001b[0;32m~/anaconda3/lib/python3.10/site-packages/splinter/browser.py:93\u001b[0m, in \u001b[0;36mget_driver\u001b[0;34m(driver, retry_count, *args, **kwargs)\u001b[0m\n\u001b[1;32m     91\u001b[0m \u001b[38;5;28;01mfor\u001b[39;00m _ \u001b[38;5;129;01min\u001b[39;00m \u001b[38;5;28mrange\u001b[39m(retry_count):\n\u001b[1;32m     92\u001b[0m     \u001b[38;5;28;01mtry\u001b[39;00m:\n\u001b[0;32m---> 93\u001b[0m         \u001b[38;5;28;01mreturn\u001b[39;00m \u001b[43mdriver\u001b[49m\u001b[43m(\u001b[49m\u001b[38;5;241;43m*\u001b[39;49m\u001b[43margs\u001b[49m\u001b[43m,\u001b[49m\u001b[43m \u001b[49m\u001b[38;5;241;43m*\u001b[39;49m\u001b[38;5;241;43m*\u001b[39;49m\u001b[43mkwargs\u001b[49m\u001b[43m)\u001b[49m\n\u001b[1;32m     94\u001b[0m     \u001b[38;5;28;01mexcept\u001b[39;00m driver_exceptions \u001b[38;5;28;01mas\u001b[39;00m e:\n\u001b[1;32m     95\u001b[0m         err \u001b[38;5;241m=\u001b[39m e\n",
      "File \u001b[0;32m~/anaconda3/lib/python3.10/site-packages/splinter/driver/webdriver/chrome.py:42\u001b[0m, in \u001b[0;36mWebDriver.__init__\u001b[0;34m(self, options, user_agent, wait_time, fullscreen, incognito, headless, **kwargs)\u001b[0m\n\u001b[1;32m     39\u001b[0m     options\u001b[38;5;241m.\u001b[39madd_argument(\u001b[38;5;124m\"\u001b[39m\u001b[38;5;124m--headless\u001b[39m\u001b[38;5;124m\"\u001b[39m)\n\u001b[1;32m     40\u001b[0m     options\u001b[38;5;241m.\u001b[39madd_argument(\u001b[38;5;124m\"\u001b[39m\u001b[38;5;124m--disable-gpu\u001b[39m\u001b[38;5;124m\"\u001b[39m)\n\u001b[0;32m---> 42\u001b[0m driver \u001b[38;5;241m=\u001b[39m \u001b[43mChrome\u001b[49m\u001b[43m(\u001b[49m\u001b[43moptions\u001b[49m\u001b[38;5;241;43m=\u001b[39;49m\u001b[43moptions\u001b[49m\u001b[43m,\u001b[49m\u001b[43m \u001b[49m\u001b[38;5;241;43m*\u001b[39;49m\u001b[38;5;241;43m*\u001b[39;49m\u001b[43mkwargs\u001b[49m\u001b[43m)\u001b[49m\n\u001b[1;32m     44\u001b[0m \u001b[38;5;28msuper\u001b[39m(WebDriver, \u001b[38;5;28mself\u001b[39m)\u001b[38;5;241m.\u001b[39m\u001b[38;5;21m__init__\u001b[39m(driver, wait_time)\n",
      "File \u001b[0;32m~/anaconda3/lib/python3.10/site-packages/selenium/webdriver/chrome/webdriver.py:70\u001b[0m, in \u001b[0;36mWebDriver.__init__\u001b[0;34m(self, executable_path, port, options, service_args, desired_capabilities, service_log_path, chrome_options, service, keep_alive)\u001b[0m\n\u001b[1;32m     67\u001b[0m \u001b[38;5;28;01mif\u001b[39;00m \u001b[38;5;129;01mnot\u001b[39;00m service:\n\u001b[1;32m     68\u001b[0m     service \u001b[38;5;241m=\u001b[39m Service(executable_path, port, service_args, service_log_path)\n\u001b[0;32m---> 70\u001b[0m \u001b[38;5;28;43msuper\u001b[39;49m\u001b[43m(\u001b[49m\u001b[43mWebDriver\u001b[49m\u001b[43m,\u001b[49m\u001b[43m \u001b[49m\u001b[38;5;28;43mself\u001b[39;49m\u001b[43m)\u001b[49m\u001b[38;5;241;43m.\u001b[39;49m\u001b[38;5;21;43m__init__\u001b[39;49m\u001b[43m(\u001b[49m\u001b[43mDesiredCapabilities\u001b[49m\u001b[38;5;241;43m.\u001b[39;49m\u001b[43mCHROME\u001b[49m\u001b[43m[\u001b[49m\u001b[38;5;124;43m'\u001b[39;49m\u001b[38;5;124;43mbrowserName\u001b[39;49m\u001b[38;5;124;43m'\u001b[39;49m\u001b[43m]\u001b[49m\u001b[43m,\u001b[49m\u001b[43m \u001b[49m\u001b[38;5;124;43m\"\u001b[39;49m\u001b[38;5;124;43mgoog\u001b[39;49m\u001b[38;5;124;43m\"\u001b[39;49m\u001b[43m,\u001b[49m\n\u001b[1;32m     71\u001b[0m \u001b[43m                                \u001b[49m\u001b[43mport\u001b[49m\u001b[43m,\u001b[49m\u001b[43m \u001b[49m\u001b[43moptions\u001b[49m\u001b[43m,\u001b[49m\n\u001b[1;32m     72\u001b[0m \u001b[43m                                \u001b[49m\u001b[43mservice_args\u001b[49m\u001b[43m,\u001b[49m\u001b[43m \u001b[49m\u001b[43mdesired_capabilities\u001b[49m\u001b[43m,\u001b[49m\n\u001b[1;32m     73\u001b[0m \u001b[43m                                \u001b[49m\u001b[43mservice_log_path\u001b[49m\u001b[43m,\u001b[49m\u001b[43m \u001b[49m\u001b[43mservice\u001b[49m\u001b[43m,\u001b[49m\u001b[43m \u001b[49m\u001b[43mkeep_alive\u001b[49m\u001b[43m)\u001b[49m\n",
      "File \u001b[0;32m~/anaconda3/lib/python3.10/site-packages/selenium/webdriver/chromium/webdriver.py:92\u001b[0m, in \u001b[0;36mChromiumDriver.__init__\u001b[0;34m(self, browser_name, vendor_prefix, port, options, service_args, desired_capabilities, service_log_path, service, keep_alive)\u001b[0m\n\u001b[1;32m     89\u001b[0m \u001b[38;5;28mself\u001b[39m\u001b[38;5;241m.\u001b[39mservice\u001b[38;5;241m.\u001b[39mstart()\n\u001b[1;32m     91\u001b[0m \u001b[38;5;28;01mtry\u001b[39;00m:\n\u001b[0;32m---> 92\u001b[0m     \u001b[43mRemoteWebDriver\u001b[49m\u001b[38;5;241;43m.\u001b[39;49m\u001b[38;5;21;43m__init__\u001b[39;49m\u001b[43m(\u001b[49m\n\u001b[1;32m     93\u001b[0m \u001b[43m        \u001b[49m\u001b[38;5;28;43mself\u001b[39;49m\u001b[43m,\u001b[49m\n\u001b[1;32m     94\u001b[0m \u001b[43m        \u001b[49m\u001b[43mcommand_executor\u001b[49m\u001b[38;5;241;43m=\u001b[39;49m\u001b[43mChromiumRemoteConnection\u001b[49m\u001b[43m(\u001b[49m\n\u001b[1;32m     95\u001b[0m \u001b[43m            \u001b[49m\u001b[43mremote_server_addr\u001b[49m\u001b[38;5;241;43m=\u001b[39;49m\u001b[38;5;28;43mself\u001b[39;49m\u001b[38;5;241;43m.\u001b[39;49m\u001b[43mservice\u001b[49m\u001b[38;5;241;43m.\u001b[39;49m\u001b[43mservice_url\u001b[49m\u001b[43m,\u001b[49m\n\u001b[1;32m     96\u001b[0m \u001b[43m            \u001b[49m\u001b[43mbrowser_name\u001b[49m\u001b[38;5;241;43m=\u001b[39;49m\u001b[43mbrowser_name\u001b[49m\u001b[43m,\u001b[49m\u001b[43m \u001b[49m\u001b[43mvendor_prefix\u001b[49m\u001b[38;5;241;43m=\u001b[39;49m\u001b[43mvendor_prefix\u001b[49m\u001b[43m,\u001b[49m\n\u001b[1;32m     97\u001b[0m \u001b[43m            \u001b[49m\u001b[43mkeep_alive\u001b[49m\u001b[38;5;241;43m=\u001b[39;49m\u001b[43mkeep_alive\u001b[49m\u001b[43m,\u001b[49m\u001b[43m \u001b[49m\u001b[43mignore_proxy\u001b[49m\u001b[38;5;241;43m=\u001b[39;49m\u001b[43m_ignore_proxy\u001b[49m\u001b[43m)\u001b[49m\u001b[43m,\u001b[49m\n\u001b[1;32m     98\u001b[0m \u001b[43m        \u001b[49m\u001b[43moptions\u001b[49m\u001b[38;5;241;43m=\u001b[39;49m\u001b[43moptions\u001b[49m\u001b[43m)\u001b[49m\n\u001b[1;32m     99\u001b[0m \u001b[38;5;28;01mexcept\u001b[39;00m \u001b[38;5;167;01mException\u001b[39;00m:\n\u001b[1;32m    100\u001b[0m     \u001b[38;5;28mself\u001b[39m\u001b[38;5;241m.\u001b[39mquit()\n",
      "File \u001b[0;32m~/anaconda3/lib/python3.10/site-packages/selenium/webdriver/remote/webdriver.py:275\u001b[0m, in \u001b[0;36mWebDriver.__init__\u001b[0;34m(self, command_executor, desired_capabilities, browser_profile, proxy, keep_alive, file_detector, options)\u001b[0m\n\u001b[1;32m    273\u001b[0m \u001b[38;5;28mself\u001b[39m\u001b[38;5;241m.\u001b[39m_authenticator_id \u001b[38;5;241m=\u001b[39m \u001b[38;5;28;01mNone\u001b[39;00m\n\u001b[1;32m    274\u001b[0m \u001b[38;5;28mself\u001b[39m\u001b[38;5;241m.\u001b[39mstart_client()\n\u001b[0;32m--> 275\u001b[0m \u001b[38;5;28;43mself\u001b[39;49m\u001b[38;5;241;43m.\u001b[39;49m\u001b[43mstart_session\u001b[49m\u001b[43m(\u001b[49m\u001b[43mcapabilities\u001b[49m\u001b[43m,\u001b[49m\u001b[43m \u001b[49m\u001b[43mbrowser_profile\u001b[49m\u001b[43m)\u001b[49m\n",
      "File \u001b[0;32m~/anaconda3/lib/python3.10/site-packages/selenium/webdriver/remote/webdriver.py:365\u001b[0m, in \u001b[0;36mWebDriver.start_session\u001b[0;34m(self, capabilities, browser_profile)\u001b[0m\n\u001b[1;32m    363\u001b[0m w3c_caps \u001b[38;5;241m=\u001b[39m _make_w3c_caps(capabilities)\n\u001b[1;32m    364\u001b[0m parameters \u001b[38;5;241m=\u001b[39m {\u001b[38;5;124m\"\u001b[39m\u001b[38;5;124mcapabilities\u001b[39m\u001b[38;5;124m\"\u001b[39m: w3c_caps}\n\u001b[0;32m--> 365\u001b[0m response \u001b[38;5;241m=\u001b[39m \u001b[38;5;28;43mself\u001b[39;49m\u001b[38;5;241;43m.\u001b[39;49m\u001b[43mexecute\u001b[49m\u001b[43m(\u001b[49m\u001b[43mCommand\u001b[49m\u001b[38;5;241;43m.\u001b[39;49m\u001b[43mNEW_SESSION\u001b[49m\u001b[43m,\u001b[49m\u001b[43m \u001b[49m\u001b[43mparameters\u001b[49m\u001b[43m)\u001b[49m\n\u001b[1;32m    366\u001b[0m \u001b[38;5;28;01mif\u001b[39;00m \u001b[38;5;124m'\u001b[39m\u001b[38;5;124msessionId\u001b[39m\u001b[38;5;124m'\u001b[39m \u001b[38;5;129;01mnot\u001b[39;00m \u001b[38;5;129;01min\u001b[39;00m response:\n\u001b[1;32m    367\u001b[0m     response \u001b[38;5;241m=\u001b[39m response[\u001b[38;5;124m'\u001b[39m\u001b[38;5;124mvalue\u001b[39m\u001b[38;5;124m'\u001b[39m]\n",
      "File \u001b[0;32m~/anaconda3/lib/python3.10/site-packages/selenium/webdriver/remote/webdriver.py:430\u001b[0m, in \u001b[0;36mWebDriver.execute\u001b[0;34m(self, driver_command, params)\u001b[0m\n\u001b[1;32m    428\u001b[0m response \u001b[38;5;241m=\u001b[39m \u001b[38;5;28mself\u001b[39m\u001b[38;5;241m.\u001b[39mcommand_executor\u001b[38;5;241m.\u001b[39mexecute(driver_command, params)\n\u001b[1;32m    429\u001b[0m \u001b[38;5;28;01mif\u001b[39;00m response:\n\u001b[0;32m--> 430\u001b[0m     \u001b[38;5;28;43mself\u001b[39;49m\u001b[38;5;241;43m.\u001b[39;49m\u001b[43merror_handler\u001b[49m\u001b[38;5;241;43m.\u001b[39;49m\u001b[43mcheck_response\u001b[49m\u001b[43m(\u001b[49m\u001b[43mresponse\u001b[49m\u001b[43m)\u001b[49m\n\u001b[1;32m    431\u001b[0m     response[\u001b[38;5;124m'\u001b[39m\u001b[38;5;124mvalue\u001b[39m\u001b[38;5;124m'\u001b[39m] \u001b[38;5;241m=\u001b[39m \u001b[38;5;28mself\u001b[39m\u001b[38;5;241m.\u001b[39m_unwrap_value(\n\u001b[1;32m    432\u001b[0m         response\u001b[38;5;241m.\u001b[39mget(\u001b[38;5;124m'\u001b[39m\u001b[38;5;124mvalue\u001b[39m\u001b[38;5;124m'\u001b[39m, \u001b[38;5;28;01mNone\u001b[39;00m))\n\u001b[1;32m    433\u001b[0m     \u001b[38;5;28;01mreturn\u001b[39;00m response\n",
      "File \u001b[0;32m~/anaconda3/lib/python3.10/site-packages/selenium/webdriver/remote/errorhandler.py:247\u001b[0m, in \u001b[0;36mErrorHandler.check_response\u001b[0;34m(self, response)\u001b[0m\n\u001b[1;32m    245\u001b[0m         alert_text \u001b[38;5;241m=\u001b[39m value[\u001b[38;5;124m'\u001b[39m\u001b[38;5;124malert\u001b[39m\u001b[38;5;124m'\u001b[39m]\u001b[38;5;241m.\u001b[39mget(\u001b[38;5;124m'\u001b[39m\u001b[38;5;124mtext\u001b[39m\u001b[38;5;124m'\u001b[39m)\n\u001b[1;32m    246\u001b[0m     \u001b[38;5;28;01mraise\u001b[39;00m exception_class(message, screen, stacktrace, alert_text)  \u001b[38;5;66;03m# type: ignore[call-arg]  # mypy is not smart enough here\u001b[39;00m\n\u001b[0;32m--> 247\u001b[0m \u001b[38;5;28;01mraise\u001b[39;00m exception_class(message, screen, stacktrace)\n",
      "\u001b[0;31mWebDriverException\u001b[0m: Message: unknown error: cannot find Chrome binary\nStacktrace:\n0   chromedriver                        0x000000010485e924 chromedriver + 4303140\n1   chromedriver                        0x0000000104857050 chromedriver + 4272208\n2   chromedriver                        0x000000010448b328 chromedriver + 291624\n3   chromedriver                        0x00000001044b3a7c chromedriver + 457340\n4   chromedriver                        0x00000001044b2ffc chromedriver + 454652\n5   chromedriver                        0x00000001044f2040 chromedriver + 712768\n6   chromedriver                        0x00000001044f180c chromedriver + 710668\n7   chromedriver                        0x00000001044bc8d4 chromedriver + 493780\n8   chromedriver                        0x00000001044bd71c chromedriver + 497436\n9   chromedriver                        0x000000010481f7dc chromedriver + 4044764\n10  chromedriver                        0x0000000104823d20 chromedriver + 4062496\n11  chromedriver                        0x0000000104829f40 chromedriver + 4087616\n12  chromedriver                        0x0000000104824824 chromedriver + 4065316\n13  chromedriver                        0x00000001047fcd1c chromedriver + 3902748\n14  chromedriver                        0x0000000104840414 chromedriver + 4178964\n15  chromedriver                        0x000000010484056c chromedriver + 4179308\n16  chromedriver                        0x0000000104850830 chromedriver + 4245552\n17  libsystem_pthread.dylib             0x0000000196cf606c _pthread_start + 148\n18  libsystem_pthread.dylib             0x0000000196cf0e2c thread_start + 8\n"
     ]
    }
   ],
   "source": [
    "#Setting up the browser\n",
    "\n",
    "browser = Browser('chrome')"
   ]
  },
  {
   "cell_type": "code",
   "execution_count": null,
   "id": "07b1527b",
   "metadata": {},
   "outputs": [],
   "source": [
    "#Visiting the website\n",
    "\n",
    "loc = 'victoria'\n",
    "prov = 'bc'\n",
    "url = f'https://www.yelp.com/search?find_desc=Restaurants&find_loc={loc}%2C%20{prov}'\n",
    "browser.visit(url)"
   ]
  },
  {
   "cell_type": "code",
   "execution_count": null,
   "id": "771b80b4",
   "metadata": {},
   "outputs": [],
   "source": [
    "#Creating a BeautifulSoup instance to parse through the HTML\n",
    "html = browser.html\n",
    "\n",
    "soup = soup(html, 'html.parser')"
   ]
  },
  {
   "cell_type": "markdown",
   "id": "8cdf9cf8",
   "metadata": {},
   "source": [
    "# Extracting restaurant name"
   ]
  },
  {
   "cell_type": "code",
   "execution_count": 5,
   "id": "a1ca82d5",
   "metadata": {},
   "outputs": [],
   "source": [
    "res_name = soup.find_all(\"a\", {\n",
    "    \"class\": \"css-19v1rkv\",\n",
    "    \"target\": \"_blank\",\n",
    "})\n",
    "time.sleep(3)"
   ]
  },
  {
   "cell_type": "code",
   "execution_count": 6,
   "id": "7d44a24b",
   "metadata": {},
   "outputs": [
    {
     "data": {
      "text/plain": [
       "13"
      ]
     },
     "execution_count": 6,
     "metadata": {},
     "output_type": "execute_result"
    }
   ],
   "source": [
    "len(res_name)"
   ]
  },
  {
   "cell_type": "code",
   "execution_count": 7,
   "id": "e16d18c0",
   "metadata": {},
   "outputs": [
    {
     "data": {
      "text/plain": [
       "'Pizza Hut'"
      ]
     },
     "execution_count": 7,
     "metadata": {},
     "output_type": "execute_result"
    }
   ],
   "source": [
    "res_name[0].text "
   ]
  },
  {
   "cell_type": "markdown",
   "id": "42d155cf",
   "metadata": {},
   "source": [
    "# Extracting a target div, then extracting the elements needed from it"
   ]
  },
  {
   "cell_type": "code",
   "execution_count": 11,
   "id": "00211168",
   "metadata": {},
   "outputs": [],
   "source": [
    "res_info = soup.find_all(\"div\", class_ = \"container__09f24__mpR8_ hoverable__09f24__wQ_on border-color--default__09f24__NPAKY\")"
   ]
  },
  {
   "cell_type": "code",
   "execution_count": 12,
   "id": "aae2ea2a",
   "metadata": {},
   "outputs": [
    {
     "data": {
      "text/plain": [
       "'1.\\xa0Red Fish Blue Fish4.5 (1.3k reviews)Fish & ChipsFood StandsSeafood$$Open until 9:00 PM“Simply the best fish n chips in Victoria , and a great area on the harbour front to eat them .”\\xa0moreOutdoor seatingTakeout'"
      ]
     },
     "execution_count": 12,
     "metadata": {},
     "output_type": "execute_result"
    }
   ],
   "source": [
    "res_info[2].text"
   ]
  },
  {
   "cell_type": "code",
   "execution_count": 13,
   "id": "5e9ec14c",
   "metadata": {},
   "outputs": [
    {
     "data": {
      "text/plain": [
       "'Red Fish Blue Fish'"
      ]
     },
     "execution_count": 13,
     "metadata": {},
     "output_type": "execute_result"
    }
   ],
   "source": [
    "res_info[2].find(\"a\", class_ = \"css-19v1rkv\").text"
   ]
  },
  {
   "cell_type": "code",
   "execution_count": 14,
   "id": "dec3d6e3",
   "metadata": {},
   "outputs": [
    {
     "data": {
      "text/plain": [
       "'$$'"
      ]
     },
     "execution_count": 14,
     "metadata": {},
     "output_type": "execute_result"
    }
   ],
   "source": [
    "res_info[2].find(\"span\", {\"class\":\"priceRange__09f24__mmOuH css-chan6m\"}).text"
   ]
  },
  {
   "cell_type": "code",
   "execution_count": 17,
   "id": "89646d2b",
   "metadata": {},
   "outputs": [
    {
     "data": {
      "text/plain": [
       "'4.5 '"
      ]
     },
     "execution_count": 17,
     "metadata": {},
     "output_type": "execute_result"
    }
   ],
   "source": [
    "res_info[2].find(\"span\", {\"class\":\"css-gutk1c\"}).text"
   ]
  },
  {
   "cell_type": "code",
   "execution_count": 15,
   "id": "2d718494",
   "metadata": {},
   "outputs": [
    {
     "data": {
      "text/plain": [
       "'(1.3k reviews)'"
      ]
     },
     "execution_count": 15,
     "metadata": {},
     "output_type": "execute_result"
    }
   ],
   "source": [
    "res_info[2].find(\"span\", {\"class\":\"css-chan6m\"}).text"
   ]
  },
  {
   "cell_type": "code",
   "execution_count": 16,
   "id": "8b442b07",
   "metadata": {},
   "outputs": [
    {
     "data": {
      "text/plain": [
       "[<span class=\"css-11bijt4\">Fish &amp; Chips</span>,\n",
       " <span class=\"css-11bijt4\">Food Stands</span>,\n",
       " <span class=\"css-11bijt4\">Seafood</span>]"
      ]
     },
     "execution_count": 16,
     "metadata": {},
     "output_type": "execute_result"
    }
   ],
   "source": [
    "res_info[2].find_all(\"span\", {\"class\":\"css-11bijt4\"})"
   ]
  },
  {
   "cell_type": "markdown",
   "id": "ac491e86",
   "metadata": {},
   "source": [
    "# USING FOR LOOP TO PULL YELP INFO "
   ]
  },
  {
   "cell_type": "code",
   "execution_count": 6,
   "id": "ebfc416d",
   "metadata": {},
   "outputs": [
    {
     "name": "stderr",
     "output_type": "stream",
     "text": [
      "/var/folders/_z/_c4_cm7j50l1wky29tsn98200000gn/T/ipykernel_12430/1447477094.py:10: DeprecationWarning: executable_path has been deprecated, please pass in a Service object\n",
      "  driver = webdriver.Chrome(chrome_driver_binary, chrome_options=options)\n",
      "/var/folders/_z/_c4_cm7j50l1wky29tsn98200000gn/T/ipykernel_12430/1447477094.py:10: DeprecationWarning: use options instead of chrome_options\n",
      "  driver = webdriver.Chrome(chrome_driver_binary, chrome_options=options)\n"
     ]
    }
   ],
   "source": [
    "import re\n",
    "from bs4 import BeautifulSoup\n",
    "import requests\n",
    "from selenium import webdriver\n",
    "from selenium.webdriver.common.by import By\n",
    "\n",
    "\n"
   ]
  },
  {
   "cell_type": "code",
   "execution_count": 2,
   "id": "6b4472b7",
   "metadata": {},
   "outputs": [
    {
     "name": "stdout",
     "output_type": "stream",
     "text": [
      "Results for Toronto, ON:\n",
      "\n",
      "Name: Piano Piano\n",
      "Neighborhoods: ['Mount Pleasant and Davisville']\n",
      "Review Count: 44\n",
      "Rating: 3.9\n",
      "Price Range: \n",
      "Business URL: https://www.yelp.com/biz/piano-piano-toronto-2?osq=Restaurants\n",
      "--------\n",
      "Name: L’Avenue Boulangerie\n",
      "Neighborhoods: []\n",
      "Review Count: 12\n",
      "Rating: 4.8\n",
      "Price Range: \n",
      "Business URL: https://www.yelp.com/biz/l-avenue-boulangerie-toronto?osq=Restaurants\n",
      "--------\n",
      "Name: Richmond Station\n",
      "Neighborhoods: ['Downtown Core']\n",
      "Review Count: 896\n",
      "Rating: 4.4\n",
      "Price Range: $$$\n",
      "Business URL: https://www.yelp.com/biz/richmond-station-toronto?osq=Restaurants\n",
      "--------\n",
      "Name: Holy Cow Japanese Steakhouse\n",
      "Neighborhoods: ['Queen Street West']\n",
      "Review Count: 156\n",
      "Rating: 4.3\n",
      "Price Range: $$$\n",
      "Business URL: https://www.yelp.com/biz/holy-cow-japanese-steakhouse-toronto?osq=Restaurants\n",
      "--------\n",
      "Name: KINKA IZAKAYA ORIGINAL\n",
      "Neighborhoods: ['Downtown Core']\n",
      "Review Count: 1807\n",
      "Rating: 4.1\n",
      "Price Range: $$\n",
      "Business URL: https://www.yelp.com/biz/kinka-izakaya-original-toronto-4?osq=Restaurants\n",
      "--------\n",
      "Name: Pho Madame Saigon\n",
      "Neighborhoods: ['Mount Pleasant and Davisville']\n",
      "Review Count: 7\n",
      "Rating: 4.4\n",
      "Price Range: \n",
      "Business URL: https://www.yelp.com/biz/pho-madame-saigon-toronto-2?osq=Restaurants\n",
      "--------\n",
      "Name: STACK\n",
      "Neighborhoods: []\n",
      "Review Count: 331\n",
      "Rating: 4.0\n",
      "Price Range: $$\n",
      "Business URL: https://www.yelp.com/biz/stack-toronto-2?osq=Restaurants\n",
      "--------\n",
      "Name: Midnight Market\n",
      "Neighborhoods: []\n",
      "Review Count: 11\n",
      "Rating: 4.7\n",
      "Price Range: \n",
      "Business URL: https://www.yelp.com/biz/midnight-market-toronto?osq=Restaurants\n",
      "--------\n",
      "Name: Megumi Mazesoba\n",
      "Neighborhoods: ['Deer Park']\n",
      "Review Count: 25\n",
      "Rating: 4.7\n",
      "Price Range: $$\n",
      "Business URL: https://www.yelp.com/biz/megumi-mazesoba-toronto?osq=Restaurants\n",
      "--------\n",
      "Name: Pai Northern Thai Kitchen\n",
      "Neighborhoods: ['Yonge and Eglinton']\n",
      "Review Count: 142\n",
      "Rating: 4.1\n",
      "Price Range: \n",
      "Business URL: https://www.yelp.com/biz/pai-northern-thai-kitchen-toronto-6?osq=Restaurants\n",
      "--------\n",
      "\n",
      "\n",
      "Results for Toronto, BC:\n",
      "\n",
      "Name: Mira\n",
      "Neighborhoods: []\n",
      "Review Count: 266\n",
      "Rating: 4.3\n",
      "Price Range: $$\n",
      "Business URL: https://www.yelp.com/biz/mira-toronto?osq=Restaurants\n",
      "--------\n",
      "Name: Pai Northern Thai Kitchen\n",
      "Neighborhoods: ['Entertainment District']\n",
      "Review Count: 3445\n",
      "Rating: 4.4\n",
      "Price Range: $$\n",
      "Business URL: https://www.yelp.com/biz/pai-northern-thai-kitchen-toronto-5?osq=Restaurants\n",
      "--------\n",
      "Name: Richmond Station\n",
      "Neighborhoods: ['Downtown Core']\n",
      "Review Count: 896\n",
      "Rating: 4.4\n",
      "Price Range: $$$\n",
      "Business URL: https://www.yelp.com/biz/richmond-station-toronto?osq=Restaurants\n",
      "--------\n",
      "Name: Mogouyan Hand-Pulled Noodles\n",
      "Neighborhoods: ['Downtown Core']\n",
      "Review Count: 61\n",
      "Rating: 4.4\n",
      "Price Range: $$\n",
      "Business URL: https://www.yelp.com/biz/mogouyan-hand-pulled-noodles-toronto?osq=Restaurants\n",
      "--------\n",
      "Name: Gusto 101\n",
      "Neighborhoods: []\n",
      "Review Count: 1139\n",
      "Rating: 4.0\n",
      "Price Range: $$\n",
      "Business URL: https://www.yelp.com/biz/gusto-101-toronto?osq=Restaurants\n",
      "--------\n",
      "Name: Katsuya\n",
      "Neighborhoods: ['Downtown Core']\n",
      "Review Count: 494\n",
      "Rating: 4.3\n",
      "Price Range: $$\n",
      "Business URL: https://www.yelp.com/biz/katsuya-toronto-5?osq=Restaurants\n",
      "--------\n",
      "Name: Rasa\n",
      "Neighborhoods: []\n",
      "Review Count: 326\n",
      "Rating: 4.4\n",
      "Price Range: $$\n",
      "Business URL: https://www.yelp.com/biz/rasa-toronto?osq=Restaurants\n",
      "--------\n",
      "Name: The Rabbit Hole\n",
      "Neighborhoods: ['Downtown Core']\n",
      "Review Count: 34\n",
      "Rating: 4.1\n",
      "Price Range: \n",
      "Business URL: https://www.yelp.com/biz/the-rabbit-hole-toronto?osq=Restaurants\n",
      "--------\n",
      "Name: Aloette\n",
      "Neighborhoods: ['Queen Street West']\n",
      "Review Count: 296\n",
      "Rating: 4.4\n",
      "Price Range: $$$\n",
      "Business URL: https://www.yelp.com/biz/aloette-toronto-3?osq=Restaurants\n",
      "--------\n",
      "Name: Trattoria Nervosa\n",
      "Neighborhoods: ['Yorkville']\n",
      "Review Count: 400\n",
      "Rating: 3.8\n",
      "Price Range: $$\n",
      "Business URL: https://www.yelp.com/biz/trattoria-nervosa-toronto?osq=Restaurants\n",
      "--------\n",
      "\n",
      "\n",
      "Results for Toronto, QC:\n",
      "\n",
      "Name: Mira\n",
      "Neighborhoods: []\n",
      "Review Count: 266\n",
      "Rating: 4.3\n",
      "Price Range: $$\n",
      "Business URL: https://www.yelp.com/biz/mira-toronto?osq=Restaurants\n",
      "--------\n",
      "Name: Pai Northern Thai Kitchen\n",
      "Neighborhoods: ['Entertainment District']\n",
      "Review Count: 3445\n",
      "Rating: 4.4\n",
      "Price Range: $$\n",
      "Business URL: https://www.yelp.com/biz/pai-northern-thai-kitchen-toronto-5?osq=Restaurants\n",
      "--------\n",
      "Name: Richmond Station\n",
      "Neighborhoods: ['Downtown Core']\n",
      "Review Count: 896\n",
      "Rating: 4.4\n",
      "Price Range: $$$\n",
      "Business URL: https://www.yelp.com/biz/richmond-station-toronto?osq=Restaurants\n",
      "--------\n",
      "Name: Mogouyan Hand-Pulled Noodles\n",
      "Neighborhoods: ['Downtown Core']\n",
      "Review Count: 61\n",
      "Rating: 4.4\n",
      "Price Range: $$\n",
      "Business URL: https://www.yelp.com/biz/mogouyan-hand-pulled-noodles-toronto?osq=Restaurants\n",
      "--------\n",
      "Name: Gusto 101\n",
      "Neighborhoods: []\n",
      "Review Count: 1139\n",
      "Rating: 4.0\n",
      "Price Range: $$\n",
      "Business URL: https://www.yelp.com/biz/gusto-101-toronto?osq=Restaurants\n",
      "--------\n",
      "Name: Katsuya\n",
      "Neighborhoods: ['Downtown Core']\n",
      "Review Count: 494\n",
      "Rating: 4.3\n",
      "Price Range: $$\n",
      "Business URL: https://www.yelp.com/biz/katsuya-toronto-5?osq=Restaurants\n",
      "--------\n",
      "Name: Rasa\n",
      "Neighborhoods: []\n",
      "Review Count: 326\n",
      "Rating: 4.4\n",
      "Price Range: $$\n",
      "Business URL: https://www.yelp.com/biz/rasa-toronto?osq=Restaurants\n",
      "--------\n",
      "Name: The Rabbit Hole\n",
      "Neighborhoods: ['Downtown Core']\n",
      "Review Count: 34\n",
      "Rating: 4.1\n",
      "Price Range: \n",
      "Business URL: https://www.yelp.com/biz/the-rabbit-hole-toronto?osq=Restaurants\n",
      "--------\n",
      "Name: Aloette\n",
      "Neighborhoods: ['Queen Street West']\n",
      "Review Count: 296\n",
      "Rating: 4.4\n",
      "Price Range: $$$\n",
      "Business URL: https://www.yelp.com/biz/aloette-toronto-3?osq=Restaurants\n",
      "--------\n",
      "Name: Trattoria Nervosa\n",
      "Neighborhoods: ['Yorkville']\n",
      "Review Count: 400\n",
      "Rating: 3.8\n",
      "Price Range: $$\n",
      "Business URL: https://www.yelp.com/biz/trattoria-nervosa-toronto?osq=Restaurants\n",
      "--------\n",
      "\n",
      "\n",
      "Results for Toronto, AB:\n",
      "\n",
      "Name: Mira\n",
      "Neighborhoods: []\n",
      "Review Count: 266\n",
      "Rating: 4.3\n",
      "Price Range: $$\n",
      "Business URL: https://www.yelp.com/biz/mira-toronto?osq=Restaurants\n",
      "--------\n",
      "Name: Pai Northern Thai Kitchen\n",
      "Neighborhoods: ['Entertainment District']\n",
      "Review Count: 3445\n",
      "Rating: 4.4\n",
      "Price Range: $$\n",
      "Business URL: https://www.yelp.com/biz/pai-northern-thai-kitchen-toronto-5?osq=Restaurants\n",
      "--------\n",
      "Name: Richmond Station\n",
      "Neighborhoods: ['Downtown Core']\n",
      "Review Count: 896\n",
      "Rating: 4.4\n",
      "Price Range: $$$\n",
      "Business URL: https://www.yelp.com/biz/richmond-station-toronto?osq=Restaurants\n",
      "--------\n",
      "Name: Mogouyan Hand-Pulled Noodles\n",
      "Neighborhoods: ['Downtown Core']\n",
      "Review Count: 61\n",
      "Rating: 4.4\n",
      "Price Range: $$\n",
      "Business URL: https://www.yelp.com/biz/mogouyan-hand-pulled-noodles-toronto?osq=Restaurants\n",
      "--------\n",
      "Name: Gusto 101\n",
      "Neighborhoods: []\n",
      "Review Count: 1139\n",
      "Rating: 4.0\n",
      "Price Range: $$\n",
      "Business URL: https://www.yelp.com/biz/gusto-101-toronto?osq=Restaurants\n",
      "--------\n",
      "Name: Katsuya\n",
      "Neighborhoods: ['Downtown Core']\n",
      "Review Count: 494\n",
      "Rating: 4.3\n",
      "Price Range: $$\n",
      "Business URL: https://www.yelp.com/biz/katsuya-toronto-5?osq=Restaurants\n",
      "--------\n",
      "Name: Rasa\n",
      "Neighborhoods: []\n",
      "Review Count: 326\n",
      "Rating: 4.4\n",
      "Price Range: $$\n",
      "Business URL: https://www.yelp.com/biz/rasa-toronto?osq=Restaurants\n",
      "--------\n",
      "Name: The Rabbit Hole\n",
      "Neighborhoods: ['Downtown Core']\n",
      "Review Count: 34\n",
      "Rating: 4.1\n",
      "Price Range: \n",
      "Business URL: https://www.yelp.com/biz/the-rabbit-hole-toronto?osq=Restaurants\n",
      "--------\n",
      "Name: Aloette\n",
      "Neighborhoods: ['Queen Street West']\n",
      "Review Count: 296\n",
      "Rating: 4.4\n",
      "Price Range: $$$\n",
      "Business URL: https://www.yelp.com/biz/aloette-toronto-3?osq=Restaurants\n",
      "--------\n",
      "Name: Trattoria Nervosa\n",
      "Neighborhoods: ['Yorkville']\n",
      "Review Count: 400\n",
      "Rating: 3.8\n",
      "Price Range: $$\n",
      "Business URL: https://www.yelp.com/biz/trattoria-nervosa-toronto?osq=Restaurants\n",
      "--------\n",
      "\n",
      "\n",
      "Results for Toronto, AB:\n",
      "\n",
      "Name: Mira\n",
      "Neighborhoods: []\n",
      "Review Count: 266\n",
      "Rating: 4.3\n",
      "Price Range: $$\n",
      "Business URL: https://www.yelp.com/biz/mira-toronto?osq=Restaurants\n",
      "--------\n",
      "Name: Pai Northern Thai Kitchen\n",
      "Neighborhoods: ['Entertainment District']\n",
      "Review Count: 3445\n",
      "Rating: 4.4\n",
      "Price Range: $$\n",
      "Business URL: https://www.yelp.com/biz/pai-northern-thai-kitchen-toronto-5?osq=Restaurants\n",
      "--------\n",
      "Name: Richmond Station\n",
      "Neighborhoods: ['Downtown Core']\n",
      "Review Count: 896\n",
      "Rating: 4.4\n",
      "Price Range: $$$\n",
      "Business URL: https://www.yelp.com/biz/richmond-station-toronto?osq=Restaurants\n",
      "--------\n",
      "Name: Mogouyan Hand-Pulled Noodles\n",
      "Neighborhoods: ['Downtown Core']\n",
      "Review Count: 61\n",
      "Rating: 4.4\n",
      "Price Range: $$\n",
      "Business URL: https://www.yelp.com/biz/mogouyan-hand-pulled-noodles-toronto?osq=Restaurants\n",
      "--------\n",
      "Name: Gusto 101\n",
      "Neighborhoods: []\n",
      "Review Count: 1139\n",
      "Rating: 4.0\n",
      "Price Range: $$\n",
      "Business URL: https://www.yelp.com/biz/gusto-101-toronto?osq=Restaurants\n",
      "--------\n",
      "Name: Katsuya\n",
      "Neighborhoods: ['Downtown Core']\n",
      "Review Count: 494\n",
      "Rating: 4.3\n",
      "Price Range: $$\n",
      "Business URL: https://www.yelp.com/biz/katsuya-toronto-5?osq=Restaurants\n",
      "--------\n",
      "Name: Rasa\n",
      "Neighborhoods: []\n",
      "Review Count: 326\n",
      "Rating: 4.4\n",
      "Price Range: $$\n",
      "Business URL: https://www.yelp.com/biz/rasa-toronto?osq=Restaurants\n",
      "--------\n",
      "Name: The Rabbit Hole\n",
      "Neighborhoods: ['Downtown Core']\n",
      "Review Count: 34\n",
      "Rating: 4.1\n",
      "Price Range: \n",
      "Business URL: https://www.yelp.com/biz/the-rabbit-hole-toronto?osq=Restaurants\n",
      "--------\n",
      "Name: Aloette\n",
      "Neighborhoods: ['Queen Street West']\n",
      "Review Count: 296\n",
      "Rating: 4.4\n",
      "Price Range: $$$\n",
      "Business URL: https://www.yelp.com/biz/aloette-toronto-3?osq=Restaurants\n",
      "--------\n",
      "Name: Trattoria Nervosa\n",
      "Neighborhoods: ['Yorkville']\n",
      "Review Count: 400\n",
      "Rating: 3.8\n",
      "Price Range: $$\n",
      "Business URL: https://www.yelp.com/biz/trattoria-nervosa-toronto?osq=Restaurants\n",
      "--------\n",
      "\n",
      "\n"
     ]
    },
    {
     "ename": "KeyboardInterrupt",
     "evalue": "",
     "output_type": "error",
     "traceback": [
      "\u001b[0;31m---------------------------------------------------------------------------\u001b[0m",
      "\u001b[0;31mTypeError\u001b[0m                                 Traceback (most recent call last)",
      "File \u001b[0;32m~/anaconda3/lib/python3.10/site-packages/urllib3/connectionpool.py:377\u001b[0m, in \u001b[0;36mHTTPConnectionPool._make_request\u001b[0;34m(self, conn, method, url, timeout, chunked, **httplib_request_kw)\u001b[0m\n\u001b[1;32m    376\u001b[0m \u001b[38;5;28;01mtry\u001b[39;00m:  \u001b[38;5;66;03m# Python 2.7, use buffering of HTTP responses\u001b[39;00m\n\u001b[0;32m--> 377\u001b[0m     httplib_response \u001b[38;5;241m=\u001b[39m \u001b[43mconn\u001b[49m\u001b[38;5;241;43m.\u001b[39;49m\u001b[43mgetresponse\u001b[49m\u001b[43m(\u001b[49m\u001b[43mbuffering\u001b[49m\u001b[38;5;241;43m=\u001b[39;49m\u001b[38;5;28;43;01mTrue\u001b[39;49;00m\u001b[43m)\u001b[49m\n\u001b[1;32m    378\u001b[0m \u001b[38;5;28;01mexcept\u001b[39;00m \u001b[38;5;167;01mTypeError\u001b[39;00m:  \u001b[38;5;66;03m# Python 3\u001b[39;00m\n",
      "\u001b[0;31mTypeError\u001b[0m: HTTPConnection.getresponse() got an unexpected keyword argument 'buffering'",
      "\nDuring handling of the above exception, another exception occurred:\n",
      "\u001b[0;31mKeyboardInterrupt\u001b[0m                         Traceback (most recent call last)",
      "Cell \u001b[0;32mIn[2], line 10\u001b[0m\n\u001b[1;32m      8\u001b[0m \u001b[38;5;28;01mfor\u001b[39;00m province \u001b[38;5;129;01min\u001b[39;00m provinces:\n\u001b[1;32m      9\u001b[0m     search_url \u001b[38;5;241m=\u001b[39m \u001b[38;5;124mf\u001b[39m\u001b[38;5;124m\"\u001b[39m\u001b[38;5;124mhttps://www.yelp.com/search/snippet?find_desc=Restaurants&find_loc=\u001b[39m\u001b[38;5;132;01m{\u001b[39;00mcity\u001b[38;5;132;01m}\u001b[39;00m\u001b[38;5;124m%2C+\u001b[39m\u001b[38;5;132;01m{\u001b[39;00mprovince\u001b[38;5;132;01m}\u001b[39;00m\u001b[38;5;124m%2C+Canada&request_origin=user\u001b[39m\u001b[38;5;124m\"\u001b[39m\n\u001b[0;32m---> 10\u001b[0m     search_response \u001b[38;5;241m=\u001b[39m \u001b[43mrequests\u001b[49m\u001b[38;5;241;43m.\u001b[39;49m\u001b[43mget\u001b[49m\u001b[43m(\u001b[49m\u001b[43msearch_url\u001b[49m\u001b[43m)\u001b[49m\n\u001b[1;32m     11\u001b[0m     data \u001b[38;5;241m=\u001b[39m search_response\u001b[38;5;241m.\u001b[39mjson()\n\u001b[1;32m     12\u001b[0m     search_results \u001b[38;5;241m=\u001b[39m data\u001b[38;5;241m.\u001b[39mget(\u001b[38;5;124m'\u001b[39m\u001b[38;5;124msearchPageProps\u001b[39m\u001b[38;5;124m'\u001b[39m, {})\u001b[38;5;241m.\u001b[39mget(\u001b[38;5;124m'\u001b[39m\u001b[38;5;124mmainContentComponentsListProps\u001b[39m\u001b[38;5;124m'\u001b[39m, [])\n",
      "File \u001b[0;32m~/anaconda3/lib/python3.10/site-packages/requests/api.py:75\u001b[0m, in \u001b[0;36mget\u001b[0;34m(url, params, **kwargs)\u001b[0m\n\u001b[1;32m     64\u001b[0m \u001b[38;5;250m\u001b[39m\u001b[38;5;124mr\u001b[39m\u001b[38;5;124;03m\"\"\"Sends a GET request.\u001b[39;00m\n\u001b[1;32m     65\u001b[0m \n\u001b[1;32m     66\u001b[0m \u001b[38;5;124;03m:param url: URL for the new :class:`Request` object.\u001b[39;00m\n\u001b[0;32m   (...)\u001b[0m\n\u001b[1;32m     71\u001b[0m \u001b[38;5;124;03m:rtype: requests.Response\u001b[39;00m\n\u001b[1;32m     72\u001b[0m \u001b[38;5;124;03m\"\"\"\u001b[39;00m\n\u001b[1;32m     74\u001b[0m kwargs\u001b[38;5;241m.\u001b[39msetdefault(\u001b[38;5;124m'\u001b[39m\u001b[38;5;124mallow_redirects\u001b[39m\u001b[38;5;124m'\u001b[39m, \u001b[38;5;28;01mTrue\u001b[39;00m)\n\u001b[0;32m---> 75\u001b[0m \u001b[38;5;28;01mreturn\u001b[39;00m \u001b[43mrequest\u001b[49m\u001b[43m(\u001b[49m\u001b[38;5;124;43m'\u001b[39;49m\u001b[38;5;124;43mget\u001b[39;49m\u001b[38;5;124;43m'\u001b[39;49m\u001b[43m,\u001b[49m\u001b[43m \u001b[49m\u001b[43murl\u001b[49m\u001b[43m,\u001b[49m\u001b[43m \u001b[49m\u001b[43mparams\u001b[49m\u001b[38;5;241;43m=\u001b[39;49m\u001b[43mparams\u001b[49m\u001b[43m,\u001b[49m\u001b[43m \u001b[49m\u001b[38;5;241;43m*\u001b[39;49m\u001b[38;5;241;43m*\u001b[39;49m\u001b[43mkwargs\u001b[49m\u001b[43m)\u001b[49m\n",
      "File \u001b[0;32m~/anaconda3/lib/python3.10/site-packages/requests/api.py:60\u001b[0m, in \u001b[0;36mrequest\u001b[0;34m(method, url, **kwargs)\u001b[0m\n\u001b[1;32m     56\u001b[0m \u001b[38;5;66;03m# By using the 'with' statement we are sure the session is closed, thus we\u001b[39;00m\n\u001b[1;32m     57\u001b[0m \u001b[38;5;66;03m# avoid leaving sockets open which can trigger a ResourceWarning in some\u001b[39;00m\n\u001b[1;32m     58\u001b[0m \u001b[38;5;66;03m# cases, and look like a memory leak in others.\u001b[39;00m\n\u001b[1;32m     59\u001b[0m \u001b[38;5;28;01mwith\u001b[39;00m sessions\u001b[38;5;241m.\u001b[39mSession() \u001b[38;5;28;01mas\u001b[39;00m session:\n\u001b[0;32m---> 60\u001b[0m     \u001b[38;5;28;01mreturn\u001b[39;00m \u001b[43msession\u001b[49m\u001b[38;5;241;43m.\u001b[39;49m\u001b[43mrequest\u001b[49m\u001b[43m(\u001b[49m\u001b[43mmethod\u001b[49m\u001b[38;5;241;43m=\u001b[39;49m\u001b[43mmethod\u001b[49m\u001b[43m,\u001b[49m\u001b[43m \u001b[49m\u001b[43murl\u001b[49m\u001b[38;5;241;43m=\u001b[39;49m\u001b[43murl\u001b[49m\u001b[43m,\u001b[49m\u001b[43m \u001b[49m\u001b[38;5;241;43m*\u001b[39;49m\u001b[38;5;241;43m*\u001b[39;49m\u001b[43mkwargs\u001b[49m\u001b[43m)\u001b[49m\n",
      "File \u001b[0;32m~/anaconda3/lib/python3.10/site-packages/requests/sessions.py:533\u001b[0m, in \u001b[0;36mSession.request\u001b[0;34m(self, method, url, params, data, headers, cookies, files, auth, timeout, allow_redirects, proxies, hooks, stream, verify, cert, json)\u001b[0m\n\u001b[1;32m    528\u001b[0m send_kwargs \u001b[38;5;241m=\u001b[39m {\n\u001b[1;32m    529\u001b[0m     \u001b[38;5;124m'\u001b[39m\u001b[38;5;124mtimeout\u001b[39m\u001b[38;5;124m'\u001b[39m: timeout,\n\u001b[1;32m    530\u001b[0m     \u001b[38;5;124m'\u001b[39m\u001b[38;5;124mallow_redirects\u001b[39m\u001b[38;5;124m'\u001b[39m: allow_redirects,\n\u001b[1;32m    531\u001b[0m }\n\u001b[1;32m    532\u001b[0m send_kwargs\u001b[38;5;241m.\u001b[39mupdate(settings)\n\u001b[0;32m--> 533\u001b[0m resp \u001b[38;5;241m=\u001b[39m \u001b[38;5;28;43mself\u001b[39;49m\u001b[38;5;241;43m.\u001b[39;49m\u001b[43msend\u001b[49m\u001b[43m(\u001b[49m\u001b[43mprep\u001b[49m\u001b[43m,\u001b[49m\u001b[43m \u001b[49m\u001b[38;5;241;43m*\u001b[39;49m\u001b[38;5;241;43m*\u001b[39;49m\u001b[43msend_kwargs\u001b[49m\u001b[43m)\u001b[49m\n\u001b[1;32m    535\u001b[0m \u001b[38;5;28;01mreturn\u001b[39;00m resp\n",
      "File \u001b[0;32m~/anaconda3/lib/python3.10/site-packages/requests/sessions.py:646\u001b[0m, in \u001b[0;36mSession.send\u001b[0;34m(self, request, **kwargs)\u001b[0m\n\u001b[1;32m    643\u001b[0m start \u001b[38;5;241m=\u001b[39m preferred_clock()\n\u001b[1;32m    645\u001b[0m \u001b[38;5;66;03m# Send the request\u001b[39;00m\n\u001b[0;32m--> 646\u001b[0m r \u001b[38;5;241m=\u001b[39m \u001b[43madapter\u001b[49m\u001b[38;5;241;43m.\u001b[39;49m\u001b[43msend\u001b[49m\u001b[43m(\u001b[49m\u001b[43mrequest\u001b[49m\u001b[43m,\u001b[49m\u001b[43m \u001b[49m\u001b[38;5;241;43m*\u001b[39;49m\u001b[38;5;241;43m*\u001b[39;49m\u001b[43mkwargs\u001b[49m\u001b[43m)\u001b[49m\n\u001b[1;32m    648\u001b[0m \u001b[38;5;66;03m# Total elapsed time of the request (approximately)\u001b[39;00m\n\u001b[1;32m    649\u001b[0m elapsed \u001b[38;5;241m=\u001b[39m preferred_clock() \u001b[38;5;241m-\u001b[39m start\n",
      "File \u001b[0;32m~/anaconda3/lib/python3.10/site-packages/requests/adapters.py:439\u001b[0m, in \u001b[0;36mHTTPAdapter.send\u001b[0;34m(self, request, stream, timeout, verify, cert, proxies)\u001b[0m\n\u001b[1;32m    437\u001b[0m \u001b[38;5;28;01mtry\u001b[39;00m:\n\u001b[1;32m    438\u001b[0m     \u001b[38;5;28;01mif\u001b[39;00m \u001b[38;5;129;01mnot\u001b[39;00m chunked:\n\u001b[0;32m--> 439\u001b[0m         resp \u001b[38;5;241m=\u001b[39m \u001b[43mconn\u001b[49m\u001b[38;5;241;43m.\u001b[39;49m\u001b[43murlopen\u001b[49m\u001b[43m(\u001b[49m\n\u001b[1;32m    440\u001b[0m \u001b[43m            \u001b[49m\u001b[43mmethod\u001b[49m\u001b[38;5;241;43m=\u001b[39;49m\u001b[43mrequest\u001b[49m\u001b[38;5;241;43m.\u001b[39;49m\u001b[43mmethod\u001b[49m\u001b[43m,\u001b[49m\n\u001b[1;32m    441\u001b[0m \u001b[43m            \u001b[49m\u001b[43murl\u001b[49m\u001b[38;5;241;43m=\u001b[39;49m\u001b[43murl\u001b[49m\u001b[43m,\u001b[49m\n\u001b[1;32m    442\u001b[0m \u001b[43m            \u001b[49m\u001b[43mbody\u001b[49m\u001b[38;5;241;43m=\u001b[39;49m\u001b[43mrequest\u001b[49m\u001b[38;5;241;43m.\u001b[39;49m\u001b[43mbody\u001b[49m\u001b[43m,\u001b[49m\n\u001b[1;32m    443\u001b[0m \u001b[43m            \u001b[49m\u001b[43mheaders\u001b[49m\u001b[38;5;241;43m=\u001b[39;49m\u001b[43mrequest\u001b[49m\u001b[38;5;241;43m.\u001b[39;49m\u001b[43mheaders\u001b[49m\u001b[43m,\u001b[49m\n\u001b[1;32m    444\u001b[0m \u001b[43m            \u001b[49m\u001b[43mredirect\u001b[49m\u001b[38;5;241;43m=\u001b[39;49m\u001b[38;5;28;43;01mFalse\u001b[39;49;00m\u001b[43m,\u001b[49m\n\u001b[1;32m    445\u001b[0m \u001b[43m            \u001b[49m\u001b[43massert_same_host\u001b[49m\u001b[38;5;241;43m=\u001b[39;49m\u001b[38;5;28;43;01mFalse\u001b[39;49;00m\u001b[43m,\u001b[49m\n\u001b[1;32m    446\u001b[0m \u001b[43m            \u001b[49m\u001b[43mpreload_content\u001b[49m\u001b[38;5;241;43m=\u001b[39;49m\u001b[38;5;28;43;01mFalse\u001b[39;49;00m\u001b[43m,\u001b[49m\n\u001b[1;32m    447\u001b[0m \u001b[43m            \u001b[49m\u001b[43mdecode_content\u001b[49m\u001b[38;5;241;43m=\u001b[39;49m\u001b[38;5;28;43;01mFalse\u001b[39;49;00m\u001b[43m,\u001b[49m\n\u001b[1;32m    448\u001b[0m \u001b[43m            \u001b[49m\u001b[43mretries\u001b[49m\u001b[38;5;241;43m=\u001b[39;49m\u001b[38;5;28;43mself\u001b[39;49m\u001b[38;5;241;43m.\u001b[39;49m\u001b[43mmax_retries\u001b[49m\u001b[43m,\u001b[49m\n\u001b[1;32m    449\u001b[0m \u001b[43m            \u001b[49m\u001b[43mtimeout\u001b[49m\u001b[38;5;241;43m=\u001b[39;49m\u001b[43mtimeout\u001b[49m\n\u001b[1;32m    450\u001b[0m \u001b[43m        \u001b[49m\u001b[43m)\u001b[49m\n\u001b[1;32m    452\u001b[0m     \u001b[38;5;66;03m# Send the request.\u001b[39;00m\n\u001b[1;32m    453\u001b[0m     \u001b[38;5;28;01melse\u001b[39;00m:\n\u001b[1;32m    454\u001b[0m         \u001b[38;5;28;01mif\u001b[39;00m \u001b[38;5;28mhasattr\u001b[39m(conn, \u001b[38;5;124m'\u001b[39m\u001b[38;5;124mproxy_pool\u001b[39m\u001b[38;5;124m'\u001b[39m):\n",
      "File \u001b[0;32m~/anaconda3/lib/python3.10/site-packages/urllib3/connectionpool.py:597\u001b[0m, in \u001b[0;36mHTTPConnectionPool.urlopen\u001b[0;34m(self, method, url, body, headers, retries, redirect, assert_same_host, timeout, pool_timeout, release_conn, chunked, body_pos, **response_kw)\u001b[0m\n\u001b[1;32m    594\u001b[0m     \u001b[38;5;28mself\u001b[39m\u001b[38;5;241m.\u001b[39m_prepare_proxy(conn)\n\u001b[1;32m    596\u001b[0m \u001b[38;5;66;03m# Make the request on the httplib connection object.\u001b[39;00m\n\u001b[0;32m--> 597\u001b[0m httplib_response \u001b[38;5;241m=\u001b[39m \u001b[38;5;28;43mself\u001b[39;49m\u001b[38;5;241;43m.\u001b[39;49m\u001b[43m_make_request\u001b[49m\u001b[43m(\u001b[49m\u001b[43mconn\u001b[49m\u001b[43m,\u001b[49m\u001b[43m \u001b[49m\u001b[43mmethod\u001b[49m\u001b[43m,\u001b[49m\u001b[43m \u001b[49m\u001b[43murl\u001b[49m\u001b[43m,\u001b[49m\n\u001b[1;32m    598\u001b[0m \u001b[43m                                      \u001b[49m\u001b[43mtimeout\u001b[49m\u001b[38;5;241;43m=\u001b[39;49m\u001b[43mtimeout_obj\u001b[49m\u001b[43m,\u001b[49m\n\u001b[1;32m    599\u001b[0m \u001b[43m                                      \u001b[49m\u001b[43mbody\u001b[49m\u001b[38;5;241;43m=\u001b[39;49m\u001b[43mbody\u001b[49m\u001b[43m,\u001b[49m\u001b[43m \u001b[49m\u001b[43mheaders\u001b[49m\u001b[38;5;241;43m=\u001b[39;49m\u001b[43mheaders\u001b[49m\u001b[43m,\u001b[49m\n\u001b[1;32m    600\u001b[0m \u001b[43m                                      \u001b[49m\u001b[43mchunked\u001b[49m\u001b[38;5;241;43m=\u001b[39;49m\u001b[43mchunked\u001b[49m\u001b[43m)\u001b[49m\n\u001b[1;32m    602\u001b[0m \u001b[38;5;66;03m# If we're going to release the connection in ``finally:``, then\u001b[39;00m\n\u001b[1;32m    603\u001b[0m \u001b[38;5;66;03m# the response doesn't need to know about the connection. Otherwise\u001b[39;00m\n\u001b[1;32m    604\u001b[0m \u001b[38;5;66;03m# it will also try to release it and we'll have a double-release\u001b[39;00m\n\u001b[1;32m    605\u001b[0m \u001b[38;5;66;03m# mess.\u001b[39;00m\n\u001b[1;32m    606\u001b[0m response_conn \u001b[38;5;241m=\u001b[39m conn \u001b[38;5;28;01mif\u001b[39;00m \u001b[38;5;129;01mnot\u001b[39;00m release_conn \u001b[38;5;28;01melse\u001b[39;00m \u001b[38;5;28;01mNone\u001b[39;00m\n",
      "File \u001b[0;32m~/anaconda3/lib/python3.10/site-packages/urllib3/connectionpool.py:380\u001b[0m, in \u001b[0;36mHTTPConnectionPool._make_request\u001b[0;34m(self, conn, method, url, timeout, chunked, **httplib_request_kw)\u001b[0m\n\u001b[1;32m    378\u001b[0m \u001b[38;5;28;01mexcept\u001b[39;00m \u001b[38;5;167;01mTypeError\u001b[39;00m:  \u001b[38;5;66;03m# Python 3\u001b[39;00m\n\u001b[1;32m    379\u001b[0m     \u001b[38;5;28;01mtry\u001b[39;00m:\n\u001b[0;32m--> 380\u001b[0m         httplib_response \u001b[38;5;241m=\u001b[39m \u001b[43mconn\u001b[49m\u001b[38;5;241;43m.\u001b[39;49m\u001b[43mgetresponse\u001b[49m\u001b[43m(\u001b[49m\u001b[43m)\u001b[49m\n\u001b[1;32m    381\u001b[0m     \u001b[38;5;28;01mexcept\u001b[39;00m \u001b[38;5;167;01mException\u001b[39;00m \u001b[38;5;28;01mas\u001b[39;00m e:\n\u001b[1;32m    382\u001b[0m         \u001b[38;5;66;03m# Remove the TypeError from the exception chain in Python 3;\u001b[39;00m\n\u001b[1;32m    383\u001b[0m         \u001b[38;5;66;03m# otherwise it looks like a programming error was the cause.\u001b[39;00m\n\u001b[1;32m    384\u001b[0m         six\u001b[38;5;241m.\u001b[39mraise_from(e, \u001b[38;5;28;01mNone\u001b[39;00m)\n",
      "File \u001b[0;32m~/anaconda3/lib/python3.10/http/client.py:1375\u001b[0m, in \u001b[0;36mHTTPConnection.getresponse\u001b[0;34m(self)\u001b[0m\n\u001b[1;32m   1373\u001b[0m \u001b[38;5;28;01mtry\u001b[39;00m:\n\u001b[1;32m   1374\u001b[0m     \u001b[38;5;28;01mtry\u001b[39;00m:\n\u001b[0;32m-> 1375\u001b[0m         \u001b[43mresponse\u001b[49m\u001b[38;5;241;43m.\u001b[39;49m\u001b[43mbegin\u001b[49m\u001b[43m(\u001b[49m\u001b[43m)\u001b[49m\n\u001b[1;32m   1376\u001b[0m     \u001b[38;5;28;01mexcept\u001b[39;00m \u001b[38;5;167;01mConnectionError\u001b[39;00m:\n\u001b[1;32m   1377\u001b[0m         \u001b[38;5;28mself\u001b[39m\u001b[38;5;241m.\u001b[39mclose()\n",
      "File \u001b[0;32m~/anaconda3/lib/python3.10/http/client.py:318\u001b[0m, in \u001b[0;36mHTTPResponse.begin\u001b[0;34m(self)\u001b[0m\n\u001b[1;32m    316\u001b[0m \u001b[38;5;66;03m# read until we get a non-100 response\u001b[39;00m\n\u001b[1;32m    317\u001b[0m \u001b[38;5;28;01mwhile\u001b[39;00m \u001b[38;5;28;01mTrue\u001b[39;00m:\n\u001b[0;32m--> 318\u001b[0m     version, status, reason \u001b[38;5;241m=\u001b[39m \u001b[38;5;28;43mself\u001b[39;49m\u001b[38;5;241;43m.\u001b[39;49m\u001b[43m_read_status\u001b[49m\u001b[43m(\u001b[49m\u001b[43m)\u001b[49m\n\u001b[1;32m    319\u001b[0m     \u001b[38;5;28;01mif\u001b[39;00m status \u001b[38;5;241m!=\u001b[39m CONTINUE:\n\u001b[1;32m    320\u001b[0m         \u001b[38;5;28;01mbreak\u001b[39;00m\n",
      "File \u001b[0;32m~/anaconda3/lib/python3.10/http/client.py:279\u001b[0m, in \u001b[0;36mHTTPResponse._read_status\u001b[0;34m(self)\u001b[0m\n\u001b[1;32m    278\u001b[0m \u001b[38;5;28;01mdef\u001b[39;00m \u001b[38;5;21m_read_status\u001b[39m(\u001b[38;5;28mself\u001b[39m):\n\u001b[0;32m--> 279\u001b[0m     line \u001b[38;5;241m=\u001b[39m \u001b[38;5;28mstr\u001b[39m(\u001b[38;5;28;43mself\u001b[39;49m\u001b[38;5;241;43m.\u001b[39;49m\u001b[43mfp\u001b[49m\u001b[38;5;241;43m.\u001b[39;49m\u001b[43mreadline\u001b[49m\u001b[43m(\u001b[49m\u001b[43m_MAXLINE\u001b[49m\u001b[43m \u001b[49m\u001b[38;5;241;43m+\u001b[39;49m\u001b[43m \u001b[49m\u001b[38;5;241;43m1\u001b[39;49m\u001b[43m)\u001b[49m, \u001b[38;5;124m\"\u001b[39m\u001b[38;5;124miso-8859-1\u001b[39m\u001b[38;5;124m\"\u001b[39m)\n\u001b[1;32m    280\u001b[0m     \u001b[38;5;28;01mif\u001b[39;00m \u001b[38;5;28mlen\u001b[39m(line) \u001b[38;5;241m>\u001b[39m _MAXLINE:\n\u001b[1;32m    281\u001b[0m         \u001b[38;5;28;01mraise\u001b[39;00m LineTooLong(\u001b[38;5;124m\"\u001b[39m\u001b[38;5;124mstatus line\u001b[39m\u001b[38;5;124m\"\u001b[39m)\n",
      "File \u001b[0;32m~/anaconda3/lib/python3.10/socket.py:705\u001b[0m, in \u001b[0;36mSocketIO.readinto\u001b[0;34m(self, b)\u001b[0m\n\u001b[1;32m    703\u001b[0m \u001b[38;5;28;01mwhile\u001b[39;00m \u001b[38;5;28;01mTrue\u001b[39;00m:\n\u001b[1;32m    704\u001b[0m     \u001b[38;5;28;01mtry\u001b[39;00m:\n\u001b[0;32m--> 705\u001b[0m         \u001b[38;5;28;01mreturn\u001b[39;00m \u001b[38;5;28;43mself\u001b[39;49m\u001b[38;5;241;43m.\u001b[39;49m\u001b[43m_sock\u001b[49m\u001b[38;5;241;43m.\u001b[39;49m\u001b[43mrecv_into\u001b[49m\u001b[43m(\u001b[49m\u001b[43mb\u001b[49m\u001b[43m)\u001b[49m\n\u001b[1;32m    706\u001b[0m     \u001b[38;5;28;01mexcept\u001b[39;00m timeout:\n\u001b[1;32m    707\u001b[0m         \u001b[38;5;28mself\u001b[39m\u001b[38;5;241m.\u001b[39m_timeout_occurred \u001b[38;5;241m=\u001b[39m \u001b[38;5;28;01mTrue\u001b[39;00m\n",
      "File \u001b[0;32m~/anaconda3/lib/python3.10/ssl.py:1274\u001b[0m, in \u001b[0;36mSSLSocket.recv_into\u001b[0;34m(self, buffer, nbytes, flags)\u001b[0m\n\u001b[1;32m   1270\u001b[0m     \u001b[38;5;28;01mif\u001b[39;00m flags \u001b[38;5;241m!=\u001b[39m \u001b[38;5;241m0\u001b[39m:\n\u001b[1;32m   1271\u001b[0m         \u001b[38;5;28;01mraise\u001b[39;00m \u001b[38;5;167;01mValueError\u001b[39;00m(\n\u001b[1;32m   1272\u001b[0m           \u001b[38;5;124m\"\u001b[39m\u001b[38;5;124mnon-zero flags not allowed in calls to recv_into() on \u001b[39m\u001b[38;5;132;01m%s\u001b[39;00m\u001b[38;5;124m\"\u001b[39m \u001b[38;5;241m%\u001b[39m\n\u001b[1;32m   1273\u001b[0m           \u001b[38;5;28mself\u001b[39m\u001b[38;5;241m.\u001b[39m\u001b[38;5;18m__class__\u001b[39m)\n\u001b[0;32m-> 1274\u001b[0m     \u001b[38;5;28;01mreturn\u001b[39;00m \u001b[38;5;28;43mself\u001b[39;49m\u001b[38;5;241;43m.\u001b[39;49m\u001b[43mread\u001b[49m\u001b[43m(\u001b[49m\u001b[43mnbytes\u001b[49m\u001b[43m,\u001b[49m\u001b[43m \u001b[49m\u001b[43mbuffer\u001b[49m\u001b[43m)\u001b[49m\n\u001b[1;32m   1275\u001b[0m \u001b[38;5;28;01melse\u001b[39;00m:\n\u001b[1;32m   1276\u001b[0m     \u001b[38;5;28;01mreturn\u001b[39;00m \u001b[38;5;28msuper\u001b[39m()\u001b[38;5;241m.\u001b[39mrecv_into(buffer, nbytes, flags)\n",
      "File \u001b[0;32m~/anaconda3/lib/python3.10/ssl.py:1130\u001b[0m, in \u001b[0;36mSSLSocket.read\u001b[0;34m(self, len, buffer)\u001b[0m\n\u001b[1;32m   1128\u001b[0m \u001b[38;5;28;01mtry\u001b[39;00m:\n\u001b[1;32m   1129\u001b[0m     \u001b[38;5;28;01mif\u001b[39;00m buffer \u001b[38;5;129;01mis\u001b[39;00m \u001b[38;5;129;01mnot\u001b[39;00m \u001b[38;5;28;01mNone\u001b[39;00m:\n\u001b[0;32m-> 1130\u001b[0m         \u001b[38;5;28;01mreturn\u001b[39;00m \u001b[38;5;28;43mself\u001b[39;49m\u001b[38;5;241;43m.\u001b[39;49m\u001b[43m_sslobj\u001b[49m\u001b[38;5;241;43m.\u001b[39;49m\u001b[43mread\u001b[49m\u001b[43m(\u001b[49m\u001b[38;5;28;43mlen\u001b[39;49m\u001b[43m,\u001b[49m\u001b[43m \u001b[49m\u001b[43mbuffer\u001b[49m\u001b[43m)\u001b[49m\n\u001b[1;32m   1131\u001b[0m     \u001b[38;5;28;01melse\u001b[39;00m:\n\u001b[1;32m   1132\u001b[0m         \u001b[38;5;28;01mreturn\u001b[39;00m \u001b[38;5;28mself\u001b[39m\u001b[38;5;241m.\u001b[39m_sslobj\u001b[38;5;241m.\u001b[39mread(\u001b[38;5;28mlen\u001b[39m)\n",
      "\u001b[0;31mKeyboardInterrupt\u001b[0m: "
     ]
    }
   ],
   "source": [
    "import requests\n",
    "\n",
    "# List of all cities and provinces in Canada\n",
    "cities = [\"Toronto\", \"Vancouver\", \"Montreal\", \"Calgary\", \"Edmonton\", \"Ottawa\", \"Winnipeg\", \"Quebec\", \"Hamilton\", \"Victoria\"]\n",
    "provinces = [\"ON\", \"BC\", \"QC\", \"AB\", \"AB\", \"ON\", \"MB\", \"QC\", \"ON\", \"BC\"]\n",
    "\n",
    "for city in cities:\n",
    "    for province in provinces:\n",
    "        search_url = f\"https://www.yelp.com/search/snippet?find_desc=Restaurants&find_loc={city}%2C+{province}%2C+Canada&request_origin=user\"\n",
    "        search_response = requests.get(search_url)\n",
    "        data = search_response.json()\n",
    "        search_results = data.get('searchPageProps', {}).get('mainContentComponentsListProps', [])\n",
    "        \n",
    "        print(f\"Results for {city}, {province}:\\n\")\n",
    "        for result in search_results:\n",
    "            if result.get('searchResultLayoutType') == \"iaResult\":\n",
    "                name = result['searchResultBusiness']['name']\n",
    "                neighborhoods = result['searchResultBusiness']['neighborhoods']\n",
    "                review_count = result['searchResultBusiness']['reviewCount']\n",
    "                rating = result['searchResultBusiness']['rating']\n",
    "                price_range = result['searchResultBusiness'].get('priceRange', 'Not available')  # Handle missing price range\n",
    "                \n",
    "                business_url = \"https://www.yelp.com\" + result['searchResultBusiness']['businessUrl']\n",
    "                \n",
    "                print(f\"Name: {name}\")\n",
    "                print(f\"Neighborhoods: {neighborhoods}\")\n",
    "                print(f\"Review Count: {review_count}\")\n",
    "                print(f\"Rating: {rating}\")\n",
    "                print(f\"Price Range: {price_range}\")\n",
    "                print(f\"Business URL: {business_url}\")\n",
    "                print(\"--------\")\n",
    "        print(\"\\n\")"
   ]
  },
  {
   "cell_type": "code",
   "execution_count": 8,
   "id": "377ba296",
   "metadata": {},
   "outputs": [
    {
     "name": "stderr",
     "output_type": "stream",
     "text": [
      "/var/folders/_z/_c4_cm7j50l1wky29tsn98200000gn/T/ipykernel_12430/3180861792.py:4: DeprecationWarning: executable_path has been deprecated, please pass in a Service object\n",
      "  driver = webdriver.Chrome(chrome_driver_binary, chrome_options=options)\n",
      "/var/folders/_z/_c4_cm7j50l1wky29tsn98200000gn/T/ipykernel_12430/3180861792.py:4: DeprecationWarning: use options instead of chrome_options\n",
      "  driver = webdriver.Chrome(chrome_driver_binary, chrome_options=options)\n"
     ]
    },
    {
     "name": "stdout",
     "output_type": "stream",
     "text": [
      "Name: Mira\n",
      "Neighborhoods: []\n",
      "Review Count: 266\n",
      "Rating: 4.3\n",
      "Price Range: $$\n",
      "Business URL: https://www.yelp.com/biz/mira-toronto?osq=Restaurants\n"
     ]
    },
    {
     "name": "stderr",
     "output_type": "stream",
     "text": [
      "/var/folders/_z/_c4_cm7j50l1wky29tsn98200000gn/T/ipykernel_12430/3180861792.py:23: DeprecationWarning: executable_path has been deprecated, please pass in a Service object\n",
      "  driver = webdriver.Chrome(\"/opt/homebrew/bin/chromedriver\") # Update with your Chromedriver path\n"
     ]
    },
    {
     "ename": "WebDriverException",
     "evalue": "Message: unknown error: cannot find Chrome binary\nStacktrace:\n0   chromedriver                        0x0000000100fda924 chromedriver + 4303140\n1   chromedriver                        0x0000000100fd3050 chromedriver + 4272208\n2   chromedriver                        0x0000000100c07328 chromedriver + 291624\n3   chromedriver                        0x0000000100c2fa7c chromedriver + 457340\n4   chromedriver                        0x0000000100c2effc chromedriver + 454652\n5   chromedriver                        0x0000000100c6e040 chromedriver + 712768\n6   chromedriver                        0x0000000100c6d80c chromedriver + 710668\n7   chromedriver                        0x0000000100c388d4 chromedriver + 493780\n8   chromedriver                        0x0000000100c3971c chromedriver + 497436\n9   chromedriver                        0x0000000100f9b7dc chromedriver + 4044764\n10  chromedriver                        0x0000000100f9fd20 chromedriver + 4062496\n11  chromedriver                        0x0000000100fa5f40 chromedriver + 4087616\n12  chromedriver                        0x0000000100fa0824 chromedriver + 4065316\n13  chromedriver                        0x0000000100f78d1c chromedriver + 3902748\n14  chromedriver                        0x0000000100fbc414 chromedriver + 4178964\n15  chromedriver                        0x0000000100fbc56c chromedriver + 4179308\n16  chromedriver                        0x0000000100fcc830 chromedriver + 4245552\n17  libsystem_pthread.dylib             0x0000000196cf606c _pthread_start + 148\n18  libsystem_pthread.dylib             0x0000000196cf0e2c thread_start + 8\n",
     "output_type": "error",
     "traceback": [
      "\u001b[0;31m---------------------------------------------------------------------------\u001b[0m",
      "\u001b[0;31mWebDriverException\u001b[0m                        Traceback (most recent call last)",
      "Cell \u001b[0;32mIn[8], line 23\u001b[0m\n\u001b[1;32m     20\u001b[0m \u001b[38;5;28mprint\u001b[39m(\u001b[38;5;124mf\u001b[39m\u001b[38;5;124m\"\u001b[39m\u001b[38;5;124mBusiness URL: \u001b[39m\u001b[38;5;132;01m{\u001b[39;00mbusiness_url\u001b[38;5;132;01m}\u001b[39;00m\u001b[38;5;124m\"\u001b[39m)\n\u001b[1;32m     22\u001b[0m \u001b[38;5;66;03m# Open the restaurant's page using Selenium WebDriver\u001b[39;00m\n\u001b[0;32m---> 23\u001b[0m driver \u001b[38;5;241m=\u001b[39m \u001b[43mwebdriver\u001b[49m\u001b[38;5;241;43m.\u001b[39;49m\u001b[43mChrome\u001b[49m\u001b[43m(\u001b[49m\u001b[38;5;124;43m\"\u001b[39;49m\u001b[38;5;124;43m/opt/homebrew/bin/chromedriver\u001b[39;49m\u001b[38;5;124;43m\"\u001b[39;49m\u001b[43m)\u001b[49m \u001b[38;5;66;03m# Update with your Chromedriver path\u001b[39;00m\n\u001b[1;32m     24\u001b[0m driver\u001b[38;5;241m.\u001b[39mget(business_url)\n\u001b[1;32m     26\u001b[0m \u001b[38;5;66;03m# Extract review key terms from the restaurant page\u001b[39;00m\n",
      "File \u001b[0;32m~/anaconda3/lib/python3.10/site-packages/selenium/webdriver/chrome/webdriver.py:70\u001b[0m, in \u001b[0;36mWebDriver.__init__\u001b[0;34m(self, executable_path, port, options, service_args, desired_capabilities, service_log_path, chrome_options, service, keep_alive)\u001b[0m\n\u001b[1;32m     67\u001b[0m \u001b[38;5;28;01mif\u001b[39;00m \u001b[38;5;129;01mnot\u001b[39;00m service:\n\u001b[1;32m     68\u001b[0m     service \u001b[38;5;241m=\u001b[39m Service(executable_path, port, service_args, service_log_path)\n\u001b[0;32m---> 70\u001b[0m \u001b[38;5;28;43msuper\u001b[39;49m\u001b[43m(\u001b[49m\u001b[43mWebDriver\u001b[49m\u001b[43m,\u001b[49m\u001b[43m \u001b[49m\u001b[38;5;28;43mself\u001b[39;49m\u001b[43m)\u001b[49m\u001b[38;5;241;43m.\u001b[39;49m\u001b[38;5;21;43m__init__\u001b[39;49m\u001b[43m(\u001b[49m\u001b[43mDesiredCapabilities\u001b[49m\u001b[38;5;241;43m.\u001b[39;49m\u001b[43mCHROME\u001b[49m\u001b[43m[\u001b[49m\u001b[38;5;124;43m'\u001b[39;49m\u001b[38;5;124;43mbrowserName\u001b[39;49m\u001b[38;5;124;43m'\u001b[39;49m\u001b[43m]\u001b[49m\u001b[43m,\u001b[49m\u001b[43m \u001b[49m\u001b[38;5;124;43m\"\u001b[39;49m\u001b[38;5;124;43mgoog\u001b[39;49m\u001b[38;5;124;43m\"\u001b[39;49m\u001b[43m,\u001b[49m\n\u001b[1;32m     71\u001b[0m \u001b[43m                                \u001b[49m\u001b[43mport\u001b[49m\u001b[43m,\u001b[49m\u001b[43m \u001b[49m\u001b[43moptions\u001b[49m\u001b[43m,\u001b[49m\n\u001b[1;32m     72\u001b[0m \u001b[43m                                \u001b[49m\u001b[43mservice_args\u001b[49m\u001b[43m,\u001b[49m\u001b[43m \u001b[49m\u001b[43mdesired_capabilities\u001b[49m\u001b[43m,\u001b[49m\n\u001b[1;32m     73\u001b[0m \u001b[43m                                \u001b[49m\u001b[43mservice_log_path\u001b[49m\u001b[43m,\u001b[49m\u001b[43m \u001b[49m\u001b[43mservice\u001b[49m\u001b[43m,\u001b[49m\u001b[43m \u001b[49m\u001b[43mkeep_alive\u001b[49m\u001b[43m)\u001b[49m\n",
      "File \u001b[0;32m~/anaconda3/lib/python3.10/site-packages/selenium/webdriver/chromium/webdriver.py:92\u001b[0m, in \u001b[0;36mChromiumDriver.__init__\u001b[0;34m(self, browser_name, vendor_prefix, port, options, service_args, desired_capabilities, service_log_path, service, keep_alive)\u001b[0m\n\u001b[1;32m     89\u001b[0m \u001b[38;5;28mself\u001b[39m\u001b[38;5;241m.\u001b[39mservice\u001b[38;5;241m.\u001b[39mstart()\n\u001b[1;32m     91\u001b[0m \u001b[38;5;28;01mtry\u001b[39;00m:\n\u001b[0;32m---> 92\u001b[0m     \u001b[43mRemoteWebDriver\u001b[49m\u001b[38;5;241;43m.\u001b[39;49m\u001b[38;5;21;43m__init__\u001b[39;49m\u001b[43m(\u001b[49m\n\u001b[1;32m     93\u001b[0m \u001b[43m        \u001b[49m\u001b[38;5;28;43mself\u001b[39;49m\u001b[43m,\u001b[49m\n\u001b[1;32m     94\u001b[0m \u001b[43m        \u001b[49m\u001b[43mcommand_executor\u001b[49m\u001b[38;5;241;43m=\u001b[39;49m\u001b[43mChromiumRemoteConnection\u001b[49m\u001b[43m(\u001b[49m\n\u001b[1;32m     95\u001b[0m \u001b[43m            \u001b[49m\u001b[43mremote_server_addr\u001b[49m\u001b[38;5;241;43m=\u001b[39;49m\u001b[38;5;28;43mself\u001b[39;49m\u001b[38;5;241;43m.\u001b[39;49m\u001b[43mservice\u001b[49m\u001b[38;5;241;43m.\u001b[39;49m\u001b[43mservice_url\u001b[49m\u001b[43m,\u001b[49m\n\u001b[1;32m     96\u001b[0m \u001b[43m            \u001b[49m\u001b[43mbrowser_name\u001b[49m\u001b[38;5;241;43m=\u001b[39;49m\u001b[43mbrowser_name\u001b[49m\u001b[43m,\u001b[49m\u001b[43m \u001b[49m\u001b[43mvendor_prefix\u001b[49m\u001b[38;5;241;43m=\u001b[39;49m\u001b[43mvendor_prefix\u001b[49m\u001b[43m,\u001b[49m\n\u001b[1;32m     97\u001b[0m \u001b[43m            \u001b[49m\u001b[43mkeep_alive\u001b[49m\u001b[38;5;241;43m=\u001b[39;49m\u001b[43mkeep_alive\u001b[49m\u001b[43m,\u001b[49m\u001b[43m \u001b[49m\u001b[43mignore_proxy\u001b[49m\u001b[38;5;241;43m=\u001b[39;49m\u001b[43m_ignore_proxy\u001b[49m\u001b[43m)\u001b[49m\u001b[43m,\u001b[49m\n\u001b[1;32m     98\u001b[0m \u001b[43m        \u001b[49m\u001b[43moptions\u001b[49m\u001b[38;5;241;43m=\u001b[39;49m\u001b[43moptions\u001b[49m\u001b[43m)\u001b[49m\n\u001b[1;32m     99\u001b[0m \u001b[38;5;28;01mexcept\u001b[39;00m \u001b[38;5;167;01mException\u001b[39;00m:\n\u001b[1;32m    100\u001b[0m     \u001b[38;5;28mself\u001b[39m\u001b[38;5;241m.\u001b[39mquit()\n",
      "File \u001b[0;32m~/anaconda3/lib/python3.10/site-packages/selenium/webdriver/remote/webdriver.py:275\u001b[0m, in \u001b[0;36mWebDriver.__init__\u001b[0;34m(self, command_executor, desired_capabilities, browser_profile, proxy, keep_alive, file_detector, options)\u001b[0m\n\u001b[1;32m    273\u001b[0m \u001b[38;5;28mself\u001b[39m\u001b[38;5;241m.\u001b[39m_authenticator_id \u001b[38;5;241m=\u001b[39m \u001b[38;5;28;01mNone\u001b[39;00m\n\u001b[1;32m    274\u001b[0m \u001b[38;5;28mself\u001b[39m\u001b[38;5;241m.\u001b[39mstart_client()\n\u001b[0;32m--> 275\u001b[0m \u001b[38;5;28;43mself\u001b[39;49m\u001b[38;5;241;43m.\u001b[39;49m\u001b[43mstart_session\u001b[49m\u001b[43m(\u001b[49m\u001b[43mcapabilities\u001b[49m\u001b[43m,\u001b[49m\u001b[43m \u001b[49m\u001b[43mbrowser_profile\u001b[49m\u001b[43m)\u001b[49m\n",
      "File \u001b[0;32m~/anaconda3/lib/python3.10/site-packages/selenium/webdriver/remote/webdriver.py:365\u001b[0m, in \u001b[0;36mWebDriver.start_session\u001b[0;34m(self, capabilities, browser_profile)\u001b[0m\n\u001b[1;32m    363\u001b[0m w3c_caps \u001b[38;5;241m=\u001b[39m _make_w3c_caps(capabilities)\n\u001b[1;32m    364\u001b[0m parameters \u001b[38;5;241m=\u001b[39m {\u001b[38;5;124m\"\u001b[39m\u001b[38;5;124mcapabilities\u001b[39m\u001b[38;5;124m\"\u001b[39m: w3c_caps}\n\u001b[0;32m--> 365\u001b[0m response \u001b[38;5;241m=\u001b[39m \u001b[38;5;28;43mself\u001b[39;49m\u001b[38;5;241;43m.\u001b[39;49m\u001b[43mexecute\u001b[49m\u001b[43m(\u001b[49m\u001b[43mCommand\u001b[49m\u001b[38;5;241;43m.\u001b[39;49m\u001b[43mNEW_SESSION\u001b[49m\u001b[43m,\u001b[49m\u001b[43m \u001b[49m\u001b[43mparameters\u001b[49m\u001b[43m)\u001b[49m\n\u001b[1;32m    366\u001b[0m \u001b[38;5;28;01mif\u001b[39;00m \u001b[38;5;124m'\u001b[39m\u001b[38;5;124msessionId\u001b[39m\u001b[38;5;124m'\u001b[39m \u001b[38;5;129;01mnot\u001b[39;00m \u001b[38;5;129;01min\u001b[39;00m response:\n\u001b[1;32m    367\u001b[0m     response \u001b[38;5;241m=\u001b[39m response[\u001b[38;5;124m'\u001b[39m\u001b[38;5;124mvalue\u001b[39m\u001b[38;5;124m'\u001b[39m]\n",
      "File \u001b[0;32m~/anaconda3/lib/python3.10/site-packages/selenium/webdriver/remote/webdriver.py:430\u001b[0m, in \u001b[0;36mWebDriver.execute\u001b[0;34m(self, driver_command, params)\u001b[0m\n\u001b[1;32m    428\u001b[0m response \u001b[38;5;241m=\u001b[39m \u001b[38;5;28mself\u001b[39m\u001b[38;5;241m.\u001b[39mcommand_executor\u001b[38;5;241m.\u001b[39mexecute(driver_command, params)\n\u001b[1;32m    429\u001b[0m \u001b[38;5;28;01mif\u001b[39;00m response:\n\u001b[0;32m--> 430\u001b[0m     \u001b[38;5;28;43mself\u001b[39;49m\u001b[38;5;241;43m.\u001b[39;49m\u001b[43merror_handler\u001b[49m\u001b[38;5;241;43m.\u001b[39;49m\u001b[43mcheck_response\u001b[49m\u001b[43m(\u001b[49m\u001b[43mresponse\u001b[49m\u001b[43m)\u001b[49m\n\u001b[1;32m    431\u001b[0m     response[\u001b[38;5;124m'\u001b[39m\u001b[38;5;124mvalue\u001b[39m\u001b[38;5;124m'\u001b[39m] \u001b[38;5;241m=\u001b[39m \u001b[38;5;28mself\u001b[39m\u001b[38;5;241m.\u001b[39m_unwrap_value(\n\u001b[1;32m    432\u001b[0m         response\u001b[38;5;241m.\u001b[39mget(\u001b[38;5;124m'\u001b[39m\u001b[38;5;124mvalue\u001b[39m\u001b[38;5;124m'\u001b[39m, \u001b[38;5;28;01mNone\u001b[39;00m))\n\u001b[1;32m    433\u001b[0m     \u001b[38;5;28;01mreturn\u001b[39;00m response\n",
      "File \u001b[0;32m~/anaconda3/lib/python3.10/site-packages/selenium/webdriver/remote/errorhandler.py:247\u001b[0m, in \u001b[0;36mErrorHandler.check_response\u001b[0;34m(self, response)\u001b[0m\n\u001b[1;32m    245\u001b[0m         alert_text \u001b[38;5;241m=\u001b[39m value[\u001b[38;5;124m'\u001b[39m\u001b[38;5;124malert\u001b[39m\u001b[38;5;124m'\u001b[39m]\u001b[38;5;241m.\u001b[39mget(\u001b[38;5;124m'\u001b[39m\u001b[38;5;124mtext\u001b[39m\u001b[38;5;124m'\u001b[39m)\n\u001b[1;32m    246\u001b[0m     \u001b[38;5;28;01mraise\u001b[39;00m exception_class(message, screen, stacktrace, alert_text)  \u001b[38;5;66;03m# type: ignore[call-arg]  # mypy is not smart enough here\u001b[39;00m\n\u001b[0;32m--> 247\u001b[0m \u001b[38;5;28;01mraise\u001b[39;00m exception_class(message, screen, stacktrace)\n",
      "\u001b[0;31mWebDriverException\u001b[0m: Message: unknown error: cannot find Chrome binary\nStacktrace:\n0   chromedriver                        0x0000000100fda924 chromedriver + 4303140\n1   chromedriver                        0x0000000100fd3050 chromedriver + 4272208\n2   chromedriver                        0x0000000100c07328 chromedriver + 291624\n3   chromedriver                        0x0000000100c2fa7c chromedriver + 457340\n4   chromedriver                        0x0000000100c2effc chromedriver + 454652\n5   chromedriver                        0x0000000100c6e040 chromedriver + 712768\n6   chromedriver                        0x0000000100c6d80c chromedriver + 710668\n7   chromedriver                        0x0000000100c388d4 chromedriver + 493780\n8   chromedriver                        0x0000000100c3971c chromedriver + 497436\n9   chromedriver                        0x0000000100f9b7dc chromedriver + 4044764\n10  chromedriver                        0x0000000100f9fd20 chromedriver + 4062496\n11  chromedriver                        0x0000000100fa5f40 chromedriver + 4087616\n12  chromedriver                        0x0000000100fa0824 chromedriver + 4065316\n13  chromedriver                        0x0000000100f78d1c chromedriver + 3902748\n14  chromedriver                        0x0000000100fbc414 chromedriver + 4178964\n15  chromedriver                        0x0000000100fbc56c chromedriver + 4179308\n16  chromedriver                        0x0000000100fcc830 chromedriver + 4245552\n17  libsystem_pthread.dylib             0x0000000196cf606c _pthread_start + 148\n18  libsystem_pthread.dylib             0x0000000196cf0e2c thread_start + 8\n"
     ]
    }
   ],
   "source": [
    "options = webdriver.ChromeOptions()\n",
    "options.binary_location = \"/Applications/Google Chrome.app/Contents/MacOS/Google Chrome\"\n",
    "chrome_driver_binary = \"/opt/homebrew/bin/chromedriver\"\n",
    "driver = webdriver.Chrome(chrome_driver_binary, chrome_options=options)\n",
    "for result in search_results:\n",
    "    if result.get('searchResultLayoutType') == \"iaResult\":\n",
    "        name = result['searchResultBusiness']['name']\n",
    "        neighborhoods = result['searchResultBusiness']['neighborhoods']\n",
    "        review_count = result['searchResultBusiness']['reviewCount']\n",
    "        rating = result['searchResultBusiness']['rating']\n",
    "        price_range = result['searchResultBusiness'].get('priceRange', 'Not available')  # Handle missing price range\n",
    "\n",
    "        business_url = \"https://www.yelp.com\" + result['searchResultBusiness']['businessUrl']\n",
    "\n",
    "        print(f\"Name: {name}\")\n",
    "        print(f\"Neighborhoods: {neighborhoods}\")\n",
    "        print(f\"Review Count: {review_count}\")\n",
    "        print(f\"Rating: {rating}\")\n",
    "        print(f\"Price Range: {price_range}\")\n",
    "        print(f\"Business URL: {business_url}\")\n",
    "\n",
    "        # Open the restaurant's page using Selenium WebDriver\n",
    "        driver = webdriver.Chrome(\"/opt/homebrew/bin/chromedriver\") # Update with your Chromedriver path\n",
    "        driver.get(business_url)\n",
    "\n",
    "        # Extract review key terms from the restaurant page\n",
    "        review_elements = driver.find_elements(By.CSS_SELECTOR, 'p.review-keyword')\n",
    "        review_key_terms = [element.text for element in review_elements]\n",
    "\n",
    "        print(\"Review Key Terms:\")\n",
    "        for term in review_key_terms:\n",
    "            print(term)\n",
    "\n",
    "        driver.quit()  # Close the WebDriver instance for this restaurant\n",
    "        print(\"--------\")\n"
   ]
  },
  {
   "cell_type": "code",
   "execution_count": 5,
   "id": "38002d9c",
   "metadata": {},
   "outputs": [
    {
     "name": "stdout",
     "output_type": "stream",
     "text": [
      "The Pink Door\n",
      "thepinkdoor.net\n",
      "(206) 443-3241\n",
      "1919 Post Alley Seattle, WA 98101\n",
      "4.4 star rating\n",
      "(6,674 reviews)\n"
     ]
    },
    {
     "name": "stderr",
     "output_type": "stream",
     "text": [
      "/var/folders/_z/_c4_cm7j50l1wky29tsn98200000gn/T/ipykernel_10195/1352256033.py:7: DeprecationWarning: The 'text' argument to find()-type methods is deprecated. Use 'string' instead.\n",
      "  website_sibling = soup.find('p', text=\"Business website\")\n",
      "/var/folders/_z/_c4_cm7j50l1wky29tsn98200000gn/T/ipykernel_10195/1352256033.py:12: DeprecationWarning: The 'text' argument to find()-type methods is deprecated. Use 'string' instead.\n",
      "  phone_no_sibling = soup.find('p', text=\"Phone number\")\n",
      "/var/folders/_z/_c4_cm7j50l1wky29tsn98200000gn/T/ipykernel_10195/1352256033.py:17: DeprecationWarning: The 'text' argument to find()-type methods is deprecated. Use 'string' instead.\n",
      "  address_sibling = soup.find('a', text=\"Get Directions\")\n",
      "/var/folders/_z/_c4_cm7j50l1wky29tsn98200000gn/T/ipykernel_10195/1352256033.py:26: DeprecationWarning: The 'text' argument to find()-type methods is deprecated. Use 'string' instead.\n",
      "  review_count = soup.find('span', text=re.compile('reviews')).text\n"
     ]
    }
   ],
   "source": [
    "html = requests.get(\"https://www.yelp.com/biz/the-pink-door-seattle-4\")\n",
    "soup = BeautifulSoup(html.text)\n",
    "\n",
    "name = soup.find('h1').text\n",
    "print(name)\n",
    "\n",
    "website_sibling = soup.find('p', text=\"Business website\")\n",
    "if website_sibling:\n",
    "    website = website_sibling.next_sibling.text\n",
    "    print(website)\n",
    "\n",
    "phone_no_sibling = soup.find('p', text=\"Phone number\")\n",
    "if phone_no_sibling:\n",
    "    phone_no = phone_no_sibling.next_sibling.text\n",
    "    print(phone_no)\n",
    "\n",
    "address_sibling = soup.find('a', text=\"Get Directions\")\n",
    "if address_sibling:\n",
    "    address = address_sibling.parent.next_sibling.text\n",
    "    print(address)\n",
    "\n",
    "rating_tag = soup.find('div', attrs={'aria-label': re.compile('star rating')})\n",
    "rating = rating_tag['aria-label']\n",
    "print(rating)\n",
    "\n",
    "review_count = soup.find('span', text=re.compile('reviews')).text\n",
    "print(review_count)"
   ]
  },
  {
   "cell_type": "code",
   "execution_count": null,
   "id": "568372f5",
   "metadata": {},
   "outputs": [],
   "source": []
  }
 ],
 "metadata": {
  "kernelspec": {
   "display_name": "Python 3 (ipykernel)",
   "language": "python",
   "name": "python3"
  },
  "language_info": {
   "codemirror_mode": {
    "name": "ipython",
    "version": 3
   },
   "file_extension": ".py",
   "mimetype": "text/x-python",
   "name": "python",
   "nbconvert_exporter": "python",
   "pygments_lexer": "ipython3",
   "version": "3.10.11"
  }
 },
 "nbformat": 4,
 "nbformat_minor": 5
}
