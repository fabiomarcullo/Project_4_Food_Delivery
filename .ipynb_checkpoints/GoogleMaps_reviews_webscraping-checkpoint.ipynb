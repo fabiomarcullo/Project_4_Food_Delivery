{
 "cells": [
  {
   "cell_type": "code",
   "execution_count": 1,
   "id": "69bd5b83",
   "metadata": {},
   "outputs": [],
   "source": [
    "#Importing dependencies/libraries\n",
    "\n",
    "from splinter import Browser\n",
    "from bs4 import BeautifulSoup as soup\n",
    "import pandas as pd\n",
    "import time"
   ]
  },
  {
   "cell_type": "code",
   "execution_count": 4,
   "id": "0d22a010",
   "metadata": {},
   "outputs": [],
   "source": [
    "#Setting up the browser\n",
    "\n",
    "browser = Browser('chrome')"
   ]
  },
  {
   "cell_type": "code",
   "execution_count": 5,
   "id": "0d4dae29",
   "metadata": {},
   "outputs": [],
   "source": [
    "#Visiting the website, Google Maps\n",
    "url = 'https://www.google.com/maps/@43.7553338,-79.5041315,15z?entry=ttu'\n",
    "browser.visit(url)"
   ]
  },
  {
   "cell_type": "code",
   "execution_count": null,
   "id": "dd26b1bc",
   "metadata": {},
   "outputs": [],
   "source": [
    "#Search bar query\n",
    "\n",
    "restaurant_name = \"Curry Club\"\n",
    "address = \"980 Blanshard Street, Victoria, BC V8W\""
   ]
  },
  {
   "cell_type": "code",
   "execution_count": null,
   "id": "7bac3ef1",
   "metadata": {},
   "outputs": [],
   "source": [
    "#Getting splinter to click on Google Map's search bar\n",
    "\n"
   ]
  },
  {
   "cell_type": "code",
   "execution_count": null,
   "id": "b67be7e1",
   "metadata": {},
   "outputs": [],
   "source": []
  },
  {
   "cell_type": "code",
   "execution_count": null,
   "id": "caafbc0b",
   "metadata": {},
   "outputs": [],
   "source": [
    "#Creating a BeautifulSoup instance to parse through the HTML\n",
    "html = browser.html\n",
    "\n",
    "soup = soup(html, 'html.parser')"
   ]
  }
 ],
 "metadata": {
  "kernelspec": {
   "display_name": "Python 3 (ipykernel)",
   "language": "python",
   "name": "python3"
  },
  "language_info": {
   "codemirror_mode": {
    "name": "ipython",
    "version": 3
   },
   "file_extension": ".py",
   "mimetype": "text/x-python",
   "name": "python",
   "nbconvert_exporter": "python",
   "pygments_lexer": "ipython3",
   "version": "3.9.13"
  }
 },
 "nbformat": 4,
 "nbformat_minor": 5
}
