{
 "cells": [
  {
   "cell_type": "code",
   "execution_count": 1,
   "id": "173fea7d",
   "metadata": {},
   "outputs": [],
   "source": [
    "#Importing dependencies/libraries\n",
    "\n",
    "from splinter import Browser\n",
    "from bs4 import BeautifulSoup as soup\n",
    "import pandas as pd\n",
    "import time"
   ]
  },
  {
   "cell_type": "code",
   "execution_count": 2,
   "id": "4beac203",
   "metadata": {},
   "outputs": [],
   "source": [
    "#ON\n",
    "location_on = [\"greater-sudbury\", \"hamilton\", \"kingston\", \"london\", \"niagara-falls\",\n",
    "            \"ottawa\", \"toronto\", \"windsor\", \"kitchener\", \"peterborough\", \n",
    "            \"sault-ste-marie\", \"thunder-bay\"]\n",
    "\n",
    "#AB\n",
    "location_ab = [\"edmonton\", \"calgary\", \"lethbridge\", \"red-deer\"]\n",
    "\n",
    "#NS\n",
    "location_ns = [\"halifax\"]\n",
    "\n",
    "#QC\n",
    "location_qc = [\"montreal\", \"sherbrooke\", \"trois-rivieres\", \"quebec\"]\n",
    "\n",
    "#BC\n",
    "location_bc = [\"vancouver\", \"victoria\"]\n",
    "\n",
    "#MB\n",
    "location_mb = [\"winnipeg\"]\n",
    "\n",
    "pages = [0, 10, 20, 30, 40, 50, 60, 70, 80, 90, 100, 110, 120, 130, 140, 150, 160, 170, 180, 190, 200, 210, 220, 230]"
   ]
  },
  {
   "cell_type": "code",
   "execution_count": 3,
   "id": "b0492ece",
   "metadata": {
    "scrolled": false
   },
   "outputs": [],
   "source": [
    "#empty lists to hold the values\n",
    "test_names = []\n",
    "test_price_range = []\n",
    "test_ratings = []\n",
    "test_total_reviews = []\n",
    "\n",
    "#web scraping\n",
    "browser = Browser('chrome')\n",
    "#This for loop changes the page on the url\n",
    "for location in location_bc:  \n",
    "    #This for loop changes the location of the url\n",
    "    for page in pages:  \n",
    "        \n",
    "        url = f'https://www.yelp.com/search?find_desc=Restaurants&find_loc={location}%2C+bc&start={page}'\n",
    "        browser.visit(url)\n",
    "        time.sleep(5)\n",
    "        html = browser.html\n",
    "        soup_obj = soup(html, 'html.parser')      \n",
    "        time.sleep(5)\n",
    "        \n",
    "        #the idea is to extract the div that contains the elements I want and saving it into res_info\n",
    "        res_info = []    \n",
    "        res_info = soup_obj.find_all(\"div\", class_ = \"container__09f24__mpR8_ hoverable__09f24__wQ_on border-color--default__09f24__NPAKY\")\n",
    "        time.sleep(5)\n",
    "        \n",
    "        #extracting the elements from res_info\n",
    "        for info in res_info:\n",
    "            #extracting restaurant name\n",
    "            try:\n",
    "                name = info.find(\"a\", class_ = \"css-19v1rkv\").text\n",
    "                test_names.append(name)\n",
    "            except:\n",
    "                test_names.append(\"No data or change the code\")\n",
    "              \n",
    "            #extracting price range\n",
    "            if info.find(\"span\", {\"class\":\"priceRange__09f24__mmOuH css-chan6m\"}):\n",
    "                prc_range = info.find(\"span\", {\"class\":\"priceRange__09f24__mmOuH css-chan6m\"}).text\n",
    "                test_price_range.append(prc_range)\n",
    "            elif info.find(\"span\", {\"class\":\"priceRange__09f24__mmOuH css-1s7bx9e\"}):\n",
    "                prc_range = info.find(\"span\", {\"class\":\"priceRange__09f24__mmOuH css-1s7bx9e\"}).text\n",
    "                test_price_range.append(prc_range)\n",
    "            else:\n",
    "                test_price_range.append(\"No data or change the code\")\n",
    "            \n",
    "            #extracting ratings\n",
    "            try:\n",
    "                rati = info.find(\"span\", {\"class\":\"css-gutk1c\"}).text\n",
    "                test_ratings.append(rati)\n",
    "            except:\n",
    "                test_ratings.append(\"No data or change the code\")\n",
    "            \n",
    "            #extracting total number of reviews\n",
    "            try:\n",
    "                revs = info.find(\"span\", {\"class\":\"css-chan6m\"}).text\n",
    "                test_total_reviews.append(revs)\n",
    "            except:\n",
    "                test_total_reviews.append(\"No data or change the code\")\n",
    "                "
   ]
  },
  {
   "cell_type": "code",
   "execution_count": 8,
   "id": "0d5afb69",
   "metadata": {},
   "outputs": [
    {
     "data": {
      "text/plain": [
       "624"
      ]
     },
     "execution_count": 8,
     "metadata": {},
     "output_type": "execute_result"
    }
   ],
   "source": [
    "len(test_names)"
   ]
  },
  {
   "cell_type": "code",
   "execution_count": 16,
   "id": "eda08bbf",
   "metadata": {},
   "outputs": [
    {
     "data": {
      "text/plain": [
       "624"
      ]
     },
     "execution_count": 16,
     "metadata": {},
     "output_type": "execute_result"
    }
   ],
   "source": [
    "len(test_ratings)"
   ]
  },
  {
   "cell_type": "code",
   "execution_count": 13,
   "id": "cb8749b5",
   "metadata": {},
   "outputs": [],
   "source": [
    "trial_df = pd.DataFrame({\n",
    "    \"restaurant_name\" : test_names,\n",
    "    \"price_range\" : test_price_range,\n",
    "    \"ratings\" : test_ratings,\n",
    "    \"total_reviews\" : test_total_reviews,\n",
    "})"
   ]
  },
  {
   "cell_type": "code",
   "execution_count": 14,
   "id": "20bc9ce9",
   "metadata": {},
   "outputs": [
    {
     "data": {
      "text/html": [
       "<div>\n",
       "<style scoped>\n",
       "    .dataframe tbody tr th:only-of-type {\n",
       "        vertical-align: middle;\n",
       "    }\n",
       "\n",
       "    .dataframe tbody tr th {\n",
       "        vertical-align: top;\n",
       "    }\n",
       "\n",
       "    .dataframe thead th {\n",
       "        text-align: right;\n",
       "    }\n",
       "</style>\n",
       "<table border=\"1\" class=\"dataframe\">\n",
       "  <thead>\n",
       "    <tr style=\"text-align: right;\">\n",
       "      <th></th>\n",
       "      <th>restaurant_name</th>\n",
       "      <th>price_range</th>\n",
       "      <th>ratings</th>\n",
       "      <th>total_reviews</th>\n",
       "    </tr>\n",
       "  </thead>\n",
       "  <tbody>\n",
       "    <tr>\n",
       "      <th>0</th>\n",
       "      <td>Pizza Hut</td>\n",
       "      <td>No data or change the code</td>\n",
       "      <td>No data or change the code</td>\n",
       "      <td>Riley Park</td>\n",
       "    </tr>\n",
       "    <tr>\n",
       "      <th>1</th>\n",
       "      <td>Moxies</td>\n",
       "      <td>No data or change the code</td>\n",
       "      <td>No data or change the code</td>\n",
       "      <td>Downtown</td>\n",
       "    </tr>\n",
       "    <tr>\n",
       "      <th>2</th>\n",
       "      <td>The Flying Pig</td>\n",
       "      <td>$$</td>\n",
       "      <td>4.0</td>\n",
       "      <td>(1.3k reviews)</td>\n",
       "    </tr>\n",
       "    <tr>\n",
       "      <th>3</th>\n",
       "      <td>Kingyo</td>\n",
       "      <td>$$</td>\n",
       "      <td>4.4</td>\n",
       "      <td>(1.1k reviews)</td>\n",
       "    </tr>\n",
       "    <tr>\n",
       "      <th>4</th>\n",
       "      <td>Miku</td>\n",
       "      <td>$$$</td>\n",
       "      <td>4.4</td>\n",
       "      <td>(2.2k reviews)</td>\n",
       "    </tr>\n",
       "    <tr>\n",
       "      <th>...</th>\n",
       "      <td>...</td>\n",
       "      <td>...</td>\n",
       "      <td>...</td>\n",
       "      <td>...</td>\n",
       "    </tr>\n",
       "    <tr>\n",
       "      <th>619</th>\n",
       "      <td>Trini To D Bone</td>\n",
       "      <td>$$</td>\n",
       "      <td>4.6</td>\n",
       "      <td>(19 reviews)</td>\n",
       "    </tr>\n",
       "    <tr>\n",
       "      <th>620</th>\n",
       "      <td>Pirate Pizza</td>\n",
       "      <td>No data or change the code</td>\n",
       "      <td>4.0</td>\n",
       "      <td>(8 reviews)</td>\n",
       "    </tr>\n",
       "    <tr>\n",
       "      <th>621</th>\n",
       "      <td>Avalon Restaurant</td>\n",
       "      <td>$$</td>\n",
       "      <td>4.1</td>\n",
       "      <td>(33 reviews)</td>\n",
       "    </tr>\n",
       "    <tr>\n",
       "      <th>622</th>\n",
       "      <td>Panago Pizza</td>\n",
       "      <td>No data or change the code</td>\n",
       "      <td>3.0</td>\n",
       "      <td>(4 reviews)</td>\n",
       "    </tr>\n",
       "    <tr>\n",
       "      <th>623</th>\n",
       "      <td>The Courtney Room</td>\n",
       "      <td>No data or change the code</td>\n",
       "      <td>4.2</td>\n",
       "      <td>(38 reviews)</td>\n",
       "    </tr>\n",
       "  </tbody>\n",
       "</table>\n",
       "<p>624 rows × 4 columns</p>\n",
       "</div>"
      ],
      "text/plain": [
       "       restaurant_name                 price_range  \\\n",
       "0            Pizza Hut  No data or change the code   \n",
       "1               Moxies  No data or change the code   \n",
       "2       The Flying Pig                          $$   \n",
       "3               Kingyo                          $$   \n",
       "4                 Miku                         $$$   \n",
       "..                 ...                         ...   \n",
       "619    Trini To D Bone                          $$   \n",
       "620       Pirate Pizza  No data or change the code   \n",
       "621  Avalon Restaurant                          $$   \n",
       "622       Panago Pizza  No data or change the code   \n",
       "623  The Courtney Room  No data or change the code   \n",
       "\n",
       "                        ratings   total_reviews  \n",
       "0    No data or change the code      Riley Park  \n",
       "1    No data or change the code        Downtown  \n",
       "2                          4.0   (1.3k reviews)  \n",
       "3                          4.4   (1.1k reviews)  \n",
       "4                          4.4   (2.2k reviews)  \n",
       "..                          ...             ...  \n",
       "619                        4.6     (19 reviews)  \n",
       "620                        4.0      (8 reviews)  \n",
       "621                        4.1     (33 reviews)  \n",
       "622                        3.0      (4 reviews)  \n",
       "623                        4.2     (38 reviews)  \n",
       "\n",
       "[624 rows x 4 columns]"
      ]
     },
     "execution_count": 14,
     "metadata": {},
     "output_type": "execute_result"
    }
   ],
   "source": [
    "trial_df"
   ]
  },
  {
   "cell_type": "code",
   "execution_count": null,
   "id": "df7a7d73",
   "metadata": {},
   "outputs": [],
   "source": []
  },
  {
   "cell_type": "code",
   "execution_count": null,
   "id": "b7d69053",
   "metadata": {},
   "outputs": [],
   "source": []
  },
  {
   "cell_type": "code",
   "execution_count": null,
   "id": "d6c8d050",
   "metadata": {},
   "outputs": [],
   "source": []
  },
  {
   "cell_type": "code",
   "execution_count": null,
   "id": "95a6cb5f",
   "metadata": {},
   "outputs": [],
   "source": [
    "browser.quit()"
   ]
  }
 ],
 "metadata": {
  "kernelspec": {
   "display_name": "Python 3 (ipykernel)",
   "language": "python",
   "name": "python3"
  },
  "language_info": {
   "codemirror_mode": {
    "name": "ipython",
    "version": 3
   },
   "file_extension": ".py",
   "mimetype": "text/x-python",
   "name": "python",
   "nbconvert_exporter": "python",
   "pygments_lexer": "ipython3",
   "version": "3.9.13"
  }
 },
 "nbformat": 4,
 "nbformat_minor": 5
}
