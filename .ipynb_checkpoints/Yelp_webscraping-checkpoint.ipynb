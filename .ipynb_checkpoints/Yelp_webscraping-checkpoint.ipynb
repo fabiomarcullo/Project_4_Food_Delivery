{
 "cells": [
  {
   "cell_type": "code",
   "execution_count": 1,
   "id": "7cac0f9a",
   "metadata": {},
   "outputs": [],
   "source": [
    "#Importing dependencies/libraries\n",
    "\n",
    "from splinter import Browser\n",
    "from bs4 import BeautifulSoup as soup\n",
    "import pandas as pd\n",
    "import time"
   ]
  },
  {
   "cell_type": "code",
   "execution_count": 2,
   "id": "0727d0a9",
   "metadata": {},
   "outputs": [],
   "source": [
    "#Setting up the browser\n",
    "\n",
    "browser = Browser('chrome')"
   ]
  },
  {
   "cell_type": "code",
   "execution_count": 3,
   "id": "07b1527b",
   "metadata": {},
   "outputs": [],
   "source": [
    "#Visiting the website\n",
    "\n",
    "loc = 'victoria'\n",
    "prov = 'bc'\n",
    "url = f'https://www.yelp.com/search?find_desc=Restaurants&find_loc={loc}%2C%20{prov}'\n",
    "browser.visit(url)"
   ]
  },
  {
   "cell_type": "code",
   "execution_count": 4,
   "id": "771b80b4",
   "metadata": {},
   "outputs": [],
   "source": [
    "#Creating a BeautifulSoup instance to parse through the HTML\n",
    "html = browser.html\n",
    "\n",
    "soup = soup(html, 'html.parser')"
   ]
  },
  {
   "cell_type": "markdown",
   "id": "8cdf9cf8",
   "metadata": {},
   "source": [
    "# Extracting restaurant name"
   ]
  },
  {
   "cell_type": "code",
   "execution_count": 5,
   "id": "a1ca82d5",
   "metadata": {},
   "outputs": [],
   "source": [
    "res_name = soup.find_all(\"a\", {\n",
    "    \"class\": \"css-19v1rkv\",\n",
    "    \"target\": \"_blank\",\n",
    "})\n",
    "time.sleep(3)"
   ]
  },
  {
   "cell_type": "code",
   "execution_count": 6,
   "id": "7d44a24b",
   "metadata": {},
   "outputs": [
    {
     "data": {
      "text/plain": [
       "13"
      ]
     },
     "execution_count": 6,
     "metadata": {},
     "output_type": "execute_result"
    }
   ],
   "source": [
    "len(res_name)"
   ]
  },
  {
   "cell_type": "code",
   "execution_count": 7,
   "id": "e16d18c0",
   "metadata": {},
   "outputs": [
    {
     "data": {
      "text/plain": [
       "'Pizza Hut'"
      ]
     },
     "execution_count": 7,
     "metadata": {},
     "output_type": "execute_result"
    }
   ],
   "source": [
    "res_name[0].text "
   ]
  },
  {
   "cell_type": "markdown",
   "id": "efdb74ac",
   "metadata": {},
   "source": [
    "# Extracting Rating"
   ]
  },
  {
   "cell_type": "code",
   "execution_count": 44,
   "id": "60ba786d",
   "metadata": {},
   "outputs": [
    {
     "data": {
      "text/plain": [
       "<span class=\"css-gutk1c\" data-font-weight=\"semibold\">Walking (2 km.)</span>"
      ]
     },
     "execution_count": 44,
     "metadata": {},
     "output_type": "execute_result"
    }
   ],
   "source": [
    "soup.find('span', class_ = \"css-gutk1c\")"
   ]
  },
  {
   "cell_type": "code",
   "execution_count": 47,
   "id": "1795de33",
   "metadata": {},
   "outputs": [
    {
     "data": {
      "text/plain": [
       "<div class=\"alert-notice__09f24__WKrTt border-color--default__09f24__NPAKY\" data-module-name=\"LegalBanner\"><iframe class=\"cookie-iframe-banner__09f24__GnESl\" frameborder=\"0\" scrolling=\"no\" src=\"/eu_cookie_notice?responsive\" style=\"height:0px\" tabindex=\"-1\" title=\"cookie notice\"></iframe></div>"
      ]
     },
     "execution_count": 47,
     "metadata": {},
     "output_type": "execute_result"
    }
   ],
   "source": [
    "soup.find(\"div\", class_ = \"border-color--default__09f24__NPAKY\")"
   ]
  },
  {
   "cell_type": "code",
   "execution_count": null,
   "id": "b6520ee9",
   "metadata": {},
   "outputs": [],
   "source": [
    "<div class=\"  border-color--default__09f24__NPAKY\"><div class=\" display--inline-block__09f24__fEDiJ  border-color--default__09f24__NPAKY\" aria-hidden=\"false\"><div class=\"  border-color--default__09f24__NPAKY\"><div class=\" display--inline-block__09f24__fEDiJ margin-t0-5__09f24__gboxT  border-color--default__09f24__NPAKY\"><div class=\" display--inline-block__09f24__fEDiJ margin-r1__09f24__rN_ga  border-color--default__09f24__NPAKY\"><span class=\" display--inline__09f24__c6N_k  border-color--default__09f24__NPAKY\"><div class=\" five-stars__09f24__mBKym five-stars--regular__09f24__DgBNj display--inline-block__09f24__fEDiJ  border-color--default__09f24__NPAKY\" role=\"img\" aria-label=\"5 star rating\"><div class=\" star__09f24__YoVH5 star--regular__09f24__IopbI display--inline-block__09f24__fEDiJ  border-color--default__09f24__NPAKY\"><svg width=\"20\" height=\"20\" viewBox=\"0 0 20 20\"><path fill=\"rgba(251,67,60,1)\" opacity=\"1\" d=\"M0 4C0 1.79086 1.79086 0 4 0H10V20H4C1.79086 20 0 18.2091 0 16V4Z\"></path><path fill=\"rgba(251,67,60,1)\" opacity=\"1\" d=\"M20 4C20 1.79086 18.2091 0 16 0H10V20H16C18.2091 20 20 18.2091 20 16V4Z\"></path><path fill=\"white\" fill-rule=\"evenodd\" clip-rule=\"evenodd\" d=\"M10 13.3736L12.5949 14.7111C12.7378 14.7848 12.9006 14.8106 13.0593 14.7847C13.4681 14.718 13.7454 14.3325 13.6787 13.9237L13.2085 11.0425L15.2824 8.98796C15.3967 8.8748 15.4715 8.72792 15.4959 8.569C15.5588 8.15958 15.2779 7.77672 14.8685 7.71384L11.983 7.2707L10.6699 4.66338C10.5975 4.51978 10.481 4.40322 10.3374 4.33089C9.96742 4.14458 9.51648 4.29344 9.33017 4.66338L8.01705 7.2707L5.13157 7.71384C4.97265 7.73825 4.82577 7.81309 4.71261 7.92731C4.42109 8.22158 4.42332 8.69645 4.71759 8.98796L6.79152 11.0425L6.32131 13.9237C6.29541 14.0824 6.3212 14.2452 6.39486 14.3881C6.58464 14.7563 7.03696 14.9009 7.40514 14.7111L10 13.3736Z\"></path></svg></div><div class=\" star__09f24__YoVH5 star--regular__09f24__IopbI display--inline-block__09f24__fEDiJ  border-color--default__09f24__NPAKY\"><svg width=\"20\" height=\"20\" viewBox=\"0 0 20 20\"><path fill=\"rgba(251,67,60,1)\" opacity=\"1\" d=\"M0 4C0 1.79086 1.79086 0 4 0H10V20H4C1.79086 20 0 18.2091 0 16V4Z\"></path><path fill=\"rgba(251,67,60,1)\" opacity=\"1\" d=\"M20 4C20 1.79086 18.2091 0 16 0H10V20H16C18.2091 20 20 18.2091 20 16V4Z\"></path><path fill=\"white\" fill-rule=\"evenodd\" clip-rule=\"evenodd\" d=\"M10 13.3736L12.5949 14.7111C12.7378 14.7848 12.9006 14.8106 13.0593 14.7847C13.4681 14.718 13.7454 14.3325 13.6787 13.9237L13.2085 11.0425L15.2824 8.98796C15.3967 8.8748 15.4715 8.72792 15.4959 8.569C15.5588 8.15958 15.2779 7.77672 14.8685 7.71384L11.983 7.2707L10.6699 4.66338C10.5975 4.51978 10.481 4.40322 10.3374 4.33089C9.96742 4.14458 9.51648 4.29344 9.33017 4.66338L8.01705 7.2707L5.13157 7.71384C4.97265 7.73825 4.82577 7.81309 4.71261 7.92731C4.42109 8.22158 4.42332 8.69645 4.71759 8.98796L6.79152 11.0425L6.32131 13.9237C6.29541 14.0824 6.3212 14.2452 6.39486 14.3881C6.58464 14.7563 7.03696 14.9009 7.40514 14.7111L10 13.3736Z\"></path></svg></div><div class=\" star__09f24__YoVH5 star--regular__09f24__IopbI display--inline-block__09f24__fEDiJ  border-color--default__09f24__NPAKY\"><svg width=\"20\" height=\"20\" viewBox=\"0 0 20 20\"><path fill=\"rgba(251,67,60,1)\" opacity=\"1\" d=\"M0 4C0 1.79086 1.79086 0 4 0H10V20H4C1.79086 20 0 18.2091 0 16V4Z\"></path><path fill=\"rgba(251,67,60,1)\" opacity=\"1\" d=\"M20 4C20 1.79086 18.2091 0 16 0H10V20H16C18.2091 20 20 18.2091 20 16V4Z\"></path><path fill=\"white\" fill-rule=\"evenodd\" clip-rule=\"evenodd\" d=\"M10 13.3736L12.5949 14.7111C12.7378 14.7848 12.9006 14.8106 13.0593 14.7847C13.4681 14.718 13.7454 14.3325 13.6787 13.9237L13.2085 11.0425L15.2824 8.98796C15.3967 8.8748 15.4715 8.72792 15.4959 8.569C15.5588 8.15958 15.2779 7.77672 14.8685 7.71384L11.983 7.2707L10.6699 4.66338C10.5975 4.51978 10.481 4.40322 10.3374 4.33089C9.96742 4.14458 9.51648 4.29344 9.33017 4.66338L8.01705 7.2707L5.13157 7.71384C4.97265 7.73825 4.82577 7.81309 4.71261 7.92731C4.42109 8.22158 4.42332 8.69645 4.71759 8.98796L6.79152 11.0425L6.32131 13.9237C6.29541 14.0824 6.3212 14.2452 6.39486 14.3881C6.58464 14.7563 7.03696 14.9009 7.40514 14.7111L10 13.3736Z\"></path></svg></div><div class=\" star__09f24__YoVH5 star--regular__09f24__IopbI display--inline-block__09f24__fEDiJ  border-color--default__09f24__NPAKY\"><svg width=\"20\" height=\"20\" viewBox=\"0 0 20 20\"><path fill=\"rgba(251,67,60,1)\" opacity=\"1\" d=\"M0 4C0 1.79086 1.79086 0 4 0H10V20H4C1.79086 20 0 18.2091 0 16V4Z\"></path><path fill=\"rgba(251,67,60,1)\" opacity=\"1\" d=\"M20 4C20 1.79086 18.2091 0 16 0H10V20H16C18.2091 20 20 18.2091 20 16V4Z\"></path><path fill=\"white\" fill-rule=\"evenodd\" clip-rule=\"evenodd\" d=\"M10 13.3736L12.5949 14.7111C12.7378 14.7848 12.9006 14.8106 13.0593 14.7847C13.4681 14.718 13.7454 14.3325 13.6787 13.9237L13.2085 11.0425L15.2824 8.98796C15.3967 8.8748 15.4715 8.72792 15.4959 8.569C15.5588 8.15958 15.2779 7.77672 14.8685 7.71384L11.983 7.2707L10.6699 4.66338C10.5975 4.51978 10.481 4.40322 10.3374 4.33089C9.96742 4.14458 9.51648 4.29344 9.33017 4.66338L8.01705 7.2707L5.13157 7.71384C4.97265 7.73825 4.82577 7.81309 4.71261 7.92731C4.42109 8.22158 4.42332 8.69645 4.71759 8.98796L6.79152 11.0425L6.32131 13.9237C6.29541 14.0824 6.3212 14.2452 6.39486 14.3881C6.58464 14.7563 7.03696 14.9009 7.40514 14.7111L10 13.3736Z\"></path></svg></div><div class=\" star__09f24__YoVH5 star--5__09f24__Ux2S1 star--regular__09f24__IopbI display--inline-block__09f24__fEDiJ  border-color--default__09f24__NPAKY\"><svg width=\"20\" height=\"20\" viewBox=\"0 0 20 20\"><path fill=\"rgba(251,67,60,1)\" opacity=\"1\" d=\"M0 4C0 1.79086 1.79086 0 4 0H10V20H4C1.79086 20 0 18.2091 0 16V4Z\"></path><path fill=\"rgba(251,67,60,1)\" opacity=\"1\" d=\"M20 4C20 1.79086 18.2091 0 16 0H10V20H16C18.2091 20 20 18.2091 20 16V4Z\"></path><path fill=\"white\" fill-rule=\"evenodd\" clip-rule=\"evenodd\" d=\"M10 13.3736L12.5949 14.7111C12.7378 14.7848 12.9006 14.8106 13.0593 14.7847C13.4681 14.718 13.7454 14.3325 13.6787 13.9237L13.2085 11.0425L15.2824 8.98796C15.3967 8.8748 15.4715 8.72792 15.4959 8.569C15.5588 8.15958 15.2779 7.77672 14.8685 7.71384L11.983 7.2707L10.6699 4.66338C10.5975 4.51978 10.481 4.40322 10.3374 4.33089C9.96742 4.14458 9.51648 4.29344 9.33017 4.66338L8.01705 7.2707L5.13157 7.71384C4.97265 7.73825 4.82577 7.81309 4.71261 7.92731C4.42109 8.22158 4.42332 8.69645 4.71759 8.98796L6.79152 11.0425L6.32131 13.9237C6.29541 14.0824 6.3212 14.2452 6.39486 14.3881C6.58464 14.7563 7.03696 14.9009 7.40514 14.7111L10 13.3736Z\"></path></svg></div></div></span></div><div class=\" display--inline-block__09f24__fEDiJ  border-color--default__09f24__NPAKY\"><span class=\" css-gutk1c\" data-font-weight=\"semibold\">5.0 </span><span class=\" css-chan6m\">(1 review)</span></div></div></div></div></div>"
   ]
  },
  {
   "cell_type": "markdown",
   "id": "42d155cf",
   "metadata": {},
   "source": [
    "# Extracting a target div, then extracting the elements needed from it"
   ]
  },
  {
   "cell_type": "code",
   "execution_count": 17,
   "id": "00211168",
   "metadata": {},
   "outputs": [],
   "source": [
    "res_info = soup.find_all(\"div\", class_ = \"container__09f24__mpR8_ hoverable__09f24__wQ_on border-color--default__09f24__NPAKY\")"
   ]
  },
  {
   "cell_type": "code",
   "execution_count": 21,
   "id": "aae2ea2a",
   "metadata": {},
   "outputs": [
    {
     "data": {
      "text/plain": [
       "'1.\\xa0Red Fish Blue Fish4.5 (1.3k reviews)Fish & ChipsFood StandsSeafood$$Closed until 11:00 AM“Simply the best fish n chips in Victoria , and a great area on the harbour front to eat them .”\\xa0read moreOutdoor seatingTakeout'"
      ]
     },
     "execution_count": 21,
     "metadata": {},
     "output_type": "execute_result"
    }
   ],
   "source": [
    "res_info[2].text"
   ]
  },
  {
   "cell_type": "code",
   "execution_count": 56,
   "id": "5e9ec14c",
   "metadata": {},
   "outputs": [
    {
     "data": {
      "text/plain": [
       "'Red Fish Blue Fish'"
      ]
     },
     "execution_count": 56,
     "metadata": {},
     "output_type": "execute_result"
    }
   ],
   "source": [
    "res_info[2].find(\"a\", class_ = \"css-19v1rkv\").text"
   ]
  },
  {
   "cell_type": "code",
   "execution_count": 60,
   "id": "dec3d6e3",
   "metadata": {},
   "outputs": [
    {
     "data": {
      "text/plain": [
       "'$$'"
      ]
     },
     "execution_count": 60,
     "metadata": {},
     "output_type": "execute_result"
    }
   ],
   "source": [
    "res_info[2].find(\"span\", {\"class\":\"priceRange__09f24__mmOuH css-chan6m\"}).text"
   ]
  },
  {
   "cell_type": "code",
   "execution_count": 61,
   "id": "2d718494",
   "metadata": {},
   "outputs": [
    {
     "data": {
      "text/plain": [
       "'(1.3k reviews)'"
      ]
     },
     "execution_count": 61,
     "metadata": {},
     "output_type": "execute_result"
    }
   ],
   "source": [
    "res_info[2].find(\"span\", {\"class\":\"css-chan6m\"}).text"
   ]
  },
  {
   "cell_type": "code",
   "execution_count": 67,
   "id": "8b442b07",
   "metadata": {},
   "outputs": [
    {
     "data": {
      "text/plain": [
       "[<span class=\"css-11bijt4\">Fish &amp; Chips</span>,\n",
       " <span class=\"css-11bijt4\">Food Stands</span>,\n",
       " <span class=\"css-11bijt4\">Seafood</span>]"
      ]
     },
     "execution_count": 67,
     "metadata": {},
     "output_type": "execute_result"
    }
   ],
   "source": [
    "res_info[2].find_all(\"span\", {\"class\":\"css-11bijt4\"})"
   ]
  },
  {
   "cell_type": "code",
   "execution_count": null,
   "id": "b941d3cc",
   "metadata": {},
   "outputs": [],
   "source": []
  }
 ],
 "metadata": {
  "kernelspec": {
   "display_name": "Python 3 (ipykernel)",
   "language": "python",
   "name": "python3"
  },
  "language_info": {
   "codemirror_mode": {
    "name": "ipython",
    "version": 3
   },
   "file_extension": ".py",
   "mimetype": "text/x-python",
   "name": "python",
   "nbconvert_exporter": "python",
   "pygments_lexer": "ipython3",
   "version": "3.9.13"
  }
 },
 "nbformat": 4,
 "nbformat_minor": 5
}
