{
 "cells": [
  {
   "cell_type": "code",
   "execution_count": 1,
   "id": "7cac0f9a",
   "metadata": {},
   "outputs": [],
   "source": [
    "#Importing dependencies/libraries\n",
    "\n",
    "from splinter import Browser\n",
    "from bs4 import BeautifulSoup as soup\n",
    "import pandas as pd\n",
    "import time"
   ]
  },
  {
   "cell_type": "code",
   "execution_count": 2,
   "id": "0727d0a9",
   "metadata": {},
   "outputs": [],
   "source": [
    "#Setting up the browser\n",
    "\n",
    "browser = Browser('chrome')"
   ]
  },
  {
   "cell_type": "code",
   "execution_count": 3,
   "id": "07b1527b",
   "metadata": {},
   "outputs": [],
   "source": [
    "#Visiting the website\n",
    "\n",
    "loc = 'victoria'\n",
    "prov = 'bc'\n",
    "url = f'https://www.yelp.com/search?find_desc=Restaurants&find_loc={loc}%2C%20{prov}'\n",
    "browser.visit(url)"
   ]
  },
  {
   "cell_type": "code",
   "execution_count": 4,
   "id": "771b80b4",
   "metadata": {},
   "outputs": [],
   "source": [
    "#Creating a BeautifulSoup instance to parse through the HTML\n",
    "html = browser.html\n",
    "\n",
    "soup = soup(html, 'html.parser')"
   ]
  },
  {
   "cell_type": "markdown",
   "id": "8cdf9cf8",
   "metadata": {},
   "source": [
    "# Extracting restaurant name"
   ]
  },
  {
   "cell_type": "code",
   "execution_count": 5,
   "id": "a1ca82d5",
   "metadata": {},
   "outputs": [],
   "source": [
    "res_name = soup.find_all(\"a\", {\n",
    "    \"class\": \"css-19v1rkv\",\n",
    "    \"target\": \"_blank\",\n",
    "})\n",
    "time.sleep(3)"
   ]
  },
  {
   "cell_type": "code",
   "execution_count": 6,
   "id": "7d44a24b",
   "metadata": {},
   "outputs": [
    {
     "data": {
      "text/plain": [
       "13"
      ]
     },
     "execution_count": 6,
     "metadata": {},
     "output_type": "execute_result"
    }
   ],
   "source": [
    "len(res_name)"
   ]
  },
  {
   "cell_type": "code",
   "execution_count": 7,
   "id": "e16d18c0",
   "metadata": {},
   "outputs": [
    {
     "data": {
      "text/plain": [
       "'Pizza Hut'"
      ]
     },
     "execution_count": 7,
     "metadata": {},
     "output_type": "execute_result"
    }
   ],
   "source": [
    "res_name[0].text "
   ]
  },
  {
   "cell_type": "markdown",
   "id": "42d155cf",
   "metadata": {},
   "source": [
    "# Extracting a target div, then extracting the elements needed from it"
   ]
  },
  {
   "cell_type": "code",
   "execution_count": 11,
   "id": "00211168",
   "metadata": {},
   "outputs": [],
   "source": [
    "res_info = soup.find_all(\"div\", class_ = \"container__09f24__mpR8_ hoverable__09f24__wQ_on border-color--default__09f24__NPAKY\")"
   ]
  },
  {
   "cell_type": "code",
   "execution_count": 12,
   "id": "aae2ea2a",
   "metadata": {},
   "outputs": [
    {
     "data": {
      "text/plain": [
       "'1.\\xa0Red Fish Blue Fish4.5 (1.3k reviews)Fish & ChipsFood StandsSeafood$$Open until 9:00 PM“Simply the best fish n chips in Victoria , and a great area on the harbour front to eat them .”\\xa0moreOutdoor seatingTakeout'"
      ]
     },
     "execution_count": 12,
     "metadata": {},
     "output_type": "execute_result"
    }
   ],
   "source": [
    "res_info[2].text"
   ]
  },
  {
   "cell_type": "code",
   "execution_count": 13,
   "id": "5e9ec14c",
   "metadata": {},
   "outputs": [
    {
     "data": {
      "text/plain": [
       "'Red Fish Blue Fish'"
      ]
     },
     "execution_count": 13,
     "metadata": {},
     "output_type": "execute_result"
    }
   ],
   "source": [
    "res_info[2].find(\"a\", class_ = \"css-19v1rkv\").text"
   ]
  },
  {
   "cell_type": "code",
   "execution_count": 14,
   "id": "dec3d6e3",
   "metadata": {},
   "outputs": [
    {
     "data": {
      "text/plain": [
       "'$$'"
      ]
     },
     "execution_count": 14,
     "metadata": {},
     "output_type": "execute_result"
    }
   ],
   "source": [
    "res_info[2].find(\"span\", {\"class\":\"priceRange__09f24__mmOuH css-chan6m\"}).text"
   ]
  },
  {
   "cell_type": "code",
   "execution_count": 17,
   "id": "89646d2b",
   "metadata": {},
   "outputs": [
    {
     "data": {
      "text/plain": [
       "'4.5 '"
      ]
     },
     "execution_count": 17,
     "metadata": {},
     "output_type": "execute_result"
    }
   ],
   "source": [
    "res_info[2].find(\"span\", {\"class\":\"css-gutk1c\"}).text"
   ]
  },
  {
   "cell_type": "code",
   "execution_count": 15,
   "id": "2d718494",
   "metadata": {},
   "outputs": [
    {
     "data": {
      "text/plain": [
       "'(1.3k reviews)'"
      ]
     },
     "execution_count": 15,
     "metadata": {},
     "output_type": "execute_result"
    }
   ],
   "source": [
    "res_info[2].find(\"span\", {\"class\":\"css-chan6m\"}).text"
   ]
  },
  {
   "cell_type": "code",
   "execution_count": 16,
   "id": "8b442b07",
   "metadata": {},
   "outputs": [
    {
     "data": {
      "text/plain": [
       "[<span class=\"css-11bijt4\">Fish &amp; Chips</span>,\n",
       " <span class=\"css-11bijt4\">Food Stands</span>,\n",
       " <span class=\"css-11bijt4\">Seafood</span>]"
      ]
     },
     "execution_count": 16,
     "metadata": {},
     "output_type": "execute_result"
    }
   ],
   "source": [
    "res_info[2].find_all(\"span\", {\"class\":\"css-11bijt4\"})"
   ]
  }
 ],
 "metadata": {
  "kernelspec": {
   "display_name": "Python 3 (ipykernel)",
   "language": "python",
   "name": "python3"
  },
  "language_info": {
   "codemirror_mode": {
    "name": "ipython",
    "version": 3
   },
   "file_extension": ".py",
   "mimetype": "text/x-python",
   "name": "python",
   "nbconvert_exporter": "python",
   "pygments_lexer": "ipython3",
   "version": "3.9.13"
  }
 },
 "nbformat": 4,
 "nbformat_minor": 5
}
