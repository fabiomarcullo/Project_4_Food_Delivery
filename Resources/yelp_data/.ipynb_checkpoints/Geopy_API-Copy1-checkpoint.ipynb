{
 "cells": [
  {
   "cell_type": "code",
   "execution_count": 1,
   "id": "9582da2a",
   "metadata": {},
   "outputs": [
    {
     "ename": "ModuleNotFoundError",
     "evalue": "No module named 'geopy'",
     "output_type": "error",
     "traceback": [
      "\u001b[1;31m---------------------------------------------------------------------------\u001b[0m",
      "\u001b[1;31mModuleNotFoundError\u001b[0m                       Traceback (most recent call last)",
      "\u001b[1;32m~\\AppData\\Local\\Temp\\ipykernel_48432\\1710380892.py\u001b[0m in \u001b[0;36m<module>\u001b[1;34m\u001b[0m\n\u001b[0;32m      1\u001b[0m \u001b[1;32mimport\u001b[0m \u001b[0mpandas\u001b[0m \u001b[1;32mas\u001b[0m \u001b[0mpd\u001b[0m\u001b[1;33m\u001b[0m\u001b[1;33m\u001b[0m\u001b[0m\n\u001b[1;32m----> 2\u001b[1;33m \u001b[1;32mfrom\u001b[0m \u001b[0mgeopy\u001b[0m\u001b[1;33m.\u001b[0m\u001b[0mgeocoders\u001b[0m \u001b[1;32mimport\u001b[0m \u001b[0mNominatim\u001b[0m\u001b[1;33m\u001b[0m\u001b[1;33m\u001b[0m\u001b[0m\n\u001b[0m\u001b[0;32m      3\u001b[0m \u001b[1;32mfrom\u001b[0m \u001b[0mgeopy\u001b[0m\u001b[1;33m.\u001b[0m\u001b[0mgeocoders\u001b[0m \u001b[1;32mimport\u001b[0m \u001b[0mGoogleV3\u001b[0m\u001b[1;33m\u001b[0m\u001b[1;33m\u001b[0m\u001b[0m\n\u001b[0;32m      4\u001b[0m \u001b[1;32mfrom\u001b[0m \u001b[0mretrying\u001b[0m \u001b[1;32mimport\u001b[0m \u001b[0mretry\u001b[0m\u001b[1;33m\u001b[0m\u001b[1;33m\u001b[0m\u001b[0m\n",
      "\u001b[1;31mModuleNotFoundError\u001b[0m: No module named 'geopy'"
     ]
    }
   ],
   "source": [
    "import pandas as pd\n",
    "from geopy.geocoders import Nominatim\n",
    "from geopy.geocoders import GoogleV3\n",
    "from retrying import retry"
   ]
  },
  {
   "cell_type": "code",
   "execution_count": 4,
   "id": "c38f19aa",
   "metadata": {},
   "outputs": [
    {
     "name": "stdout",
     "output_type": "stream",
     "text": [
      "Requirement already satisfied: pip in c:\\users\\josep\\anaconda3\\lib\\site-packages (23.2)\n",
      "Collecting pip\n",
      "  Obtaining dependency information for pip from https://files.pythonhosted.org/packages/50/c2/e06851e8cc28dcad7c155f4753da8833ac06a5c704c109313b8d5a62968a/pip-23.2.1-py3-none-any.whl.metadata\n",
      "  Downloading pip-23.2.1-py3-none-any.whl.metadata (4.2 kB)\n",
      "Downloading pip-23.2.1-py3-none-any.whl (2.1 MB)\n",
      "   ---------------------------------------- 2.1/2.1 MB 14.7 MB/s eta 0:00:00\n",
      "Installing collected packages: pip\n",
      "  Attempting uninstall: pip\n",
      "    Found existing installation: pip 23.2\n",
      "    Uninstalling pip-23.2:\n",
      "      Successfully uninstalled pip-23.2\n",
      "Successfully installed pip-23.2.1\n",
      "Note: you may need to restart the kernel to use updated packages.\n"
     ]
    }
   ],
   "source": [
    "pip install --upgrade pip"
   ]
  },
  {
   "cell_type": "code",
   "execution_count": 2,
   "id": "c97fd00b",
   "metadata": {
    "scrolled": true
   },
   "outputs": [
    {
     "name": "stdout",
     "output_type": "stream",
     "text": [
      "Collecting geopy\n",
      "  Downloading geopy-2.3.0-py3-none-any.whl (119 kB)\n",
      "     -------------------------------------- 119.8/119.8 kB 6.8 MB/s eta 0:00:00\n",
      "Collecting geographiclib<3,>=1.52 (from geopy)\n",
      "  Downloading geographiclib-2.0-py3-none-any.whl (40 kB)\n",
      "     ---------------------------------------- 40.3/40.3 kB ? eta 0:00:00\n",
      "Installing collected packages: geographiclib, geopy\n",
      "Successfully installed geographiclib-2.0 geopy-2.3.0\n"
     ]
    },
    {
     "name": "stderr",
     "output_type": "stream",
     "text": [
      "\n",
      "[notice] A new release of pip is available: 23.2 -> 23.2.1\n",
      "[notice] To update, run: python.exe -m pip install --upgrade pip\n"
     ]
    }
   ],
   "source": [
    "!pip install geopy"
   ]
  },
  {
   "cell_type": "code",
   "execution_count": 2,
   "id": "9255f21b",
   "metadata": {},
   "outputs": [],
   "source": [
    "# Read the CSV file\n",
    "data = pd.read_csv('yelp_bc.csv')"
   ]
  },
  {
   "cell_type": "code",
   "execution_count": 4,
   "id": "fab8ad74",
   "metadata": {},
   "outputs": [],
   "source": [
    "# Create a geocoder instance with your Google Maps API key\n",
    "geolocator = GoogleV3(api_key='My API Key')"
   ]
  },
  {
   "cell_type": "code",
   "execution_count": 5,
   "id": "3cb75891",
   "metadata": {},
   "outputs": [],
   "source": [
    "# Retry decorator with exponential backoff\n",
    "@retry(wait_exponential_multiplier=1000, wait_exponential_max=10000, stop_max_attempt_number=3)\n",
    "def geocode_address(address):\n",
    "    return geolocator.geocode(address)"
   ]
  },
  {
   "cell_type": "code",
   "execution_count": 6,
   "id": "528c2a74",
   "metadata": {},
   "outputs": [],
   "source": [
    "# Geocode addresses and store latitude and longitude in new columns\n",
    "data['Latitude'] = data['Address'].apply(lambda x: geolocator.geocode(x).latitude if geolocator.geocode(x) else None)\n",
    "data['Longitude'] = data['Address'].apply(lambda x: geolocator.geocode(x).longitude if geolocator.geocode(x) else None)"
   ]
  },
  {
   "cell_type": "code",
   "execution_count": 7,
   "id": "05c4326e",
   "metadata": {},
   "outputs": [
    {
     "data": {
      "text/html": [
       "<div>\n",
       "<style scoped>\n",
       "    .dataframe tbody tr th:only-of-type {\n",
       "        vertical-align: middle;\n",
       "    }\n",
       "\n",
       "    .dataframe tbody tr th {\n",
       "        vertical-align: top;\n",
       "    }\n",
       "\n",
       "    .dataframe thead th {\n",
       "        text-align: right;\n",
       "    }\n",
       "</style>\n",
       "<table border=\"1\" class=\"dataframe\">\n",
       "  <thead>\n",
       "    <tr style=\"text-align: right;\">\n",
       "      <th></th>\n",
       "      <th>Restaurant Name</th>\n",
       "      <th>Rating</th>\n",
       "      <th>Category</th>\n",
       "      <th>Address</th>\n",
       "      <th>Latitude</th>\n",
       "      <th>Longitude</th>\n",
       "    </tr>\n",
       "  </thead>\n",
       "  <tbody>\n",
       "    <tr>\n",
       "      <th>0</th>\n",
       "      <td>FINE FOOD MARKET (Convenience @ Bay &amp; Gerrard)</td>\n",
       "      <td>4.8</td>\n",
       "      <td>American</td>\n",
       "      <td>711 Bay St, Toronto, ON M5G</td>\n",
       "      <td>43.658823</td>\n",
       "      <td>-79.384652</td>\n",
       "    </tr>\n",
       "    <tr>\n",
       "      <th>1</th>\n",
       "      <td>McDonald's (Front &amp; George)</td>\n",
       "      <td>4.8</td>\n",
       "      <td>Burgers</td>\n",
       "      <td>121 Front St E, Toronto, ON M5A</td>\n",
       "      <td>43.649492</td>\n",
       "      <td>-79.370456</td>\n",
       "    </tr>\n",
       "    <tr>\n",
       "      <th>2</th>\n",
       "      <td>Aroma Espresso Bar (PATH King St)</td>\n",
       "      <td>4.9</td>\n",
       "      <td>Breakfast and brunch</td>\n",
       "      <td>121 King St W, Toronto, NAMER M5X</td>\n",
       "      <td>43.647646</td>\n",
       "      <td>-79.383028</td>\n",
       "    </tr>\n",
       "    <tr>\n",
       "      <th>3</th>\n",
       "      <td>7-Eleven (372 Bay Street @ Richmond)</td>\n",
       "      <td>4.5</td>\n",
       "      <td>Wings</td>\n",
       "      <td>372 Bay Street @ Richmond, Toronto, ON M5H 2W9</td>\n",
       "      <td>43.651016</td>\n",
       "      <td>-79.381518</td>\n",
       "    </tr>\n",
       "    <tr>\n",
       "      <th>4</th>\n",
       "      <td>Sunset Grill (1 Richmond St. West)</td>\n",
       "      <td>4.6</td>\n",
       "      <td>Breakfast and brunch</td>\n",
       "      <td>1 Richmond St. West (#130), Toronto, ON M5H 3W4</td>\n",
       "      <td>43.651385</td>\n",
       "      <td>-79.379291</td>\n",
       "    </tr>\n",
       "  </tbody>\n",
       "</table>\n",
       "</div>"
      ],
      "text/plain": [
       "                                  Restaurant Name Rating  \\\n",
       "0  FINE FOOD MARKET (Convenience @ Bay & Gerrard)    4.8   \n",
       "1                     McDonald's (Front & George)    4.8   \n",
       "2               Aroma Espresso Bar (PATH King St)    4.9   \n",
       "3            7-Eleven (372 Bay Street @ Richmond)    4.5   \n",
       "4              Sunset Grill (1 Richmond St. West)    4.6   \n",
       "\n",
       "               Category                                          Address  \\\n",
       "0              American                      711 Bay St, Toronto, ON M5G   \n",
       "1               Burgers                  121 Front St E, Toronto, ON M5A   \n",
       "2  Breakfast and brunch                121 King St W, Toronto, NAMER M5X   \n",
       "3                 Wings   372 Bay Street @ Richmond, Toronto, ON M5H 2W9   \n",
       "4  Breakfast and brunch  1 Richmond St. West (#130), Toronto, ON M5H 3W4   \n",
       "\n",
       "    Latitude  Longitude  \n",
       "0  43.658823 -79.384652  \n",
       "1  43.649492 -79.370456  \n",
       "2  43.647646 -79.383028  \n",
       "3  43.651016 -79.381518  \n",
       "4  43.651385 -79.379291  "
      ]
     },
     "execution_count": 7,
     "metadata": {},
     "output_type": "execute_result"
    }
   ],
   "source": [
    "data.head()"
   ]
  },
  {
   "cell_type": "code",
   "execution_count": 8,
   "id": "f522cecb",
   "metadata": {},
   "outputs": [],
   "source": [
    "import re\n",
    "\n",
    "provinces = ['AB', 'BC', 'MB', 'NB', 'NL', 'NT', 'NS', 'NU', 'ON', 'PE', 'QC', 'SK', 'YT']"
   ]
  },
  {
   "cell_type": "code",
   "execution_count": 9,
   "id": "64738d7f",
   "metadata": {},
   "outputs": [],
   "source": [
    "# Extract province from the address\n",
    "def extract_province(address):\n",
    "    for province in provinces:\n",
    "        if re.search(r'\\b{}\\b'.format(province), address):\n",
    "            return province\n",
    "    return None\n",
    "\n",
    "# Add 'Province' column to the DataFrame\n",
    "data['Province'] = data['Address'].apply(extract_province)"
   ]
  },
  {
   "cell_type": "code",
   "execution_count": 10,
   "id": "b3174c72",
   "metadata": {},
   "outputs": [
    {
     "data": {
      "text/html": [
       "<div>\n",
       "<style scoped>\n",
       "    .dataframe tbody tr th:only-of-type {\n",
       "        vertical-align: middle;\n",
       "    }\n",
       "\n",
       "    .dataframe tbody tr th {\n",
       "        vertical-align: top;\n",
       "    }\n",
       "\n",
       "    .dataframe thead th {\n",
       "        text-align: right;\n",
       "    }\n",
       "</style>\n",
       "<table border=\"1\" class=\"dataframe\">\n",
       "  <thead>\n",
       "    <tr style=\"text-align: right;\">\n",
       "      <th></th>\n",
       "      <th>Restaurant Name</th>\n",
       "      <th>Rating</th>\n",
       "      <th>Category</th>\n",
       "      <th>Address</th>\n",
       "      <th>Latitude</th>\n",
       "      <th>Longitude</th>\n",
       "      <th>Province</th>\n",
       "    </tr>\n",
       "  </thead>\n",
       "  <tbody>\n",
       "    <tr>\n",
       "      <th>0</th>\n",
       "      <td>FINE FOOD MARKET (Convenience @ Bay &amp; Gerrard)</td>\n",
       "      <td>4.8</td>\n",
       "      <td>American</td>\n",
       "      <td>711 Bay St, Toronto, ON M5G</td>\n",
       "      <td>43.658823</td>\n",
       "      <td>-79.384652</td>\n",
       "      <td>ON</td>\n",
       "    </tr>\n",
       "    <tr>\n",
       "      <th>1</th>\n",
       "      <td>McDonald's (Front &amp; George)</td>\n",
       "      <td>4.8</td>\n",
       "      <td>Burgers</td>\n",
       "      <td>121 Front St E, Toronto, ON M5A</td>\n",
       "      <td>43.649492</td>\n",
       "      <td>-79.370456</td>\n",
       "      <td>ON</td>\n",
       "    </tr>\n",
       "    <tr>\n",
       "      <th>2</th>\n",
       "      <td>Aroma Espresso Bar (PATH King St)</td>\n",
       "      <td>4.9</td>\n",
       "      <td>Breakfast and brunch</td>\n",
       "      <td>121 King St W, Toronto, NAMER M5X</td>\n",
       "      <td>43.647646</td>\n",
       "      <td>-79.383028</td>\n",
       "      <td>None</td>\n",
       "    </tr>\n",
       "    <tr>\n",
       "      <th>3</th>\n",
       "      <td>7-Eleven (372 Bay Street @ Richmond)</td>\n",
       "      <td>4.5</td>\n",
       "      <td>Wings</td>\n",
       "      <td>372 Bay Street @ Richmond, Toronto, ON M5H 2W9</td>\n",
       "      <td>43.651016</td>\n",
       "      <td>-79.381518</td>\n",
       "      <td>ON</td>\n",
       "    </tr>\n",
       "    <tr>\n",
       "      <th>4</th>\n",
       "      <td>Sunset Grill (1 Richmond St. West)</td>\n",
       "      <td>4.6</td>\n",
       "      <td>Breakfast and brunch</td>\n",
       "      <td>1 Richmond St. West (#130), Toronto, ON M5H 3W4</td>\n",
       "      <td>43.651385</td>\n",
       "      <td>-79.379291</td>\n",
       "      <td>ON</td>\n",
       "    </tr>\n",
       "  </tbody>\n",
       "</table>\n",
       "</div>"
      ],
      "text/plain": [
       "                                  Restaurant Name Rating  \\\n",
       "0  FINE FOOD MARKET (Convenience @ Bay & Gerrard)    4.8   \n",
       "1                     McDonald's (Front & George)    4.8   \n",
       "2               Aroma Espresso Bar (PATH King St)    4.9   \n",
       "3            7-Eleven (372 Bay Street @ Richmond)    4.5   \n",
       "4              Sunset Grill (1 Richmond St. West)    4.6   \n",
       "\n",
       "               Category                                          Address  \\\n",
       "0              American                      711 Bay St, Toronto, ON M5G   \n",
       "1               Burgers                  121 Front St E, Toronto, ON M5A   \n",
       "2  Breakfast and brunch                121 King St W, Toronto, NAMER M5X   \n",
       "3                 Wings   372 Bay Street @ Richmond, Toronto, ON M5H 2W9   \n",
       "4  Breakfast and brunch  1 Richmond St. West (#130), Toronto, ON M5H 3W4   \n",
       "\n",
       "    Latitude  Longitude Province  \n",
       "0  43.658823 -79.384652       ON  \n",
       "1  43.649492 -79.370456       ON  \n",
       "2  43.647646 -79.383028     None  \n",
       "3  43.651016 -79.381518       ON  \n",
       "4  43.651385 -79.379291       ON  "
      ]
     },
     "execution_count": 10,
     "metadata": {},
     "output_type": "execute_result"
    }
   ],
   "source": [
    "data.head()"
   ]
  },
  {
   "cell_type": "code",
   "execution_count": 11,
   "id": "b83f1dd5",
   "metadata": {},
   "outputs": [],
   "source": [
    "data.dropna(subset=['Province'], inplace=True)"
   ]
  },
  {
   "cell_type": "code",
   "execution_count": 12,
   "id": "83338161",
   "metadata": {},
   "outputs": [],
   "source": [
    "# Save the updated data to a new CSV file\n",
    "data.to_csv('toronto.csv', index=False)"
   ]
  },
  {
   "cell_type": "code",
   "execution_count": null,
   "id": "6fadff92",
   "metadata": {},
   "outputs": [],
   "source": []
  }
 ],
 "metadata": {
  "kernelspec": {
   "display_name": "Python 3 (ipykernel)",
   "language": "python",
   "name": "python3"
  },
  "language_info": {
   "codemirror_mode": {
    "name": "ipython",
    "version": 3
   },
   "file_extension": ".py",
   "mimetype": "text/x-python",
   "name": "python",
   "nbconvert_exporter": "python",
   "pygments_lexer": "ipython3",
   "version": "3.9.13"
  }
 },
 "nbformat": 4,
 "nbformat_minor": 5
}
