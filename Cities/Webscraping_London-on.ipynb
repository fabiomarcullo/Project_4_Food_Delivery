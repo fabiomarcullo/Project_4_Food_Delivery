{
 "cells": [
  {
   "cell_type": "code",
   "execution_count": 61,
   "id": "39d82a98",
   "metadata": {},
   "outputs": [],
   "source": [
    "# Import dependencies/libraries\n",
    "from splinter import Browser\n",
    "from bs4 import BeautifulSoup as soup\n",
    "import pandas as pd\n"
   ]
  },
  {
   "cell_type": "code",
   "execution_count": 62,
   "id": "90fdaf9b",
   "metadata": {},
   "outputs": [],
   "source": [
    "# Setting up the browser\n",
    "browser = Browser('chrome')"
   ]
  },
  {
   "cell_type": "code",
   "execution_count": 63,
   "id": "f683952c",
   "metadata": {},
   "outputs": [],
   "source": [
    "# Visiting the website\n",
    "base_url = \"https://www.ubereats.com/ca/city/\"\n",
    "location = \"london-on/\"\n",
    "url = base_url + location\n",
    "browser.visit(url)"
   ]
  },
  {
   "cell_type": "code",
   "execution_count": 64,
   "id": "f9578c21",
   "metadata": {},
   "outputs": [],
   "source": [
    "html = browser.html\n",
    "soup = soup(html, 'html.parser')"
   ]
  },
  {
   "cell_type": "code",
   "execution_count": 65,
   "id": "16794064",
   "metadata": {
    "scrolled": true
   },
   "outputs": [
    {
     "name": "stdout",
     "output_type": "stream",
     "text": [
      "                                Restaurant Name\n",
      "0   Burger King #3056 (1295 Oxford Street East)\n",
      "1                               Frank & Burgers\n",
      "2                       A&W (London Music Hall)\n",
      "3                Starbucks (Richmond & Central)\n",
      "4                         Canteen (172 King St)\n",
      "..                                          ...\n",
      "75                   BEEBA BOYZ KITCHEN AND BAR\n",
      "76                    The Biryaniwalla (London)\n",
      "77             Dairy Queen (720 Proudfoot Lane)\n",
      "78                Shelby's Shawarma (West Five)\n",
      "79                  Florence Pizza and Shawarma\n",
      "\n",
      "[80 rows x 1 columns]\n"
     ]
    }
   ],
   "source": [
    "# Restaurant name\n",
    "\n",
    "res_name = soup.find_all('div', class_='al ii br iw c3')\n",
    "restaurants = []\n",
    "\n",
    "for i in res_name:\n",
    "    restaurant = i.find('h3').text.strip()\n",
    "    restaurants.append(restaurant)\n",
    "\n",
    "df = pd.DataFrame(restaurants, columns=['Restaurant Name'])\n",
    "print(df)"
   ]
  },
  {
   "cell_type": "code",
   "execution_count": 66,
   "id": "4a9881ba",
   "metadata": {
    "scrolled": true
   },
   "outputs": [
    {
     "name": "stdout",
     "output_type": "stream",
     "text": [
      "   Rating\n",
      "0     4.5\n",
      "1     3.7\n",
      "2     4.6\n",
      "3     4.7\n",
      "4     3.8\n",
      "..    ...\n",
      "75    New\n",
      "76    4.6\n",
      "77    4.7\n",
      "78    4.6\n",
      "79    4.1\n",
      "\n",
      "[80 rows x 1 columns]\n"
     ]
    }
   ],
   "source": [
    "# Rating information \n",
    "\n",
    "\n",
    "res_Rating = soup.find_all('div', class_='br al b9 bm c3 dd ix')\n",
    "\n",
    "ratings = []\n",
    "\n",
    "for i in res_Rating:\n",
    "    rating = i.find('div').text.strip()\n",
    "    ratings.append(rating)\n",
    "\n",
    "df2 = pd.DataFrame(ratings, columns=['Rating'])\n",
    "print(df2)"
   ]
  },
  {
   "cell_type": "code",
   "execution_count": 67,
   "id": "fee02591",
   "metadata": {},
   "outputs": [
    {
     "name": "stdout",
     "output_type": "stream",
     "text": [
      "                                              Address\n",
      "0         1295 Oxford Street East, London, ON N5Y 4W4\n",
      "1                     172 King Street, London, ON N6A\n",
      "2   176 Dundas Street, London Music Hall, Ontario ...\n",
      "3                 601 Richmond Street, London, ON N6A\n",
      "4                     172 King St, London, ON N6A 1C6\n",
      "..                                                ...\n",
      "75       480 Sovereign Rd, Unit 9, London, ON N6M 1A4\n",
      "76         1050 Kipps Lane London, On N5y 4s5 Canada,\n",
      "77                 720 Proudfoot Lane, London, ON N6H\n",
      "78  1876 Oxford St W, 1876 Oxford St W, London, ON...\n",
      "79      2259 Dundas Street Unit 3 London, On N5v 0b5,\n",
      "\n",
      "[80 rows x 1 columns]\n"
     ]
    }
   ],
   "source": [
    "# Address\n",
    "res_Address = soup.find_all('div', class_='fz j5 al ii')\n",
    "addresses = []\n",
    "\n",
    "for i in res_Address:\n",
    "    if i.text:\n",
    "        spans = i.find_all('span')\n",
    "        if len(spans) > 1:\n",
    "            address = spans[1].text.strip()\n",
    "            addresses.append(address)\n",
    "\n",
    "df3 = pd.DataFrame(addresses, columns=['Address'])\n",
    "print(df3)"
   ]
  },
  {
   "cell_type": "code",
   "execution_count": 68,
   "id": "042043d8",
   "metadata": {},
   "outputs": [
    {
     "name": "stdout",
     "output_type": "stream",
     "text": [
      "                Category\n",
      "0               American\n",
      "1                 Cheese\n",
      "2              Fast food\n",
      "3                 Bakery\n",
      "4                Burgers\n",
      "..                   ...\n",
      "75  Breakfast and brunch\n",
      "76                Indian\n",
      "77              American\n",
      "78        Middle Eastern\n",
      "79                 Pizza\n",
      "\n",
      "[80 rows x 1 columns]\n"
     ]
    }
   ],
   "source": [
    "# Category\n",
    "res_category = soup.find_all('div', class_='al ii br iw c3')\n",
    "categories = []\n",
    "\n",
    "for i in res_category:\n",
    "    span_text = i.find('span').text.strip()\n",
    "    category = span_text.split('•')[0].strip()\n",
    "    categories.append(category)\n",
    "\n",
    "df4 = pd.DataFrame(categories, columns=['Category'])\n",
    "print(df4)"
   ]
  },
  {
   "cell_type": "code",
   "execution_count": 69,
   "id": "c2784c43",
   "metadata": {},
   "outputs": [
    {
     "data": {
      "text/html": [
       "<div>\n",
       "<style scoped>\n",
       "    .dataframe tbody tr th:only-of-type {\n",
       "        vertical-align: middle;\n",
       "    }\n",
       "\n",
       "    .dataframe tbody tr th {\n",
       "        vertical-align: top;\n",
       "    }\n",
       "\n",
       "    .dataframe thead th {\n",
       "        text-align: right;\n",
       "    }\n",
       "</style>\n",
       "<table border=\"1\" class=\"dataframe\">\n",
       "  <thead>\n",
       "    <tr style=\"text-align: right;\">\n",
       "      <th></th>\n",
       "      <th>Restaurant Name</th>\n",
       "      <th>Rating</th>\n",
       "      <th>Category</th>\n",
       "      <th>Address</th>\n",
       "    </tr>\n",
       "  </thead>\n",
       "  <tbody>\n",
       "    <tr>\n",
       "      <th>0</th>\n",
       "      <td>Burger King #3056 (1295 Oxford Street East)</td>\n",
       "      <td>4.5</td>\n",
       "      <td>American</td>\n",
       "      <td>1295 Oxford Street East, London, ON N5Y 4W4</td>\n",
       "    </tr>\n",
       "    <tr>\n",
       "      <th>1</th>\n",
       "      <td>Frank &amp; Burgers</td>\n",
       "      <td>3.7</td>\n",
       "      <td>Cheese</td>\n",
       "      <td>172 King Street, London, ON N6A</td>\n",
       "    </tr>\n",
       "    <tr>\n",
       "      <th>2</th>\n",
       "      <td>A&amp;W (London Music Hall)</td>\n",
       "      <td>4.6</td>\n",
       "      <td>Fast food</td>\n",
       "      <td>176 Dundas Street, London Music Hall, Ontario ...</td>\n",
       "    </tr>\n",
       "    <tr>\n",
       "      <th>3</th>\n",
       "      <td>Starbucks (Richmond &amp; Central)</td>\n",
       "      <td>4.7</td>\n",
       "      <td>Bakery</td>\n",
       "      <td>601 Richmond Street, London, ON N6A</td>\n",
       "    </tr>\n",
       "    <tr>\n",
       "      <th>4</th>\n",
       "      <td>Canteen (172 King St)</td>\n",
       "      <td>3.8</td>\n",
       "      <td>Burgers</td>\n",
       "      <td>172 King St, London, ON N6A 1C6</td>\n",
       "    </tr>\n",
       "  </tbody>\n",
       "</table>\n",
       "</div>"
      ],
      "text/plain": [
       "                               Restaurant Name Rating   Category  \\\n",
       "0  Burger King #3056 (1295 Oxford Street East)    4.5   American   \n",
       "1                              Frank & Burgers    3.7     Cheese   \n",
       "2                      A&W (London Music Hall)    4.6  Fast food   \n",
       "3               Starbucks (Richmond & Central)    4.7     Bakery   \n",
       "4                        Canteen (172 King St)    3.8    Burgers   \n",
       "\n",
       "                                             Address  \n",
       "0        1295 Oxford Street East, London, ON N5Y 4W4  \n",
       "1                    172 King Street, London, ON N6A  \n",
       "2  176 Dundas Street, London Music Hall, Ontario ...  \n",
       "3                601 Richmond Street, London, ON N6A  \n",
       "4                    172 King St, London, ON N6A 1C6  "
      ]
     },
     "execution_count": 69,
     "metadata": {},
     "output_type": "execute_result"
    }
   ],
   "source": [
    "# Join the DataFrames in the desired order\n",
    "result = pd.concat([df, df2, df4, df3], axis=1)\n",
    "\n",
    "result.head()"
   ]
  },
  {
   "cell_type": "code",
   "execution_count": 70,
   "id": "1021338a",
   "metadata": {},
   "outputs": [],
   "source": [
    "# Export the joined DataFrame to an Excel file\n",
    "result.to_csv('london-on.csv', index=False)"
   ]
  },
  {
   "cell_type": "code",
   "execution_count": 71,
   "id": "0c41a08a",
   "metadata": {},
   "outputs": [],
   "source": [
    "browser.quit()"
   ]
  },
  {
   "cell_type": "code",
   "execution_count": null,
   "id": "dbc2712a",
   "metadata": {},
   "outputs": [],
   "source": []
  }
 ],
 "metadata": {
  "kernelspec": {
   "display_name": "Python 3 (ipykernel)",
   "language": "python",
   "name": "python3"
  },
  "language_info": {
   "codemirror_mode": {
    "name": "ipython",
    "version": 3
   },
   "file_extension": ".py",
   "mimetype": "text/x-python",
   "name": "python",
   "nbconvert_exporter": "python",
   "pygments_lexer": "ipython3",
   "version": "3.9.13"
  }
 },
 "nbformat": 4,
 "nbformat_minor": 5
}
