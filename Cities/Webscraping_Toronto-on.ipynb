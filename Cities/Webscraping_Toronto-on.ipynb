{
 "cells": [
  {
   "cell_type": "code",
   "execution_count": 1,
   "id": "39d82a98",
   "metadata": {},
   "outputs": [],
   "source": [
    "# Import dependencies/libraries\n",
    "from splinter import Browser\n",
    "from bs4 import BeautifulSoup as soup\n",
    "import pandas as pd\n"
   ]
  },
  {
   "cell_type": "code",
   "execution_count": 2,
   "id": "90fdaf9b",
   "metadata": {},
   "outputs": [],
   "source": [
    "# Setting up the browser\n",
    "browser = Browser('chrome')"
   ]
  },
  {
   "cell_type": "code",
   "execution_count": 3,
   "id": "f683952c",
   "metadata": {},
   "outputs": [],
   "source": [
    "# Visiting the website\n",
    "base_url = \"https://www.ubereats.com/ca/city/\"\n",
    "location = \"toronto-on\"\n",
    "url = base_url + location\n",
    "browser.visit(url)"
   ]
  },
  {
   "cell_type": "code",
   "execution_count": 4,
   "id": "f9578c21",
   "metadata": {},
   "outputs": [],
   "source": [
    "html = browser.html\n",
    "soup = soup(html, 'html.parser')"
   ]
  },
  {
   "cell_type": "code",
   "execution_count": 5,
   "id": "16794064",
   "metadata": {
    "scrolled": true
   },
   "outputs": [
    {
     "name": "stdout",
     "output_type": "stream",
     "text": [
      "                                   Restaurant Name\n",
      "0   FINE FOOD MARKET (Convenience @ Bay & Gerrard)\n",
      "1                      McDonald's (Front & George)\n",
      "2                Aroma Espresso Bar (PATH King St)\n",
      "3             7-Eleven (372 Bay Street @ Richmond)\n",
      "4               Sunset Grill (1 Richmond St. West)\n",
      "..                                             ...\n",
      "74                            Royaltea (Dundas St)\n",
      "75                                      Wok & Bowl\n",
      "76                               Bloomer's (Bloor)\n",
      "77                                    Pho Lang Van\n",
      "78                       Yogen Fruz (220 Yonge St)\n",
      "\n",
      "[79 rows x 1 columns]\n"
     ]
    }
   ],
   "source": [
    "# Restaurant name\n",
    "\n",
    "res_name = soup.find_all('div', class_='br al b9 bm c3 dd j3')\n",
    "restaurants = []\n",
    "\n",
    "for i in res_name:\n",
    "    restaurant = i.find('h3').text.strip()\n",
    "    restaurants.append(restaurant)\n",
    "\n",
    "df = pd.DataFrame(restaurants, columns=['Restaurant Name'])\n",
    "print(df)"
   ]
  },
  {
   "cell_type": "code",
   "execution_count": 6,
   "id": "4a9881ba",
   "metadata": {
    "scrolled": true
   },
   "outputs": [
    {
     "name": "stdout",
     "output_type": "stream",
     "text": [
      "   Rating\n",
      "0     4.8\n",
      "1     4.8\n",
      "2     4.9\n",
      "3     4.5\n",
      "4     4.6\n",
      "..    ...\n",
      "74    4.8\n",
      "75    4.7\n",
      "76    4.8\n",
      "77    4.8\n",
      "78    4.9\n",
      "\n",
      "[79 rows x 1 columns]\n"
     ]
    }
   ],
   "source": [
    "# Rating information \n",
    "\n",
    "\n",
    "res_Rating = soup.find_all('div', class_=\"br al b9 bm c3 dd j3\")\n",
    "\n",
    "ratings = []\n",
    "\n",
    "for i in res_Rating:\n",
    "    rating = i.find('div').text.strip()\n",
    "    ratings.append(rating)\n",
    "\n",
    "df2 = pd.DataFrame(ratings, columns=['Rating'])\n",
    "print(df2)"
   ]
  },
  {
   "cell_type": "code",
   "execution_count": 7,
   "id": "fee02591",
   "metadata": {},
   "outputs": [
    {
     "name": "stdout",
     "output_type": "stream",
     "text": [
      "                                            Address\n",
      "0                       711 Bay St, Toronto, ON M5G\n",
      "1                   121 Front St E, Toronto, ON M5A\n",
      "2                 121 King St W, Toronto, NAMER M5X\n",
      "3    372 Bay Street @ Richmond, Toronto, ON M5H 2W9\n",
      "4   1 Richmond St. West (#130), Toronto, ON M5H 3W4\n",
      "..                                              ...\n",
      "74           491a Dundas St W, Toronto, Ontario M5T\n",
      "75        3023 Bathurst Street, Toronto, ON M6B 3B5\n",
      "76              873 Bloor St W, Toronto, ON M6G 1M4\n",
      "77     958 Saint Clair Avenue West, Toronto, ON M6E\n",
      "78                    220 Yonge St, Toronto, ON M5B\n",
      "\n",
      "[79 rows x 1 columns]\n"
     ]
    }
   ],
   "source": [
    "# Address\n",
    "\n",
    "res_Address = soup.find_all('div', class_='fz jb al ii')\n",
    "addresses = []\n",
    "\n",
    "for i in res_Address:\n",
    "    if i.text:\n",
    "        spans = i.find_all('span')\n",
    "        if len(spans) > 1:\n",
    "            address = spans[1].text.strip()\n",
    "            addresses.append(address)\n",
    "\n",
    "df3 = pd.DataFrame(addresses, columns=['Address'])\n",
    "print(df3)\n"
   ]
  },
  {
   "cell_type": "code",
   "execution_count": 8,
   "id": "042043d8",
   "metadata": {},
   "outputs": [
    {
     "name": "stdout",
     "output_type": "stream",
     "text": [
      "                     Category\n",
      "0                    American\n",
      "1                     Burgers\n",
      "2        Breakfast and brunch\n",
      "3                       Wings\n",
      "4        Breakfast and brunch\n",
      "..                        ...\n",
      "74                      Asian\n",
      "75                     Kosher\n",
      "76                     Bakery\n",
      "77                 Vietnamese\n",
      "78  Ice Cream & Frozen Yogurt\n",
      "\n",
      "[79 rows x 1 columns]\n"
     ]
    }
   ],
   "source": [
    "# Category\n",
    "\n",
    "res_category = soup.find_all('div', class_='al ii br j2 c3')\n",
    "categories = []\n",
    "\n",
    "for i in res_category:\n",
    "    span_text = i.find('span').text.strip()\n",
    "    category = span_text.split('•')[0].strip()\n",
    "    categories.append(category)\n",
    "\n",
    "df4 = pd.DataFrame(categories, columns=['Category'])\n",
    "print(df4)"
   ]
  },
  {
   "cell_type": "code",
   "execution_count": 9,
   "id": "c2784c43",
   "metadata": {},
   "outputs": [
    {
     "data": {
      "text/html": [
       "<div>\n",
       "<style scoped>\n",
       "    .dataframe tbody tr th:only-of-type {\n",
       "        vertical-align: middle;\n",
       "    }\n",
       "\n",
       "    .dataframe tbody tr th {\n",
       "        vertical-align: top;\n",
       "    }\n",
       "\n",
       "    .dataframe thead th {\n",
       "        text-align: right;\n",
       "    }\n",
       "</style>\n",
       "<table border=\"1\" class=\"dataframe\">\n",
       "  <thead>\n",
       "    <tr style=\"text-align: right;\">\n",
       "      <th></th>\n",
       "      <th>Restaurant Name</th>\n",
       "      <th>Rating</th>\n",
       "      <th>Category</th>\n",
       "      <th>Address</th>\n",
       "    </tr>\n",
       "  </thead>\n",
       "  <tbody>\n",
       "    <tr>\n",
       "      <th>0</th>\n",
       "      <td>FINE FOOD MARKET (Convenience @ Bay &amp; Gerrard)</td>\n",
       "      <td>4.8</td>\n",
       "      <td>American</td>\n",
       "      <td>711 Bay St, Toronto, ON M5G</td>\n",
       "    </tr>\n",
       "    <tr>\n",
       "      <th>1</th>\n",
       "      <td>McDonald's (Front &amp; George)</td>\n",
       "      <td>4.8</td>\n",
       "      <td>Burgers</td>\n",
       "      <td>121 Front St E, Toronto, ON M5A</td>\n",
       "    </tr>\n",
       "    <tr>\n",
       "      <th>2</th>\n",
       "      <td>Aroma Espresso Bar (PATH King St)</td>\n",
       "      <td>4.9</td>\n",
       "      <td>Breakfast and brunch</td>\n",
       "      <td>121 King St W, Toronto, NAMER M5X</td>\n",
       "    </tr>\n",
       "    <tr>\n",
       "      <th>3</th>\n",
       "      <td>7-Eleven (372 Bay Street @ Richmond)</td>\n",
       "      <td>4.5</td>\n",
       "      <td>Wings</td>\n",
       "      <td>372 Bay Street @ Richmond, Toronto, ON M5H 2W9</td>\n",
       "    </tr>\n",
       "    <tr>\n",
       "      <th>4</th>\n",
       "      <td>Sunset Grill (1 Richmond St. West)</td>\n",
       "      <td>4.6</td>\n",
       "      <td>Breakfast and brunch</td>\n",
       "      <td>1 Richmond St. West (#130), Toronto, ON M5H 3W4</td>\n",
       "    </tr>\n",
       "  </tbody>\n",
       "</table>\n",
       "</div>"
      ],
      "text/plain": [
       "                                  Restaurant Name Rating  \\\n",
       "0  FINE FOOD MARKET (Convenience @ Bay & Gerrard)    4.8   \n",
       "1                     McDonald's (Front & George)    4.8   \n",
       "2               Aroma Espresso Bar (PATH King St)    4.9   \n",
       "3            7-Eleven (372 Bay Street @ Richmond)    4.5   \n",
       "4              Sunset Grill (1 Richmond St. West)    4.6   \n",
       "\n",
       "               Category                                          Address  \n",
       "0              American                      711 Bay St, Toronto, ON M5G  \n",
       "1               Burgers                  121 Front St E, Toronto, ON M5A  \n",
       "2  Breakfast and brunch                121 King St W, Toronto, NAMER M5X  \n",
       "3                 Wings   372 Bay Street @ Richmond, Toronto, ON M5H 2W9  \n",
       "4  Breakfast and brunch  1 Richmond St. West (#130), Toronto, ON M5H 3W4  "
      ]
     },
     "execution_count": 9,
     "metadata": {},
     "output_type": "execute_result"
    }
   ],
   "source": [
    "# Join the DataFrames in the desired order\n",
    "result = pd.concat([df, df2, df4, df3], axis=1)\n",
    "\n",
    "result.head()"
   ]
  },
  {
   "cell_type": "code",
   "execution_count": 11,
   "id": "1021338a",
   "metadata": {},
   "outputs": [],
   "source": [
    "# Export the joined DataFrame to an Excel file\n",
    "result.to_csv('toronto-ON.csv', index=False)"
   ]
  },
  {
   "cell_type": "code",
   "execution_count": 12,
   "id": "0c41a08a",
   "metadata": {},
   "outputs": [],
   "source": [
    "browser.quit()"
   ]
  },
  {
   "cell_type": "code",
   "execution_count": null,
   "id": "dbc2712a",
   "metadata": {},
   "outputs": [],
   "source": []
  }
 ],
 "metadata": {
  "kernelspec": {
   "display_name": "Python 3 (ipykernel)",
   "language": "python",
   "name": "python3"
  },
  "language_info": {
   "codemirror_mode": {
    "name": "ipython",
    "version": 3
   },
   "file_extension": ".py",
   "mimetype": "text/x-python",
   "name": "python",
   "nbconvert_exporter": "python",
   "pygments_lexer": "ipython3",
   "version": "3.9.13"
  }
 },
 "nbformat": 4,
 "nbformat_minor": 5
}
