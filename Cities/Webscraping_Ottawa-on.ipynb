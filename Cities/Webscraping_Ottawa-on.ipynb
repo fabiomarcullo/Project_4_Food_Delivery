{
 "cells": [
  {
   "cell_type": "code",
   "execution_count": 21,
   "id": "39d82a98",
   "metadata": {},
   "outputs": [],
   "source": [
    "# Import dependencies/libraries\n",
    "from splinter import Browser\n",
    "from bs4 import BeautifulSoup as soup\n",
    "import pandas as pd\n"
   ]
  },
  {
   "cell_type": "code",
   "execution_count": 22,
   "id": "90fdaf9b",
   "metadata": {},
   "outputs": [],
   "source": [
    "# Setting up the browser\n",
    "browser = Browser('chrome')"
   ]
  },
  {
   "cell_type": "code",
   "execution_count": 23,
   "id": "f683952c",
   "metadata": {},
   "outputs": [],
   "source": [
    "# Visiting the website\n",
    "base_url = \"https://www.ubereats.com/ca/city/\"\n",
    "location = \"ottawa-on/\"\n",
    "url = base_url + location\n",
    "browser.visit(url)"
   ]
  },
  {
   "cell_type": "code",
   "execution_count": 24,
   "id": "f9578c21",
   "metadata": {},
   "outputs": [],
   "source": [
    "html = browser.html\n",
    "soup = soup(html, 'html.parser')"
   ]
  },
  {
   "cell_type": "code",
   "execution_count": 25,
   "id": "16794064",
   "metadata": {
    "scrolled": true
   },
   "outputs": [
    {
     "name": "stdout",
     "output_type": "stream",
     "text": [
      "                           Restaurant Name\n",
      "0                          Subito Sandwich\n",
      "1   Burger King #12882 (199 Montreal Road)\n",
      "2   Pizza Pizza (673 West Somerset Street)\n",
      "3                    McDonald's (Elgin St)\n",
      "4                      SAFI FINE FOODS INC\n",
      "..                                     ...\n",
      "75   Second Cup (St Laurent Shopping Mall)\n",
      "76                               The Baker\n",
      "77          Adonis (1055 St. Laurent Blvd)\n",
      "78           The Cupcake Lounge (Westboro)\n",
      "79     Maverick's Donut Company (Westboro)\n",
      "\n",
      "[80 rows x 1 columns]\n"
     ]
    }
   ],
   "source": [
    "# Restaurant name\n",
    "\n",
    "res_name = soup.find_all('div', class_='al ii br iw c3')\n",
    "restaurants = []\n",
    "\n",
    "for i in res_name:\n",
    "    restaurant = i.find('h3').text.strip()\n",
    "    restaurants.append(restaurant)\n",
    "\n",
    "df = pd.DataFrame(restaurants, columns=['Restaurant Name'])\n",
    "print(df)"
   ]
  },
  {
   "cell_type": "code",
   "execution_count": 26,
   "id": "4a9881ba",
   "metadata": {
    "scrolled": true
   },
   "outputs": [
    {
     "name": "stdout",
     "output_type": "stream",
     "text": [
      "   Rating\n",
      "0     4.8\n",
      "1     4.6\n",
      "2     4.7\n",
      "3     4.5\n",
      "4     4.9\n",
      "..    ...\n",
      "75    New\n",
      "76    4.9\n",
      "77    4.2\n",
      "78    4.9\n",
      "79    New\n",
      "\n",
      "[80 rows x 1 columns]\n"
     ]
    }
   ],
   "source": [
    "# Rating information \n",
    "\n",
    "\n",
    "res_Rating = soup.find_all('div', class_='br al b9 bm c3 dd ix')\n",
    "\n",
    "ratings = []\n",
    "\n",
    "for i in res_Rating:\n",
    "    rating = i.find('div').text.strip()\n",
    "    ratings.append(rating)\n",
    "\n",
    "df2 = pd.DataFrame(ratings, columns=['Rating'])\n",
    "print(df2)"
   ]
  },
  {
   "cell_type": "code",
   "execution_count": 28,
   "id": "fee02591",
   "metadata": {},
   "outputs": [
    {
     "name": "stdout",
     "output_type": "stream",
     "text": [
      "                                              Address\n",
      "0               389 Gladstone Ave, Ottawa, ON K2P 0Y9\n",
      "1                   199 Montreal Road, Vanier, ON K1L\n",
      "2            673 West Somerset Street, Ottawa, ON K1R\n",
      "3                        252 Elgin St, Ottawa, ON K2P\n",
      "4        296 Somerset Street East, Ottawa, ON K1N 6W1\n",
      "..                                                ...\n",
      "75     1200 St. Laurent Blvd., K7, Ottawa, ON K1K 3B8\n",
      "76  3570 Strandherd Dr, Nepean, 12, Ottawa, ON K2J...\n",
      "77      1055 Boulevard St Laurent, Ottawa, ON K1K 3B1\n",
      "78                324 Richmond Rd, Ottawa, ON K1Z 6X6\n",
      "79                 307a Richmond Road, Ottawa, ON K1Z\n",
      "\n",
      "[80 rows x 1 columns]\n"
     ]
    }
   ],
   "source": [
    "# Address\n",
    "res_Address = soup.find_all('div', class_='fz j5 al ii')\n",
    "addresses = []\n",
    "\n",
    "for i in res_Address:\n",
    "    if i.text:\n",
    "        spans = i.find_all('span')\n",
    "        if len(spans) > 1:\n",
    "            address = spans[1].text.strip()\n",
    "            addresses.append(address)\n",
    "\n",
    "df3 = pd.DataFrame(addresses, columns=['Address'])\n",
    "print(df3)"
   ]
  },
  {
   "cell_type": "code",
   "execution_count": 29,
   "id": "042043d8",
   "metadata": {},
   "outputs": [
    {
     "name": "stdout",
     "output_type": "stream",
     "text": [
      "          Category\n",
      "0         Sandwich\n",
      "1         American\n",
      "2   Chicken Strips\n",
      "3        Fast food\n",
      "4            Halal\n",
      "..             ...\n",
      "75          Bakery\n",
      "76        American\n",
      "77         Grocery\n",
      "78        Desserts\n",
      "79        American\n",
      "\n",
      "[80 rows x 1 columns]\n"
     ]
    }
   ],
   "source": [
    "# Category\n",
    "res_category = soup.find_all('div', class_='al ii br iw c3')\n",
    "categories = []\n",
    "\n",
    "for i in res_category:\n",
    "    span_text = i.find('span').text.strip()\n",
    "    category = span_text.split('•')[0].strip()\n",
    "    categories.append(category)\n",
    "\n",
    "df4 = pd.DataFrame(categories, columns=['Category'])\n",
    "print(df4)"
   ]
  },
  {
   "cell_type": "code",
   "execution_count": 30,
   "id": "c2784c43",
   "metadata": {},
   "outputs": [
    {
     "data": {
      "text/html": [
       "<div>\n",
       "<style scoped>\n",
       "    .dataframe tbody tr th:only-of-type {\n",
       "        vertical-align: middle;\n",
       "    }\n",
       "\n",
       "    .dataframe tbody tr th {\n",
       "        vertical-align: top;\n",
       "    }\n",
       "\n",
       "    .dataframe thead th {\n",
       "        text-align: right;\n",
       "    }\n",
       "</style>\n",
       "<table border=\"1\" class=\"dataframe\">\n",
       "  <thead>\n",
       "    <tr style=\"text-align: right;\">\n",
       "      <th></th>\n",
       "      <th>Restaurant Name</th>\n",
       "      <th>Rating</th>\n",
       "      <th>Category</th>\n",
       "      <th>Address</th>\n",
       "    </tr>\n",
       "  </thead>\n",
       "  <tbody>\n",
       "    <tr>\n",
       "      <th>0</th>\n",
       "      <td>Subito Sandwich</td>\n",
       "      <td>4.8</td>\n",
       "      <td>Sandwich</td>\n",
       "      <td>389 Gladstone Ave, Ottawa, ON K2P 0Y9</td>\n",
       "    </tr>\n",
       "    <tr>\n",
       "      <th>1</th>\n",
       "      <td>Burger King #12882 (199 Montreal Road)</td>\n",
       "      <td>4.6</td>\n",
       "      <td>American</td>\n",
       "      <td>199 Montreal Road, Vanier, ON K1L</td>\n",
       "    </tr>\n",
       "    <tr>\n",
       "      <th>2</th>\n",
       "      <td>Pizza Pizza (673 West Somerset Street)</td>\n",
       "      <td>4.7</td>\n",
       "      <td>Chicken Strips</td>\n",
       "      <td>673 West Somerset Street, Ottawa, ON K1R</td>\n",
       "    </tr>\n",
       "    <tr>\n",
       "      <th>3</th>\n",
       "      <td>McDonald's (Elgin St)</td>\n",
       "      <td>4.5</td>\n",
       "      <td>Fast food</td>\n",
       "      <td>252 Elgin St, Ottawa, ON K2P</td>\n",
       "    </tr>\n",
       "    <tr>\n",
       "      <th>4</th>\n",
       "      <td>SAFI FINE FOODS INC</td>\n",
       "      <td>4.9</td>\n",
       "      <td>Halal</td>\n",
       "      <td>296 Somerset Street East, Ottawa, ON K1N 6W1</td>\n",
       "    </tr>\n",
       "  </tbody>\n",
       "</table>\n",
       "</div>"
      ],
      "text/plain": [
       "                          Restaurant Name Rating        Category  \\\n",
       "0                         Subito Sandwich    4.8        Sandwich   \n",
       "1  Burger King #12882 (199 Montreal Road)    4.6        American   \n",
       "2  Pizza Pizza (673 West Somerset Street)    4.7  Chicken Strips   \n",
       "3                   McDonald's (Elgin St)    4.5       Fast food   \n",
       "4                     SAFI FINE FOODS INC    4.9           Halal   \n",
       "\n",
       "                                        Address  \n",
       "0         389 Gladstone Ave, Ottawa, ON K2P 0Y9  \n",
       "1             199 Montreal Road, Vanier, ON K1L  \n",
       "2      673 West Somerset Street, Ottawa, ON K1R  \n",
       "3                  252 Elgin St, Ottawa, ON K2P  \n",
       "4  296 Somerset Street East, Ottawa, ON K1N 6W1  "
      ]
     },
     "execution_count": 30,
     "metadata": {},
     "output_type": "execute_result"
    }
   ],
   "source": [
    "# Join the DataFrames in the desired order\n",
    "result = pd.concat([df, df2, df4, df3], axis=1)\n",
    "\n",
    "result.head()"
   ]
  },
  {
   "cell_type": "code",
   "execution_count": 31,
   "id": "1021338a",
   "metadata": {},
   "outputs": [],
   "source": [
    "# Export the joined DataFrame to an Excel file\n",
    "result.to_csv('Ottawa-on.csv', index=False)"
   ]
  },
  {
   "cell_type": "code",
   "execution_count": 32,
   "id": "0c41a08a",
   "metadata": {},
   "outputs": [],
   "source": [
    "browser.quit()"
   ]
  },
  {
   "cell_type": "code",
   "execution_count": null,
   "id": "dbc2712a",
   "metadata": {},
   "outputs": [],
   "source": []
  }
 ],
 "metadata": {
  "kernelspec": {
   "display_name": "Python 3 (ipykernel)",
   "language": "python",
   "name": "python3"
  },
  "language_info": {
   "codemirror_mode": {
    "name": "ipython",
    "version": 3
   },
   "file_extension": ".py",
   "mimetype": "text/x-python",
   "name": "python",
   "nbconvert_exporter": "python",
   "pygments_lexer": "ipython3",
   "version": "3.9.13"
  }
 },
 "nbformat": 4,
 "nbformat_minor": 5
}
