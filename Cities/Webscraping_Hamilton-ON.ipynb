{
 "cells": [
  {
   "cell_type": "code",
   "execution_count": 39,
   "id": "39d82a98",
   "metadata": {},
   "outputs": [],
   "source": [
    "# Import dependencies/libraries\n",
    "from splinter import Browser\n",
    "from bs4 import BeautifulSoup as soup\n",
    "import pandas as pd\n"
   ]
  },
  {
   "cell_type": "code",
   "execution_count": 40,
   "id": "90fdaf9b",
   "metadata": {},
   "outputs": [],
   "source": [
    "# Setting up the browser\n",
    "browser = Browser('chrome')"
   ]
  },
  {
   "cell_type": "code",
   "execution_count": 41,
   "id": "f683952c",
   "metadata": {},
   "outputs": [],
   "source": [
    "# Visiting the website\n",
    "base_url = \"https://www.ubereats.com/ca/city/\"\n",
    "location = \"hamilton-on/\"\n",
    "url = base_url + location\n",
    "browser.visit(url)"
   ]
  },
  {
   "cell_type": "code",
   "execution_count": 42,
   "id": "f9578c21",
   "metadata": {},
   "outputs": [],
   "source": [
    "html = browser.html\n",
    "soup = soup(html, 'html.parser')"
   ]
  },
  {
   "cell_type": "code",
   "execution_count": 43,
   "id": "16794064",
   "metadata": {
    "scrolled": true
   },
   "outputs": [
    {
     "name": "stdout",
     "output_type": "stream",
     "text": [
      "                                      Restaurant Name\n",
      "0                          Sunrise Market (Cannon St)\n",
      "1                                      MIX+ Food Mart\n",
      "2                                  Big Bear Food Mart\n",
      "3                    Starbucks (112 King Street East)\n",
      "4                 McDonald's (675 Upper James Street)\n",
      "..                                                ...\n",
      "74                                      Dim Sum House\n",
      "75                           The Burnt Tongue (Locke)\n",
      "76                                      Fishing Sushi\n",
      "77                    South Garden Chinese Restaurant\n",
      "78  Popeyes Louisana Kitchen (930 Upper Paradise R...\n",
      "\n",
      "[79 rows x 1 columns]\n"
     ]
    }
   ],
   "source": [
    "# Restaurant name\n",
    "\n",
    "res_name = soup.find_all('div', class_='al ii br j2 c3')\n",
    "restaurants = []\n",
    "\n",
    "for i in res_name:\n",
    "    restaurant = i.find('h3').text.strip()\n",
    "    restaurants.append(restaurant)\n",
    "\n",
    "df = pd.DataFrame(restaurants, columns=['Restaurant Name'])\n",
    "print(df)"
   ]
  },
  {
   "cell_type": "code",
   "execution_count": 44,
   "id": "4a9881ba",
   "metadata": {
    "scrolled": true
   },
   "outputs": [
    {
     "name": "stdout",
     "output_type": "stream",
     "text": [
      "   Rating\n",
      "0     4.7\n",
      "1     4.2\n",
      "2     4.0\n",
      "3     4.7\n",
      "4     4.4\n",
      "..    ...\n",
      "74    4.7\n",
      "75    4.9\n",
      "76    4.8\n",
      "77    4.5\n",
      "78    4.6\n",
      "\n",
      "[79 rows x 1 columns]\n"
     ]
    }
   ],
   "source": [
    "# Rating information \n",
    "\n",
    "\n",
    "res_Rating = soup.find_all('div', class_='br al b9 bm c3 dd j3')\n",
    "\n",
    "ratings = []\n",
    "\n",
    "for i in res_Rating:\n",
    "    rating = i.find('div').text.strip()\n",
    "    ratings.append(rating)\n",
    "\n",
    "df2 = pd.DataFrame(ratings, columns=['Rating'])\n",
    "print(df2)"
   ]
  },
  {
   "cell_type": "code",
   "execution_count": 45,
   "id": "fee02591",
   "metadata": {},
   "outputs": [
    {
     "name": "stdout",
     "output_type": "stream",
     "text": [
      "                                             Address\n",
      "0       217 Cannon Street East, Hamilton, ON L8L 2A9\n",
      "1         215 King Street West Hamilton, On L8p 1a7,\n",
      "2   82 Wellington Street North, Hamilton, ON L8R 1N1\n",
      "3         112 King Street East, Hamilton, ON L8N 1A8\n",
      "4       675 Upper James Street, Hamilton, ON L9C 2Z5\n",
      "..                                               ...\n",
      "74           173 King Street E, Hamilton, ON L8N 1B3\n",
      "75      182 Locke Street South, Hamilton, ON L8P 4B3\n",
      "76       542 Concession Street, Hamilton, ON L8V 1A9\n",
      "77                1300 Garth St, Hamilton, NAMER L9C\n",
      "78       930 Upper Paradise Rd, Hamilton, On L9B 2N1\n",
      "\n",
      "[79 rows x 1 columns]\n"
     ]
    }
   ],
   "source": [
    "# Address\n",
    "res_Address = soup.find_all('div', class_='fz jb al ii')\n",
    "addresses = []\n",
    "\n",
    "for i in res_Address:\n",
    "    if i.text:\n",
    "        spans = i.find_all('span')\n",
    "        if len(spans) > 1:\n",
    "            address = spans[1].text.strip()\n",
    "            addresses.append(address)\n",
    "\n",
    "df3 = pd.DataFrame(addresses, columns=['Address'])\n",
    "print(df3)"
   ]
  },
  {
   "cell_type": "code",
   "execution_count": 32,
   "id": "042043d8",
   "metadata": {},
   "outputs": [
    {
     "name": "stdout",
     "output_type": "stream",
     "text": [
      "                Category\n",
      "0               American\n",
      "1                 Salads\n",
      "2   Breakfast and brunch\n",
      "3                Burgers\n",
      "4                 Bakery\n",
      "..                   ...\n",
      "75               Italian\n",
      "76            Vegetarian\n",
      "77               Chinese\n",
      "78              European\n",
      "79                 Pizza\n",
      "\n",
      "[80 rows x 1 columns]\n"
     ]
    }
   ],
   "source": [
    "# Category\n",
    "res_category = soup.find_all('div', class_='al ii br iw c3')\n",
    "categories = []\n",
    "\n",
    "for i in res_category:\n",
    "    span_text = i.find('span').text.strip()\n",
    "    category = span_text.split('•')[0].strip()\n",
    "    categories.append(category)\n",
    "\n",
    "df4 = pd.DataFrame(categories, columns=['Category'])\n",
    "print(df4)"
   ]
  },
  {
   "cell_type": "code",
   "execution_count": 33,
   "id": "c2784c43",
   "metadata": {},
   "outputs": [
    {
     "data": {
      "text/html": [
       "<div>\n",
       "<style scoped>\n",
       "    .dataframe tbody tr th:only-of-type {\n",
       "        vertical-align: middle;\n",
       "    }\n",
       "\n",
       "    .dataframe tbody tr th {\n",
       "        vertical-align: top;\n",
       "    }\n",
       "\n",
       "    .dataframe thead th {\n",
       "        text-align: right;\n",
       "    }\n",
       "</style>\n",
       "<table border=\"1\" class=\"dataframe\">\n",
       "  <thead>\n",
       "    <tr style=\"text-align: right;\">\n",
       "      <th></th>\n",
       "      <th>Restaurant Name</th>\n",
       "      <th>Rating</th>\n",
       "      <th>Category</th>\n",
       "      <th>Address</th>\n",
       "    </tr>\n",
       "  </thead>\n",
       "  <tbody>\n",
       "    <tr>\n",
       "      <th>0</th>\n",
       "      <td>11584 Burger King (6049 Young Street)</td>\n",
       "      <td>4.6</td>\n",
       "      <td>American</td>\n",
       "      <td>6049 Young Street, Halifax, NS B3K</td>\n",
       "    </tr>\n",
       "    <tr>\n",
       "      <th>1</th>\n",
       "      <td>As You Like it Sandwich Bar (Barrington St)</td>\n",
       "      <td>New</td>\n",
       "      <td>Salads</td>\n",
       "      <td>1791 Barrington Street, Halifax, NAMER B3J 3Y8</td>\n",
       "    </tr>\n",
       "    <tr>\n",
       "      <th>2</th>\n",
       "      <td>Laurent French Bakery</td>\n",
       "      <td>New</td>\n",
       "      <td>Breakfast and brunch</td>\n",
       "      <td>2063 Gottingen St, Halifax, NS B3K 3</td>\n",
       "    </tr>\n",
       "    <tr>\n",
       "      <th>3</th>\n",
       "      <td>McDonald's (Kempt)</td>\n",
       "      <td>4.5</td>\n",
       "      <td>Burgers</td>\n",
       "      <td>3486 Kempt Road, Halifax, NS B3K 4X7</td>\n",
       "    </tr>\n",
       "    <tr>\n",
       "      <th>4</th>\n",
       "      <td>Starbucks (Garden Stone)</td>\n",
       "      <td>4.9</td>\n",
       "      <td>Bakery</td>\n",
       "      <td>5554 Kaye Street, Halifax, NS B3K 1Y5</td>\n",
       "    </tr>\n",
       "  </tbody>\n",
       "</table>\n",
       "</div>"
      ],
      "text/plain": [
       "                               Restaurant Name Rating              Category  \\\n",
       "0        11584 Burger King (6049 Young Street)    4.6              American   \n",
       "1  As You Like it Sandwich Bar (Barrington St)    New                Salads   \n",
       "2                        Laurent French Bakery    New  Breakfast and brunch   \n",
       "3                           McDonald's (Kempt)    4.5               Burgers   \n",
       "4                     Starbucks (Garden Stone)    4.9                Bakery   \n",
       "\n",
       "                                          Address  \n",
       "0              6049 Young Street, Halifax, NS B3K  \n",
       "1  1791 Barrington Street, Halifax, NAMER B3J 3Y8  \n",
       "2            2063 Gottingen St, Halifax, NS B3K 3  \n",
       "3            3486 Kempt Road, Halifax, NS B3K 4X7  \n",
       "4           5554 Kaye Street, Halifax, NS B3K 1Y5  "
      ]
     },
     "execution_count": 33,
     "metadata": {},
     "output_type": "execute_result"
    }
   ],
   "source": [
    "# Join the DataFrames in the desired order\n",
    "result = pd.concat([df, df2, df4, df3], axis=1)\n",
    "\n",
    "result.head()"
   ]
  },
  {
   "cell_type": "code",
   "execution_count": 34,
   "id": "1021338a",
   "metadata": {},
   "outputs": [],
   "source": [
    "# Export the joined DataFrame to an Excel file\n",
    "result.to_csv('Hamilton-ON.csv', index=False)"
   ]
  },
  {
   "cell_type": "code",
   "execution_count": 22,
   "id": "0c41a08a",
   "metadata": {},
   "outputs": [],
   "source": [
    "browser.quit()"
   ]
  },
  {
   "cell_type": "code",
   "execution_count": null,
   "id": "dbc2712a",
   "metadata": {},
   "outputs": [],
   "source": []
  }
 ],
 "metadata": {
  "kernelspec": {
   "display_name": "Python 3 (ipykernel)",
   "language": "python",
   "name": "python3"
  },
  "language_info": {
   "codemirror_mode": {
    "name": "ipython",
    "version": 3
   },
   "file_extension": ".py",
   "mimetype": "text/x-python",
   "name": "python",
   "nbconvert_exporter": "python",
   "pygments_lexer": "ipython3",
   "version": "3.9.13"
  }
 },
 "nbformat": 4,
 "nbformat_minor": 5
}
