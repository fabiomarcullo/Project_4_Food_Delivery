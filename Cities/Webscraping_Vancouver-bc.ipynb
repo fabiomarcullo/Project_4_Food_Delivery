{
 "cells": [
  {
   "cell_type": "code",
   "execution_count": 58,
   "id": "39d82a98",
   "metadata": {},
   "outputs": [],
   "source": [
    "# Import dependencies/libraries\n",
    "from splinter import Browser\n",
    "from bs4 import BeautifulSoup as soup\n",
    "import pandas as pd\n"
   ]
  },
  {
   "cell_type": "code",
   "execution_count": 59,
   "id": "90fdaf9b",
   "metadata": {},
   "outputs": [],
   "source": [
    "# Setting up the browser\n",
    "browser = Browser('chrome')"
   ]
  },
  {
   "cell_type": "code",
   "execution_count": 60,
   "id": "f683952c",
   "metadata": {},
   "outputs": [],
   "source": [
    "# Visiting the website\n",
    "base_url = \"https://www.ubereats.com/ca/city/\"\n",
    "location = \"vancouver-bc/\"\n",
    "url = base_url + location\n",
    "browser.visit(url)"
   ]
  },
  {
   "cell_type": "code",
   "execution_count": 61,
   "id": "f9578c21",
   "metadata": {},
   "outputs": [],
   "source": [
    "html = browser.html\n",
    "soup = soup(html, 'html.parser')"
   ]
  },
  {
   "cell_type": "code",
   "execution_count": 62,
   "id": "16794064",
   "metadata": {
    "scrolled": true
   },
   "outputs": [
    {
     "name": "stdout",
     "output_type": "stream",
     "text": [
      "                          Restaurant Name\n",
      "0                7-Eleven (710 W 6th Ave)\n",
      "1                      Subway (Granville)\n",
      "2                 Kingsway BBQ house 宽窄巷子\n",
      "3   Freshslice Pizza (6374 Fraser Street)\n",
      "4                McDonald's (Main & 29th)\n",
      "..                                    ...\n",
      "75            Modern Handi Indian Cuisine\n",
      "76         Beeryani Indian Bistro and Bar\n",
      "77         Trees Organic Coffee (Burrard)\n",
      "78        Shizenya Restaurant on Broadway\n",
      "79     Baba Sweets & Restaurant - Burnaby\n",
      "\n",
      "[80 rows x 1 columns]\n"
     ]
    }
   ],
   "source": [
    "# Restaurant name\n",
    "\n",
    "res_name = soup.find_all('div', class_='al ii br iw c3')\n",
    "restaurants = []\n",
    "\n",
    "for i in res_name:\n",
    "    restaurant = i.find('h3').text.strip()\n",
    "    restaurants.append(restaurant)\n",
    "\n",
    "df = pd.DataFrame(restaurants, columns=['Restaurant Name'])\n",
    "print(df)"
   ]
  },
  {
   "cell_type": "code",
   "execution_count": 63,
   "id": "4a9881ba",
   "metadata": {
    "scrolled": true
   },
   "outputs": [
    {
     "name": "stdout",
     "output_type": "stream",
     "text": [
      "   Rating\n",
      "0     4.7\n",
      "1     4.6\n",
      "2     4.3\n",
      "3     4.5\n",
      "4     4.8\n",
      "..    ...\n",
      "75    4.7\n",
      "76    4.7\n",
      "77    4.6\n",
      "78    4.9\n",
      "79    4.6\n",
      "\n",
      "[80 rows x 1 columns]\n"
     ]
    }
   ],
   "source": [
    "# Rating information \n",
    "\n",
    "\n",
    "res_Rating = soup.find_all('div', class_='br al b9 bm c3 dd ix')\n",
    "\n",
    "ratings = []\n",
    "\n",
    "for i in res_Rating:\n",
    "    rating = i.find('div').text.strip()\n",
    "    ratings.append(rating)\n",
    "\n",
    "df2 = pd.DataFrame(ratings, columns=['Rating'])\n",
    "print(df2)"
   ]
  },
  {
   "cell_type": "code",
   "execution_count": 64,
   "id": "fee02591",
   "metadata": {},
   "outputs": [
    {
     "name": "stdout",
     "output_type": "stream",
     "text": [
      "                                              Address\n",
      "0                    710 W 6th Ave, Vancouver, BC V5Z\n",
      "1            1255 Granville Street, Vancouver, BC V6B\n",
      "2                    3488 Kingsway, Vancouver, Bc V5R\n",
      "3               6374 Fraser St, Vancouver, BC V5W 3A4\n",
      "4       4445 Main St, Vancouver, British Columbia V5V\n",
      "..                                                ...\n",
      "75                   827 Denman St, Vancouver, BC V6G\n",
      "76  1184 Denman St 202, Unit 202, Vancouver, BC V6...\n",
      "77              930 Burrard St, Vancouver, BC V6Z 3G5\n",
      "78                 1333 W Broadway, Vancouver, BC V6H\n",
      "79                   7561 6th St, Burnaby, BC V3N 3M4\n",
      "\n",
      "[80 rows x 1 columns]\n"
     ]
    }
   ],
   "source": [
    "# Address\n",
    "res_Address = soup.find_all('div', class_='fz j5 al ii')\n",
    "addresses = []\n",
    "\n",
    "for i in res_Address:\n",
    "    if i.text:\n",
    "        spans = i.find_all('span')\n",
    "        if len(spans) > 1:\n",
    "            address = spans[1].text.strip()\n",
    "            addresses.append(address)\n",
    "\n",
    "df3 = pd.DataFrame(addresses, columns=['Address'])\n",
    "print(df3)"
   ]
  },
  {
   "cell_type": "code",
   "execution_count": 65,
   "id": "042043d8",
   "metadata": {},
   "outputs": [
    {
     "name": "stdout",
     "output_type": "stream",
     "text": [
      "        Category\n",
      "0         Bakery\n",
      "1       American\n",
      "2        Chinese\n",
      "3          wings\n",
      "4        Burgers\n",
      "..           ...\n",
      "75        Indian\n",
      "76        Indian\n",
      "77  Coffee & tea\n",
      "78      Japanese\n",
      "79        Indian\n",
      "\n",
      "[80 rows x 1 columns]\n"
     ]
    }
   ],
   "source": [
    "# Category\n",
    "res_category = soup.find_all('div', class_='al ii br iw c3')\n",
    "categories = []\n",
    "\n",
    "for i in res_category:\n",
    "    span_text = i.find('span').text.strip()\n",
    "    category = span_text.split('•')[0].strip()\n",
    "    categories.append(category)\n",
    "\n",
    "df4 = pd.DataFrame(categories, columns=['Category'])\n",
    "print(df4)"
   ]
  },
  {
   "cell_type": "code",
   "execution_count": 66,
   "id": "c2784c43",
   "metadata": {},
   "outputs": [
    {
     "data": {
      "text/html": [
       "<div>\n",
       "<style scoped>\n",
       "    .dataframe tbody tr th:only-of-type {\n",
       "        vertical-align: middle;\n",
       "    }\n",
       "\n",
       "    .dataframe tbody tr th {\n",
       "        vertical-align: top;\n",
       "    }\n",
       "\n",
       "    .dataframe thead th {\n",
       "        text-align: right;\n",
       "    }\n",
       "</style>\n",
       "<table border=\"1\" class=\"dataframe\">\n",
       "  <thead>\n",
       "    <tr style=\"text-align: right;\">\n",
       "      <th></th>\n",
       "      <th>Restaurant Name</th>\n",
       "      <th>Rating</th>\n",
       "      <th>Category</th>\n",
       "      <th>Address</th>\n",
       "    </tr>\n",
       "  </thead>\n",
       "  <tbody>\n",
       "    <tr>\n",
       "      <th>0</th>\n",
       "      <td>7-Eleven (710 W 6th Ave)</td>\n",
       "      <td>4.7</td>\n",
       "      <td>Bakery</td>\n",
       "      <td>710 W 6th Ave, Vancouver, BC V5Z</td>\n",
       "    </tr>\n",
       "    <tr>\n",
       "      <th>1</th>\n",
       "      <td>Subway (Granville)</td>\n",
       "      <td>4.6</td>\n",
       "      <td>American</td>\n",
       "      <td>1255 Granville Street, Vancouver, BC V6B</td>\n",
       "    </tr>\n",
       "    <tr>\n",
       "      <th>2</th>\n",
       "      <td>Kingsway BBQ house 宽窄巷子</td>\n",
       "      <td>4.3</td>\n",
       "      <td>Chinese</td>\n",
       "      <td>3488 Kingsway, Vancouver, Bc V5R</td>\n",
       "    </tr>\n",
       "    <tr>\n",
       "      <th>3</th>\n",
       "      <td>Freshslice Pizza (6374 Fraser Street)</td>\n",
       "      <td>4.5</td>\n",
       "      <td>wings</td>\n",
       "      <td>6374 Fraser St, Vancouver, BC V5W 3A4</td>\n",
       "    </tr>\n",
       "    <tr>\n",
       "      <th>4</th>\n",
       "      <td>McDonald's (Main &amp; 29th)</td>\n",
       "      <td>4.8</td>\n",
       "      <td>Burgers</td>\n",
       "      <td>4445 Main St, Vancouver, British Columbia V5V</td>\n",
       "    </tr>\n",
       "  </tbody>\n",
       "</table>\n",
       "</div>"
      ],
      "text/plain": [
       "                         Restaurant Name Rating  Category  \\\n",
       "0               7-Eleven (710 W 6th Ave)    4.7    Bakery   \n",
       "1                     Subway (Granville)    4.6  American   \n",
       "2                Kingsway BBQ house 宽窄巷子    4.3   Chinese   \n",
       "3  Freshslice Pizza (6374 Fraser Street)    4.5     wings   \n",
       "4               McDonald's (Main & 29th)    4.8   Burgers   \n",
       "\n",
       "                                         Address  \n",
       "0               710 W 6th Ave, Vancouver, BC V5Z  \n",
       "1       1255 Granville Street, Vancouver, BC V6B  \n",
       "2               3488 Kingsway, Vancouver, Bc V5R  \n",
       "3          6374 Fraser St, Vancouver, BC V5W 3A4  \n",
       "4  4445 Main St, Vancouver, British Columbia V5V  "
      ]
     },
     "execution_count": 66,
     "metadata": {},
     "output_type": "execute_result"
    }
   ],
   "source": [
    "# Join the DataFrames in the desired order\n",
    "result = pd.concat([df, df2, df4, df3], axis=1)\n",
    "\n",
    "result.head()"
   ]
  },
  {
   "cell_type": "code",
   "execution_count": 67,
   "id": "1021338a",
   "metadata": {},
   "outputs": [],
   "source": [
    "# Export the joined DataFrame to an Excel file\n",
    "result.to_csv('Vancouver-bc.csv', index=False)"
   ]
  },
  {
   "cell_type": "code",
   "execution_count": 68,
   "id": "0c41a08a",
   "metadata": {},
   "outputs": [],
   "source": [
    "browser.quit()"
   ]
  },
  {
   "cell_type": "code",
   "execution_count": null,
   "id": "dbc2712a",
   "metadata": {},
   "outputs": [],
   "source": []
  }
 ],
 "metadata": {
  "kernelspec": {
   "display_name": "Python 3 (ipykernel)",
   "language": "python",
   "name": "python3"
  },
  "language_info": {
   "codemirror_mode": {
    "name": "ipython",
    "version": 3
   },
   "file_extension": ".py",
   "mimetype": "text/x-python",
   "name": "python",
   "nbconvert_exporter": "python",
   "pygments_lexer": "ipython3",
   "version": "3.9.13"
  }
 },
 "nbformat": 4,
 "nbformat_minor": 5
}
