{
 "cells": [
  {
   "cell_type": "code",
   "execution_count": 17,
   "id": "39d82a98",
   "metadata": {},
   "outputs": [],
   "source": [
    "# Import dependencies/libraries\n",
    "from splinter import Browser\n",
    "from bs4 import BeautifulSoup as soup\n",
    "import pandas as pd\n"
   ]
  },
  {
   "cell_type": "code",
   "execution_count": 18,
   "id": "90fdaf9b",
   "metadata": {},
   "outputs": [],
   "source": [
    "# Setting up the browser\n",
    "browser = Browser('chrome')"
   ]
  },
  {
   "cell_type": "code",
   "execution_count": 19,
   "id": "f683952c",
   "metadata": {},
   "outputs": [],
   "source": [
    "# Visiting the website\n",
    "base_url = \"https://www.ubereats.com/ca/city/\"\n",
    "location = \"greater-sudbury-on/\"\n",
    "url = base_url + location\n",
    "browser.visit(url)"
   ]
  },
  {
   "cell_type": "code",
   "execution_count": 20,
   "id": "f9578c21",
   "metadata": {},
   "outputs": [],
   "source": [
    "html = browser.html\n",
    "soup = soup(html, 'html.parser')"
   ]
  },
  {
   "cell_type": "code",
   "execution_count": 21,
   "id": "16794064",
   "metadata": {
    "scrolled": true
   },
   "outputs": [
    {
     "name": "stdout",
     "output_type": "stream",
     "text": [
      "                              Restaurant Name\n",
      "0             M&M Food Market (Sudbury-Paris)\n",
      "1                                 Win Fortune\n",
      "2                     Popular Pizza (Sudbury)\n",
      "3   Burger King #3579 (660 Notre Dame Avenue)\n",
      "4             Chicken Chicken (52 Elm Street)\n",
      "..                                        ...\n",
      "73                         PIZZERIA ROMA 1894\n",
      "74     Canadian Tire Gas+ (2040 Algonquin Rd)\n",
      "75                          Trevi Bar & Grill\n",
      "76     Mucho Burrito (1250 Lasalle Boulevard)\n",
      "77   On the Run 42382 | (463 Falconbridge Rd)\n",
      "\n",
      "[78 rows x 1 columns]\n"
     ]
    }
   ],
   "source": [
    "# Restaurant name\n",
    "\n",
    "res_name = soup.find_all('div', class_='al ii br iw c3')\n",
    "restaurants = []\n",
    "\n",
    "for i in res_name:\n",
    "    restaurant = i.find('h3').text.strip()\n",
    "    restaurants.append(restaurant)\n",
    "\n",
    "df = pd.DataFrame(restaurants, columns=['Restaurant Name'])\n",
    "print(df)"
   ]
  },
  {
   "cell_type": "code",
   "execution_count": 23,
   "id": "4a9881ba",
   "metadata": {
    "scrolled": true
   },
   "outputs": [
    {
     "name": "stdout",
     "output_type": "stream",
     "text": [
      "   Rating\n",
      "0     New\n",
      "1     3.7\n",
      "2     4.5\n",
      "3     4.3\n",
      "4     New\n",
      "..    ...\n",
      "73    4.9\n",
      "74    New\n",
      "75    New\n",
      "76    4.5\n",
      "77    New\n",
      "\n",
      "[78 rows x 1 columns]\n"
     ]
    }
   ],
   "source": [
    "# Rating information \n",
    "\n",
    "\n",
    "res_Rating = soup.find_all('div', class_='br al b9 bm c3 dd ix')\n",
    "\n",
    "ratings = []\n",
    "\n",
    "for i in res_Rating:\n",
    "    rating = i.find('div').text.strip()\n",
    "    ratings.append(rating)\n",
    "\n",
    "df2 = pd.DataFrame(ratings, columns=['Rating'])\n",
    "print(df2)"
   ]
  },
  {
   "cell_type": "code",
   "execution_count": 24,
   "id": "fee02591",
   "metadata": {},
   "outputs": [
    {
     "name": "stdout",
     "output_type": "stream",
     "text": [
      "                                              Address\n",
      "0               1500 Paris St., Sudbury, NAMER P3E3B5\n",
      "1                 840 Norte Dame Ave, Sudbury, ON P3A\n",
      "2     82 Cedar Street, Greater Sudbury, NAMER P3E 1A5\n",
      "3          660 Notre Dame Avenue, Sudbury, ON P3C 5L2\n",
      "4                  52 Elm Street, Sudbury, ON P3C 1S7\n",
      "..                                                ...\n",
      "73  1894 Lasalle Boulevard, Level / Suite 5, Great...\n",
      "74  2040 Algonquin Rd. , Unit 30, Sudbury, ON P3E 4Z6\n",
      "75             1837 Lasalle Blvd, Sudbury, ON P3A 2A3\n",
      "76       1250 Lasalle Boulevard, Sudbury, ONTARIO P3A\n",
      "77              463 Falconbridge, SUDBURY, ON P3A 5N4\n",
      "\n",
      "[78 rows x 1 columns]\n"
     ]
    }
   ],
   "source": [
    "# Address\n",
    "res_Address = soup.find_all('div', class_='fz j4 al ii')\n",
    "addresses = []\n",
    "\n",
    "for i in res_Address:\n",
    "    if i.text:\n",
    "        spans = i.find_all('span')\n",
    "        if len(spans) > 1:\n",
    "            address = spans[1].text.strip()\n",
    "            addresses.append(address)\n",
    "\n",
    "df3 = pd.DataFrame(addresses, columns=['Address'])\n",
    "print(df3)"
   ]
  },
  {
   "cell_type": "code",
   "execution_count": 25,
   "id": "042043d8",
   "metadata": {},
   "outputs": [
    {
     "name": "stdout",
     "output_type": "stream",
     "text": [
      "               Category\n",
      "0               Grocery\n",
      "1               Chinese\n",
      "2                 Pizza\n",
      "3              American\n",
      "4                 Wings\n",
      "..                  ...\n",
      "73                Pizza\n",
      "74               Snacks\n",
      "75             American\n",
      "76              Mexican\n",
      "77  Everyday Essentials\n",
      "\n",
      "[78 rows x 1 columns]\n"
     ]
    }
   ],
   "source": [
    "# Category\n",
    "res_category = soup.find_all('div', class_='al ii br iw c3')\n",
    "categories = []\n",
    "\n",
    "for i in res_category:\n",
    "    span_text = i.find('span').text.strip()\n",
    "    category = span_text.split('•')[0].strip()\n",
    "    categories.append(category)\n",
    "\n",
    "df4 = pd.DataFrame(categories, columns=['Category'])\n",
    "print(df4)"
   ]
  },
  {
   "cell_type": "code",
   "execution_count": 26,
   "id": "c2784c43",
   "metadata": {},
   "outputs": [
    {
     "data": {
      "text/html": [
       "<div>\n",
       "<style scoped>\n",
       "    .dataframe tbody tr th:only-of-type {\n",
       "        vertical-align: middle;\n",
       "    }\n",
       "\n",
       "    .dataframe tbody tr th {\n",
       "        vertical-align: top;\n",
       "    }\n",
       "\n",
       "    .dataframe thead th {\n",
       "        text-align: right;\n",
       "    }\n",
       "</style>\n",
       "<table border=\"1\" class=\"dataframe\">\n",
       "  <thead>\n",
       "    <tr style=\"text-align: right;\">\n",
       "      <th></th>\n",
       "      <th>Restaurant Name</th>\n",
       "      <th>Rating</th>\n",
       "      <th>Category</th>\n",
       "      <th>Address</th>\n",
       "    </tr>\n",
       "  </thead>\n",
       "  <tbody>\n",
       "    <tr>\n",
       "      <th>0</th>\n",
       "      <td>M&amp;M Food Market (Sudbury-Paris)</td>\n",
       "      <td>New</td>\n",
       "      <td>Grocery</td>\n",
       "      <td>1500 Paris St., Sudbury, NAMER P3E3B5</td>\n",
       "    </tr>\n",
       "    <tr>\n",
       "      <th>1</th>\n",
       "      <td>Win Fortune</td>\n",
       "      <td>3.7</td>\n",
       "      <td>Chinese</td>\n",
       "      <td>840 Norte Dame Ave, Sudbury, ON P3A</td>\n",
       "    </tr>\n",
       "    <tr>\n",
       "      <th>2</th>\n",
       "      <td>Popular Pizza (Sudbury)</td>\n",
       "      <td>4.5</td>\n",
       "      <td>Pizza</td>\n",
       "      <td>82 Cedar Street, Greater Sudbury, NAMER P3E 1A5</td>\n",
       "    </tr>\n",
       "    <tr>\n",
       "      <th>3</th>\n",
       "      <td>Burger King #3579 (660 Notre Dame Avenue)</td>\n",
       "      <td>4.3</td>\n",
       "      <td>American</td>\n",
       "      <td>660 Notre Dame Avenue, Sudbury, ON P3C 5L2</td>\n",
       "    </tr>\n",
       "    <tr>\n",
       "      <th>4</th>\n",
       "      <td>Chicken Chicken (52 Elm Street)</td>\n",
       "      <td>New</td>\n",
       "      <td>Wings</td>\n",
       "      <td>52 Elm Street, Sudbury, ON P3C 1S7</td>\n",
       "    </tr>\n",
       "  </tbody>\n",
       "</table>\n",
       "</div>"
      ],
      "text/plain": [
       "                             Restaurant Name Rating  Category  \\\n",
       "0            M&M Food Market (Sudbury-Paris)    New   Grocery   \n",
       "1                                Win Fortune    3.7   Chinese   \n",
       "2                    Popular Pizza (Sudbury)    4.5     Pizza   \n",
       "3  Burger King #3579 (660 Notre Dame Avenue)    4.3  American   \n",
       "4            Chicken Chicken (52 Elm Street)    New     Wings   \n",
       "\n",
       "                                           Address  \n",
       "0            1500 Paris St., Sudbury, NAMER P3E3B5  \n",
       "1              840 Norte Dame Ave, Sudbury, ON P3A  \n",
       "2  82 Cedar Street, Greater Sudbury, NAMER P3E 1A5  \n",
       "3       660 Notre Dame Avenue, Sudbury, ON P3C 5L2  \n",
       "4               52 Elm Street, Sudbury, ON P3C 1S7  "
      ]
     },
     "execution_count": 26,
     "metadata": {},
     "output_type": "execute_result"
    }
   ],
   "source": [
    "# Join the DataFrames in the desired order\n",
    "result = pd.concat([df, df2, df4, df3], axis=1)\n",
    "\n",
    "result.head()"
   ]
  },
  {
   "cell_type": "code",
   "execution_count": 27,
   "id": "1021338a",
   "metadata": {},
   "outputs": [],
   "source": [
    "# Export the joined DataFrame to an Excel file\n",
    "result.to_csv('greater-sudbury-on.csv', index=False)"
   ]
  },
  {
   "cell_type": "code",
   "execution_count": 28,
   "id": "0c41a08a",
   "metadata": {},
   "outputs": [],
   "source": [
    "browser.quit()"
   ]
  },
  {
   "cell_type": "code",
   "execution_count": null,
   "id": "dbc2712a",
   "metadata": {},
   "outputs": [],
   "source": []
  }
 ],
 "metadata": {
  "kernelspec": {
   "display_name": "Python 3 (ipykernel)",
   "language": "python",
   "name": "python3"
  },
  "language_info": {
   "codemirror_mode": {
    "name": "ipython",
    "version": 3
   },
   "file_extension": ".py",
   "mimetype": "text/x-python",
   "name": "python",
   "nbconvert_exporter": "python",
   "pygments_lexer": "ipython3",
   "version": "3.9.13"
  }
 },
 "nbformat": 4,
 "nbformat_minor": 5
}
