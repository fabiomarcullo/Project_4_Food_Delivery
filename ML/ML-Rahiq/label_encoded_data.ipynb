{
  "nbformat": 4,
  "nbformat_minor": 0,
  "metadata": {
    "colab": {
      "provenance": []
    },
    "kernelspec": {
      "name": "python3",
      "display_name": "Python 3"
    },
    "language_info": {
      "name": "python"
    }
  },
  "cells": [
    {
      "cell_type": "markdown",
      "source": [
        "# Importing the libraires"
      ],
      "metadata": {
        "id": "L6CcoPxuTVHt"
      }
    },
    {
      "cell_type": "code",
      "execution_count": 2,
      "metadata": {
        "id": "w6lYAWSMP7Z9"
      },
      "outputs": [],
      "source": [
        "import numpy as np\n",
        "import pandas as pd\n",
        "import seaborn as sns\n",
        "import matplotlib.pyplot as plt"
      ]
    },
    {
      "cell_type": "markdown",
      "source": [
        "# Importing the data"
      ],
      "metadata": {
        "id": "nRmkBarYTP2j"
      }
    },
    {
      "cell_type": "code",
      "source": [
        "data = pd.read_csv('restaurants_with_sentiment.csv')\n",
        "data.head()"
      ],
      "metadata": {
        "colab": {
          "base_uri": "https://localhost:8080/",
          "height": 704
        },
        "id": "GHA8dimVS8-3",
        "outputId": "bfacc4f7-cf7b-4a26-ae24-ea8bc4c97654"
      },
      "execution_count": 3,
      "outputs": [
        {
          "output_type": "execute_result",
          "data": {
            "text/plain": [
              "                Restaurant_Name   Category  \\\n",
              "0  Wendy's (10365 111th Street)  Fast food   \n",
              "1  Wendy's (10365 111th Street)  Fast food   \n",
              "2  Wendy's (10365 111th Street)  Fast food   \n",
              "3  Wendy's (10365 111th Street)  Fast food   \n",
              "4  Wendy's (10365 111th Street)  Fast food   \n",
              "\n",
              "                                    Address Province   Latitude   Longitude  \\\n",
              "0  10365 111th Street, Edmonton, AB T5K 2V3       AB  53.545878 -113.510914   \n",
              "1  10365 111th Street, Edmonton, AB T5K 2V3       AB  53.545878 -113.510914   \n",
              "2  10365 111th Street, Edmonton, AB T5K 2V3       AB  53.545878 -113.510914   \n",
              "3  10365 111th Street, Edmonton, AB T5K 2V3       AB  53.545878 -113.510914   \n",
              "4  10365 111th Street, Edmonton, AB T5K 2V3       AB  53.545878 -113.510914   \n",
              "\n",
              "   Rating                                             Review  Sentiment_score  \\\n",
              "0       5  the food met my expectation the seating area w...           0.9607   \n",
              "1       2  its a wendys their food is good better than mc...           0.1966   \n",
              "2       3  i love the taste of this food as it tastes lik...           0.8198   \n",
              "3       5  this is the best wendys ive ever been to incre...           0.9287   \n",
              "4       5  i been here so many times i never had a proble...           0.5613   \n",
              "\n",
              "  Sentiment  \n",
              "0      Good  \n",
              "1       Bad  \n",
              "2      Good  \n",
              "3      Good  \n",
              "4      Good  "
            ],
            "text/html": [
              "\n",
              "\n",
              "  <div id=\"df-0e77271f-76ac-4db4-a353-ad58a9124ee8\">\n",
              "    <div class=\"colab-df-container\">\n",
              "      <div>\n",
              "<style scoped>\n",
              "    .dataframe tbody tr th:only-of-type {\n",
              "        vertical-align: middle;\n",
              "    }\n",
              "\n",
              "    .dataframe tbody tr th {\n",
              "        vertical-align: top;\n",
              "    }\n",
              "\n",
              "    .dataframe thead th {\n",
              "        text-align: right;\n",
              "    }\n",
              "</style>\n",
              "<table border=\"1\" class=\"dataframe\">\n",
              "  <thead>\n",
              "    <tr style=\"text-align: right;\">\n",
              "      <th></th>\n",
              "      <th>Restaurant_Name</th>\n",
              "      <th>Category</th>\n",
              "      <th>Address</th>\n",
              "      <th>Province</th>\n",
              "      <th>Latitude</th>\n",
              "      <th>Longitude</th>\n",
              "      <th>Rating</th>\n",
              "      <th>Review</th>\n",
              "      <th>Sentiment_score</th>\n",
              "      <th>Sentiment</th>\n",
              "    </tr>\n",
              "  </thead>\n",
              "  <tbody>\n",
              "    <tr>\n",
              "      <th>0</th>\n",
              "      <td>Wendy's (10365 111th Street)</td>\n",
              "      <td>Fast food</td>\n",
              "      <td>10365 111th Street, Edmonton, AB T5K 2V3</td>\n",
              "      <td>AB</td>\n",
              "      <td>53.545878</td>\n",
              "      <td>-113.510914</td>\n",
              "      <td>5</td>\n",
              "      <td>the food met my expectation the seating area w...</td>\n",
              "      <td>0.9607</td>\n",
              "      <td>Good</td>\n",
              "    </tr>\n",
              "    <tr>\n",
              "      <th>1</th>\n",
              "      <td>Wendy's (10365 111th Street)</td>\n",
              "      <td>Fast food</td>\n",
              "      <td>10365 111th Street, Edmonton, AB T5K 2V3</td>\n",
              "      <td>AB</td>\n",
              "      <td>53.545878</td>\n",
              "      <td>-113.510914</td>\n",
              "      <td>2</td>\n",
              "      <td>its a wendys their food is good better than mc...</td>\n",
              "      <td>0.1966</td>\n",
              "      <td>Bad</td>\n",
              "    </tr>\n",
              "    <tr>\n",
              "      <th>2</th>\n",
              "      <td>Wendy's (10365 111th Street)</td>\n",
              "      <td>Fast food</td>\n",
              "      <td>10365 111th Street, Edmonton, AB T5K 2V3</td>\n",
              "      <td>AB</td>\n",
              "      <td>53.545878</td>\n",
              "      <td>-113.510914</td>\n",
              "      <td>3</td>\n",
              "      <td>i love the taste of this food as it tastes lik...</td>\n",
              "      <td>0.8198</td>\n",
              "      <td>Good</td>\n",
              "    </tr>\n",
              "    <tr>\n",
              "      <th>3</th>\n",
              "      <td>Wendy's (10365 111th Street)</td>\n",
              "      <td>Fast food</td>\n",
              "      <td>10365 111th Street, Edmonton, AB T5K 2V3</td>\n",
              "      <td>AB</td>\n",
              "      <td>53.545878</td>\n",
              "      <td>-113.510914</td>\n",
              "      <td>5</td>\n",
              "      <td>this is the best wendys ive ever been to incre...</td>\n",
              "      <td>0.9287</td>\n",
              "      <td>Good</td>\n",
              "    </tr>\n",
              "    <tr>\n",
              "      <th>4</th>\n",
              "      <td>Wendy's (10365 111th Street)</td>\n",
              "      <td>Fast food</td>\n",
              "      <td>10365 111th Street, Edmonton, AB T5K 2V3</td>\n",
              "      <td>AB</td>\n",
              "      <td>53.545878</td>\n",
              "      <td>-113.510914</td>\n",
              "      <td>5</td>\n",
              "      <td>i been here so many times i never had a proble...</td>\n",
              "      <td>0.5613</td>\n",
              "      <td>Good</td>\n",
              "    </tr>\n",
              "  </tbody>\n",
              "</table>\n",
              "</div>\n",
              "      <button class=\"colab-df-convert\" onclick=\"convertToInteractive('df-0e77271f-76ac-4db4-a353-ad58a9124ee8')\"\n",
              "              title=\"Convert this dataframe to an interactive table.\"\n",
              "              style=\"display:none;\">\n",
              "\n",
              "  <svg xmlns=\"http://www.w3.org/2000/svg\" height=\"24px\"viewBox=\"0 0 24 24\"\n",
              "       width=\"24px\">\n",
              "    <path d=\"M0 0h24v24H0V0z\" fill=\"none\"/>\n",
              "    <path d=\"M18.56 5.44l.94 2.06.94-2.06 2.06-.94-2.06-.94-.94-2.06-.94 2.06-2.06.94zm-11 1L8.5 8.5l.94-2.06 2.06-.94-2.06-.94L8.5 2.5l-.94 2.06-2.06.94zm10 10l.94 2.06.94-2.06 2.06-.94-2.06-.94-.94-2.06-.94 2.06-2.06.94z\"/><path d=\"M17.41 7.96l-1.37-1.37c-.4-.4-.92-.59-1.43-.59-.52 0-1.04.2-1.43.59L10.3 9.45l-7.72 7.72c-.78.78-.78 2.05 0 2.83L4 21.41c.39.39.9.59 1.41.59.51 0 1.02-.2 1.41-.59l7.78-7.78 2.81-2.81c.8-.78.8-2.07 0-2.86zM5.41 20L4 18.59l7.72-7.72 1.47 1.35L5.41 20z\"/>\n",
              "  </svg>\n",
              "      </button>\n",
              "\n",
              "\n",
              "\n",
              "    <div id=\"df-a9df3ad1-26f8-4458-a665-f234a6a074fc\">\n",
              "      <button class=\"colab-df-quickchart\" onclick=\"quickchart('df-a9df3ad1-26f8-4458-a665-f234a6a074fc')\"\n",
              "              title=\"Suggest charts.\"\n",
              "              style=\"display:none;\">\n",
              "\n",
              "<svg xmlns=\"http://www.w3.org/2000/svg\" height=\"24px\"viewBox=\"0 0 24 24\"\n",
              "     width=\"24px\">\n",
              "    <g>\n",
              "        <path d=\"M19 3H5c-1.1 0-2 .9-2 2v14c0 1.1.9 2 2 2h14c1.1 0 2-.9 2-2V5c0-1.1-.9-2-2-2zM9 17H7v-7h2v7zm4 0h-2V7h2v10zm4 0h-2v-4h2v4z\"/>\n",
              "    </g>\n",
              "</svg>\n",
              "      </button>\n",
              "    </div>\n",
              "\n",
              "<style>\n",
              "  .colab-df-quickchart {\n",
              "    background-color: #E8F0FE;\n",
              "    border: none;\n",
              "    border-radius: 50%;\n",
              "    cursor: pointer;\n",
              "    display: none;\n",
              "    fill: #1967D2;\n",
              "    height: 32px;\n",
              "    padding: 0 0 0 0;\n",
              "    width: 32px;\n",
              "  }\n",
              "\n",
              "  .colab-df-quickchart:hover {\n",
              "    background-color: #E2EBFA;\n",
              "    box-shadow: 0px 1px 2px rgba(60, 64, 67, 0.3), 0px 1px 3px 1px rgba(60, 64, 67, 0.15);\n",
              "    fill: #174EA6;\n",
              "  }\n",
              "\n",
              "  [theme=dark] .colab-df-quickchart {\n",
              "    background-color: #3B4455;\n",
              "    fill: #D2E3FC;\n",
              "  }\n",
              "\n",
              "  [theme=dark] .colab-df-quickchart:hover {\n",
              "    background-color: #434B5C;\n",
              "    box-shadow: 0px 1px 3px 1px rgba(0, 0, 0, 0.15);\n",
              "    filter: drop-shadow(0px 1px 2px rgba(0, 0, 0, 0.3));\n",
              "    fill: #FFFFFF;\n",
              "  }\n",
              "</style>\n",
              "\n",
              "    <script>\n",
              "      async function quickchart(key) {\n",
              "        const containerElement = document.querySelector('#' + key);\n",
              "        const charts = await google.colab.kernel.invokeFunction(\n",
              "            'suggestCharts', [key], {});\n",
              "      }\n",
              "    </script>\n",
              "\n",
              "      <script>\n",
              "\n",
              "function displayQuickchartButton(domScope) {\n",
              "  let quickchartButtonEl =\n",
              "    domScope.querySelector('#df-a9df3ad1-26f8-4458-a665-f234a6a074fc button.colab-df-quickchart');\n",
              "  quickchartButtonEl.style.display =\n",
              "    google.colab.kernel.accessAllowed ? 'block' : 'none';\n",
              "}\n",
              "\n",
              "        displayQuickchartButton(document);\n",
              "      </script>\n",
              "      <style>\n",
              "    .colab-df-container {\n",
              "      display:flex;\n",
              "      flex-wrap:wrap;\n",
              "      gap: 12px;\n",
              "    }\n",
              "\n",
              "    .colab-df-convert {\n",
              "      background-color: #E8F0FE;\n",
              "      border: none;\n",
              "      border-radius: 50%;\n",
              "      cursor: pointer;\n",
              "      display: none;\n",
              "      fill: #1967D2;\n",
              "      height: 32px;\n",
              "      padding: 0 0 0 0;\n",
              "      width: 32px;\n",
              "    }\n",
              "\n",
              "    .colab-df-convert:hover {\n",
              "      background-color: #E2EBFA;\n",
              "      box-shadow: 0px 1px 2px rgba(60, 64, 67, 0.3), 0px 1px 3px 1px rgba(60, 64, 67, 0.15);\n",
              "      fill: #174EA6;\n",
              "    }\n",
              "\n",
              "    [theme=dark] .colab-df-convert {\n",
              "      background-color: #3B4455;\n",
              "      fill: #D2E3FC;\n",
              "    }\n",
              "\n",
              "    [theme=dark] .colab-df-convert:hover {\n",
              "      background-color: #434B5C;\n",
              "      box-shadow: 0px 1px 3px 1px rgba(0, 0, 0, 0.15);\n",
              "      filter: drop-shadow(0px 1px 2px rgba(0, 0, 0, 0.3));\n",
              "      fill: #FFFFFF;\n",
              "    }\n",
              "  </style>\n",
              "\n",
              "      <script>\n",
              "        const buttonEl =\n",
              "          document.querySelector('#df-0e77271f-76ac-4db4-a353-ad58a9124ee8 button.colab-df-convert');\n",
              "        buttonEl.style.display =\n",
              "          google.colab.kernel.accessAllowed ? 'block' : 'none';\n",
              "\n",
              "        async function convertToInteractive(key) {\n",
              "          const element = document.querySelector('#df-0e77271f-76ac-4db4-a353-ad58a9124ee8');\n",
              "          const dataTable =\n",
              "            await google.colab.kernel.invokeFunction('convertToInteractive',\n",
              "                                                     [key], {});\n",
              "          if (!dataTable) return;\n",
              "\n",
              "          const docLinkHtml = 'Like what you see? Visit the ' +\n",
              "            '<a target=\"_blank\" href=https://colab.research.google.com/notebooks/data_table.ipynb>data table notebook</a>'\n",
              "            + ' to learn more about interactive tables.';\n",
              "          element.innerHTML = '';\n",
              "          dataTable['output_type'] = 'display_data';\n",
              "          await google.colab.output.renderOutput(dataTable, element);\n",
              "          const docLink = document.createElement('div');\n",
              "          docLink.innerHTML = docLinkHtml;\n",
              "          element.appendChild(docLink);\n",
              "        }\n",
              "      </script>\n",
              "    </div>\n",
              "  </div>\n"
            ]
          },
          "metadata": {},
          "execution_count": 3
        }
      ]
    },
    {
      "cell_type": "markdown",
      "source": [
        "# checking the shape of dataset"
      ],
      "metadata": {
        "id": "nQc1xvJ4Tf36"
      }
    },
    {
      "cell_type": "code",
      "source": [
        "data.shape"
      ],
      "metadata": {
        "colab": {
          "base_uri": "https://localhost:8080/"
        },
        "id": "49Q8UJpdTIr7",
        "outputId": "602e305c-e36c-41fa-afa9-91888b4ebf12"
      },
      "execution_count": 4,
      "outputs": [
        {
          "output_type": "execute_result",
          "data": {
            "text/plain": [
              "(5020, 10)"
            ]
          },
          "metadata": {},
          "execution_count": 4
        }
      ]
    },
    {
      "cell_type": "markdown",
      "source": [
        "there are total 5020 samples with 10 features.\n",
        "\n"
      ],
      "metadata": {
        "id": "y67lMzzOTrQa"
      }
    },
    {
      "cell_type": "code",
      "source": [
        "data.columns"
      ],
      "metadata": {
        "colab": {
          "base_uri": "https://localhost:8080/"
        },
        "outputId": "810db033-a75d-4dc4-deae-ab519dbcd9b3",
        "id": "DMl_RpmGTvnu"
      },
      "execution_count": 5,
      "outputs": [
        {
          "output_type": "execute_result",
          "data": {
            "text/plain": [
              "Index(['Restaurant_Name', 'Category', 'Address', 'Province', 'Latitude',\n",
              "       'Longitude', 'Rating', 'Review', 'Sentiment_score', 'Sentiment'],\n",
              "      dtype='object')"
            ]
          },
          "metadata": {},
          "execution_count": 5
        }
      ]
    },
    {
      "cell_type": "code",
      "source": [
        "data.info()"
      ],
      "metadata": {
        "colab": {
          "base_uri": "https://localhost:8080/"
        },
        "id": "tv7h-eDtTmIZ",
        "outputId": "229a1490-6cf0-41f0-a980-bafdb5dfde9a"
      },
      "execution_count": 6,
      "outputs": [
        {
          "output_type": "stream",
          "name": "stdout",
          "text": [
            "<class 'pandas.core.frame.DataFrame'>\n",
            "RangeIndex: 5020 entries, 0 to 5019\n",
            "Data columns (total 10 columns):\n",
            " #   Column           Non-Null Count  Dtype  \n",
            "---  ------           --------------  -----  \n",
            " 0   Restaurant_Name  5020 non-null   object \n",
            " 1   Category         5020 non-null   object \n",
            " 2   Address          5020 non-null   object \n",
            " 3   Province         5020 non-null   object \n",
            " 4   Latitude         5020 non-null   float64\n",
            " 5   Longitude        5020 non-null   float64\n",
            " 6   Rating           5020 non-null   int64  \n",
            " 7   Review           5009 non-null   object \n",
            " 8   Sentiment_score  5020 non-null   float64\n",
            " 9   Sentiment        5020 non-null   object \n",
            "dtypes: float64(3), int64(1), object(6)\n",
            "memory usage: 392.3+ KB\n"
          ]
        }
      ]
    },
    {
      "cell_type": "markdown",
      "source": [
        "#2. Data Cleaning\n",
        "# 2.1 checking the missing values"
      ],
      "metadata": {
        "id": "EbvNdPw8UCD6"
      }
    },
    {
      "cell_type": "code",
      "source": [
        "data.isnull().sum()"
      ],
      "metadata": {
        "colab": {
          "base_uri": "https://localhost:8080/"
        },
        "id": "laAecBS9T5O3",
        "outputId": "13ae763c-7071-47a2-e802-3ec67b593aca"
      },
      "execution_count": 7,
      "outputs": [
        {
          "output_type": "execute_result",
          "data": {
            "text/plain": [
              "Restaurant_Name     0\n",
              "Category            0\n",
              "Address             0\n",
              "Province            0\n",
              "Latitude            0\n",
              "Longitude           0\n",
              "Rating              0\n",
              "Review             11\n",
              "Sentiment_score     0\n",
              "Sentiment           0\n",
              "dtype: int64"
            ]
          },
          "metadata": {},
          "execution_count": 7
        }
      ]
    },
    {
      "cell_type": "markdown",
      "source": [
        "Review columns has 11 missing values so we will need to handle that"
      ],
      "metadata": {
        "id": "gY2QTwahUj5j"
      }
    },
    {
      "cell_type": "code",
      "source": [
        "data.dropna(inplace = True)"
      ],
      "metadata": {
        "id": "HIsZMsB3UAL-"
      },
      "execution_count": 8,
      "outputs": []
    },
    {
      "cell_type": "code",
      "source": [
        "data.isnull().sum()"
      ],
      "metadata": {
        "colab": {
          "base_uri": "https://localhost:8080/"
        },
        "id": "6agODWYCUdtj",
        "outputId": "836151e9-96d8-436a-bc08-6bec8320b975"
      },
      "execution_count": 9,
      "outputs": [
        {
          "output_type": "execute_result",
          "data": {
            "text/plain": [
              "Restaurant_Name    0\n",
              "Category           0\n",
              "Address            0\n",
              "Province           0\n",
              "Latitude           0\n",
              "Longitude          0\n",
              "Rating             0\n",
              "Review             0\n",
              "Sentiment_score    0\n",
              "Sentiment          0\n",
              "dtype: int64"
            ]
          },
          "metadata": {},
          "execution_count": 9
        }
      ]
    },
    {
      "cell_type": "markdown",
      "source": [
        "Now there is no null value"
      ],
      "metadata": {
        "id": "I0SDgcE8UvHy"
      }
    },
    {
      "cell_type": "markdown",
      "source": [
        "# checking the duplicates, handling the duplicates values, removing special charcters and numerical values  "
      ],
      "metadata": {
        "id": "3_fi73v7U0vV"
      }
    },
    {
      "cell_type": "code",
      "source": [
        "data.duplicated().sum()"
      ],
      "metadata": {
        "colab": {
          "base_uri": "https://localhost:8080/"
        },
        "id": "BZ1YROB7Uf0T",
        "outputId": "402f0390-9b54-4325-f01e-602effe026fb"
      },
      "execution_count": 10,
      "outputs": [
        {
          "output_type": "execute_result",
          "data": {
            "text/plain": [
              "204"
            ]
          },
          "metadata": {},
          "execution_count": 10
        }
      ]
    },
    {
      "cell_type": "code",
      "source": [
        "data.drop_duplicates(inplace = True)\n",
        "data.duplicated().sum()"
      ],
      "metadata": {
        "colab": {
          "base_uri": "https://localhost:8080/"
        },
        "id": "fUjEjlWTU5sG",
        "outputId": "c7c4f662-2f9c-4151-a4d1-eca951a1a5ac"
      },
      "execution_count": 11,
      "outputs": [
        {
          "output_type": "execute_result",
          "data": {
            "text/plain": [
              "0"
            ]
          },
          "metadata": {},
          "execution_count": 11
        }
      ]
    },
    {
      "cell_type": "code",
      "source": [
        "data['Rating'].unique()"
      ],
      "metadata": {
        "colab": {
          "base_uri": "https://localhost:8080/"
        },
        "id": "l6iTS2HqVW6k",
        "outputId": "663a436c-88b8-412b-dade-bec494488ff4"
      },
      "execution_count": 12,
      "outputs": [
        {
          "output_type": "execute_result",
          "data": {
            "text/plain": [
              "array([5, 2, 3, 4, 1])"
            ]
          },
          "metadata": {},
          "execution_count": 12
        }
      ]
    },
    {
      "cell_type": "code",
      "source": [
        "data['Rating'] = data['Rating'].apply(lambda x: float(x))\n",
        "data['Rating']"
      ],
      "metadata": {
        "colab": {
          "base_uri": "https://localhost:8080/"
        },
        "id": "5kh4t3T-VwOA",
        "outputId": "c00050e7-dcbe-4048-e60d-97611308ec63"
      },
      "execution_count": 13,
      "outputs": [
        {
          "output_type": "execute_result",
          "data": {
            "text/plain": [
              "0       5.0\n",
              "1       2.0\n",
              "2       3.0\n",
              "3       5.0\n",
              "4       5.0\n",
              "       ... \n",
              "5015    5.0\n",
              "5016    5.0\n",
              "5017    5.0\n",
              "5018    5.0\n",
              "5019    5.0\n",
              "Name: Rating, Length: 4805, dtype: float64"
            ]
          },
          "metadata": {},
          "execution_count": 13
        }
      ]
    },
    {
      "cell_type": "code",
      "source": [
        "data[\"Review\"].unique()"
      ],
      "metadata": {
        "colab": {
          "base_uri": "https://localhost:8080/"
        },
        "id": "eFLKlG9gWJpO",
        "outputId": "22dd1ea1-0b63-4ea4-f3c2-f2de5c22e357"
      },
      "execution_count": 14,
      "outputs": [
        {
          "output_type": "execute_result",
          "data": {
            "text/plain": [
              "array(['the food met my expectation the seating area was clean and comfortable the staff member who helped me was wearing a mask it was difficult to assess her demeanor but over a nice person i am happy to recommend this restaurant to my friends and family',\n",
              "       'its a wendys their food is good better than mcdonalds usually that being said youre probably wondering ok so why a 25\\r\\n\\r\\nheres the thing they miss items in orders rather often often as in 95 of the orders ive made here have had missing items or been just completely wrong\\r\\nof course the reason for this issue could be any number of things it could be point of sale or just lack of coordination or anything else all i know is that this has not improved with time\\r\\n\\r\\ni just want my darn large chocolate frosty its on the receipt theres a spoon in the bag but no frosty to be found\\r\\ni dont know what i should expect continually ordering here but i just want the friggin frosty i ordered i mean seriously thats the item wendys is known for its printed down on the receipt its the only cold thing its in a cup as opposed to metallic wrapping the food has there are infinite opportunities to notice hey theres something missing here\\r\\n\\r\\nthe only reason this isnt a 15 is because their food is good\\r\\n\\r\\n\\r\\ni just want my frosty man',\n",
              "       'i love the taste of this food as it tastes like there is some realness in this brand of fast food  thats not to forget its still fast food when it comes to fast food places i choose the establishment similar to making a choice in a dilemma as far as the atmosphere well it felt like everyone was in a dilemma and stress was aparent i think ive had more stress free visits at wendys considering  that the crowd was less  conscientious or more hungry',\n",
              "       ..., 'excellent service', 'super service', 'super '], dtype=object)"
            ]
          },
          "metadata": {},
          "execution_count": 14
        }
      ]
    },
    {
      "cell_type": "code",
      "source": [
        "import re"
      ],
      "metadata": {
        "id": "DKPGQYmKWl9i"
      },
      "execution_count": 15,
      "outputs": []
    },
    {
      "cell_type": "code",
      "source": [
        "def remove_special_characters(text):\n",
        "    # Regular expression to keep only alphanumeric characters and spaces\n",
        "    cleaned_text = re.sub(r'[^A-Za-z0-9\\s]', '', text)\n",
        "       # Remove special characters \\r, \\n, \\t, \\i, and numbers\n",
        "    cleaned_text = re.sub(r'[\\r\\n\\ti0-9]', '', text)\n",
        "    # Remove extra spaces resulting from character removal\n",
        "    cleaned_text = re.sub(r'\\s+', ' ', cleaned_text)\n",
        "    return cleaned_text.strip()\n",
        "\n",
        "data['Review'] = data['Review'].apply(remove_special_characters)\n"
      ],
      "metadata": {
        "id": "vkti-qWCXkTB"
      },
      "execution_count": 16,
      "outputs": []
    },
    {
      "cell_type": "code",
      "source": [
        "data[\"Review\"].unique()"
      ],
      "metadata": {
        "colab": {
          "base_uri": "https://localhost:8080/"
        },
        "id": "JfCfFlU-XwD7",
        "outputId": "8484f421-b360-4f2c-eca2-8fdfe4b1ef14"
      },
      "execution_count": 17,
      "outputs": [
        {
          "output_type": "execute_result",
          "data": {
            "text/plain": [
              "array(['the food met my expectaton the seatng area was clean and comfortable the staff member who helped me was wearng a mask t was dffcult to assess her demeanor but over a nce person am happy to recommend ths restaurant to my frends and famly',\n",
              "       'ts a wendys ther food s good better than mcdonalds usually that beng sad youre probably wonderng ok so why a heres the thng they mss tems n orders rather often often as n of the orders ve made here have had mssng tems or been just completely wrongof course the reason for ths ssue could be any number of thngs t could be pont of sale or just lack of coordnaton or anythng else all know s that ths has not mproved wth tme just want my darn large chocolate frosty ts on the recept theres a spoon n the bag but no frosty to be found dont know what should expect contnually orderng here but just want the frggn frosty ordered mean serously thats the tem wendys s known for ts prnted down on the recept ts the only cold thng ts n a cup as opposed to metallc wrappng the food has there are nfnte opportuntes to notce hey theres somethng mssng herethe only reason ths snt a s because ther food s good just want my frosty man',\n",
              "       'love the taste of ths food as t tastes lke there s some realness n ths brand of fast food thats not to forget ts stll fast food when t comes to fast food places choose the establshment smlar to makng a choce n a dlemma as far as the atmosphere well t felt lke everyone was n a dlemma and stress was aparent thnk ve had more stress free vsts at wendys consderng that the crowd was less conscentous or more hungry',\n",
              "       ..., 'excellenent customer servce from the owner and hs team',\n",
              "       'excellent servce', 'super'], dtype=object)"
            ]
          },
          "metadata": {},
          "execution_count": 17
        }
      ]
    },
    {
      "cell_type": "code",
      "source": [
        "data.head()"
      ],
      "metadata": {
        "colab": {
          "base_uri": "https://localhost:8080/",
          "height": 704
        },
        "id": "P6D0FTeEXzWB",
        "outputId": "f5839080-907b-4952-d844-f8105c5e03ed"
      },
      "execution_count": 18,
      "outputs": [
        {
          "output_type": "execute_result",
          "data": {
            "text/plain": [
              "                Restaurant_Name   Category  \\\n",
              "0  Wendy's (10365 111th Street)  Fast food   \n",
              "1  Wendy's (10365 111th Street)  Fast food   \n",
              "2  Wendy's (10365 111th Street)  Fast food   \n",
              "3  Wendy's (10365 111th Street)  Fast food   \n",
              "4  Wendy's (10365 111th Street)  Fast food   \n",
              "\n",
              "                                    Address Province   Latitude   Longitude  \\\n",
              "0  10365 111th Street, Edmonton, AB T5K 2V3       AB  53.545878 -113.510914   \n",
              "1  10365 111th Street, Edmonton, AB T5K 2V3       AB  53.545878 -113.510914   \n",
              "2  10365 111th Street, Edmonton, AB T5K 2V3       AB  53.545878 -113.510914   \n",
              "3  10365 111th Street, Edmonton, AB T5K 2V3       AB  53.545878 -113.510914   \n",
              "4  10365 111th Street, Edmonton, AB T5K 2V3       AB  53.545878 -113.510914   \n",
              "\n",
              "   Rating                                             Review  Sentiment_score  \\\n",
              "0     5.0  the food met my expectaton the seatng area was...           0.9607   \n",
              "1     2.0  ts a wendys ther food s good better than mcdon...           0.1966   \n",
              "2     3.0  love the taste of ths food as t tastes lke the...           0.8198   \n",
              "3     5.0  ths s the best wendys ve ever been to ncredble...           0.9287   \n",
              "4     5.0  been here so many tmes never had a problem yea...           0.5613   \n",
              "\n",
              "  Sentiment  \n",
              "0      Good  \n",
              "1       Bad  \n",
              "2      Good  \n",
              "3      Good  \n",
              "4      Good  "
            ],
            "text/html": [
              "\n",
              "\n",
              "  <div id=\"df-0f09af66-80a1-4f29-98ed-1bba83fda5d9\">\n",
              "    <div class=\"colab-df-container\">\n",
              "      <div>\n",
              "<style scoped>\n",
              "    .dataframe tbody tr th:only-of-type {\n",
              "        vertical-align: middle;\n",
              "    }\n",
              "\n",
              "    .dataframe tbody tr th {\n",
              "        vertical-align: top;\n",
              "    }\n",
              "\n",
              "    .dataframe thead th {\n",
              "        text-align: right;\n",
              "    }\n",
              "</style>\n",
              "<table border=\"1\" class=\"dataframe\">\n",
              "  <thead>\n",
              "    <tr style=\"text-align: right;\">\n",
              "      <th></th>\n",
              "      <th>Restaurant_Name</th>\n",
              "      <th>Category</th>\n",
              "      <th>Address</th>\n",
              "      <th>Province</th>\n",
              "      <th>Latitude</th>\n",
              "      <th>Longitude</th>\n",
              "      <th>Rating</th>\n",
              "      <th>Review</th>\n",
              "      <th>Sentiment_score</th>\n",
              "      <th>Sentiment</th>\n",
              "    </tr>\n",
              "  </thead>\n",
              "  <tbody>\n",
              "    <tr>\n",
              "      <th>0</th>\n",
              "      <td>Wendy's (10365 111th Street)</td>\n",
              "      <td>Fast food</td>\n",
              "      <td>10365 111th Street, Edmonton, AB T5K 2V3</td>\n",
              "      <td>AB</td>\n",
              "      <td>53.545878</td>\n",
              "      <td>-113.510914</td>\n",
              "      <td>5.0</td>\n",
              "      <td>the food met my expectaton the seatng area was...</td>\n",
              "      <td>0.9607</td>\n",
              "      <td>Good</td>\n",
              "    </tr>\n",
              "    <tr>\n",
              "      <th>1</th>\n",
              "      <td>Wendy's (10365 111th Street)</td>\n",
              "      <td>Fast food</td>\n",
              "      <td>10365 111th Street, Edmonton, AB T5K 2V3</td>\n",
              "      <td>AB</td>\n",
              "      <td>53.545878</td>\n",
              "      <td>-113.510914</td>\n",
              "      <td>2.0</td>\n",
              "      <td>ts a wendys ther food s good better than mcdon...</td>\n",
              "      <td>0.1966</td>\n",
              "      <td>Bad</td>\n",
              "    </tr>\n",
              "    <tr>\n",
              "      <th>2</th>\n",
              "      <td>Wendy's (10365 111th Street)</td>\n",
              "      <td>Fast food</td>\n",
              "      <td>10365 111th Street, Edmonton, AB T5K 2V3</td>\n",
              "      <td>AB</td>\n",
              "      <td>53.545878</td>\n",
              "      <td>-113.510914</td>\n",
              "      <td>3.0</td>\n",
              "      <td>love the taste of ths food as t tastes lke the...</td>\n",
              "      <td>0.8198</td>\n",
              "      <td>Good</td>\n",
              "    </tr>\n",
              "    <tr>\n",
              "      <th>3</th>\n",
              "      <td>Wendy's (10365 111th Street)</td>\n",
              "      <td>Fast food</td>\n",
              "      <td>10365 111th Street, Edmonton, AB T5K 2V3</td>\n",
              "      <td>AB</td>\n",
              "      <td>53.545878</td>\n",
              "      <td>-113.510914</td>\n",
              "      <td>5.0</td>\n",
              "      <td>ths s the best wendys ve ever been to ncredble...</td>\n",
              "      <td>0.9287</td>\n",
              "      <td>Good</td>\n",
              "    </tr>\n",
              "    <tr>\n",
              "      <th>4</th>\n",
              "      <td>Wendy's (10365 111th Street)</td>\n",
              "      <td>Fast food</td>\n",
              "      <td>10365 111th Street, Edmonton, AB T5K 2V3</td>\n",
              "      <td>AB</td>\n",
              "      <td>53.545878</td>\n",
              "      <td>-113.510914</td>\n",
              "      <td>5.0</td>\n",
              "      <td>been here so many tmes never had a problem yea...</td>\n",
              "      <td>0.5613</td>\n",
              "      <td>Good</td>\n",
              "    </tr>\n",
              "  </tbody>\n",
              "</table>\n",
              "</div>\n",
              "      <button class=\"colab-df-convert\" onclick=\"convertToInteractive('df-0f09af66-80a1-4f29-98ed-1bba83fda5d9')\"\n",
              "              title=\"Convert this dataframe to an interactive table.\"\n",
              "              style=\"display:none;\">\n",
              "\n",
              "  <svg xmlns=\"http://www.w3.org/2000/svg\" height=\"24px\"viewBox=\"0 0 24 24\"\n",
              "       width=\"24px\">\n",
              "    <path d=\"M0 0h24v24H0V0z\" fill=\"none\"/>\n",
              "    <path d=\"M18.56 5.44l.94 2.06.94-2.06 2.06-.94-2.06-.94-.94-2.06-.94 2.06-2.06.94zm-11 1L8.5 8.5l.94-2.06 2.06-.94-2.06-.94L8.5 2.5l-.94 2.06-2.06.94zm10 10l.94 2.06.94-2.06 2.06-.94-2.06-.94-.94-2.06-.94 2.06-2.06.94z\"/><path d=\"M17.41 7.96l-1.37-1.37c-.4-.4-.92-.59-1.43-.59-.52 0-1.04.2-1.43.59L10.3 9.45l-7.72 7.72c-.78.78-.78 2.05 0 2.83L4 21.41c.39.39.9.59 1.41.59.51 0 1.02-.2 1.41-.59l7.78-7.78 2.81-2.81c.8-.78.8-2.07 0-2.86zM5.41 20L4 18.59l7.72-7.72 1.47 1.35L5.41 20z\"/>\n",
              "  </svg>\n",
              "      </button>\n",
              "\n",
              "\n",
              "\n",
              "    <div id=\"df-eb94195b-f98b-4e7c-bf48-2b1c5e84f204\">\n",
              "      <button class=\"colab-df-quickchart\" onclick=\"quickchart('df-eb94195b-f98b-4e7c-bf48-2b1c5e84f204')\"\n",
              "              title=\"Suggest charts.\"\n",
              "              style=\"display:none;\">\n",
              "\n",
              "<svg xmlns=\"http://www.w3.org/2000/svg\" height=\"24px\"viewBox=\"0 0 24 24\"\n",
              "     width=\"24px\">\n",
              "    <g>\n",
              "        <path d=\"M19 3H5c-1.1 0-2 .9-2 2v14c0 1.1.9 2 2 2h14c1.1 0 2-.9 2-2V5c0-1.1-.9-2-2-2zM9 17H7v-7h2v7zm4 0h-2V7h2v10zm4 0h-2v-4h2v4z\"/>\n",
              "    </g>\n",
              "</svg>\n",
              "      </button>\n",
              "    </div>\n",
              "\n",
              "<style>\n",
              "  .colab-df-quickchart {\n",
              "    background-color: #E8F0FE;\n",
              "    border: none;\n",
              "    border-radius: 50%;\n",
              "    cursor: pointer;\n",
              "    display: none;\n",
              "    fill: #1967D2;\n",
              "    height: 32px;\n",
              "    padding: 0 0 0 0;\n",
              "    width: 32px;\n",
              "  }\n",
              "\n",
              "  .colab-df-quickchart:hover {\n",
              "    background-color: #E2EBFA;\n",
              "    box-shadow: 0px 1px 2px rgba(60, 64, 67, 0.3), 0px 1px 3px 1px rgba(60, 64, 67, 0.15);\n",
              "    fill: #174EA6;\n",
              "  }\n",
              "\n",
              "  [theme=dark] .colab-df-quickchart {\n",
              "    background-color: #3B4455;\n",
              "    fill: #D2E3FC;\n",
              "  }\n",
              "\n",
              "  [theme=dark] .colab-df-quickchart:hover {\n",
              "    background-color: #434B5C;\n",
              "    box-shadow: 0px 1px 3px 1px rgba(0, 0, 0, 0.15);\n",
              "    filter: drop-shadow(0px 1px 2px rgba(0, 0, 0, 0.3));\n",
              "    fill: #FFFFFF;\n",
              "  }\n",
              "</style>\n",
              "\n",
              "    <script>\n",
              "      async function quickchart(key) {\n",
              "        const containerElement = document.querySelector('#' + key);\n",
              "        const charts = await google.colab.kernel.invokeFunction(\n",
              "            'suggestCharts', [key], {});\n",
              "      }\n",
              "    </script>\n",
              "\n",
              "      <script>\n",
              "\n",
              "function displayQuickchartButton(domScope) {\n",
              "  let quickchartButtonEl =\n",
              "    domScope.querySelector('#df-eb94195b-f98b-4e7c-bf48-2b1c5e84f204 button.colab-df-quickchart');\n",
              "  quickchartButtonEl.style.display =\n",
              "    google.colab.kernel.accessAllowed ? 'block' : 'none';\n",
              "}\n",
              "\n",
              "        displayQuickchartButton(document);\n",
              "      </script>\n",
              "      <style>\n",
              "    .colab-df-container {\n",
              "      display:flex;\n",
              "      flex-wrap:wrap;\n",
              "      gap: 12px;\n",
              "    }\n",
              "\n",
              "    .colab-df-convert {\n",
              "      background-color: #E8F0FE;\n",
              "      border: none;\n",
              "      border-radius: 50%;\n",
              "      cursor: pointer;\n",
              "      display: none;\n",
              "      fill: #1967D2;\n",
              "      height: 32px;\n",
              "      padding: 0 0 0 0;\n",
              "      width: 32px;\n",
              "    }\n",
              "\n",
              "    .colab-df-convert:hover {\n",
              "      background-color: #E2EBFA;\n",
              "      box-shadow: 0px 1px 2px rgba(60, 64, 67, 0.3), 0px 1px 3px 1px rgba(60, 64, 67, 0.15);\n",
              "      fill: #174EA6;\n",
              "    }\n",
              "\n",
              "    [theme=dark] .colab-df-convert {\n",
              "      background-color: #3B4455;\n",
              "      fill: #D2E3FC;\n",
              "    }\n",
              "\n",
              "    [theme=dark] .colab-df-convert:hover {\n",
              "      background-color: #434B5C;\n",
              "      box-shadow: 0px 1px 3px 1px rgba(0, 0, 0, 0.15);\n",
              "      filter: drop-shadow(0px 1px 2px rgba(0, 0, 0, 0.3));\n",
              "      fill: #FFFFFF;\n",
              "    }\n",
              "  </style>\n",
              "\n",
              "      <script>\n",
              "        const buttonEl =\n",
              "          document.querySelector('#df-0f09af66-80a1-4f29-98ed-1bba83fda5d9 button.colab-df-convert');\n",
              "        buttonEl.style.display =\n",
              "          google.colab.kernel.accessAllowed ? 'block' : 'none';\n",
              "\n",
              "        async function convertToInteractive(key) {\n",
              "          const element = document.querySelector('#df-0f09af66-80a1-4f29-98ed-1bba83fda5d9');\n",
              "          const dataTable =\n",
              "            await google.colab.kernel.invokeFunction('convertToInteractive',\n",
              "                                                     [key], {});\n",
              "          if (!dataTable) return;\n",
              "\n",
              "          const docLinkHtml = 'Like what you see? Visit the ' +\n",
              "            '<a target=\"_blank\" href=https://colab.research.google.com/notebooks/data_table.ipynb>data table notebook</a>'\n",
              "            + ' to learn more about interactive tables.';\n",
              "          element.innerHTML = '';\n",
              "          dataTable['output_type'] = 'display_data';\n",
              "          await google.colab.output.renderOutput(dataTable, element);\n",
              "          const docLink = document.createElement('div');\n",
              "          docLink.innerHTML = docLinkHtml;\n",
              "          element.appendChild(docLink);\n",
              "        }\n",
              "      </script>\n",
              "    </div>\n",
              "  </div>\n"
            ]
          },
          "metadata": {},
          "execution_count": 18
        }
      ]
    },
    {
      "cell_type": "code",
      "source": [
        "data.to_csv('cleaned_data.csv', index=False)"
      ],
      "metadata": {
        "id": "XbODHSZiYqO8"
      },
      "execution_count": 19,
      "outputs": []
    },
    {
      "cell_type": "code",
      "source": [
        "data.Sentiment[data.Sentiment == 'Good'] = 1\n",
        "data.Sentiment[data.Sentiment == 'Bad'] =  0"
      ],
      "metadata": {
        "colab": {
          "base_uri": "https://localhost:8080/"
        },
        "id": "3Ke0DEe8EbEP",
        "outputId": "a2d6b54e-f47f-4ceb-8078-4ea7a9c0ed1a"
      },
      "execution_count": 20,
      "outputs": [
        {
          "output_type": "stream",
          "name": "stderr",
          "text": [
            "<ipython-input-20-d2bdcb49edff>:1: SettingWithCopyWarning: \n",
            "A value is trying to be set on a copy of a slice from a DataFrame\n",
            "\n",
            "See the caveats in the documentation: https://pandas.pydata.org/pandas-docs/stable/user_guide/indexing.html#returning-a-view-versus-a-copy\n",
            "  data.Sentiment[data.Sentiment == 'Good'] = 1\n",
            "<ipython-input-20-d2bdcb49edff>:2: SettingWithCopyWarning: \n",
            "A value is trying to be set on a copy of a slice from a DataFrame\n",
            "\n",
            "See the caveats in the documentation: https://pandas.pydata.org/pandas-docs/stable/user_guide/indexing.html#returning-a-view-versus-a-copy\n",
            "  data.Sentiment[data.Sentiment == 'Bad'] =  0\n"
          ]
        }
      ]
    },
    {
      "cell_type": "code",
      "source": [
        "data.Sentiment.value_counts()"
      ],
      "metadata": {
        "colab": {
          "base_uri": "https://localhost:8080/"
        },
        "id": "zBnJgrCyFT89",
        "outputId": "b6841313-ea91-4969-f265-cd57083627e5"
      },
      "execution_count": 21,
      "outputs": [
        {
          "output_type": "execute_result",
          "data": {
            "text/plain": [
              "1    3533\n",
              "0    1272\n",
              "Name: Sentiment, dtype: int64"
            ]
          },
          "metadata": {},
          "execution_count": 21
        }
      ]
    },
    {
      "cell_type": "markdown",
      "source": [
        "#Label Encoding"
      ],
      "metadata": {
        "id": "4dsxjagUGJbv"
      }
    },
    {
      "cell_type": "code",
      "source": [
        "from sklearn.preprocessing import LabelEncoder\n",
        "le = LabelEncoder()\n",
        "data.Province = le.fit_transform(data.Province)\n",
        "data.Category = le.fit_transform(data.Category)\n",
        "\n",
        "data.head()"
      ],
      "metadata": {
        "colab": {
          "base_uri": "https://localhost:8080/",
          "height": 704
        },
        "id": "LeDxD3TJFfNw",
        "outputId": "9a4d4b14-7b8d-4a37-8e0a-7e4018f2f9af"
      },
      "execution_count": 24,
      "outputs": [
        {
          "output_type": "execute_result",
          "data": {
            "text/plain": [
              "                Restaurant_Name  Category  \\\n",
              "0  Wendy's (10365 111th Street)        41   \n",
              "1  Wendy's (10365 111th Street)        41   \n",
              "2  Wendy's (10365 111th Street)        41   \n",
              "3  Wendy's (10365 111th Street)        41   \n",
              "4  Wendy's (10365 111th Street)        41   \n",
              "\n",
              "                                    Address  Province   Latitude   Longitude  \\\n",
              "0  10365 111th Street, Edmonton, AB T5K 2V3         0  53.545878 -113.510914   \n",
              "1  10365 111th Street, Edmonton, AB T5K 2V3         0  53.545878 -113.510914   \n",
              "2  10365 111th Street, Edmonton, AB T5K 2V3         0  53.545878 -113.510914   \n",
              "3  10365 111th Street, Edmonton, AB T5K 2V3         0  53.545878 -113.510914   \n",
              "4  10365 111th Street, Edmonton, AB T5K 2V3         0  53.545878 -113.510914   \n",
              "\n",
              "   Rating                                             Review  Sentiment_score  \\\n",
              "0     5.0  the food met my expectaton the seatng area was...           0.9607   \n",
              "1     2.0  ts a wendys ther food s good better than mcdon...           0.1966   \n",
              "2     3.0  love the taste of ths food as t tastes lke the...           0.8198   \n",
              "3     5.0  ths s the best wendys ve ever been to ncredble...           0.9287   \n",
              "4     5.0  been here so many tmes never had a problem yea...           0.5613   \n",
              "\n",
              "  Sentiment  \n",
              "0         1  \n",
              "1         0  \n",
              "2         1  \n",
              "3         1  \n",
              "4         1  "
            ],
            "text/html": [
              "\n",
              "\n",
              "  <div id=\"df-8c6772bf-ba03-48ff-83b4-60452a50d9dd\">\n",
              "    <div class=\"colab-df-container\">\n",
              "      <div>\n",
              "<style scoped>\n",
              "    .dataframe tbody tr th:only-of-type {\n",
              "        vertical-align: middle;\n",
              "    }\n",
              "\n",
              "    .dataframe tbody tr th {\n",
              "        vertical-align: top;\n",
              "    }\n",
              "\n",
              "    .dataframe thead th {\n",
              "        text-align: right;\n",
              "    }\n",
              "</style>\n",
              "<table border=\"1\" class=\"dataframe\">\n",
              "  <thead>\n",
              "    <tr style=\"text-align: right;\">\n",
              "      <th></th>\n",
              "      <th>Restaurant_Name</th>\n",
              "      <th>Category</th>\n",
              "      <th>Address</th>\n",
              "      <th>Province</th>\n",
              "      <th>Latitude</th>\n",
              "      <th>Longitude</th>\n",
              "      <th>Rating</th>\n",
              "      <th>Review</th>\n",
              "      <th>Sentiment_score</th>\n",
              "      <th>Sentiment</th>\n",
              "    </tr>\n",
              "  </thead>\n",
              "  <tbody>\n",
              "    <tr>\n",
              "      <th>0</th>\n",
              "      <td>Wendy's (10365 111th Street)</td>\n",
              "      <td>41</td>\n",
              "      <td>10365 111th Street, Edmonton, AB T5K 2V3</td>\n",
              "      <td>0</td>\n",
              "      <td>53.545878</td>\n",
              "      <td>-113.510914</td>\n",
              "      <td>5.0</td>\n",
              "      <td>the food met my expectaton the seatng area was...</td>\n",
              "      <td>0.9607</td>\n",
              "      <td>1</td>\n",
              "    </tr>\n",
              "    <tr>\n",
              "      <th>1</th>\n",
              "      <td>Wendy's (10365 111th Street)</td>\n",
              "      <td>41</td>\n",
              "      <td>10365 111th Street, Edmonton, AB T5K 2V3</td>\n",
              "      <td>0</td>\n",
              "      <td>53.545878</td>\n",
              "      <td>-113.510914</td>\n",
              "      <td>2.0</td>\n",
              "      <td>ts a wendys ther food s good better than mcdon...</td>\n",
              "      <td>0.1966</td>\n",
              "      <td>0</td>\n",
              "    </tr>\n",
              "    <tr>\n",
              "      <th>2</th>\n",
              "      <td>Wendy's (10365 111th Street)</td>\n",
              "      <td>41</td>\n",
              "      <td>10365 111th Street, Edmonton, AB T5K 2V3</td>\n",
              "      <td>0</td>\n",
              "      <td>53.545878</td>\n",
              "      <td>-113.510914</td>\n",
              "      <td>3.0</td>\n",
              "      <td>love the taste of ths food as t tastes lke the...</td>\n",
              "      <td>0.8198</td>\n",
              "      <td>1</td>\n",
              "    </tr>\n",
              "    <tr>\n",
              "      <th>3</th>\n",
              "      <td>Wendy's (10365 111th Street)</td>\n",
              "      <td>41</td>\n",
              "      <td>10365 111th Street, Edmonton, AB T5K 2V3</td>\n",
              "      <td>0</td>\n",
              "      <td>53.545878</td>\n",
              "      <td>-113.510914</td>\n",
              "      <td>5.0</td>\n",
              "      <td>ths s the best wendys ve ever been to ncredble...</td>\n",
              "      <td>0.9287</td>\n",
              "      <td>1</td>\n",
              "    </tr>\n",
              "    <tr>\n",
              "      <th>4</th>\n",
              "      <td>Wendy's (10365 111th Street)</td>\n",
              "      <td>41</td>\n",
              "      <td>10365 111th Street, Edmonton, AB T5K 2V3</td>\n",
              "      <td>0</td>\n",
              "      <td>53.545878</td>\n",
              "      <td>-113.510914</td>\n",
              "      <td>5.0</td>\n",
              "      <td>been here so many tmes never had a problem yea...</td>\n",
              "      <td>0.5613</td>\n",
              "      <td>1</td>\n",
              "    </tr>\n",
              "  </tbody>\n",
              "</table>\n",
              "</div>\n",
              "      <button class=\"colab-df-convert\" onclick=\"convertToInteractive('df-8c6772bf-ba03-48ff-83b4-60452a50d9dd')\"\n",
              "              title=\"Convert this dataframe to an interactive table.\"\n",
              "              style=\"display:none;\">\n",
              "\n",
              "  <svg xmlns=\"http://www.w3.org/2000/svg\" height=\"24px\"viewBox=\"0 0 24 24\"\n",
              "       width=\"24px\">\n",
              "    <path d=\"M0 0h24v24H0V0z\" fill=\"none\"/>\n",
              "    <path d=\"M18.56 5.44l.94 2.06.94-2.06 2.06-.94-2.06-.94-.94-2.06-.94 2.06-2.06.94zm-11 1L8.5 8.5l.94-2.06 2.06-.94-2.06-.94L8.5 2.5l-.94 2.06-2.06.94zm10 10l.94 2.06.94-2.06 2.06-.94-2.06-.94-.94-2.06-.94 2.06-2.06.94z\"/><path d=\"M17.41 7.96l-1.37-1.37c-.4-.4-.92-.59-1.43-.59-.52 0-1.04.2-1.43.59L10.3 9.45l-7.72 7.72c-.78.78-.78 2.05 0 2.83L4 21.41c.39.39.9.59 1.41.59.51 0 1.02-.2 1.41-.59l7.78-7.78 2.81-2.81c.8-.78.8-2.07 0-2.86zM5.41 20L4 18.59l7.72-7.72 1.47 1.35L5.41 20z\"/>\n",
              "  </svg>\n",
              "      </button>\n",
              "\n",
              "\n",
              "\n",
              "    <div id=\"df-09676c5b-9c81-4c0b-9fed-093ab3b2cd33\">\n",
              "      <button class=\"colab-df-quickchart\" onclick=\"quickchart('df-09676c5b-9c81-4c0b-9fed-093ab3b2cd33')\"\n",
              "              title=\"Suggest charts.\"\n",
              "              style=\"display:none;\">\n",
              "\n",
              "<svg xmlns=\"http://www.w3.org/2000/svg\" height=\"24px\"viewBox=\"0 0 24 24\"\n",
              "     width=\"24px\">\n",
              "    <g>\n",
              "        <path d=\"M19 3H5c-1.1 0-2 .9-2 2v14c0 1.1.9 2 2 2h14c1.1 0 2-.9 2-2V5c0-1.1-.9-2-2-2zM9 17H7v-7h2v7zm4 0h-2V7h2v10zm4 0h-2v-4h2v4z\"/>\n",
              "    </g>\n",
              "</svg>\n",
              "      </button>\n",
              "    </div>\n",
              "\n",
              "<style>\n",
              "  .colab-df-quickchart {\n",
              "    background-color: #E8F0FE;\n",
              "    border: none;\n",
              "    border-radius: 50%;\n",
              "    cursor: pointer;\n",
              "    display: none;\n",
              "    fill: #1967D2;\n",
              "    height: 32px;\n",
              "    padding: 0 0 0 0;\n",
              "    width: 32px;\n",
              "  }\n",
              "\n",
              "  .colab-df-quickchart:hover {\n",
              "    background-color: #E2EBFA;\n",
              "    box-shadow: 0px 1px 2px rgba(60, 64, 67, 0.3), 0px 1px 3px 1px rgba(60, 64, 67, 0.15);\n",
              "    fill: #174EA6;\n",
              "  }\n",
              "\n",
              "  [theme=dark] .colab-df-quickchart {\n",
              "    background-color: #3B4455;\n",
              "    fill: #D2E3FC;\n",
              "  }\n",
              "\n",
              "  [theme=dark] .colab-df-quickchart:hover {\n",
              "    background-color: #434B5C;\n",
              "    box-shadow: 0px 1px 3px 1px rgba(0, 0, 0, 0.15);\n",
              "    filter: drop-shadow(0px 1px 2px rgba(0, 0, 0, 0.3));\n",
              "    fill: #FFFFFF;\n",
              "  }\n",
              "</style>\n",
              "\n",
              "    <script>\n",
              "      async function quickchart(key) {\n",
              "        const containerElement = document.querySelector('#' + key);\n",
              "        const charts = await google.colab.kernel.invokeFunction(\n",
              "            'suggestCharts', [key], {});\n",
              "      }\n",
              "    </script>\n",
              "\n",
              "      <script>\n",
              "\n",
              "function displayQuickchartButton(domScope) {\n",
              "  let quickchartButtonEl =\n",
              "    domScope.querySelector('#df-09676c5b-9c81-4c0b-9fed-093ab3b2cd33 button.colab-df-quickchart');\n",
              "  quickchartButtonEl.style.display =\n",
              "    google.colab.kernel.accessAllowed ? 'block' : 'none';\n",
              "}\n",
              "\n",
              "        displayQuickchartButton(document);\n",
              "      </script>\n",
              "      <style>\n",
              "    .colab-df-container {\n",
              "      display:flex;\n",
              "      flex-wrap:wrap;\n",
              "      gap: 12px;\n",
              "    }\n",
              "\n",
              "    .colab-df-convert {\n",
              "      background-color: #E8F0FE;\n",
              "      border: none;\n",
              "      border-radius: 50%;\n",
              "      cursor: pointer;\n",
              "      display: none;\n",
              "      fill: #1967D2;\n",
              "      height: 32px;\n",
              "      padding: 0 0 0 0;\n",
              "      width: 32px;\n",
              "    }\n",
              "\n",
              "    .colab-df-convert:hover {\n",
              "      background-color: #E2EBFA;\n",
              "      box-shadow: 0px 1px 2px rgba(60, 64, 67, 0.3), 0px 1px 3px 1px rgba(60, 64, 67, 0.15);\n",
              "      fill: #174EA6;\n",
              "    }\n",
              "\n",
              "    [theme=dark] .colab-df-convert {\n",
              "      background-color: #3B4455;\n",
              "      fill: #D2E3FC;\n",
              "    }\n",
              "\n",
              "    [theme=dark] .colab-df-convert:hover {\n",
              "      background-color: #434B5C;\n",
              "      box-shadow: 0px 1px 3px 1px rgba(0, 0, 0, 0.15);\n",
              "      filter: drop-shadow(0px 1px 2px rgba(0, 0, 0, 0.3));\n",
              "      fill: #FFFFFF;\n",
              "    }\n",
              "  </style>\n",
              "\n",
              "      <script>\n",
              "        const buttonEl =\n",
              "          document.querySelector('#df-8c6772bf-ba03-48ff-83b4-60452a50d9dd button.colab-df-convert');\n",
              "        buttonEl.style.display =\n",
              "          google.colab.kernel.accessAllowed ? 'block' : 'none';\n",
              "\n",
              "        async function convertToInteractive(key) {\n",
              "          const element = document.querySelector('#df-8c6772bf-ba03-48ff-83b4-60452a50d9dd');\n",
              "          const dataTable =\n",
              "            await google.colab.kernel.invokeFunction('convertToInteractive',\n",
              "                                                     [key], {});\n",
              "          if (!dataTable) return;\n",
              "\n",
              "          const docLinkHtml = 'Like what you see? Visit the ' +\n",
              "            '<a target=\"_blank\" href=https://colab.research.google.com/notebooks/data_table.ipynb>data table notebook</a>'\n",
              "            + ' to learn more about interactive tables.';\n",
              "          element.innerHTML = '';\n",
              "          dataTable['output_type'] = 'display_data';\n",
              "          await google.colab.output.renderOutput(dataTable, element);\n",
              "          const docLink = document.createElement('div');\n",
              "          docLink.innerHTML = docLinkHtml;\n",
              "          element.appendChild(docLink);\n",
              "        }\n",
              "      </script>\n",
              "    </div>\n",
              "  </div>\n"
            ]
          },
          "metadata": {},
          "execution_count": 24
        }
      ]
    },
    {
      "cell_type": "code",
      "source": [
        "my_data = data.iloc[:,[1,3,4,6,8,9]]\n",
        "my_data.to_csv('LabelEncoder.csv')\n",
        "my_data"
      ],
      "metadata": {
        "colab": {
          "base_uri": "https://localhost:8080/",
          "height": 424
        },
        "id": "_szQFKlGH0CP",
        "outputId": "4ca70a83-9c5d-414e-8ec1-ff803a68360a"
      },
      "execution_count": 27,
      "outputs": [
        {
          "output_type": "execute_result",
          "data": {
            "text/plain": [
              "      Category  Province   Latitude  Rating  Sentiment_score Sentiment\n",
              "0           41         0  53.545878     5.0           0.9607         1\n",
              "1           41         0  53.545878     2.0           0.1966         0\n",
              "2           41         0  53.545878     3.0           0.8198         1\n",
              "3           41         0  53.545878     5.0           0.9287         1\n",
              "4           41         0  53.545878     5.0           0.5613         1\n",
              "...        ...       ...        ...     ...              ...       ...\n",
              "5015         2         5  46.356211     5.0           0.7902         1\n",
              "5016         2         5  46.356211     5.0           0.0000         0\n",
              "5017         2         5  46.356211     5.0           0.5719         1\n",
              "5018         2         5  46.356211     5.0           0.5994         1\n",
              "5019         2         5  46.356211     5.0           0.5994         1\n",
              "\n",
              "[4805 rows x 6 columns]"
            ],
            "text/html": [
              "\n",
              "\n",
              "  <div id=\"df-211d3bd5-73d1-44cd-a420-8f05fe3aa3c1\">\n",
              "    <div class=\"colab-df-container\">\n",
              "      <div>\n",
              "<style scoped>\n",
              "    .dataframe tbody tr th:only-of-type {\n",
              "        vertical-align: middle;\n",
              "    }\n",
              "\n",
              "    .dataframe tbody tr th {\n",
              "        vertical-align: top;\n",
              "    }\n",
              "\n",
              "    .dataframe thead th {\n",
              "        text-align: right;\n",
              "    }\n",
              "</style>\n",
              "<table border=\"1\" class=\"dataframe\">\n",
              "  <thead>\n",
              "    <tr style=\"text-align: right;\">\n",
              "      <th></th>\n",
              "      <th>Category</th>\n",
              "      <th>Province</th>\n",
              "      <th>Latitude</th>\n",
              "      <th>Rating</th>\n",
              "      <th>Sentiment_score</th>\n",
              "      <th>Sentiment</th>\n",
              "    </tr>\n",
              "  </thead>\n",
              "  <tbody>\n",
              "    <tr>\n",
              "      <th>0</th>\n",
              "      <td>41</td>\n",
              "      <td>0</td>\n",
              "      <td>53.545878</td>\n",
              "      <td>5.0</td>\n",
              "      <td>0.9607</td>\n",
              "      <td>1</td>\n",
              "    </tr>\n",
              "    <tr>\n",
              "      <th>1</th>\n",
              "      <td>41</td>\n",
              "      <td>0</td>\n",
              "      <td>53.545878</td>\n",
              "      <td>2.0</td>\n",
              "      <td>0.1966</td>\n",
              "      <td>0</td>\n",
              "    </tr>\n",
              "    <tr>\n",
              "      <th>2</th>\n",
              "      <td>41</td>\n",
              "      <td>0</td>\n",
              "      <td>53.545878</td>\n",
              "      <td>3.0</td>\n",
              "      <td>0.8198</td>\n",
              "      <td>1</td>\n",
              "    </tr>\n",
              "    <tr>\n",
              "      <th>3</th>\n",
              "      <td>41</td>\n",
              "      <td>0</td>\n",
              "      <td>53.545878</td>\n",
              "      <td>5.0</td>\n",
              "      <td>0.9287</td>\n",
              "      <td>1</td>\n",
              "    </tr>\n",
              "    <tr>\n",
              "      <th>4</th>\n",
              "      <td>41</td>\n",
              "      <td>0</td>\n",
              "      <td>53.545878</td>\n",
              "      <td>5.0</td>\n",
              "      <td>0.5613</td>\n",
              "      <td>1</td>\n",
              "    </tr>\n",
              "    <tr>\n",
              "      <th>...</th>\n",
              "      <td>...</td>\n",
              "      <td>...</td>\n",
              "      <td>...</td>\n",
              "      <td>...</td>\n",
              "      <td>...</td>\n",
              "      <td>...</td>\n",
              "    </tr>\n",
              "    <tr>\n",
              "      <th>5015</th>\n",
              "      <td>2</td>\n",
              "      <td>5</td>\n",
              "      <td>46.356211</td>\n",
              "      <td>5.0</td>\n",
              "      <td>0.7902</td>\n",
              "      <td>1</td>\n",
              "    </tr>\n",
              "    <tr>\n",
              "      <th>5016</th>\n",
              "      <td>2</td>\n",
              "      <td>5</td>\n",
              "      <td>46.356211</td>\n",
              "      <td>5.0</td>\n",
              "      <td>0.0000</td>\n",
              "      <td>0</td>\n",
              "    </tr>\n",
              "    <tr>\n",
              "      <th>5017</th>\n",
              "      <td>2</td>\n",
              "      <td>5</td>\n",
              "      <td>46.356211</td>\n",
              "      <td>5.0</td>\n",
              "      <td>0.5719</td>\n",
              "      <td>1</td>\n",
              "    </tr>\n",
              "    <tr>\n",
              "      <th>5018</th>\n",
              "      <td>2</td>\n",
              "      <td>5</td>\n",
              "      <td>46.356211</td>\n",
              "      <td>5.0</td>\n",
              "      <td>0.5994</td>\n",
              "      <td>1</td>\n",
              "    </tr>\n",
              "    <tr>\n",
              "      <th>5019</th>\n",
              "      <td>2</td>\n",
              "      <td>5</td>\n",
              "      <td>46.356211</td>\n",
              "      <td>5.0</td>\n",
              "      <td>0.5994</td>\n",
              "      <td>1</td>\n",
              "    </tr>\n",
              "  </tbody>\n",
              "</table>\n",
              "<p>4805 rows × 6 columns</p>\n",
              "</div>\n",
              "      <button class=\"colab-df-convert\" onclick=\"convertToInteractive('df-211d3bd5-73d1-44cd-a420-8f05fe3aa3c1')\"\n",
              "              title=\"Convert this dataframe to an interactive table.\"\n",
              "              style=\"display:none;\">\n",
              "\n",
              "  <svg xmlns=\"http://www.w3.org/2000/svg\" height=\"24px\"viewBox=\"0 0 24 24\"\n",
              "       width=\"24px\">\n",
              "    <path d=\"M0 0h24v24H0V0z\" fill=\"none\"/>\n",
              "    <path d=\"M18.56 5.44l.94 2.06.94-2.06 2.06-.94-2.06-.94-.94-2.06-.94 2.06-2.06.94zm-11 1L8.5 8.5l.94-2.06 2.06-.94-2.06-.94L8.5 2.5l-.94 2.06-2.06.94zm10 10l.94 2.06.94-2.06 2.06-.94-2.06-.94-.94-2.06-.94 2.06-2.06.94z\"/><path d=\"M17.41 7.96l-1.37-1.37c-.4-.4-.92-.59-1.43-.59-.52 0-1.04.2-1.43.59L10.3 9.45l-7.72 7.72c-.78.78-.78 2.05 0 2.83L4 21.41c.39.39.9.59 1.41.59.51 0 1.02-.2 1.41-.59l7.78-7.78 2.81-2.81c.8-.78.8-2.07 0-2.86zM5.41 20L4 18.59l7.72-7.72 1.47 1.35L5.41 20z\"/>\n",
              "  </svg>\n",
              "      </button>\n",
              "\n",
              "\n",
              "\n",
              "    <div id=\"df-8178e1a9-8b32-48e1-9837-6a4e4ee21264\">\n",
              "      <button class=\"colab-df-quickchart\" onclick=\"quickchart('df-8178e1a9-8b32-48e1-9837-6a4e4ee21264')\"\n",
              "              title=\"Suggest charts.\"\n",
              "              style=\"display:none;\">\n",
              "\n",
              "<svg xmlns=\"http://www.w3.org/2000/svg\" height=\"24px\"viewBox=\"0 0 24 24\"\n",
              "     width=\"24px\">\n",
              "    <g>\n",
              "        <path d=\"M19 3H5c-1.1 0-2 .9-2 2v14c0 1.1.9 2 2 2h14c1.1 0 2-.9 2-2V5c0-1.1-.9-2-2-2zM9 17H7v-7h2v7zm4 0h-2V7h2v10zm4 0h-2v-4h2v4z\"/>\n",
              "    </g>\n",
              "</svg>\n",
              "      </button>\n",
              "    </div>\n",
              "\n",
              "<style>\n",
              "  .colab-df-quickchart {\n",
              "    background-color: #E8F0FE;\n",
              "    border: none;\n",
              "    border-radius: 50%;\n",
              "    cursor: pointer;\n",
              "    display: none;\n",
              "    fill: #1967D2;\n",
              "    height: 32px;\n",
              "    padding: 0 0 0 0;\n",
              "    width: 32px;\n",
              "  }\n",
              "\n",
              "  .colab-df-quickchart:hover {\n",
              "    background-color: #E2EBFA;\n",
              "    box-shadow: 0px 1px 2px rgba(60, 64, 67, 0.3), 0px 1px 3px 1px rgba(60, 64, 67, 0.15);\n",
              "    fill: #174EA6;\n",
              "  }\n",
              "\n",
              "  [theme=dark] .colab-df-quickchart {\n",
              "    background-color: #3B4455;\n",
              "    fill: #D2E3FC;\n",
              "  }\n",
              "\n",
              "  [theme=dark] .colab-df-quickchart:hover {\n",
              "    background-color: #434B5C;\n",
              "    box-shadow: 0px 1px 3px 1px rgba(0, 0, 0, 0.15);\n",
              "    filter: drop-shadow(0px 1px 2px rgba(0, 0, 0, 0.3));\n",
              "    fill: #FFFFFF;\n",
              "  }\n",
              "</style>\n",
              "\n",
              "    <script>\n",
              "      async function quickchart(key) {\n",
              "        const containerElement = document.querySelector('#' + key);\n",
              "        const charts = await google.colab.kernel.invokeFunction(\n",
              "            'suggestCharts', [key], {});\n",
              "      }\n",
              "    </script>\n",
              "\n",
              "      <script>\n",
              "\n",
              "function displayQuickchartButton(domScope) {\n",
              "  let quickchartButtonEl =\n",
              "    domScope.querySelector('#df-8178e1a9-8b32-48e1-9837-6a4e4ee21264 button.colab-df-quickchart');\n",
              "  quickchartButtonEl.style.display =\n",
              "    google.colab.kernel.accessAllowed ? 'block' : 'none';\n",
              "}\n",
              "\n",
              "        displayQuickchartButton(document);\n",
              "      </script>\n",
              "      <style>\n",
              "    .colab-df-container {\n",
              "      display:flex;\n",
              "      flex-wrap:wrap;\n",
              "      gap: 12px;\n",
              "    }\n",
              "\n",
              "    .colab-df-convert {\n",
              "      background-color: #E8F0FE;\n",
              "      border: none;\n",
              "      border-radius: 50%;\n",
              "      cursor: pointer;\n",
              "      display: none;\n",
              "      fill: #1967D2;\n",
              "      height: 32px;\n",
              "      padding: 0 0 0 0;\n",
              "      width: 32px;\n",
              "    }\n",
              "\n",
              "    .colab-df-convert:hover {\n",
              "      background-color: #E2EBFA;\n",
              "      box-shadow: 0px 1px 2px rgba(60, 64, 67, 0.3), 0px 1px 3px 1px rgba(60, 64, 67, 0.15);\n",
              "      fill: #174EA6;\n",
              "    }\n",
              "\n",
              "    [theme=dark] .colab-df-convert {\n",
              "      background-color: #3B4455;\n",
              "      fill: #D2E3FC;\n",
              "    }\n",
              "\n",
              "    [theme=dark] .colab-df-convert:hover {\n",
              "      background-color: #434B5C;\n",
              "      box-shadow: 0px 1px 3px 1px rgba(0, 0, 0, 0.15);\n",
              "      filter: drop-shadow(0px 1px 2px rgba(0, 0, 0, 0.3));\n",
              "      fill: #FFFFFF;\n",
              "    }\n",
              "  </style>\n",
              "\n",
              "      <script>\n",
              "        const buttonEl =\n",
              "          document.querySelector('#df-211d3bd5-73d1-44cd-a420-8f05fe3aa3c1 button.colab-df-convert');\n",
              "        buttonEl.style.display =\n",
              "          google.colab.kernel.accessAllowed ? 'block' : 'none';\n",
              "\n",
              "        async function convertToInteractive(key) {\n",
              "          const element = document.querySelector('#df-211d3bd5-73d1-44cd-a420-8f05fe3aa3c1');\n",
              "          const dataTable =\n",
              "            await google.colab.kernel.invokeFunction('convertToInteractive',\n",
              "                                                     [key], {});\n",
              "          if (!dataTable) return;\n",
              "\n",
              "          const docLinkHtml = 'Like what you see? Visit the ' +\n",
              "            '<a target=\"_blank\" href=https://colab.research.google.com/notebooks/data_table.ipynb>data table notebook</a>'\n",
              "            + ' to learn more about interactive tables.';\n",
              "          element.innerHTML = '';\n",
              "          dataTable['output_type'] = 'display_data';\n",
              "          await google.colab.output.renderOutput(dataTable, element);\n",
              "          const docLink = document.createElement('div');\n",
              "          docLink.innerHTML = docLinkHtml;\n",
              "          element.appendChild(docLink);\n",
              "        }\n",
              "      </script>\n",
              "    </div>\n",
              "  </div>\n"
            ]
          },
          "metadata": {},
          "execution_count": 27
        }
      ]
    },
    {
      "cell_type": "code",
      "source": [
        "plt.figure(figsize = (20,20))\n",
        "sns.heatmap(my_data.corr(), annot = True)\n",
        "plt.show()"
      ],
      "metadata": {
        "colab": {
          "base_uri": "https://localhost:8080/",
          "height": 927
        },
        "id": "R_lBTtkkIj3r",
        "outputId": "b36b0f89-b3c5-441f-8e69-3fd139d8f0a3"
      },
      "execution_count": 28,
      "outputs": [
        {
          "output_type": "stream",
          "name": "stderr",
          "text": [
            "<ipython-input-28-7504b50c54d3>:2: FutureWarning: The default value of numeric_only in DataFrame.corr is deprecated. In a future version, it will default to False. Select only valid columns or specify the value of numeric_only to silence this warning.\n",
            "  sns.heatmap(my_data.corr(), annot = True)\n"
          ]
        },
        {
          "output_type": "display_data",
          "data": {
            "text/plain": [
              "<Figure size 2000x2000 with 2 Axes>"
            ],
            "image/png": "[encoded data removed]"
          },
          "metadata": {}
        }
      ]
    },
    {
      "cell_type": "code",
      "source": [],
      "metadata": {
        "id": "-1KalhG2JBuS"
      },
      "execution_count": null,
      "outputs": []
    }
  ]
}