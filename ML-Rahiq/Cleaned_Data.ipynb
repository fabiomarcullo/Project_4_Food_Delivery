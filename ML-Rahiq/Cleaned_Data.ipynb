{
  "nbformat": 4,
  "nbformat_minor": 0,
  "metadata": {
    "colab": {
      "provenance": []
    },
    "kernelspec": {
      "name": "python3",
      "display_name": "Python 3"
    },
    "language_info": {
      "name": "python"
    }
  },
  "cells": [
    {
      "cell_type": "markdown",
      "source": [
        "# Importing the libraires"
      ],
      "metadata": {
        "id": "L6CcoPxuTVHt"
      }
    },
    {
      "cell_type": "code",
      "execution_count": 1,
      "metadata": {
        "id": "w6lYAWSMP7Z9"
      },
      "outputs": [],
      "source": [
        "import numpy as np\n",
        "import pandas as pd\n",
        "import seaborn as sns\n",
        "import matplotlib.pyplot as plt"
      ]
    },
    {
      "cell_type": "markdown",
      "source": [
        "# Importing the data"
      ],
      "metadata": {
        "id": "nRmkBarYTP2j"
      }
    },
    {
      "cell_type": "code",
      "source": [
        "data = pd.read_csv('restaurants_with_sentiment.csv')\n",
        "data.head()"
      ],
      "metadata": {
        "colab": {
          "base_uri": "https://localhost:8080/",
          "height": 250
        },
        "id": "GHA8dimVS8-3",
        "outputId": "096f85dd-b301-4b75-954d-6f82a3077d8b"
      },
      "execution_count": 3,
      "outputs": [
        {
          "output_type": "execute_result",
          "data": {
            "text/plain": [
              "                Restaurant_Name   Category  \\\n",
              "0  Wendy's (10365 111th Street)  Fast food   \n",
              "1  Wendy's (10365 111th Street)  Fast food   \n",
              "2  Wendy's (10365 111th Street)  Fast food   \n",
              "3  Wendy's (10365 111th Street)  Fast food   \n",
              "4  Wendy's (10365 111th Street)  Fast food   \n",
              "\n",
              "                                    Address Province   Latitude   Longitude  \\\n",
              "0  10365 111th Street, Edmonton, AB T5K 2V3       AB  53.545878 -113.510914   \n",
              "1  10365 111th Street, Edmonton, AB T5K 2V3       AB  53.545878 -113.510914   \n",
              "2  10365 111th Street, Edmonton, AB T5K 2V3       AB  53.545878 -113.510914   \n",
              "3  10365 111th Street, Edmonton, AB T5K 2V3       AB  53.545878 -113.510914   \n",
              "4  10365 111th Street, Edmonton, AB T5K 2V3       AB  53.545878 -113.510914   \n",
              "\n",
              "   Rating                                             Review  Sentiment_score  \\\n",
              "0       5  the food met my expectation the seating area w...           0.9607   \n",
              "1       2  its a wendys their food is good better than mc...           0.1966   \n",
              "2       3  i love the taste of this food as it tastes lik...           0.8198   \n",
              "3       5  this is the best wendys ive ever been to incre...           0.9287   \n",
              "4       5  i been here so many times i never had a proble...           0.5613   \n",
              "\n",
              "  Sentiment  \n",
              "0      Good  \n",
              "1       Bad  \n",
              "2      Good  \n",
              "3      Good  \n",
              "4      Good  "
            ],
            "text/html": [
              "\n",
              "\n",
              "  <div id=\"df-f9611bc6-d978-4a48-90fc-44cbe2702f58\">\n",
              "    <div class=\"colab-df-container\">\n",
              "      <div>\n",
              "<style scoped>\n",
              "    .dataframe tbody tr th:only-of-type {\n",
              "        vertical-align: middle;\n",
              "    }\n",
              "\n",
              "    .dataframe tbody tr th {\n",
              "        vertical-align: top;\n",
              "    }\n",
              "\n",
              "    .dataframe thead th {\n",
              "        text-align: right;\n",
              "    }\n",
              "</style>\n",
              "<table border=\"1\" class=\"dataframe\">\n",
              "  <thead>\n",
              "    <tr style=\"text-align: right;\">\n",
              "      <th></th>\n",
              "      <th>Restaurant_Name</th>\n",
              "      <th>Category</th>\n",
              "      <th>Address</th>\n",
              "      <th>Province</th>\n",
              "      <th>Latitude</th>\n",
              "      <th>Longitude</th>\n",
              "      <th>Rating</th>\n",
              "      <th>Review</th>\n",
              "      <th>Sentiment_score</th>\n",
              "      <th>Sentiment</th>\n",
              "    </tr>\n",
              "  </thead>\n",
              "  <tbody>\n",
              "    <tr>\n",
              "      <th>0</th>\n",
              "      <td>Wendy's (10365 111th Street)</td>\n",
              "      <td>Fast food</td>\n",
              "      <td>10365 111th Street, Edmonton, AB T5K 2V3</td>\n",
              "      <td>AB</td>\n",
              "      <td>53.545878</td>\n",
              "      <td>-113.510914</td>\n",
              "      <td>5</td>\n",
              "      <td>the food met my expectation the seating area w...</td>\n",
              "      <td>0.9607</td>\n",
              "      <td>Good</td>\n",
              "    </tr>\n",
              "    <tr>\n",
              "      <th>1</th>\n",
              "      <td>Wendy's (10365 111th Street)</td>\n",
              "      <td>Fast food</td>\n",
              "      <td>10365 111th Street, Edmonton, AB T5K 2V3</td>\n",
              "      <td>AB</td>\n",
              "      <td>53.545878</td>\n",
              "      <td>-113.510914</td>\n",
              "      <td>2</td>\n",
              "      <td>its a wendys their food is good better than mc...</td>\n",
              "      <td>0.1966</td>\n",
              "      <td>Bad</td>\n",
              "    </tr>\n",
              "    <tr>\n",
              "      <th>2</th>\n",
              "      <td>Wendy's (10365 111th Street)</td>\n",
              "      <td>Fast food</td>\n",
              "      <td>10365 111th Street, Edmonton, AB T5K 2V3</td>\n",
              "      <td>AB</td>\n",
              "      <td>53.545878</td>\n",
              "      <td>-113.510914</td>\n",
              "      <td>3</td>\n",
              "      <td>i love the taste of this food as it tastes lik...</td>\n",
              "      <td>0.8198</td>\n",
              "      <td>Good</td>\n",
              "    </tr>\n",
              "    <tr>\n",
              "      <th>3</th>\n",
              "      <td>Wendy's (10365 111th Street)</td>\n",
              "      <td>Fast food</td>\n",
              "      <td>10365 111th Street, Edmonton, AB T5K 2V3</td>\n",
              "      <td>AB</td>\n",
              "      <td>53.545878</td>\n",
              "      <td>-113.510914</td>\n",
              "      <td>5</td>\n",
              "      <td>this is the best wendys ive ever been to incre...</td>\n",
              "      <td>0.9287</td>\n",
              "      <td>Good</td>\n",
              "    </tr>\n",
              "    <tr>\n",
              "      <th>4</th>\n",
              "      <td>Wendy's (10365 111th Street)</td>\n",
              "      <td>Fast food</td>\n",
              "      <td>10365 111th Street, Edmonton, AB T5K 2V3</td>\n",
              "      <td>AB</td>\n",
              "      <td>53.545878</td>\n",
              "      <td>-113.510914</td>\n",
              "      <td>5</td>\n",
              "      <td>i been here so many times i never had a proble...</td>\n",
              "      <td>0.5613</td>\n",
              "      <td>Good</td>\n",
              "    </tr>\n",
              "  </tbody>\n",
              "</table>\n",
              "</div>\n",
              "      <button class=\"colab-df-convert\" onclick=\"convertToInteractive('df-f9611bc6-d978-4a48-90fc-44cbe2702f58')\"\n",
              "              title=\"Convert this dataframe to an interactive table.\"\n",
              "              style=\"display:none;\">\n",
              "\n",
              "  <svg xmlns=\"http://www.w3.org/2000/svg\" height=\"24px\"viewBox=\"0 0 24 24\"\n",
              "       width=\"24px\">\n",
              "    <path d=\"M0 0h24v24H0V0z\" fill=\"none\"/>\n",
              "    <path d=\"M18.56 5.44l.94 2.06.94-2.06 2.06-.94-2.06-.94-.94-2.06-.94 2.06-2.06.94zm-11 1L8.5 8.5l.94-2.06 2.06-.94-2.06-.94L8.5 2.5l-.94 2.06-2.06.94zm10 10l.94 2.06.94-2.06 2.06-.94-2.06-.94-.94-2.06-.94 2.06-2.06.94z\"/><path d=\"M17.41 7.96l-1.37-1.37c-.4-.4-.92-.59-1.43-.59-.52 0-1.04.2-1.43.59L10.3 9.45l-7.72 7.72c-.78.78-.78 2.05 0 2.83L4 21.41c.39.39.9.59 1.41.59.51 0 1.02-.2 1.41-.59l7.78-7.78 2.81-2.81c.8-.78.8-2.07 0-2.86zM5.41 20L4 18.59l7.72-7.72 1.47 1.35L5.41 20z\"/>\n",
              "  </svg>\n",
              "      </button>\n",
              "\n",
              "\n",
              "\n",
              "    <div id=\"df-15122af2-c686-431f-ad1e-4d8d40ec099e\">\n",
              "      <button class=\"colab-df-quickchart\" onclick=\"quickchart('df-15122af2-c686-431f-ad1e-4d8d40ec099e')\"\n",
              "              title=\"Suggest charts.\"\n",
              "              style=\"display:none;\">\n",
              "\n",
              "<svg xmlns=\"http://www.w3.org/2000/svg\" height=\"24px\"viewBox=\"0 0 24 24\"\n",
              "     width=\"24px\">\n",
              "    <g>\n",
              "        <path d=\"M19 3H5c-1.1 0-2 .9-2 2v14c0 1.1.9 2 2 2h14c1.1 0 2-.9 2-2V5c0-1.1-.9-2-2-2zM9 17H7v-7h2v7zm4 0h-2V7h2v10zm4 0h-2v-4h2v4z\"/>\n",
              "    </g>\n",
              "</svg>\n",
              "      </button>\n",
              "    </div>\n",
              "\n",
              "<style>\n",
              "  .colab-df-quickchart {\n",
              "    background-color: #E8F0FE;\n",
              "    border: none;\n",
              "    border-radius: 50%;\n",
              "    cursor: pointer;\n",
              "    display: none;\n",
              "    fill: #1967D2;\n",
              "    height: 32px;\n",
              "    padding: 0 0 0 0;\n",
              "    width: 32px;\n",
              "  }\n",
              "\n",
              "  .colab-df-quickchart:hover {\n",
              "    background-color: #E2EBFA;\n",
              "    box-shadow: 0px 1px 2px rgba(60, 64, 67, 0.3), 0px 1px 3px 1px rgba(60, 64, 67, 0.15);\n",
              "    fill: #174EA6;\n",
              "  }\n",
              "\n",
              "  [theme=dark] .colab-df-quickchart {\n",
              "    background-color: #3B4455;\n",
              "    fill: #D2E3FC;\n",
              "  }\n",
              "\n",
              "  [theme=dark] .colab-df-quickchart:hover {\n",
              "    background-color: #434B5C;\n",
              "    box-shadow: 0px 1px 3px 1px rgba(0, 0, 0, 0.15);\n",
              "    filter: drop-shadow(0px 1px 2px rgba(0, 0, 0, 0.3));\n",
              "    fill: #FFFFFF;\n",
              "  }\n",
              "</style>\n",
              "\n",
              "    <script>\n",
              "      async function quickchart(key) {\n",
              "        const containerElement = document.querySelector('#' + key);\n",
              "        const charts = await google.colab.kernel.invokeFunction(\n",
              "            'suggestCharts', [key], {});\n",
              "      }\n",
              "    </script>\n",
              "\n",
              "      <script>\n",
              "\n",
              "function displayQuickchartButton(domScope) {\n",
              "  let quickchartButtonEl =\n",
              "    domScope.querySelector('#df-15122af2-c686-431f-ad1e-4d8d40ec099e button.colab-df-quickchart');\n",
              "  quickchartButtonEl.style.display =\n",
              "    google.colab.kernel.accessAllowed ? 'block' : 'none';\n",
              "}\n",
              "\n",
              "        displayQuickchartButton(document);\n",
              "      </script>\n",
              "      <style>\n",
              "    .colab-df-container {\n",
              "      display:flex;\n",
              "      flex-wrap:wrap;\n",
              "      gap: 12px;\n",
              "    }\n",
              "\n",
              "    .colab-df-convert {\n",
              "      background-color: #E8F0FE;\n",
              "      border: none;\n",
              "      border-radius: 50%;\n",
              "      cursor: pointer;\n",
              "      display: none;\n",
              "      fill: #1967D2;\n",
              "      height: 32px;\n",
              "      padding: 0 0 0 0;\n",
              "      width: 32px;\n",
              "    }\n",
              "\n",
              "    .colab-df-convert:hover {\n",
              "      background-color: #E2EBFA;\n",
              "      box-shadow: 0px 1px 2px rgba(60, 64, 67, 0.3), 0px 1px 3px 1px rgba(60, 64, 67, 0.15);\n",
              "      fill: #174EA6;\n",
              "    }\n",
              "\n",
              "    [theme=dark] .colab-df-convert {\n",
              "      background-color: #3B4455;\n",
              "      fill: #D2E3FC;\n",
              "    }\n",
              "\n",
              "    [theme=dark] .colab-df-convert:hover {\n",
              "      background-color: #434B5C;\n",
              "      box-shadow: 0px 1px 3px 1px rgba(0, 0, 0, 0.15);\n",
              "      filter: drop-shadow(0px 1px 2px rgba(0, 0, 0, 0.3));\n",
              "      fill: #FFFFFF;\n",
              "    }\n",
              "  </style>\n",
              "\n",
              "      <script>\n",
              "        const buttonEl =\n",
              "          document.querySelector('#df-f9611bc6-d978-4a48-90fc-44cbe2702f58 button.colab-df-convert');\n",
              "        buttonEl.style.display =\n",
              "          google.colab.kernel.accessAllowed ? 'block' : 'none';\n",
              "\n",
              "        async function convertToInteractive(key) {\n",
              "          const element = document.querySelector('#df-f9611bc6-d978-4a48-90fc-44cbe2702f58');\n",
              "          const dataTable =\n",
              "            await google.colab.kernel.invokeFunction('convertToInteractive',\n",
              "                                                     [key], {});\n",
              "          if (!dataTable) return;\n",
              "\n",
              "          const docLinkHtml = 'Like what you see? Visit the ' +\n",
              "            '<a target=\"_blank\" href=https://colab.research.google.com/notebooks/data_table.ipynb>data table notebook</a>'\n",
              "            + ' to learn more about interactive tables.';\n",
              "          element.innerHTML = '';\n",
              "          dataTable['output_type'] = 'display_data';\n",
              "          await google.colab.output.renderOutput(dataTable, element);\n",
              "          const docLink = document.createElement('div');\n",
              "          docLink.innerHTML = docLinkHtml;\n",
              "          element.appendChild(docLink);\n",
              "        }\n",
              "      </script>\n",
              "    </div>\n",
              "  </div>\n"
            ]
          },
          "metadata": {},
          "execution_count": 3
        }
      ]
    },
    {
      "cell_type": "markdown",
      "source": [
        "# checking the shape of dataset"
      ],
      "metadata": {
        "id": "nQc1xvJ4Tf36"
      }
    },
    {
      "cell_type": "code",
      "source": [
        "data.shape"
      ],
      "metadata": {
        "colab": {
          "base_uri": "https://localhost:8080/"
        },
        "id": "49Q8UJpdTIr7",
        "outputId": "9b735b03-b480-41a6-84d6-2199315758b9"
      },
      "execution_count": 4,
      "outputs": [
        {
          "output_type": "execute_result",
          "data": {
            "text/plain": [
              "(5020, 10)"
            ]
          },
          "metadata": {},
          "execution_count": 4
        }
      ]
    },
    {
      "cell_type": "markdown",
      "source": [
        "there are total 5020 samples with 10 features.\n",
        "\n"
      ],
      "metadata": {
        "id": "y67lMzzOTrQa"
      }
    },
    {
      "cell_type": "code",
      "source": [
        "data.columns"
      ],
      "metadata": {
        "colab": {
          "base_uri": "https://localhost:8080/"
        },
        "outputId": "602f55fa-0a4d-47a1-d256-2c5ae9b526a2",
        "id": "DMl_RpmGTvnu"
      },
      "execution_count": 5,
      "outputs": [
        {
          "output_type": "execute_result",
          "data": {
            "text/plain": [
              "Index(['Restaurant_Name', 'Category', 'Address', 'Province', 'Latitude',\n",
              "       'Longitude', 'Rating', 'Review', 'Sentiment_score', 'Sentiment'],\n",
              "      dtype='object')"
            ]
          },
          "metadata": {},
          "execution_count": 5
        }
      ]
    },
    {
      "cell_type": "code",
      "source": [
        "data.info()"
      ],
      "metadata": {
        "colab": {
          "base_uri": "https://localhost:8080/"
        },
        "id": "tv7h-eDtTmIZ",
        "outputId": "0e9a221e-120f-4933-c73c-85f311bcb644"
      },
      "execution_count": 6,
      "outputs": [
        {
          "output_type": "stream",
          "name": "stdout",
          "text": [
            "<class 'pandas.core.frame.DataFrame'>\n",
            "RangeIndex: 5020 entries, 0 to 5019\n",
            "Data columns (total 10 columns):\n",
            " #   Column           Non-Null Count  Dtype  \n",
            "---  ------           --------------  -----  \n",
            " 0   Restaurant_Name  5020 non-null   object \n",
            " 1   Category         5020 non-null   object \n",
            " 2   Address          5020 non-null   object \n",
            " 3   Province         5020 non-null   object \n",
            " 4   Latitude         5020 non-null   float64\n",
            " 5   Longitude        5020 non-null   float64\n",
            " 6   Rating           5020 non-null   int64  \n",
            " 7   Review           5009 non-null   object \n",
            " 8   Sentiment_score  5020 non-null   float64\n",
            " 9   Sentiment        5020 non-null   object \n",
            "dtypes: float64(3), int64(1), object(6)\n",
            "memory usage: 392.3+ KB\n"
          ]
        }
      ]
    },
    {
      "cell_type": "markdown",
      "source": [
        "#2. Data Cleaning\n",
        "# 2.1 checking the missing values"
      ],
      "metadata": {
        "id": "EbvNdPw8UCD6"
      }
    },
    {
      "cell_type": "code",
      "source": [
        "data.isnull().sum()"
      ],
      "metadata": {
        "colab": {
          "base_uri": "https://localhost:8080/"
        },
        "id": "laAecBS9T5O3",
        "outputId": "2833864d-8e9a-45f1-9b25-979f658a197e"
      },
      "execution_count": 7,
      "outputs": [
        {
          "output_type": "execute_result",
          "data": {
            "text/plain": [
              "Restaurant_Name     0\n",
              "Category            0\n",
              "Address             0\n",
              "Province            0\n",
              "Latitude            0\n",
              "Longitude           0\n",
              "Rating              0\n",
              "Review             11\n",
              "Sentiment_score     0\n",
              "Sentiment           0\n",
              "dtype: int64"
            ]
          },
          "metadata": {},
          "execution_count": 7
        }
      ]
    },
    {
      "cell_type": "markdown",
      "source": [
        "Review columns has 11 missing values so we will need to handle that"
      ],
      "metadata": {
        "id": "gY2QTwahUj5j"
      }
    },
    {
      "cell_type": "code",
      "source": [
        "data.dropna(inplace = True)"
      ],
      "metadata": {
        "id": "HIsZMsB3UAL-"
      },
      "execution_count": 8,
      "outputs": []
    },
    {
      "cell_type": "code",
      "source": [
        "data.isnull().sum()"
      ],
      "metadata": {
        "colab": {
          "base_uri": "https://localhost:8080/"
        },
        "id": "6agODWYCUdtj",
        "outputId": "2a19128b-278c-416b-e2ac-bc243b1793d2"
      },
      "execution_count": 10,
      "outputs": [
        {
          "output_type": "execute_result",
          "data": {
            "text/plain": [
              "Restaurant_Name    0\n",
              "Category           0\n",
              "Address            0\n",
              "Province           0\n",
              "Latitude           0\n",
              "Longitude          0\n",
              "Rating             0\n",
              "Review             0\n",
              "Sentiment_score    0\n",
              "Sentiment          0\n",
              "dtype: int64"
            ]
          },
          "metadata": {},
          "execution_count": 10
        }
      ]
    },
    {
      "cell_type": "markdown",
      "source": [
        "Now there is no null value"
      ],
      "metadata": {
        "id": "I0SDgcE8UvHy"
      }
    },
    {
      "cell_type": "markdown",
      "source": [
        "# checking the duplicates & handling the duplicates values"
      ],
      "metadata": {
        "id": "3_fi73v7U0vV"
      }
    },
    {
      "cell_type": "code",
      "source": [
        "data.duplicated().sum()"
      ],
      "metadata": {
        "colab": {
          "base_uri": "https://localhost:8080/"
        },
        "id": "BZ1YROB7Uf0T",
        "outputId": "4e7fe06a-eb4b-4403-9f26-96ed6fe947cc"
      },
      "execution_count": 11,
      "outputs": [
        {
          "output_type": "execute_result",
          "data": {
            "text/plain": [
              "204"
            ]
          },
          "metadata": {},
          "execution_count": 11
        }
      ]
    },
    {
      "cell_type": "code",
      "source": [
        "data.drop_duplicates(inplace = True)\n",
        "data.duplicated().sum()"
      ],
      "metadata": {
        "colab": {
          "base_uri": "https://localhost:8080/"
        },
        "id": "fUjEjlWTU5sG",
        "outputId": "b3d292f0-d390-4d7c-c7b5-eeeb49cbc624"
      },
      "execution_count": 12,
      "outputs": [
        {
          "output_type": "execute_result",
          "data": {
            "text/plain": [
              "0"
            ]
          },
          "metadata": {},
          "execution_count": 12
        }
      ]
    }
  ]
}