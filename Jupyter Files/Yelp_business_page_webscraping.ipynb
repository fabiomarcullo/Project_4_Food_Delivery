{
 "cells": [
  {
   "cell_type": "code",
   "execution_count": 1,
   "id": "9cda6abb",
   "metadata": {},
   "outputs": [],
   "source": [
    "#Importing dependencies/libraries\n",
    "\n",
    "from splinter import Browser\n",
    "from bs4 import BeautifulSoup as soup\n",
    "import pandas as pd\n",
    "import time"
   ]
  },
  {
   "cell_type": "code",
   "execution_count": 2,
   "id": "fd4ac98f",
   "metadata": {},
   "outputs": [],
   "source": [
    "#ON\n",
    "location_on = [\"greater-sudbury\", \"hamilton\", \"kingston\", \"london\", \"niagara-falls\",\n",
    "            \"ottawa\", \"toronto\", \"windsor\", \"kitchener\", \"peterborough\", \n",
    "            \"sault-ste-marie\", \"thunder-bay\"]\n",
    "\n",
    "#AB\n",
    "location_ab = [\"edmonton\", \"calgary\", \"lethbridge\", \"red-deer\"]\n",
    "\n",
    "#NS\n",
    "location_ns = [\"halifax\"]\n",
    "\n",
    "#QC\n",
    "location_qc = [\"montreal\", \"sherbrooke\", \"trois-rivieres\", \"quebec\"]\n",
    "\n",
    "#BC\n",
    "location_bc = [\"vancouver\", \"victoria\"]\n",
    "\n",
    "#MB\n",
    "location_mb = [\"winnipeg\"]\n",
    "\n",
    "#Yelp shows 10 restaurants (not including sponsored ones) per page. \n",
    "#The web page can be changed by manipulating the number at after the'start=' line of the url.\n",
    "pages = [0, 10, 20, 30, 40, 50, 60, 70, 80, 90, 100, 110, 120, 130, 140, 150, 160, 170, 180, 190, 200, 210, 220, 230]"
   ]
  },
  {
   "cell_type": "code",
   "execution_count": 3,
   "id": "ce362252",
   "metadata": {},
   "outputs": [],
   "source": [
    "#For getting the links of each restaurant\n",
    "\n",
    "#Empty lists to hold the values\n",
    "restaurant_links = []\n",
    "\n",
    "#Webscraping for restaurant links\n",
    "browser = Browser('chrome')\n",
    "#This for loop changes the page on the url --------> adjust the for loop!\n",
    "for loc in location_bc:  \n",
    "    #This for loop changes the location of the url\n",
    "    for page in pages:  \n",
    "        \n",
    "        # --------> adjust province keyword in the URL \n",
    "        # based on location that you want to scrape, i.e. find_loc={loc}%2C+bc --> change bc to a different province key word\n",
    "        url = f'https://www.yelp.com/search?find_desc=Restaurants&find_loc={loc}%2C+bc&start={page}'\n",
    "        browser.visit(url)\n",
    "        html = browser.html\n",
    "        soup_obj = soup(html, 'html.parser')\n",
    "        \n",
    "        res_info = []\n",
    "        res_info = soup_obj.find_all(\"div\", class_ = \"businessName__09f24__EYSZE display--inline-block__09f24__fEDiJ border-color--default__09f24__NPAKY\")\n",
    "        time.sleep(3)\n",
    "        \n",
    "        for info in res_info:\n",
    "            \n",
    "            try:\n",
    "                target = info.a['href']\n",
    "                restaurant_links.append(target)\n",
    "\n",
    "            except:\n",
    "                restaurant_links.append(\"Target not found or no data\")\n",
    "\n"
   ]
  },
  {
   "cell_type": "code",
   "execution_count": 5,
   "id": "8b61e3c7",
   "metadata": {},
   "outputs": [],
   "source": [
    "browser.quit()"
   ]
  },
  {
   "cell_type": "code",
   "execution_count": 8,
   "id": "4779db4c",
   "metadata": {},
   "outputs": [
    {
     "data": {
      "text/plain": [
       "624"
      ]
     },
     "execution_count": 8,
     "metadata": {},
     "output_type": "execute_result"
    }
   ],
   "source": [
    "#to check the list of links, should be ~240 max per location\n",
    "len(restaurant_links)"
   ]
  },
  {
   "cell_type": "code",
   "execution_count": 9,
   "id": "20bf7407",
   "metadata": {},
   "outputs": [
    {
     "ename": "NameError",
     "evalue": "name 'bc_restaurant_links' is not defined",
     "output_type": "error",
     "traceback": [
      "\u001b[1;31m---------------------------------------------------------------------------\u001b[0m",
      "\u001b[1;31mNameError\u001b[0m                                 Traceback (most recent call last)",
      "Cell \u001b[1;32mIn[9], line 12\u001b[0m\n\u001b[0;32m      8\u001b[0m restaurant_address \u001b[38;5;241m=\u001b[39m []\n\u001b[0;32m     10\u001b[0m browser \u001b[38;5;241m=\u001b[39m Browser(\u001b[38;5;124m'\u001b[39m\u001b[38;5;124mchrome\u001b[39m\u001b[38;5;124m'\u001b[39m)\n\u001b[1;32m---> 12\u001b[0m \u001b[38;5;28;01mfor\u001b[39;00m link \u001b[38;5;129;01min\u001b[39;00m \u001b[43mbc_restaurant_links\u001b[49m:\n\u001b[0;32m     14\u001b[0m     \u001b[38;5;28mprint\u001b[39m(\u001b[38;5;124mf\u001b[39m\u001b[38;5;124m'\u001b[39m\u001b[38;5;124mLink # \u001b[39m\u001b[38;5;132;01m{\u001b[39;00mcounter\u001b[38;5;132;01m}\u001b[39;00m\u001b[38;5;124m'\u001b[39m)\n\u001b[0;32m     16\u001b[0m     \u001b[38;5;66;03m#Visiting the resturant's Yelp page \u001b[39;00m\n",
      "\u001b[1;31mNameError\u001b[0m: name 'bc_restaurant_links' is not defined"
     ]
    }
   ],
   "source": [
    "#Go through each link and get the target elements\n",
    "\n",
    "counter = 1\n",
    "\n",
    "names = []\n",
    "total_reviews = []\n",
    "all_information = []\n",
    "restaurant_address = []\n",
    "\n",
    "browser = Browser('chrome')\n",
    "\n",
    "for link in bc_restaurant_links:\n",
    "    \n",
    "    print(f'Link # {counter}')\n",
    "    \n",
    "    #Visiting the resturant's Yelp page \n",
    "    base_url = \"https://www.yelp.com\"\n",
    "    res_url = f\"https://www.yelp.com{link}\"\n",
    "\n",
    "    browser.visit(res_url)\n",
    "\n",
    "    html = browser.html\n",
    "\n",
    "    soup_obj = soup(html, 'html.parser')\n",
    "    time.sleep(5)\n",
    "\n",
    "    name = soup_obj.find('h1', class_ = \"css-1se8maq\")\n",
    "    if name:\n",
    "        data = name.text\n",
    "        names.append(data)\n",
    "        print(data)\n",
    "        print(\"------\")\n",
    "    else:\n",
    "        names.append(\"No data or change code\")\n",
    "        print(\"No data or change code\")\n",
    "        print(\"------\")\n",
    "\n",
    "    reviews = soup_obj.find('a', class_ = \"css-19v1rkv\")\n",
    "    if reviews:\n",
    "        data2 = reviews.text\n",
    "        total_reviews.append(data2)\n",
    "        print(data2)\n",
    "        print(\"------\")\n",
    "    else:\n",
    "        print(\"No data or change code\")\n",
    "\n",
    "    information = soup_obj.find_all('span', class_ = \"css-1fdy0l5\")\n",
    "    if information:\n",
    "        for info in information:\n",
    "            all_information.append(info.text)\n",
    "            print(info.text)\n",
    "\n",
    "    else:\n",
    "        print(\"No data or change code\")\n",
    "\n",
    "    address = soup_obj.find('p', class_ = \"css-qyp8bo\")\n",
    "\n",
    "    if address:\n",
    "        data3 = address.text\n",
    "        restaurant_address.append(data3)\n",
    "        print(\"------\")\n",
    "        print(data3)\n",
    "        \n",
    "    else:\n",
    "        print(\"------\")\n",
    "        print(\"No data or change code\")\n",
    "        \n",
    "    counter += 1"
   ]
  },
  {
   "cell_type": "code",
   "execution_count": null,
   "id": "2822f17b",
   "metadata": {},
   "outputs": [],
   "source": []
  },
  {
   "cell_type": "code",
   "execution_count": null,
   "id": "f6670f97",
   "metadata": {},
   "outputs": [],
   "source": []
  },
  {
   "cell_type": "code",
   "execution_count": null,
   "id": "85ad0ca1",
   "metadata": {},
   "outputs": [],
   "source": []
  }
 ],
 "metadata": {
  "kernelspec": {
   "display_name": "Python 3 (ipykernel)",
   "language": "python",
   "name": "python3"
  },
  "language_info": {
   "codemirror_mode": {
    "name": "ipython",
    "version": 3
   },
   "file_extension": ".py",
   "mimetype": "text/x-python",
   "name": "python",
   "nbconvert_exporter": "python",
   "pygments_lexer": "ipython3",
   "version": "3.9.13"
  }
 },
 "nbformat": 4,
 "nbformat_minor": 5
}
