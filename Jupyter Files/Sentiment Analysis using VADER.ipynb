{
 "cells": [
  {
   "cell_type": "code",
   "execution_count": 1,
   "id": "8a76d66c",
   "metadata": {},
   "outputs": [],
   "source": [
    "import pandas as pd\n",
    "import nltk\n",
    "from nltk.sentiment.vader import SentimentIntensityAnalyzer"
   ]
  },
  {
   "cell_type": "code",
   "execution_count": 2,
   "id": "949f8420",
   "metadata": {},
   "outputs": [
    {
     "name": "stderr",
     "output_type": "stream",
     "text": [
      "[nltk_data] Downloading package vader_lexicon to C:\\Users\\Fabio_UofT\n",
      "[nltk_data]     SCS\\AppData\\Roaming\\nltk_data...\n",
      "[nltk_data]   Package vader_lexicon is already up-to-date!\n"
     ]
    },
    {
     "data": {
      "text/plain": [
       "True"
      ]
     },
     "execution_count": 2,
     "metadata": {},
     "output_type": "execute_result"
    }
   ],
   "source": [
    "# Download VADER lexicon (only required once)\n",
    "nltk.download('vader_lexicon')"
   ]
  },
  {
   "cell_type": "code",
   "execution_count": 3,
   "id": "39476e84",
   "metadata": {},
   "outputs": [],
   "source": [
    "# Read the dataset\n",
    "restaurants_df = pd.read_csv('Restaurants_Yelp_Reviews.csv')"
   ]
  },
  {
   "cell_type": "code",
   "execution_count": 4,
   "id": "ad57d1d0",
   "metadata": {},
   "outputs": [
    {
     "data": {
      "text/html": [
       "<div>\n",
       "<style scoped>\n",
       "    .dataframe tbody tr th:only-of-type {\n",
       "        vertical-align: middle;\n",
       "    }\n",
       "\n",
       "    .dataframe tbody tr th {\n",
       "        vertical-align: top;\n",
       "    }\n",
       "\n",
       "    .dataframe thead th {\n",
       "        text-align: right;\n",
       "    }\n",
       "</style>\n",
       "<table border=\"1\" class=\"dataframe\">\n",
       "  <thead>\n",
       "    <tr style=\"text-align: right;\">\n",
       "      <th></th>\n",
       "      <th>Restaurant_name</th>\n",
       "      <th>Category</th>\n",
       "      <th>Address</th>\n",
       "      <th>Province</th>\n",
       "      <th>Latitude</th>\n",
       "      <th>Longitude</th>\n",
       "      <th>Rating</th>\n",
       "      <th>Review</th>\n",
       "    </tr>\n",
       "  </thead>\n",
       "  <tbody>\n",
       "    <tr>\n",
       "      <th>0</th>\n",
       "      <td>The Flying Pig</td>\n",
       "      <td>Canadian (New)</td>\n",
       "      <td>1168 Hamilton Street Unit 104 Vancouver, BC V6...</td>\n",
       "      <td>BC</td>\n",
       "      <td>49.275039</td>\n",
       "      <td>-123.122038</td>\n",
       "      <td>4</td>\n",
       "      <td>Busy place - strongly suggest a reservation. G...</td>\n",
       "    </tr>\n",
       "    <tr>\n",
       "      <th>1</th>\n",
       "      <td>The Flying Pig</td>\n",
       "      <td>Canadian (New)</td>\n",
       "      <td>1168 Hamilton Street Unit 104 Vancouver, BC V6...</td>\n",
       "      <td>BC</td>\n",
       "      <td>49.275039</td>\n",
       "      <td>-123.122038</td>\n",
       "      <td>4</td>\n",
       "      <td>I recommend Squid is the best part. I ordered ...</td>\n",
       "    </tr>\n",
       "    <tr>\n",
       "      <th>2</th>\n",
       "      <td>The Flying Pig</td>\n",
       "      <td>Canadian (New)</td>\n",
       "      <td>1168 Hamilton Street Unit 104 Vancouver, BC V6...</td>\n",
       "      <td>BC</td>\n",
       "      <td>49.275039</td>\n",
       "      <td>-123.122038</td>\n",
       "      <td>5</td>\n",
       "      <td>I really enjoyed my lunch at this cozy little ...</td>\n",
       "    </tr>\n",
       "    <tr>\n",
       "      <th>3</th>\n",
       "      <td>The Flying Pig</td>\n",
       "      <td>Canadian (New)</td>\n",
       "      <td>1168 Hamilton Street Unit 104 Vancouver, BC V6...</td>\n",
       "      <td>BC</td>\n",
       "      <td>49.275039</td>\n",
       "      <td>-123.122038</td>\n",
       "      <td>5</td>\n",
       "      <td>Ambiance is great with a great mixture of wood...</td>\n",
       "    </tr>\n",
       "    <tr>\n",
       "      <th>4</th>\n",
       "      <td>The Flying Pig</td>\n",
       "      <td>Canadian (New)</td>\n",
       "      <td>1168 Hamilton Street Unit 104 Vancouver, BC V6...</td>\n",
       "      <td>BC</td>\n",
       "      <td>49.275039</td>\n",
       "      <td>-123.122038</td>\n",
       "      <td>5</td>\n",
       "      <td>We went to the Flying Pig for dinner last nigh...</td>\n",
       "    </tr>\n",
       "  </tbody>\n",
       "</table>\n",
       "</div>"
      ],
      "text/plain": [
       "  Restaurant_name        Category  \\\n",
       "0  The Flying Pig  Canadian (New)   \n",
       "1  The Flying Pig  Canadian (New)   \n",
       "2  The Flying Pig  Canadian (New)   \n",
       "3  The Flying Pig  Canadian (New)   \n",
       "4  The Flying Pig  Canadian (New)   \n",
       "\n",
       "                                             Address Province   Latitude  \\\n",
       "0  1168 Hamilton Street Unit 104 Vancouver, BC V6...       BC  49.275039   \n",
       "1  1168 Hamilton Street Unit 104 Vancouver, BC V6...       BC  49.275039   \n",
       "2  1168 Hamilton Street Unit 104 Vancouver, BC V6...       BC  49.275039   \n",
       "3  1168 Hamilton Street Unit 104 Vancouver, BC V6...       BC  49.275039   \n",
       "4  1168 Hamilton Street Unit 104 Vancouver, BC V6...       BC  49.275039   \n",
       "\n",
       "    Longitude  Rating                                             Review  \n",
       "0 -123.122038       4  Busy place - strongly suggest a reservation. G...  \n",
       "1 -123.122038       4  I recommend Squid is the best part. I ordered ...  \n",
       "2 -123.122038       5  I really enjoyed my lunch at this cozy little ...  \n",
       "3 -123.122038       5  Ambiance is great with a great mixture of wood...  \n",
       "4 -123.122038       5  We went to the Flying Pig for dinner last nigh...  "
      ]
     },
     "execution_count": 4,
     "metadata": {},
     "output_type": "execute_result"
    }
   ],
   "source": [
    "# Print DF\n",
    "restaurants_df.head()"
   ]
  },
  {
   "cell_type": "code",
   "execution_count": 5,
   "id": "874ecae0",
   "metadata": {},
   "outputs": [
    {
     "name": "stderr",
     "output_type": "stream",
     "text": [
      "C:\\Users\\Fabio_UofT SCS\\AppData\\Local\\Temp\\ipykernel_19312\\3173914631.py:4: FutureWarning: The default value of regex will change from True to False in a future version.\n",
      "  restaurants_df['Review'] = restaurants_df['Review'].str.replace('[^\\w\\s]', '')\n"
     ]
    }
   ],
   "source": [
    "# Text Preprocessing\n",
    "restaurants_df['Review'] = restaurants_df['Review'].astype(str)\n",
    "restaurants_df['Review'] = restaurants_df['Review'].apply(lambda review: review.lower())\n",
    "restaurants_df['Review'] = restaurants_df['Review'].str.replace('[^\\w\\s]', '')\n"
   ]
  },
  {
   "cell_type": "code",
   "execution_count": 6,
   "id": "b9ecffdb",
   "metadata": {},
   "outputs": [],
   "source": [
    "# Perform Sentiment Analysis using VADER\n",
    "analyzer = SentimentIntensityAnalyzer()\n",
    "\n",
    "def get_sentiment_polarity(review):\n",
    "    return analyzer.polarity_scores(review)['compound']\n",
    "\n",
    "restaurants_df['Sentiment_score'] = restaurants_df['Review'].apply(get_sentiment_polarity)\n"
   ]
  },
  {
   "cell_type": "code",
   "execution_count": 7,
   "id": "44239c3c",
   "metadata": {},
   "outputs": [],
   "source": [
    "# Categorize reviews as positive or negative based on sentiment score\n",
    "threshold = 0.5  # You can adjust this threshold based on your preference\n",
    "restaurants_df['Sentiment'] = restaurants_df['Sentiment_score'].apply(lambda score: 'Good' if score >= threshold else 'Bad')\n"
   ]
  },
  {
   "cell_type": "code",
   "execution_count": 8,
   "id": "6ce68882",
   "metadata": {},
   "outputs": [
    {
     "data": {
      "text/html": [
       "<div>\n",
       "<style scoped>\n",
       "    .dataframe tbody tr th:only-of-type {\n",
       "        vertical-align: middle;\n",
       "    }\n",
       "\n",
       "    .dataframe tbody tr th {\n",
       "        vertical-align: top;\n",
       "    }\n",
       "\n",
       "    .dataframe thead th {\n",
       "        text-align: right;\n",
       "    }\n",
       "</style>\n",
       "<table border=\"1\" class=\"dataframe\">\n",
       "  <thead>\n",
       "    <tr style=\"text-align: right;\">\n",
       "      <th></th>\n",
       "      <th>Restaurant_name</th>\n",
       "      <th>Category</th>\n",
       "      <th>Address</th>\n",
       "      <th>Province</th>\n",
       "      <th>Latitude</th>\n",
       "      <th>Longitude</th>\n",
       "      <th>Rating</th>\n",
       "      <th>Review</th>\n",
       "      <th>Sentiment_score</th>\n",
       "      <th>Sentiment</th>\n",
       "    </tr>\n",
       "  </thead>\n",
       "  <tbody>\n",
       "    <tr>\n",
       "      <th>0</th>\n",
       "      <td>The Flying Pig</td>\n",
       "      <td>Canadian (New)</td>\n",
       "      <td>1168 Hamilton Street Unit 104 Vancouver, BC V6...</td>\n",
       "      <td>BC</td>\n",
       "      <td>49.275039</td>\n",
       "      <td>-123.122038</td>\n",
       "      <td>4</td>\n",
       "      <td>busy place  strongly suggest a reservation gre...</td>\n",
       "      <td>0.9485</td>\n",
       "      <td>Good</td>\n",
       "    </tr>\n",
       "    <tr>\n",
       "      <th>1</th>\n",
       "      <td>The Flying Pig</td>\n",
       "      <td>Canadian (New)</td>\n",
       "      <td>1168 Hamilton Street Unit 104 Vancouver, BC V6...</td>\n",
       "      <td>BC</td>\n",
       "      <td>49.275039</td>\n",
       "      <td>-123.122038</td>\n",
       "      <td>4</td>\n",
       "      <td>i recommend squid is the best part i ordered g...</td>\n",
       "      <td>0.8979</td>\n",
       "      <td>Good</td>\n",
       "    </tr>\n",
       "    <tr>\n",
       "      <th>2</th>\n",
       "      <td>The Flying Pig</td>\n",
       "      <td>Canadian (New)</td>\n",
       "      <td>1168 Hamilton Street Unit 104 Vancouver, BC V6...</td>\n",
       "      <td>BC</td>\n",
       "      <td>49.275039</td>\n",
       "      <td>-123.122038</td>\n",
       "      <td>5</td>\n",
       "      <td>i really enjoyed my lunch at this cozy little ...</td>\n",
       "      <td>0.9966</td>\n",
       "      <td>Good</td>\n",
       "    </tr>\n",
       "    <tr>\n",
       "      <th>3</th>\n",
       "      <td>The Flying Pig</td>\n",
       "      <td>Canadian (New)</td>\n",
       "      <td>1168 Hamilton Street Unit 104 Vancouver, BC V6...</td>\n",
       "      <td>BC</td>\n",
       "      <td>49.275039</td>\n",
       "      <td>-123.122038</td>\n",
       "      <td>5</td>\n",
       "      <td>ambiance is great with a great mixture of wood...</td>\n",
       "      <td>0.9892</td>\n",
       "      <td>Good</td>\n",
       "    </tr>\n",
       "    <tr>\n",
       "      <th>4</th>\n",
       "      <td>The Flying Pig</td>\n",
       "      <td>Canadian (New)</td>\n",
       "      <td>1168 Hamilton Street Unit 104 Vancouver, BC V6...</td>\n",
       "      <td>BC</td>\n",
       "      <td>49.275039</td>\n",
       "      <td>-123.122038</td>\n",
       "      <td>5</td>\n",
       "      <td>we went to the flying pig for dinner last nigh...</td>\n",
       "      <td>0.9845</td>\n",
       "      <td>Good</td>\n",
       "    </tr>\n",
       "  </tbody>\n",
       "</table>\n",
       "</div>"
      ],
      "text/plain": [
       "  Restaurant_name        Category  \\\n",
       "0  The Flying Pig  Canadian (New)   \n",
       "1  The Flying Pig  Canadian (New)   \n",
       "2  The Flying Pig  Canadian (New)   \n",
       "3  The Flying Pig  Canadian (New)   \n",
       "4  The Flying Pig  Canadian (New)   \n",
       "\n",
       "                                             Address Province   Latitude  \\\n",
       "0  1168 Hamilton Street Unit 104 Vancouver, BC V6...       BC  49.275039   \n",
       "1  1168 Hamilton Street Unit 104 Vancouver, BC V6...       BC  49.275039   \n",
       "2  1168 Hamilton Street Unit 104 Vancouver, BC V6...       BC  49.275039   \n",
       "3  1168 Hamilton Street Unit 104 Vancouver, BC V6...       BC  49.275039   \n",
       "4  1168 Hamilton Street Unit 104 Vancouver, BC V6...       BC  49.275039   \n",
       "\n",
       "    Longitude  Rating                                             Review  \\\n",
       "0 -123.122038       4  busy place  strongly suggest a reservation gre...   \n",
       "1 -123.122038       4  i recommend squid is the best part i ordered g...   \n",
       "2 -123.122038       5  i really enjoyed my lunch at this cozy little ...   \n",
       "3 -123.122038       5  ambiance is great with a great mixture of wood...   \n",
       "4 -123.122038       5  we went to the flying pig for dinner last nigh...   \n",
       "\n",
       "   Sentiment_score Sentiment  \n",
       "0           0.9485      Good  \n",
       "1           0.8979      Good  \n",
       "2           0.9966      Good  \n",
       "3           0.9892      Good  \n",
       "4           0.9845      Good  "
      ]
     },
     "execution_count": 8,
     "metadata": {},
     "output_type": "execute_result"
    }
   ],
   "source": [
    "# Print DF\n",
    "restaurants_df.head()"
   ]
  },
  {
   "cell_type": "code",
   "execution_count": 9,
   "id": "c667aa67",
   "metadata": {},
   "outputs": [],
   "source": [
    "# Save the updated CSV\n",
    "restaurants_df.to_csv('Restaurants_Yelp_with_Sentiment.csv', index=False)"
   ]
  },
  {
   "cell_type": "code",
   "execution_count": null,
   "id": "31fc4cf8",
   "metadata": {},
   "outputs": [],
   "source": []
  }
 ],
 "metadata": {
  "kernelspec": {
   "display_name": "Python 3 (ipykernel)",
   "language": "python",
   "name": "python3"
  },
  "language_info": {
   "codemirror_mode": {
    "name": "ipython",
    "version": 3
   },
   "file_extension": ".py",
   "mimetype": "text/x-python",
   "name": "python",
   "nbconvert_exporter": "python",
   "pygments_lexer": "ipython3",
   "version": "3.9.13"
  }
 },
 "nbformat": 4,
 "nbformat_minor": 5
}
