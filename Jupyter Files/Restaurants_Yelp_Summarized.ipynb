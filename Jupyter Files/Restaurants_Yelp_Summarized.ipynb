{
 "cells": [
  {
   "cell_type": "code",
   "execution_count": 1,
   "id": "7bf0b10a",
   "metadata": {},
   "outputs": [],
   "source": [
    "import pandas as pd\n",
    "from transformers import pipeline"
   ]
  },
  {
   "cell_type": "code",
   "execution_count": 2,
   "id": "ec9d222b",
   "metadata": {},
   "outputs": [],
   "source": [
    "# Load data from CSV file\n",
    "csv_file = \"Restaurants_Yelp_with_Sentiment.csv\"\n",
    "df = pd.read_csv(csv_file)"
   ]
  },
  {
   "cell_type": "code",
   "execution_count": 3,
   "id": "f7996815",
   "metadata": {},
   "outputs": [],
   "source": [
    "# Convert 'Review' column to string data type\n",
    "df['Review'] = df['Review'].astype(str)"
   ]
  },
  {
   "cell_type": "code",
   "execution_count": 4,
   "id": "f7f9048d",
   "metadata": {},
   "outputs": [
    {
     "data": {
      "text/html": [
       "<div>\n",
       "<style scoped>\n",
       "    .dataframe tbody tr th:only-of-type {\n",
       "        vertical-align: middle;\n",
       "    }\n",
       "\n",
       "    .dataframe tbody tr th {\n",
       "        vertical-align: top;\n",
       "    }\n",
       "\n",
       "    .dataframe thead th {\n",
       "        text-align: right;\n",
       "    }\n",
       "</style>\n",
       "<table border=\"1\" class=\"dataframe\">\n",
       "  <thead>\n",
       "    <tr style=\"text-align: right;\">\n",
       "      <th></th>\n",
       "      <th>Restaurant_name</th>\n",
       "      <th>Category</th>\n",
       "      <th>Address</th>\n",
       "      <th>Province</th>\n",
       "      <th>Latitude</th>\n",
       "      <th>Longitude</th>\n",
       "      <th>Rating</th>\n",
       "      <th>Review</th>\n",
       "      <th>Sentiment_score</th>\n",
       "      <th>Sentiment</th>\n",
       "    </tr>\n",
       "  </thead>\n",
       "  <tbody>\n",
       "    <tr>\n",
       "      <th>0</th>\n",
       "      <td>The Flying Pig</td>\n",
       "      <td>Canadian (New)</td>\n",
       "      <td>1168 Hamilton Street Unit 104 Vancouver, BC V6...</td>\n",
       "      <td>BC</td>\n",
       "      <td>49.275039</td>\n",
       "      <td>-123.122038</td>\n",
       "      <td>4</td>\n",
       "      <td>busy place  strongly suggest a reservation gre...</td>\n",
       "      <td>0.9485</td>\n",
       "      <td>Good</td>\n",
       "    </tr>\n",
       "    <tr>\n",
       "      <th>1</th>\n",
       "      <td>The Flying Pig</td>\n",
       "      <td>Canadian (New)</td>\n",
       "      <td>1168 Hamilton Street Unit 104 Vancouver, BC V6...</td>\n",
       "      <td>BC</td>\n",
       "      <td>49.275039</td>\n",
       "      <td>-123.122038</td>\n",
       "      <td>4</td>\n",
       "      <td>i recommend squid is the best part i ordered g...</td>\n",
       "      <td>0.8979</td>\n",
       "      <td>Good</td>\n",
       "    </tr>\n",
       "    <tr>\n",
       "      <th>2</th>\n",
       "      <td>The Flying Pig</td>\n",
       "      <td>Canadian (New)</td>\n",
       "      <td>1168 Hamilton Street Unit 104 Vancouver, BC V6...</td>\n",
       "      <td>BC</td>\n",
       "      <td>49.275039</td>\n",
       "      <td>-123.122038</td>\n",
       "      <td>5</td>\n",
       "      <td>i really enjoyed my lunch at this cozy little ...</td>\n",
       "      <td>0.9966</td>\n",
       "      <td>Good</td>\n",
       "    </tr>\n",
       "    <tr>\n",
       "      <th>3</th>\n",
       "      <td>The Flying Pig</td>\n",
       "      <td>Canadian (New)</td>\n",
       "      <td>1168 Hamilton Street Unit 104 Vancouver, BC V6...</td>\n",
       "      <td>BC</td>\n",
       "      <td>49.275039</td>\n",
       "      <td>-123.122038</td>\n",
       "      <td>5</td>\n",
       "      <td>ambiance is great with a great mixture of wood...</td>\n",
       "      <td>0.9892</td>\n",
       "      <td>Good</td>\n",
       "    </tr>\n",
       "    <tr>\n",
       "      <th>4</th>\n",
       "      <td>The Flying Pig</td>\n",
       "      <td>Canadian (New)</td>\n",
       "      <td>1168 Hamilton Street Unit 104 Vancouver, BC V6...</td>\n",
       "      <td>BC</td>\n",
       "      <td>49.275039</td>\n",
       "      <td>-123.122038</td>\n",
       "      <td>5</td>\n",
       "      <td>we went to the flying pig for dinner last nigh...</td>\n",
       "      <td>0.9845</td>\n",
       "      <td>Good</td>\n",
       "    </tr>\n",
       "  </tbody>\n",
       "</table>\n",
       "</div>"
      ],
      "text/plain": [
       "  Restaurant_name        Category  \\\n",
       "0  The Flying Pig  Canadian (New)   \n",
       "1  The Flying Pig  Canadian (New)   \n",
       "2  The Flying Pig  Canadian (New)   \n",
       "3  The Flying Pig  Canadian (New)   \n",
       "4  The Flying Pig  Canadian (New)   \n",
       "\n",
       "                                             Address Province   Latitude  \\\n",
       "0  1168 Hamilton Street Unit 104 Vancouver, BC V6...       BC  49.275039   \n",
       "1  1168 Hamilton Street Unit 104 Vancouver, BC V6...       BC  49.275039   \n",
       "2  1168 Hamilton Street Unit 104 Vancouver, BC V6...       BC  49.275039   \n",
       "3  1168 Hamilton Street Unit 104 Vancouver, BC V6...       BC  49.275039   \n",
       "4  1168 Hamilton Street Unit 104 Vancouver, BC V6...       BC  49.275039   \n",
       "\n",
       "    Longitude  Rating                                             Review  \\\n",
       "0 -123.122038       4  busy place  strongly suggest a reservation gre...   \n",
       "1 -123.122038       4  i recommend squid is the best part i ordered g...   \n",
       "2 -123.122038       5  i really enjoyed my lunch at this cozy little ...   \n",
       "3 -123.122038       5  ambiance is great with a great mixture of wood...   \n",
       "4 -123.122038       5  we went to the flying pig for dinner last nigh...   \n",
       "\n",
       "   Sentiment_score Sentiment  \n",
       "0           0.9485      Good  \n",
       "1           0.8979      Good  \n",
       "2           0.9966      Good  \n",
       "3           0.9892      Good  \n",
       "4           0.9845      Good  "
      ]
     },
     "execution_count": 4,
     "metadata": {},
     "output_type": "execute_result"
    }
   ],
   "source": [
    "df.head()"
   ]
  },
  {
   "cell_type": "code",
   "execution_count": 5,
   "id": "38058a8c",
   "metadata": {},
   "outputs": [],
   "source": [
    "# Specify the column containing the text to be summarized\n",
    "text_column = \"Review\""
   ]
  },
  {
   "cell_type": "code",
   "execution_count": 6,
   "id": "f03d8c27",
   "metadata": {},
   "outputs": [
    {
     "name": "stderr",
     "output_type": "stream",
     "text": [
      "No model was supplied, defaulted to sshleifer/distilbart-cnn-12-6 and revision a4f8f3e (https://huggingface.co/sshleifer/distilbart-cnn-12-6).\n",
      "Using a pipeline without specifying a model name and revision in production is not recommended.\n"
     ]
    },
    {
     "data": {
      "application/vnd.jupyter.widget-view+json": {
       "model_id": "8510384e092742d2818a199846368d17",
       "version_major": 2,
       "version_minor": 0
      },
      "text/plain": [
       "Downloading:   0%|          | 0.00/1.80k [00:00<?, ?B/s]"
      ]
     },
     "metadata": {},
     "output_type": "display_data"
    },
    {
     "name": "stderr",
     "output_type": "stream",
     "text": [
      "C:\\Users\\Fabio_UofT SCS\\anaconda\\lib\\site-packages\\huggingface_hub\\file_download.py:123: UserWarning: `huggingface_hub` cache-system uses symlinks by default to efficiently store duplicated files but your machine does not support them in C:\\Users\\Fabio_UofT SCS\\.cache\\huggingface\\hub. Caching files will still work but in a degraded version that might require more space on your disk. This warning can be disabled by setting the `HF_HUB_DISABLE_SYMLINKS_WARNING` environment variable. For more details, see https://huggingface.co/docs/huggingface_hub/how-to-cache#limitations.\n",
      "To support symlinks on Windows, you either need to activate Developer Mode or to run Python as an administrator. In order to see activate developer mode, see this article: https://docs.microsoft.com/en-us/windows/apps/get-started/enable-your-device-for-development\n",
      "  warnings.warn(message)\n"
     ]
    },
    {
     "data": {
      "application/vnd.jupyter.widget-view+json": {
       "model_id": "4e96b583c3a64eebb5124ba7b562fc15",
       "version_major": 2,
       "version_minor": 0
      },
      "text/plain": [
       "Downloading:   0%|          | 0.00/1.22G [00:00<?, ?B/s]"
      ]
     },
     "metadata": {},
     "output_type": "display_data"
    },
    {
     "data": {
      "application/vnd.jupyter.widget-view+json": {
       "model_id": "1efb353f5f904459ac713a44712d8962",
       "version_major": 2,
       "version_minor": 0
      },
      "text/plain": [
       "Downloading:   0%|          | 0.00/26.0 [00:00<?, ?B/s]"
      ]
     },
     "metadata": {},
     "output_type": "display_data"
    },
    {
     "data": {
      "application/vnd.jupyter.widget-view+json": {
       "model_id": "ec4e7cfcf8294c14a3474562774928c5",
       "version_major": 2,
       "version_minor": 0
      },
      "text/plain": [
       "Downloading:   0%|          | 0.00/899k [00:00<?, ?B/s]"
      ]
     },
     "metadata": {},
     "output_type": "display_data"
    },
    {
     "data": {
      "application/vnd.jupyter.widget-view+json": {
       "model_id": "69484abd8b7543cf81b2d7e40859e2aa",
       "version_major": 2,
       "version_minor": 0
      },
      "text/plain": [
       "Downloading:   0%|          | 0.00/456k [00:00<?, ?B/s]"
      ]
     },
     "metadata": {},
     "output_type": "display_data"
    }
   ],
   "source": [
    "# Initialize the summarization pipeline\n",
    "summarizer = pipeline(task=\"summarization\")"
   ]
  },
  {
   "cell_type": "code",
   "execution_count": 9,
   "id": "ec8e2db0",
   "metadata": {},
   "outputs": [],
   "source": [
    "# Function to summarize the text\n",
    "def summarize_text(text):\n",
    "    return summarizer(text, max_length=15, min_length=5, do_sample=False)[0][\"summary_text\"]"
   ]
  },
  {
   "cell_type": "code",
   "execution_count": null,
   "id": "8b62f2e1",
   "metadata": {},
   "outputs": [],
   "source": [
    "# Summarize each text in the specified column\n",
    "df[\"Summary\"] = df[text_column].apply(summarize_text)"
   ]
  },
  {
   "cell_type": "code",
   "execution_count": null,
   "id": "84f520ae",
   "metadata": {},
   "outputs": [],
   "source": [
    "df.head()"
   ]
  },
  {
   "cell_type": "code",
   "execution_count": null,
   "id": "79aa2333",
   "metadata": {},
   "outputs": [],
   "source": [
    "# Save the DataFrame with the summary as a new CSV file\n",
    "output_csv_file = \"Restaurants_Yelp_Summarized.csv\"\n",
    "df.to_csv(output_csv_file, index=False)\n"
   ]
  }
 ],
 "metadata": {
  "kernelspec": {
   "display_name": "Python 3 (ipykernel)",
   "language": "python",
   "name": "python3"
  },
  "language_info": {
   "codemirror_mode": {
    "name": "ipython",
    "version": 3
   },
   "file_extension": ".py",
   "mimetype": "text/x-python",
   "name": "python",
   "nbconvert_exporter": "python",
   "pygments_lexer": "ipython3",
   "version": "3.9.13"
  }
 },
 "nbformat": 4,
 "nbformat_minor": 5
}
