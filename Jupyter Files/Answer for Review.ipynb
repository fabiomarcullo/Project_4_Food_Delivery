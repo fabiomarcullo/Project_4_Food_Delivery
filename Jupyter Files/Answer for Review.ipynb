{
 "cells": [
  {
   "cell_type": "code",
   "execution_count": 1,
   "id": "1cfd5cee",
   "metadata": {},
   "outputs": [
    {
     "data": {
      "application/vnd.jupyter.widget-view+json": {
       "model_id": "f81457176c904757ad7dcedb7584a7ed",
       "version_major": 2,
       "version_minor": 0
      },
      "text/plain": [
       "Downloading model.safetensors:   0%|          | 0.00/1.34G [00:00<?, ?B/s]"
      ]
     },
     "metadata": {},
     "output_type": "display_data"
    },
    {
     "name": "stderr",
     "output_type": "stream",
     "text": [
      "C:\\Users\\Fabio_UofT SCS\\anaconda\\lib\\site-packages\\huggingface_hub\\file_download.py:133: UserWarning: `huggingface_hub` cache-system uses symlinks by default to efficiently store duplicated files but your machine does not support them in C:\\Users\\Fabio_UofT SCS\\.cache\\huggingface\\hub. Caching files will still work but in a degraded version that might require more space on your disk. This warning can be disabled by setting the `HF_HUB_DISABLE_SYMLINKS_WARNING` environment variable. For more details, see https://huggingface.co/docs/huggingface_hub/how-to-cache#limitations.\n",
      "To support symlinks on Windows, you either need to activate Developer Mode or to run Python as an administrator. In order to see activate developer mode, see this article: https://docs.microsoft.com/en-us/windows/apps/get-started/enable-your-device-for-development\n",
      "  warnings.warn(message)\n",
      "Some weights of the model checkpoint at deepset/bert-large-uncased-whole-word-masking-squad2 were not used when initializing BertForQuestionAnswering: ['bert.pooler.dense.weight', 'bert.pooler.dense.bias']\n",
      "- This IS expected if you are initializing BertForQuestionAnswering from the checkpoint of a model trained on another task or with another architecture (e.g. initializing a BertForSequenceClassification model from a BertForPreTraining model).\n",
      "- This IS NOT expected if you are initializing BertForQuestionAnswering from the checkpoint of a model that you expect to be exactly identical (initializing a BertForSequenceClassification model from a BertForSequenceClassification model).\n"
     ]
    }
   ],
   "source": [
    "import pandas as pd\n",
    "from transformers import pipeline\n",
    "\n",
    "# Load the question-answering pipeline with BERT\n",
    "qa_analyzer = pipeline(\"question-answering\", model=\"deepset/bert-large-uncased-whole-word-masking-squad2\", tokenizer=\"deepset/bert-large-uncased-whole-word-masking-squad2\")\n",
    "\n",
    "\n",
    "\n"
   ]
  },
  {
   "cell_type": "code",
   "execution_count": 10,
   "id": "91605881",
   "metadata": {},
   "outputs": [],
   "source": [
    "# Read the CSV file\n",
    "df = pd.read_csv(\"Restaurants_Yelp_Reviews.csv\")"
   ]
  },
  {
   "cell_type": "code",
   "execution_count": 11,
   "id": "04b033bb",
   "metadata": {},
   "outputs": [
    {
     "data": {
      "text/html": [
       "<div>\n",
       "<style scoped>\n",
       "    .dataframe tbody tr th:only-of-type {\n",
       "        vertical-align: middle;\n",
       "    }\n",
       "\n",
       "    .dataframe tbody tr th {\n",
       "        vertical-align: top;\n",
       "    }\n",
       "\n",
       "    .dataframe thead th {\n",
       "        text-align: right;\n",
       "    }\n",
       "</style>\n",
       "<table border=\"1\" class=\"dataframe\">\n",
       "  <thead>\n",
       "    <tr style=\"text-align: right;\">\n",
       "      <th></th>\n",
       "      <th>Restaurant_name</th>\n",
       "      <th>Category</th>\n",
       "      <th>Address</th>\n",
       "      <th>Province</th>\n",
       "      <th>Latitude</th>\n",
       "      <th>Longitude</th>\n",
       "      <th>Rating</th>\n",
       "      <th>Review</th>\n",
       "    </tr>\n",
       "  </thead>\n",
       "  <tbody>\n",
       "    <tr>\n",
       "      <th>0</th>\n",
       "      <td>The Flying Pig</td>\n",
       "      <td>Canadian (New)</td>\n",
       "      <td>1168 Hamilton Street Unit 104 Vancouver, BC V6...</td>\n",
       "      <td>BC</td>\n",
       "      <td>49.275039</td>\n",
       "      <td>-123.122038</td>\n",
       "      <td>4</td>\n",
       "      <td>Busy place - strongly suggest a reservation. G...</td>\n",
       "    </tr>\n",
       "    <tr>\n",
       "      <th>1</th>\n",
       "      <td>The Flying Pig</td>\n",
       "      <td>Canadian (New)</td>\n",
       "      <td>1168 Hamilton Street Unit 104 Vancouver, BC V6...</td>\n",
       "      <td>BC</td>\n",
       "      <td>49.275039</td>\n",
       "      <td>-123.122038</td>\n",
       "      <td>4</td>\n",
       "      <td>I recommend Squid is the best part. I ordered ...</td>\n",
       "    </tr>\n",
       "    <tr>\n",
       "      <th>2</th>\n",
       "      <td>The Flying Pig</td>\n",
       "      <td>Canadian (New)</td>\n",
       "      <td>1168 Hamilton Street Unit 104 Vancouver, BC V6...</td>\n",
       "      <td>BC</td>\n",
       "      <td>49.275039</td>\n",
       "      <td>-123.122038</td>\n",
       "      <td>5</td>\n",
       "      <td>I really enjoyed my lunch at this cozy little ...</td>\n",
       "    </tr>\n",
       "    <tr>\n",
       "      <th>3</th>\n",
       "      <td>The Flying Pig</td>\n",
       "      <td>Canadian (New)</td>\n",
       "      <td>1168 Hamilton Street Unit 104 Vancouver, BC V6...</td>\n",
       "      <td>BC</td>\n",
       "      <td>49.275039</td>\n",
       "      <td>-123.122038</td>\n",
       "      <td>5</td>\n",
       "      <td>Ambiance is great with a great mixture of wood...</td>\n",
       "    </tr>\n",
       "    <tr>\n",
       "      <th>4</th>\n",
       "      <td>The Flying Pig</td>\n",
       "      <td>Canadian (New)</td>\n",
       "      <td>1168 Hamilton Street Unit 104 Vancouver, BC V6...</td>\n",
       "      <td>BC</td>\n",
       "      <td>49.275039</td>\n",
       "      <td>-123.122038</td>\n",
       "      <td>5</td>\n",
       "      <td>We went to the Flying Pig for dinner last nigh...</td>\n",
       "    </tr>\n",
       "  </tbody>\n",
       "</table>\n",
       "</div>"
      ],
      "text/plain": [
       "  Restaurant_name        Category  \\\n",
       "0  The Flying Pig  Canadian (New)   \n",
       "1  The Flying Pig  Canadian (New)   \n",
       "2  The Flying Pig  Canadian (New)   \n",
       "3  The Flying Pig  Canadian (New)   \n",
       "4  The Flying Pig  Canadian (New)   \n",
       "\n",
       "                                             Address Province   Latitude  \\\n",
       "0  1168 Hamilton Street Unit 104 Vancouver, BC V6...       BC  49.275039   \n",
       "1  1168 Hamilton Street Unit 104 Vancouver, BC V6...       BC  49.275039   \n",
       "2  1168 Hamilton Street Unit 104 Vancouver, BC V6...       BC  49.275039   \n",
       "3  1168 Hamilton Street Unit 104 Vancouver, BC V6...       BC  49.275039   \n",
       "4  1168 Hamilton Street Unit 104 Vancouver, BC V6...       BC  49.275039   \n",
       "\n",
       "    Longitude  Rating                                             Review  \n",
       "0 -123.122038       4  Busy place - strongly suggest a reservation. G...  \n",
       "1 -123.122038       4  I recommend Squid is the best part. I ordered ...  \n",
       "2 -123.122038       5  I really enjoyed my lunch at this cozy little ...  \n",
       "3 -123.122038       5  Ambiance is great with a great mixture of wood...  \n",
       "4 -123.122038       5  We went to the Flying Pig for dinner last nigh...  "
      ]
     },
     "execution_count": 11,
     "metadata": {},
     "output_type": "execute_result"
    }
   ],
   "source": [
    "df.head()"
   ]
  },
  {
   "cell_type": "code",
   "execution_count": 13,
   "id": "e4a87754",
   "metadata": {},
   "outputs": [
    {
     "name": "stdout",
     "output_type": "stream",
     "text": [
      "5508\n"
     ]
    }
   ],
   "source": [
    "df_length = len(df)\n",
    "print(df_length)"
   ]
  },
  {
   "cell_type": "code",
   "execution_count": null,
   "id": "6f8439dc",
   "metadata": {},
   "outputs": [],
   "source": [
    "# Create empty lists to store the answers and scores\n",
    "answers = []\n",
    "scores = []\n",
    "\n",
    "# Iterate through each review in the \"review\" column\n",
    "for review in df[\"Review\"]:\n",
    "    # Example: Perform question-answering about food quality for each review\n",
    "    context = review\n",
    "    question = \"Tell me about the quality of this restaurant?\"\n",
    "    qa_result = qa_analyzer(question=question, context=context)\n",
    "\n",
    "    # Store the answer and score for each review in the lists\n",
    "    answers.append(qa_result[\"answer\"])\n",
    "    scores.append(qa_result[\"score\"])\n",
    "\n",
    "# Add new columns to the DataFrame with the answers and scores\n",
    "df[\"Answer\"] = answers\n",
    "df[\"Score\"] = scores"
   ]
  },
  {
   "cell_type": "code",
   "execution_count": null,
   "id": "d68ac977",
   "metadata": {},
   "outputs": [],
   "source": [
    "df.head()"
   ]
  },
  {
   "cell_type": "code",
   "execution_count": null,
   "id": "7a1301e1",
   "metadata": {},
   "outputs": [],
   "source": [
    "# Save the updated DataFrame to a new CSV file\n",
    "df.to_csv(\"restaurant_with_answers.csv\", index=False)"
   ]
  },
  {
   "cell_type": "code",
   "execution_count": null,
   "id": "23e81a61",
   "metadata": {},
   "outputs": [],
   "source": []
  }
 ],
 "metadata": {
  "kernelspec": {
   "display_name": "Python 3 (ipykernel)",
   "language": "python",
   "name": "python3"
  },
  "language_info": {
   "codemirror_mode": {
    "name": "ipython",
    "version": 3
   },
   "file_extension": ".py",
   "mimetype": "text/x-python",
   "name": "python",
   "nbconvert_exporter": "python",
   "pygments_lexer": "ipython3",
   "version": "3.9.13"
  }
 },
 "nbformat": 4,
 "nbformat_minor": 5
}
