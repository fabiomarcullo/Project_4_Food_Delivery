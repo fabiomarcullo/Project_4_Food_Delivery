{
 "cells": [
  {
   "cell_type": "code",
   "execution_count": 1,
   "id": "7cac0f9a",
   "metadata": {},
   "outputs": [],
   "source": [
    "#Importing dependencies/libraries\n",
    "\n",
    "from splinter import Browser\n",
    "from bs4 import BeautifulSoup as soup\n",
    "import pandas as pd\n",
    "import time"
   ]
  },
  {
   "cell_type": "code",
   "execution_count": null,
   "id": "0727d0a9",
   "metadata": {},
   "outputs": [],
   "source": [
    "#Setting up the browser\n",
    "\n",
    "browser = Browser('chrome')"
   ]
  },
  {
   "cell_type": "code",
   "execution_count": null,
   "id": "07b1527b",
   "metadata": {},
   "outputs": [],
   "source": [
    "#Visiting the website\n",
    "\n",
    "loc = 'victoria'\n",
    "prov = 'bc'\n",
    "start = 10\n",
    "url = f'https://www.yelp.com/search?find_desc=Restaurants&find_loc={loc}%2C+{prov}&start={start}'\n",
    "browser.visit(url)"
   ]
  },
  {
   "cell_type": "code",
   "execution_count": null,
   "id": "771b80b4",
   "metadata": {},
   "outputs": [],
   "source": [
    "#Creating a BeautifulSoup instance to parse through the HTML\n",
    "html = browser.html\n",
    "\n",
    "soup = soup(html, 'html.parser')"
   ]
  },
  {
   "cell_type": "markdown",
   "id": "42d155cf",
   "metadata": {},
   "source": [
    "# Approach 1: Extracting a target div on the first page of Yelp, then extracting the elements needed from it. In progress."
   ]
  },
  {
   "cell_type": "code",
   "execution_count": null,
   "id": "8cc54e5c",
   "metadata": {},
   "outputs": [],
   "source": [
    "#OG div\n",
    "#soup.find_all(\"div\", class_ = \"container__09f24__mpR8_ hoverable__09f24__wQ_on border-color--default__09f24__NPAKY\")"
   ]
  },
  {
   "cell_type": "code",
   "execution_count": null,
   "id": "19545b26",
   "metadata": {},
   "outputs": [],
   "source": [
    "<div class=\" arrange-unit__09f24__rqHTg arrange-unit-fill__09f24__CUubG  border-color--default__09f24__NPAKY\">"
   ]
  },
  {
   "cell_type": "code",
   "execution_count": null,
   "id": "00211168",
   "metadata": {},
   "outputs": [],
   "source": [
    "#Extracting all the target div in the current page\n",
    "res_info = []\n",
    "res_info = soup.find_all(\"div\", class_ = \"arrange-unit__09f24__rqHTg arrange-unit-fill__09f24__CUubG border-color--default__09f24__NPAKY\")"
   ]
  },
  {
   "cell_type": "code",
   "execution_count": null,
   "id": "2f1643b3",
   "metadata": {},
   "outputs": [],
   "source": [
    "res_info"
   ]
  },
  {
   "cell_type": "code",
   "execution_count": null,
   "id": "aae2ea2a",
   "metadata": {},
   "outputs": [],
   "source": [
    "res_info[2].text"
   ]
  },
  {
   "cell_type": "code",
   "execution_count": null,
   "id": "5e9ec14c",
   "metadata": {},
   "outputs": [],
   "source": [
    "#Extracting name of a resturant\n",
    "res_info[2].find(\"a\", class_ = \"css-19v1rkv\").text"
   ]
  },
  {
   "cell_type": "code",
   "execution_count": null,
   "id": "dec3d6e3",
   "metadata": {},
   "outputs": [],
   "source": [
    "#Extracting price range of a restaurant\n",
    "res_info[2].find(\"span\", {\"class\":\"priceRange__09f24__mmOuH css-chan6m\"}).text"
   ]
  },
  {
   "cell_type": "code",
   "execution_count": null,
   "id": "51cd4711",
   "metadata": {
    "scrolled": false
   },
   "outputs": [],
   "source": [
    "#Making a for loop to extract all the price range in the target div\n",
    "test_names = []\n",
    "test_price_range = []\n",
    "test_ratings = []\n",
    "test_total_reviews = []\n",
    "\n",
    "\n",
    "for info in res_info:\n",
    "    try:\n",
    "        name = info.find(\"a\", class_ = \"css-19v1rkv\").text\n",
    "        test_names.append(name)\n",
    "    except:\n",
    "        test_names.append(\"null\")\n",
    "        \n",
    "    try:\n",
    "        prc_range = info.find(\"span\", {\"class\":\"priceRange__09f24__mmOuH css-chan6m\"}).text\n",
    "        test_price_range.append(prc_range)\n",
    "    except:\n",
    "        test_price_range.append(\"null\")\n",
    "        \n",
    "    try:\n",
    "        rati = info.find(\"span\", {\"class\":\"css-gutk1c\"}).text\n",
    "        test_ratings.append(rati)\n",
    "    except:\n",
    "        test_ratings.append(\"null\")\n",
    "        \n",
    "    try:\n",
    "        revs = info.find(\"span\", {\"class\":\"css-chan6m\"}).text\n",
    "        test_total_reviews.append(revs)\n",
    "    except:\n",
    "        test_total_reviews.append(\"null\")\n",
    "    "
   ]
  },
  {
   "cell_type": "code",
   "execution_count": null,
   "id": "3e932d97",
   "metadata": {},
   "outputs": [],
   "source": [
    "test_total_reviews"
   ]
  },
  {
   "cell_type": "code",
   "execution_count": null,
   "id": "880e5f34",
   "metadata": {},
   "outputs": [],
   "source": []
  },
  {
   "cell_type": "markdown",
   "id": "6c952df7",
   "metadata": {},
   "source": [
    "# Approach 1.2: Automating Approach 1."
   ]
  },
  {
   "cell_type": "code",
   "execution_count": null,
   "id": "00a12177",
   "metadata": {},
   "outputs": [],
   "source": []
  },
  {
   "cell_type": "code",
   "execution_count": null,
   "id": "92a5c64c",
   "metadata": {
    "scrolled": true
   },
   "outputs": [],
   "source": [
    "xpath = '/html/body/yelp-react-root/div[1]/div[5]/div/div/div[1]/div/main/div/ul/li[21]/div/div[1]/div/div[11]/span/a/span/svg'\n",
    "element = browser.find_by_xpath(xpath).first\n",
    "time.sleep(5)"
   ]
  },
  {
   "cell_type": "code",
   "execution_count": null,
   "id": "c72d96e4",
   "metadata": {},
   "outputs": [],
   "source": [
    "element.click()\n",
    "time.sleep(5)"
   ]
  },
  {
   "cell_type": "code",
   "execution_count": null,
   "id": "d52b5ca1",
   "metadata": {},
   "outputs": [],
   "source": [
    "browser.quit()"
   ]
  },
  {
   "cell_type": "code",
   "execution_count": null,
   "id": "b328a74f",
   "metadata": {},
   "outputs": [],
   "source": []
  },
  {
   "cell_type": "code",
   "execution_count": null,
   "id": "d845d0af",
   "metadata": {},
   "outputs": [],
   "source": []
  },
  {
   "cell_type": "code",
   "execution_count": null,
   "id": "ef9b6bcf",
   "metadata": {},
   "outputs": [],
   "source": [
    "browser = Browser('chrome')\n",
    "\n",
    "loc = 'lethbridge'\n",
    "prov = 'ab'\n",
    "start = 210\n",
    "url = f'https://www.yelp.com/search?find_desc=Restaurants&find_loc={loc}%2C+{prov}&start={start}'\n",
    "browser.visit(url)\n",
    "html = browser.html\n",
    "soup = soup(html, 'html.parser')\n",
    "time.sleep(3)"
   ]
  },
  {
   "cell_type": "code",
   "execution_count": null,
   "id": "b8fe41d1",
   "metadata": {},
   "outputs": [],
   "source": [
    "res_info = []\n",
    "res_info = soup.find_all(\"div\", class_ = \"container__09f24__mpR8_ hoverable__09f24__wQ_on border-color--default__09f24__NPAKY\")"
   ]
  },
  {
   "cell_type": "code",
   "execution_count": null,
   "id": "82f290f9",
   "metadata": {},
   "outputs": [],
   "source": [
    "\n",
    "\n",
    "test_names = []\n",
    "test_price_range = []\n",
    "test_ratings = []\n",
    "test_total_reviews = []\n",
    "\n",
    "\n",
    "for info in res_info:\n",
    "    try:\n",
    "        name = info.find(\"a\", class_ = \"css-19v1rkv\").text\n",
    "        test_names.append(name)\n",
    "    except:\n",
    "        test_names.append(\"null\")\n",
    "        \n",
    "    try:\n",
    "        prc_range = info.find(\"span\", {\"class\":\"priceRange__09f24__mmOuH css-chan6m\"}).text\n",
    "        test_price_range.append(prc_range)\n",
    "    except:\n",
    "        test_price_range.append(\"null\")\n",
    "        \n",
    "    try:\n",
    "        rati = info.find(\"span\", {\"class\":\"css-gutk1c\"}).text\n",
    "        test_ratings.append(rati)\n",
    "    except:\n",
    "        test_ratings.append(\"null\")\n",
    "        \n",
    "    try:\n",
    "        revs = info.find(\"span\", {\"class\":\"css-chan6m\"}).text\n",
    "        test_total_reviews.append(revs)\n",
    "    except:\n",
    "        test_total_reviews.append(\"null\")\n",
    "    "
   ]
  },
  {
   "cell_type": "code",
   "execution_count": null,
   "id": "7289c4ea",
   "metadata": {},
   "outputs": [],
   "source": [
    "test_names"
   ]
  },
  {
   "cell_type": "code",
   "execution_count": null,
   "id": "5f924855",
   "metadata": {
    "scrolled": false
   },
   "outputs": [],
   "source": [
    "browser.quit()"
   ]
  },
  {
   "cell_type": "code",
   "execution_count": null,
   "id": "2818c67a",
   "metadata": {},
   "outputs": [],
   "source": [
    "#ON\n",
    "cities_on = [\"greater-sudbury\", \"hamilton\", \"kingston\", \"london\", \"niagara-falls\",\n",
    "            \"ottawa\", \"toronto\", \"windsor\", \"kitchener\", \"peterborough\", \n",
    "            \"sault-ste-marie\", \"thunder-bay\"]\n",
    "\n",
    "#AB\n",
    "cities_ab = [\"edmonton\", \"calgary\", \"lethbridge\", \"red-deer\"]\n",
    "\n",
    "#NS\n",
    "cities_ns = [\"halifax\"]\n",
    "\n",
    "#QC\n",
    "cities_qc = [\"montreal\", \"sherbrooke\", \"trois-rivieres\", \"quebec\"]\n",
    "\n",
    "#BC\n",
    "cities_bc = [\"vancouver\", \"victoria\"]\n",
    "\n",
    "#MB\n",
    "cities_mb = [\"winnipeg\"]"
   ]
  },
  {
   "cell_type": "code",
   "execution_count": null,
   "id": "96d10b0a",
   "metadata": {},
   "outputs": [],
   "source": []
  },
  {
   "cell_type": "code",
   "execution_count": null,
   "id": "d21e178d",
   "metadata": {},
   "outputs": [],
   "source": []
  },
  {
   "cell_type": "code",
   "execution_count": null,
   "id": "ff3497e3",
   "metadata": {},
   "outputs": [],
   "source": []
  },
  {
   "cell_type": "markdown",
   "id": "bc46df0f",
   "metadata": {},
   "source": [
    "# Approach 2: Extracting restaurant links, going to each link, and the extracting the elements."
   ]
  },
  {
   "cell_type": "code",
   "execution_count": 2,
   "id": "913dd555",
   "metadata": {},
   "outputs": [],
   "source": [
    "browser = Browser('chrome')\n",
    "\n",
    "#Visiting the website\n",
    "\n",
    "loc = 'victoria'\n",
    "prov = 'bc'\n",
    "start = 10\n",
    "url = f'https://www.yelp.com/search?find_desc=Restaurants&find_loc={loc}%2C+{prov}&start={start}'\n",
    "browser.visit(url)\n",
    "\n",
    "#Creating a BeautifulSoup instance to parse through the HTML\n",
    "html = browser.html\n",
    "\n",
    "soup_obj = soup(html, 'html.parser')\n",
    "time.sleep(3)"
   ]
  },
  {
   "cell_type": "code",
   "execution_count": 3,
   "id": "86fb7ec3",
   "metadata": {},
   "outputs": [],
   "source": [
    "all_links = soup_obj.find_all(\"div\", class_ = \"businessName__09f24__EYSZE display--inline-block__09f24__fEDiJ border-color--default__09f24__NPAKY\")\n",
    "time.sleep(3)\n",
    "browser.quit()"
   ]
  },
  {
   "cell_type": "code",
   "execution_count": 4,
   "id": "1d616dfb",
   "metadata": {},
   "outputs": [],
   "source": [
    "links = []\n",
    "\n",
    "for link in all_links:\n",
    "    results = link.a['href']\n",
    "    links.append(results)"
   ]
  },
  {
   "cell_type": "code",
   "execution_count": 5,
   "id": "89c0110d",
   "metadata": {},
   "outputs": [
    {
     "data": {
      "text/plain": [
       "['/adredir?ad_business_id=cUwaUOa-sI0FBX4UyeZ7fA&campaign_id=T5OxrP9ibeOoNYeIZQYnMw&click_origin=search_results&placement=vertical_0&placement_slot=0&redirect_url=https%3A%2F%2Fwww.yelp.com%2Fbiz%2Fpizza-hut-victoria-4&request_id=e089db115df42e92&signature=c04482feea6e828bd059f2235f82cf9de355c6711a6b6a739adf1cbbbb9269c0&slot=0',\n",
       " '/adredir?ad_business_id=nWbJpGqBdz38IHLNwaVacA&campaign_id=SHC4_PT9fhyPo5yTjVpVBw&click_origin=search_results&placement=vertical_0&placement_slot=0&redirect_url=https%3A%2F%2Fwww.yelp.com%2Fbiz%2Fpirate-pizza-victoria-2&request_id=e089db115df42e92&signature=309231b5c53296f365cd8c99c4db8167dc23c322d872304d7d28d297d5f6fb38&slot=1',\n",
       " '/biz/blue-fox-cafe-victoria?osq=Restaurants',\n",
       " '/biz/nourish-in-the-harbour-victoria?osq=Restaurants',\n",
       " '/biz/jam-cafe-victoria?osq=Restaurants',\n",
       " '/biz/farmhouse-victoria?osq=Restaurants',\n",
       " '/biz/foo-victoria?osq=Restaurants',\n",
       " '/biz/johns-place-victoria?osq=Restaurants',\n",
       " '/biz/10-acres-bistro-victoria-4?osq=Restaurants',\n",
       " '/biz/il-covo-trattoria-victoria?osq=Restaurants',\n",
       " '/biz/bao-victoria?osq=Restaurants',\n",
       " '/biz/nautical-nellies-steak-and-seafood-house-victoria?osq=Restaurants',\n",
       " '/adredir?ad_business_id=GoLBaZ8tO0PGnpvDBn3D_g&campaign_id=yf5QRhHNYY4HxcUePvgeoQ&click_origin=search_results&placement=below_search&placement_slot=1&redirect_url=https%3A%2F%2Fwww.yelp.com%2Fbiz%2Fthe-courtney-room-victoria&request_id=e089db115df42e92&signature=89f84e679eaf853cbb15dfeacf515fe97bea4607d85e00982ab51c2f3cc953ba&slot=0']"
      ]
     },
     "execution_count": 5,
     "metadata": {},
     "output_type": "execute_result"
    }
   ],
   "source": [
    "links"
   ]
  },
  {
   "cell_type": "code",
   "execution_count": 6,
   "id": "b2bb24c6",
   "metadata": {},
   "outputs": [
    {
     "data": {
      "text/plain": [
       "'/biz/blue-fox-cafe-victoria?osq=Restaurants'"
      ]
     },
     "execution_count": 6,
     "metadata": {},
     "output_type": "execute_result"
    }
   ],
   "source": [
    "links[2]"
   ]
  },
  {
   "cell_type": "code",
   "execution_count": 9,
   "id": "55c869f9",
   "metadata": {},
   "outputs": [],
   "source": [
    "browser = Browser('chrome')\n",
    "\n",
    "#Visiting the resturant's Yelp page \n",
    "base_url = \"https://www.yelp.com\"\n",
    "url2 = f\"https://www.yelp.com{links[2]}\"\n",
    "\n",
    "browser.visit(url2)\n",
    "\n",
    "#Creating a BeautifulSoup instance to parse through the HTML\n",
    "html = browser.html\n",
    "\n",
    "soup_obj = soup(html, 'html.parser')\n",
    "time.sleep(5)"
   ]
  },
  {
   "cell_type": "code",
   "execution_count": 11,
   "id": "8f072931",
   "metadata": {},
   "outputs": [
    {
     "name": "stdout",
     "output_type": "stream",
     "text": [
      "Blue Fox Cafe\n"
     ]
    }
   ],
   "source": [
    "element = soup_obj.find('h1', class_ = \"css-1se8maq\")\n",
    "\n",
    "if element:\n",
    "    test = element.text\n",
    "    print(test)\n",
    "else:\n",
    "    print(\"Element not found.\")"
   ]
  },
  {
   "cell_type": "code",
   "execution_count": 14,
   "id": "3ea16708",
   "metadata": {},
   "outputs": [
    {
     "name": "stdout",
     "output_type": "stream",
     "text": [
      "(817 reviews)\n"
     ]
    }
   ],
   "source": [
    "element2 = soup_obj.find('a', class_ = \"css-19v1rkv\")\n",
    "\n",
    "if element2:\n",
    "    test2 = element2.text\n",
    "    print(test2)\n",
    "else:\n",
    "    print(\"Element not found.\")"
   ]
  },
  {
   "cell_type": "code",
   "execution_count": 20,
   "id": "1cfa2c33",
   "metadata": {},
   "outputs": [
    {
     "name": "stdout",
     "output_type": "stream",
     "text": [
      "4.4 \n"
     ]
    }
   ],
   "source": [
    "element3 = soup_obj.find('span', class_ = \"css-1fdy0l5\")\n",
    "\n",
    "if element3:\n",
    "    test3 = element3.text\n",
    "    print(test3)\n",
    "else:\n",
    "    print(\"Element not found.\")"
   ]
  },
  {
   "cell_type": "code",
   "execution_count": 21,
   "id": "96a8084e",
   "metadata": {},
   "outputs": [
    {
     "name": "stdout",
     "output_type": "stream",
     "text": [
      "919 Fort Street Suite 101 Victoria, BC V8V 3K3 Canada\n"
     ]
    }
   ],
   "source": [
    "element4 = soup_obj.find('p', class_ = \"css-qyp8bo\")\n",
    "\n",
    "if element4:\n",
    "    test4 = element4.text\n",
    "    print(test4)\n",
    "else:\n",
    "    print(\"Element not found.\")"
   ]
  },
  {
   "cell_type": "code",
   "execution_count": 22,
   "id": "6f5acbe2",
   "metadata": {},
   "outputs": [],
   "source": [
    "browser.quit()"
   ]
  },
  {
   "cell_type": "code",
   "execution_count": null,
   "id": "e7d700d3",
   "metadata": {},
   "outputs": [],
   "source": []
  }
 ],
 "metadata": {
  "kernelspec": {
   "display_name": "Python 3 (ipykernel)",
   "language": "python",
   "name": "python3"
  },
  "language_info": {
   "codemirror_mode": {
    "name": "ipython",
    "version": 3
   },
   "file_extension": ".py",
   "mimetype": "text/x-python",
   "name": "python",
   "nbconvert_exporter": "python",
   "pygments_lexer": "ipython3",
   "version": "3.9.13"
  }
 },
 "nbformat": 4,
 "nbformat_minor": 5
}
