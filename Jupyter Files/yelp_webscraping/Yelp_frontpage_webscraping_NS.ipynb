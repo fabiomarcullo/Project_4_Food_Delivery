{
 "cells": [
  {
   "cell_type": "code",
   "execution_count": 1,
   "id": "3a2bdaf6",
   "metadata": {},
   "outputs": [],
   "source": [
    "#Importing dependencies/libraries\n",
    "\n",
    "from splinter import Browser\n",
    "from bs4 import BeautifulSoup as soup\n",
    "import pandas as pd\n",
    "import time\n",
    "import numpy as np"
   ]
  },
  {
   "cell_type": "code",
   "execution_count": 2,
   "id": "e069e358",
   "metadata": {},
   "outputs": [],
   "source": [
    "#ON\n",
    "location_on = [\"greater-sudbury\", \"hamilton\", \"kingston\", \"london\", \"niagara-falls\",\n",
    "            \"ottawa\", \"toronto\", \"windsor\", \"kitchener\", \"peterborough\", \n",
    "            \"sault-ste-marie\", \"thunder-bay\"]\n",
    "\n",
    "#AB\n",
    "location_ab = [\"edmonton\", \"calgary\", \"lethbridge\", \"red-deer\"]\n",
    "\n",
    "#NS\n",
    "location_ns = [\"halifax\"]\n",
    "\n",
    "#QC\n",
    "location_qc = [\"montreal\", \"sherbrooke\", \"trois-rivieres\", \"quebec\"]\n",
    "\n",
    "#BC\n",
    "location_bc = [\"vancouver\", \"victoria\"]\n",
    "\n",
    "#MB\n",
    "location_mb = [\"winnipeg\"]\n",
    "\n",
    "#Yelp shows 10 restaurants (not including sponsored ones) per page. \n",
    "#The web page can be changed by manipulating the number at after the'start=' line of the url.\n",
    "pages = [0, 10, 20, 30, 40, 50, 60, 70, 80, 90, 100, 110, 120, 130, 140, 150, 160, 170, 180, 190, 200, 210, 220, 230]"
   ]
  },
  {
   "cell_type": "code",
   "execution_count": 3,
   "id": "338d3d06",
   "metadata": {
    "scrolled": false
   },
   "outputs": [],
   "source": [
    "#Empty lists to hold the values\n",
    "names = []\n",
    "price_range = []\n",
    "rating = []\n",
    "total_reviews = []\n",
    "location = []\n",
    "province = []\n",
    "\n",
    "#Webscraping\n",
    "browser = Browser('chrome')\n",
    "#This for loop changes the page on the url\n",
    "for loc in location_ns:  \n",
    "    #This for loop changes the location of the url\n",
    "    for page in pages:  \n",
    "        \n",
    "        url = f'https://www.yelp.com/search?find_desc=Restaurants&find_loc={loc}%2C+ns&start={page}'\n",
    "        browser.visit(url)\n",
    "        html = browser.html\n",
    "        soup_obj = soup(html, 'html.parser')      \n",
    "        \n",
    "        #Scraping the div that contains the target elements\n",
    "        res_info = []    \n",
    "        res_info = soup_obj.find_all(\"div\", class_ = \"container__09f24__mpR8_ hoverable__09f24__wQ_on border-color--default__09f24__NPAKY\")\n",
    "        time.sleep(5)\n",
    "        \n",
    "        #Extracting the target elements\n",
    "        for info in res_info:\n",
    "            #Extracting restaurant name\n",
    "            try:\n",
    "                name = info.find(\"a\", class_ = \"css-19v1rkv\").text\n",
    "                names.append(name)\n",
    "            except:\n",
    "                names.append(\"No data or change the code\")\n",
    "              \n",
    "            #Extracting price range\n",
    "            if info.find(\"span\", {\"class\":\"priceRange__09f24__mmOuH css-chan6m\"}):\n",
    "                prc_range = info.find(\"span\", {\"class\":\"priceRange__09f24__mmOuH css-chan6m\"}).text\n",
    "                price_range.append(prc_range)\n",
    "            elif info.find(\"span\", {\"class\":\"priceRange__09f24__mmOuH css-1s7bx9e\"}):\n",
    "                prc_range = info.find(\"span\", {\"class\":\"priceRange__09f24__mmOuH css-1s7bx9e\"}).text\n",
    "                price_range.append(prc_range)\n",
    "            else:\n",
    "                price_range.append(\"No data or change the code\")\n",
    "            \n",
    "            #Extracting ratings\n",
    "            try:\n",
    "                rati = info.find(\"span\", {\"class\":\"css-gutk1c\"}).text\n",
    "                rating.append(rati)\n",
    "            except:\n",
    "                rating.append(\"No data or change the code\")\n",
    "            \n",
    "            #Extracting total number of reviews\n",
    "            try:\n",
    "                revs = info.find(\"span\", {\"class\":\"css-chan6m\"}).text\n",
    "                total_reviews.append(revs)\n",
    "            except:\n",
    "                total_reviews.append(\"No data or change the code\")\n",
    "            \n",
    "            #Assigning location and province\n",
    "            location.append(loc)\n",
    "            province.append(\"NS\")\n",
    "               "
   ]
  },
  {
   "cell_type": "code",
   "execution_count": 4,
   "id": "e1a1cc01",
   "metadata": {},
   "outputs": [
    {
     "data": {
      "text/plain": [
       "5"
      ]
     },
     "execution_count": 4,
     "metadata": {},
     "output_type": "execute_result"
    }
   ],
   "source": [
    "#To check the data\n",
    "len(names)"
   ]
  },
  {
   "cell_type": "code",
   "execution_count": 5,
   "id": "c6a852a5",
   "metadata": {},
   "outputs": [
    {
     "data": {
      "text/plain": [
       "5"
      ]
     },
     "execution_count": 5,
     "metadata": {},
     "output_type": "execute_result"
    }
   ],
   "source": [
    "#To check the data\n",
    "len(price_range)"
   ]
  },
  {
   "cell_type": "code",
   "execution_count": 6,
   "id": "e24cda7d",
   "metadata": {},
   "outputs": [
    {
     "data": {
      "text/plain": [
       "['$$',\n",
       " '$',\n",
       " 'No data or change the code',\n",
       " 'No data or change the code',\n",
       " 'No data or change the code']"
      ]
     },
     "execution_count": 6,
     "metadata": {},
     "output_type": "execute_result"
    }
   ],
   "source": [
    "#To check the data\n",
    "price_range"
   ]
  },
  {
   "cell_type": "code",
   "execution_count": 7,
   "id": "e3a5fd1e",
   "metadata": {},
   "outputs": [
    {
     "data": {
      "text/html": [
       "<div>\n",
       "<style scoped>\n",
       "    .dataframe tbody tr th:only-of-type {\n",
       "        vertical-align: middle;\n",
       "    }\n",
       "\n",
       "    .dataframe tbody tr th {\n",
       "        vertical-align: top;\n",
       "    }\n",
       "\n",
       "    .dataframe thead th {\n",
       "        text-align: right;\n",
       "    }\n",
       "</style>\n",
       "<table border=\"1\" class=\"dataframe\">\n",
       "  <thead>\n",
       "    <tr style=\"text-align: right;\">\n",
       "      <th></th>\n",
       "      <th>restaurant_name</th>\n",
       "      <th>price_range</th>\n",
       "      <th>rating</th>\n",
       "      <th>total_reviews</th>\n",
       "      <th>location</th>\n",
       "      <th>province</th>\n",
       "    </tr>\n",
       "  </thead>\n",
       "  <tbody>\n",
       "    <tr>\n",
       "      <th>0</th>\n",
       "      <td>The Henley House</td>\n",
       "      <td>$$</td>\n",
       "      <td>4.3</td>\n",
       "      <td>(12 reviews)</td>\n",
       "      <td>halifax</td>\n",
       "      <td>NS</td>\n",
       "    </tr>\n",
       "    <tr>\n",
       "      <th>1</th>\n",
       "      <td>Beanie s Bistro</td>\n",
       "      <td>$</td>\n",
       "      <td>4.8</td>\n",
       "      <td>(5 reviews)</td>\n",
       "      <td>halifax</td>\n",
       "      <td>NS</td>\n",
       "    </tr>\n",
       "    <tr>\n",
       "      <th>2</th>\n",
       "      <td>Il Porto - Pizzeria And Restaurant</td>\n",
       "      <td>No data or change the code</td>\n",
       "      <td>4.8</td>\n",
       "      <td>(6 reviews)</td>\n",
       "      <td>halifax</td>\n",
       "      <td>NS</td>\n",
       "    </tr>\n",
       "    <tr>\n",
       "      <th>3</th>\n",
       "      <td>Toots Take Out</td>\n",
       "      <td>No data or change the code</td>\n",
       "      <td>No data or change the code</td>\n",
       "      <td></td>\n",
       "      <td>halifax</td>\n",
       "      <td>NS</td>\n",
       "    </tr>\n",
       "    <tr>\n",
       "      <th>4</th>\n",
       "      <td>Norse Cove Cafe and Supply</td>\n",
       "      <td>No data or change the code</td>\n",
       "      <td>No data or change the code</td>\n",
       "      <td></td>\n",
       "      <td>halifax</td>\n",
       "      <td>NS</td>\n",
       "    </tr>\n",
       "  </tbody>\n",
       "</table>\n",
       "</div>"
      ],
      "text/plain": [
       "                      restaurant_name                 price_range  \\\n",
       "0                    The Henley House                          $$   \n",
       "1                     Beanie s Bistro                           $   \n",
       "2  Il Porto - Pizzeria And Restaurant  No data or change the code   \n",
       "3                      Toots Take Out  No data or change the code   \n",
       "4          Norse Cove Cafe and Supply  No data or change the code   \n",
       "\n",
       "                       rating total_reviews location province  \n",
       "0                        4.3   (12 reviews)  halifax       NS  \n",
       "1                        4.8    (5 reviews)  halifax       NS  \n",
       "2                        4.8    (6 reviews)  halifax       NS  \n",
       "3  No data or change the code                halifax       NS  \n",
       "4  No data or change the code                halifax       NS  "
      ]
     },
     "execution_count": 7,
     "metadata": {},
     "output_type": "execute_result"
    }
   ],
   "source": [
    "#Putting the lists together into one dataframe\n",
    "\n",
    "yelp_ns_df = pd.DataFrame({\n",
    "    \"restaurant_name\" : names,\n",
    "    \"price_range\" : price_range,\n",
    "    \"rating\" : rating,\n",
    "    \"total_reviews\" : total_reviews,\n",
    "    \"location\" : location,\n",
    "    \"province\" : province\n",
    "})\n",
    "\n",
    "yelp_ns_df"
   ]
  },
  {
   "cell_type": "code",
   "execution_count": 8,
   "id": "f740f0bc",
   "metadata": {},
   "outputs": [
    {
     "data": {
      "text/html": [
       "<div>\n",
       "<style scoped>\n",
       "    .dataframe tbody tr th:only-of-type {\n",
       "        vertical-align: middle;\n",
       "    }\n",
       "\n",
       "    .dataframe tbody tr th {\n",
       "        vertical-align: top;\n",
       "    }\n",
       "\n",
       "    .dataframe thead th {\n",
       "        text-align: right;\n",
       "    }\n",
       "</style>\n",
       "<table border=\"1\" class=\"dataframe\">\n",
       "  <thead>\n",
       "    <tr style=\"text-align: right;\">\n",
       "      <th></th>\n",
       "      <th>restaurant_name</th>\n",
       "      <th>price_range</th>\n",
       "      <th>rating</th>\n",
       "      <th>total_reviews</th>\n",
       "      <th>location</th>\n",
       "      <th>province</th>\n",
       "    </tr>\n",
       "  </thead>\n",
       "  <tbody>\n",
       "    <tr>\n",
       "      <th>0</th>\n",
       "      <td>The Henley House</td>\n",
       "      <td>$$</td>\n",
       "      <td>4.3</td>\n",
       "      <td>12</td>\n",
       "      <td>halifax</td>\n",
       "      <td>NS</td>\n",
       "    </tr>\n",
       "    <tr>\n",
       "      <th>1</th>\n",
       "      <td>Beanie s Bistro</td>\n",
       "      <td>$</td>\n",
       "      <td>4.8</td>\n",
       "      <td>5</td>\n",
       "      <td>halifax</td>\n",
       "      <td>NS</td>\n",
       "    </tr>\n",
       "  </tbody>\n",
       "</table>\n",
       "</div>"
      ],
      "text/plain": [
       "    restaurant_name price_range rating total_reviews location province\n",
       "0  The Henley House          $$   4.3             12  halifax       NS\n",
       "1   Beanie s Bistro           $   4.8              5  halifax       NS"
      ]
     },
     "execution_count": 8,
     "metadata": {},
     "output_type": "execute_result"
    }
   ],
   "source": [
    "#Cleaning the dataframe; removing duplicates, replacings specific values with NaN, removing rows with NaN values, and cleaning the \"total_reviews\" column\n",
    "\n",
    "yelp_ns_df.drop_duplicates()\n",
    "yelp_ns_df.replace('No data or change the code', np.nan, inplace = True)\n",
    "yelp_ns_df.dropna(inplace = True)\n",
    "yelp_ns_df = yelp_ns_df.reset_index(drop = True)\n",
    "yelp_ns_df['total_reviews'] = yelp_ns_df['total_reviews'].str.replace(r'[\\(\\) reviews]', '', regex=True)\n",
    "\n",
    "yelp_ns_df"
   ]
  },
  {
   "cell_type": "code",
   "execution_count": 9,
   "id": "5731f0b7",
   "metadata": {},
   "outputs": [],
   "source": [
    "#Creating a csv from the dataframe\n",
    "\n",
    "yelp_ns_df.to_csv(\"yelp_ns.csv\", index = False)"
   ]
  },
  {
   "cell_type": "code",
   "execution_count": 10,
   "id": "dbab534f",
   "metadata": {},
   "outputs": [],
   "source": [
    "browser.quit()"
   ]
  },
  {
   "cell_type": "code",
   "execution_count": null,
   "id": "d0e8a995",
   "metadata": {},
   "outputs": [],
   "source": []
  }
 ],
 "metadata": {
  "kernelspec": {
   "display_name": "Python 3 (ipykernel)",
   "language": "python",
   "name": "python3"
  },
  "language_info": {
   "codemirror_mode": {
    "name": "ipython",
    "version": 3
   },
   "file_extension": ".py",
   "mimetype": "text/x-python",
   "name": "python",
   "nbconvert_exporter": "python",
   "pygments_lexer": "ipython3",
   "version": "3.9.13"
  }
 },
 "nbformat": 4,
 "nbformat_minor": 5
}
