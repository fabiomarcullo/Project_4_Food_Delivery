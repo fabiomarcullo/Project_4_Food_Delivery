{
 "cells": [
  {
   "cell_type": "code",
   "execution_count": 1,
   "metadata": {
    "id": "PVuxagrEvia2"
   },
   "outputs": [],
   "source": [
    "import pandas as pd\n",
    "import re\n",
    "from sklearn.preprocessing import LabelEncoder\n",
    "from sklearn.metrics.pairwise import cosine_similarity\n",
    "from geopy.distance import geodesic\n",
    "from geopy.geocoders import Nominatim\n",
    "from geopy.exc import GeocoderTimedOut"
   ]
  },
  {
   "cell_type": "code",
   "execution_count": 2,
   "metadata": {
    "colab": {
     "base_uri": "https://localhost:8080/",
     "height": 756
    },
    "id": "BEDlVq7av004",
    "outputId": "31f62979-8bc3-4f8d-f673-76536d05aeb7"
   },
   "outputs": [
    {
     "data": {
      "text/html": [
       "<div>\n",
       "<style scoped>\n",
       "    .dataframe tbody tr th:only-of-type {\n",
       "        vertical-align: middle;\n",
       "    }\n",
       "\n",
       "    .dataframe tbody tr th {\n",
       "        vertical-align: top;\n",
       "    }\n",
       "\n",
       "    .dataframe thead th {\n",
       "        text-align: right;\n",
       "    }\n",
       "</style>\n",
       "<table border=\"1\" class=\"dataframe\">\n",
       "  <thead>\n",
       "    <tr style=\"text-align: right;\">\n",
       "      <th></th>\n",
       "      <th>restaurant_name</th>\n",
       "      <th>price_range</th>\n",
       "      <th>rating</th>\n",
       "      <th>total_reviews</th>\n",
       "      <th>category</th>\n",
       "      <th>location</th>\n",
       "      <th>province</th>\n",
       "      <th>address</th>\n",
       "      <th>Latitude</th>\n",
       "      <th>Longitude</th>\n",
       "      <th>Province</th>\n",
       "    </tr>\n",
       "  </thead>\n",
       "  <tbody>\n",
       "    <tr>\n",
       "      <th>0</th>\n",
       "      <td>The Flying Pig</td>\n",
       "      <td>$$</td>\n",
       "      <td>4.0</td>\n",
       "      <td>1300</td>\n",
       "      <td>Canadian (New)</td>\n",
       "      <td>vancouver</td>\n",
       "      <td>BC</td>\n",
       "      <td>1168 Hamilton Street Unit 104 Vancouver, BC V6...</td>\n",
       "      <td>49.275039</td>\n",
       "      <td>-123.122038</td>\n",
       "      <td>BC</td>\n",
       "    </tr>\n",
       "    <tr>\n",
       "      <th>1</th>\n",
       "      <td>Kingyo</td>\n",
       "      <td>$$</td>\n",
       "      <td>4.4</td>\n",
       "      <td>1100</td>\n",
       "      <td>Japanese</td>\n",
       "      <td>vancouver</td>\n",
       "      <td>BC</td>\n",
       "      <td>871 Denman Street Vancouver, BC V6G 2L9 Canada</td>\n",
       "      <td>49.290612</td>\n",
       "      <td>-123.137095</td>\n",
       "      <td>BC</td>\n",
       "    </tr>\n",
       "    <tr>\n",
       "      <th>2</th>\n",
       "      <td>Miku</td>\n",
       "      <td>$$$</td>\n",
       "      <td>4.4</td>\n",
       "      <td>2200</td>\n",
       "      <td>Japanese</td>\n",
       "      <td>vancouver</td>\n",
       "      <td>BC</td>\n",
       "      <td>200 Granville Street Suite 70 Vancouver, BC V6...</td>\n",
       "      <td>49.286826</td>\n",
       "      <td>-123.112583</td>\n",
       "      <td>BC</td>\n",
       "    </tr>\n",
       "    <tr>\n",
       "      <th>3</th>\n",
       "      <td>Kosoo</td>\n",
       "      <td>$$</td>\n",
       "      <td>4.3</td>\n",
       "      <td>88</td>\n",
       "      <td>Korean</td>\n",
       "      <td>vancouver</td>\n",
       "      <td>BC</td>\n",
       "      <td>1128 Robson Street Vancouver, BC V6E 1B2 Canada</td>\n",
       "      <td>49.284988</td>\n",
       "      <td>-123.125959</td>\n",
       "      <td>BC</td>\n",
       "    </tr>\n",
       "    <tr>\n",
       "      <th>4</th>\n",
       "      <td>Dinesty Dumpling House</td>\n",
       "      <td>$$</td>\n",
       "      <td>3.9</td>\n",
       "      <td>928</td>\n",
       "      <td>Chinese</td>\n",
       "      <td>vancouver</td>\n",
       "      <td>BC</td>\n",
       "      <td>1719 Robson Street Vancouver, BC V6G 1C8 Canada</td>\n",
       "      <td>49.290780</td>\n",
       "      <td>-123.134073</td>\n",
       "      <td>BC</td>\n",
       "    </tr>\n",
       "  </tbody>\n",
       "</table>\n",
       "</div>"
      ],
      "text/plain": [
       "          restaurant_name price_range  rating  total_reviews        category  \\\n",
       "0          The Flying Pig          $$     4.0           1300  Canadian (New)   \n",
       "1                  Kingyo          $$     4.4           1100        Japanese   \n",
       "2                    Miku         $$$     4.4           2200        Japanese   \n",
       "3                   Kosoo          $$     4.3             88          Korean   \n",
       "4  Dinesty Dumpling House          $$     3.9            928         Chinese   \n",
       "\n",
       "    location province                                            address  \\\n",
       "0  vancouver       BC  1168 Hamilton Street Unit 104 Vancouver, BC V6...   \n",
       "1  vancouver       BC     871 Denman Street Vancouver, BC V6G 2L9 Canada   \n",
       "2  vancouver       BC  200 Granville Street Suite 70 Vancouver, BC V6...   \n",
       "3  vancouver       BC    1128 Robson Street Vancouver, BC V6E 1B2 Canada   \n",
       "4  vancouver       BC    1719 Robson Street Vancouver, BC V6G 1C8 Canada   \n",
       "\n",
       "    Latitude   Longitude Province  \n",
       "0  49.275039 -123.122038       BC  \n",
       "1  49.290612 -123.137095       BC  \n",
       "2  49.286826 -123.112583       BC  \n",
       "3  49.284988 -123.125959       BC  \n",
       "4  49.290780 -123.134073       BC  "
      ]
     },
     "execution_count": 2,
     "metadata": {},
     "output_type": "execute_result"
    }
   ],
   "source": [
    "# Data Collection\n",
    "yelp_data_file = 'Restaurants_Yelp_With_Lat.csv'\n",
    "yelp_df = pd.read_csv(yelp_data_file)\n",
    "\n",
    "yelp_df.head()"
   ]
  },
  {
   "cell_type": "code",
   "execution_count": 3,
   "metadata": {
    "colab": {
     "base_uri": "https://localhost:8080/"
    },
    "id": "kxJfHW_d94LW",
    "outputId": "de2532c3-3e80-403a-b31c-496a37d4f9f6"
   },
   "outputs": [
    {
     "name": "stdout",
     "output_type": "stream",
     "text": [
      "Index(['restaurant_name', 'price_range', 'rating', 'total_reviews', 'category',\n",
      "       'location', 'province', 'address', 'Latitude', 'Longitude', 'Province'],\n",
      "      dtype='object')\n"
     ]
    }
   ],
   "source": [
    "print(yelp_df.columns)"
   ]
  },
  {
   "cell_type": "code",
   "execution_count": 4,
   "metadata": {
    "colab": {
     "base_uri": "https://localhost:8080/"
    },
    "id": "ju0UGi5SoflZ",
    "outputId": "0c4d9cf8-1421-409f-9878-be421883ddf8"
   },
   "outputs": [
    {
     "data": {
      "text/plain": [
       "1157"
      ]
     },
     "execution_count": 4,
     "metadata": {},
     "output_type": "execute_result"
    }
   ],
   "source": [
    "len(yelp_df)\n"
   ]
  },
  {
   "cell_type": "code",
   "execution_count": 5,
   "metadata": {
    "id": "6nbGgZFBpFCC"
   },
   "outputs": [],
   "source": [
    "from sklearn.metrics.pairwise import cosine_similarity\n",
    "from sklearn.preprocessing import OneHotEncoder\n",
    "from geopy.distance import geodesic"
   ]
  },
  {
   "cell_type": "code",
   "execution_count": 6,
   "metadata": {
    "colab": {
     "base_uri": "https://localhost:8080/",
     "height": 756
    },
    "id": "Jnb_LcUX7xDA",
    "outputId": "b9eb5350-7eb3-4b0a-d5f9-37544cc77172"
   },
   "outputs": [
    {
     "data": {
      "text/html": [
       "<div>\n",
       "<style scoped>\n",
       "    .dataframe tbody tr th:only-of-type {\n",
       "        vertical-align: middle;\n",
       "    }\n",
       "\n",
       "    .dataframe tbody tr th {\n",
       "        vertical-align: top;\n",
       "    }\n",
       "\n",
       "    .dataframe thead th {\n",
       "        text-align: right;\n",
       "    }\n",
       "</style>\n",
       "<table border=\"1\" class=\"dataframe\">\n",
       "  <thead>\n",
       "    <tr style=\"text-align: right;\">\n",
       "      <th></th>\n",
       "      <th>restaurant_name</th>\n",
       "      <th>price_range</th>\n",
       "      <th>rating</th>\n",
       "      <th>total_reviews</th>\n",
       "      <th>category</th>\n",
       "      <th>location</th>\n",
       "      <th>province</th>\n",
       "      <th>address</th>\n",
       "      <th>Latitude</th>\n",
       "      <th>Longitude</th>\n",
       "      <th>Province</th>\n",
       "    </tr>\n",
       "  </thead>\n",
       "  <tbody>\n",
       "    <tr>\n",
       "      <th>793</th>\n",
       "      <td>S R Kitchen</td>\n",
       "      <td>$$</td>\n",
       "      <td>4.7</td>\n",
       "      <td>3</td>\n",
       "      <td>Chinese</td>\n",
       "      <td>regina</td>\n",
       "      <td>SK</td>\n",
       "      <td>6843 Rochdale Boulevard Regina, SK S4X 2Z2 Canada</td>\n",
       "      <td>50.494107</td>\n",
       "      <td>-104.679286</td>\n",
       "      <td>SK</td>\n",
       "    </tr>\n",
       "    <tr>\n",
       "      <th>1084</th>\n",
       "      <td>New Golden Inn Restaurant</td>\n",
       "      <td>$$</td>\n",
       "      <td>4.6</td>\n",
       "      <td>7</td>\n",
       "      <td>Chinese</td>\n",
       "      <td>winnipeg</td>\n",
       "      <td>MB</td>\n",
       "      <td>1084 Pembina Hwy Winnipeg, MB R3T 1Z9 Canada</td>\n",
       "      <td>49.849055</td>\n",
       "      <td>-97.152322</td>\n",
       "      <td>MB</td>\n",
       "    </tr>\n",
       "    <tr>\n",
       "      <th>46</th>\n",
       "      <td>Chinatown BBQ</td>\n",
       "      <td>$$</td>\n",
       "      <td>4.5</td>\n",
       "      <td>261</td>\n",
       "      <td>Chinese</td>\n",
       "      <td>vancouver</td>\n",
       "      <td>BC</td>\n",
       "      <td>130 E Pender Street Vancouver, BC V6A 1T3 Canada</td>\n",
       "      <td>49.280187</td>\n",
       "      <td>-123.101485</td>\n",
       "      <td>BC</td>\n",
       "    </tr>\n",
       "    <tr>\n",
       "      <th>729</th>\n",
       "      <td>The Dumpling Hut</td>\n",
       "      <td>$$</td>\n",
       "      <td>4.5</td>\n",
       "      <td>99</td>\n",
       "      <td>Chinese</td>\n",
       "      <td>montreal</td>\n",
       "      <td>QC</td>\n",
       "      <td>3591 Rue Clark Montreal, QC H2X 2R9 Canada</td>\n",
       "      <td>45.513283</td>\n",
       "      <td>-73.572578</td>\n",
       "      <td>QC</td>\n",
       "    </tr>\n",
       "    <tr>\n",
       "      <th>80</th>\n",
       "      <td>Micha</td>\n",
       "      <td>$$</td>\n",
       "      <td>4.4</td>\n",
       "      <td>42</td>\n",
       "      <td>Chinese</td>\n",
       "      <td>vancouver</td>\n",
       "      <td>BC</td>\n",
       "      <td>120-4751 Garden City Road Richmond, BC V6X 3M7...</td>\n",
       "      <td>49.177868</td>\n",
       "      <td>-123.125541</td>\n",
       "      <td>BC</td>\n",
       "    </tr>\n",
       "  </tbody>\n",
       "</table>\n",
       "</div>"
      ],
      "text/plain": [
       "                restaurant_name price_range  rating  total_reviews category  \\\n",
       "793                 S R Kitchen          $$     4.7              3  Chinese   \n",
       "1084  New Golden Inn Restaurant          $$     4.6              7  Chinese   \n",
       "46                Chinatown BBQ          $$     4.5            261  Chinese   \n",
       "729            The Dumpling Hut          $$     4.5             99  Chinese   \n",
       "80                        Micha          $$     4.4             42  Chinese   \n",
       "\n",
       "       location province                                            address  \\\n",
       "793      regina       SK  6843 Rochdale Boulevard Regina, SK S4X 2Z2 Canada   \n",
       "1084   winnipeg       MB       1084 Pembina Hwy Winnipeg, MB R3T 1Z9 Canada   \n",
       "46    vancouver       BC   130 E Pender Street Vancouver, BC V6A 1T3 Canada   \n",
       "729    montreal       QC         3591 Rue Clark Montreal, QC H2X 2R9 Canada   \n",
       "80    vancouver       BC  120-4751 Garden City Road Richmond, BC V6X 3M7...   \n",
       "\n",
       "       Latitude   Longitude Province  \n",
       "793   50.494107 -104.679286       SK  \n",
       "1084  49.849055  -97.152322       MB  \n",
       "46    49.280187 -123.101485       BC  \n",
       "729   45.513283  -73.572578       QC  \n",
       "80    49.177868 -123.125541       BC  "
      ]
     },
     "execution_count": 6,
     "metadata": {},
     "output_type": "execute_result"
    }
   ],
   "source": [
    "def recommendation(yelp_df, chosen_category):\n",
    "    # Filter the DataFrame based on the chosen category\n",
    "    filtered_df = yelp_df[yelp_df['category'] == chosen_category].copy()\n",
    "\n",
    "    # Sort the DataFrame based on rating (higher rating means more similar to the chosen category)\n",
    "    filtered_df.sort_values(by='rating', ascending=False, inplace=True)\n",
    "\n",
    "    # print(\"Filtered and Sorted DataFrame Base on Rating:\")\n",
    "\n",
    "\n",
    "    return filtered_df\n",
    "\n",
    "chosen_category = 'Chinese'\n",
    "\n",
    "recommended_items = recommendation(yelp_df, chosen_category)\n",
    "recommended_items.head()"
   ]
  },
  {
   "cell_type": "code",
   "execution_count": 7,
   "metadata": {
    "colab": {
     "base_uri": "https://localhost:8080/",
     "height": 739
    },
    "id": "zgQczPYdF8Bv",
    "outputId": "3f63c183-5596-49d8-e868-5e5c889b5c00"
   },
   "outputs": [
    {
     "ename": "GeocoderInsufficientPrivileges",
     "evalue": "Non-successful status code 403",
     "output_type": "error",
     "traceback": [
      "\u001b[1;31m---------------------------------------------------------------------------\u001b[0m",
      "\u001b[1;31mAdapterHTTPError\u001b[0m                          Traceback (most recent call last)",
      "File \u001b[1;32m~\\anaconda\\lib\\site-packages\\geopy\\geocoders\\base.py:368\u001b[0m, in \u001b[0;36mGeocoder._call_geocoder\u001b[1;34m(self, url, callback, timeout, is_json, headers)\u001b[0m\n\u001b[0;32m    367\u001b[0m \u001b[38;5;28;01mif\u001b[39;00m is_json:\n\u001b[1;32m--> 368\u001b[0m     result \u001b[38;5;241m=\u001b[39m \u001b[38;5;28;43mself\u001b[39;49m\u001b[38;5;241;43m.\u001b[39;49m\u001b[43madapter\u001b[49m\u001b[38;5;241;43m.\u001b[39;49m\u001b[43mget_json\u001b[49m\u001b[43m(\u001b[49m\u001b[43murl\u001b[49m\u001b[43m,\u001b[49m\u001b[43m \u001b[49m\u001b[43mtimeout\u001b[49m\u001b[38;5;241;43m=\u001b[39;49m\u001b[43mtimeout\u001b[49m\u001b[43m,\u001b[49m\u001b[43m \u001b[49m\u001b[43mheaders\u001b[49m\u001b[38;5;241;43m=\u001b[39;49m\u001b[43mreq_headers\u001b[49m\u001b[43m)\u001b[49m\n\u001b[0;32m    369\u001b[0m \u001b[38;5;28;01melse\u001b[39;00m:\n",
      "File \u001b[1;32m~\\anaconda\\lib\\site-packages\\geopy\\adapters.py:447\u001b[0m, in \u001b[0;36mRequestsAdapter.get_json\u001b[1;34m(self, url, timeout, headers)\u001b[0m\n\u001b[0;32m    446\u001b[0m \u001b[38;5;28;01mdef\u001b[39;00m \u001b[38;5;21mget_json\u001b[39m(\u001b[38;5;28mself\u001b[39m, url, \u001b[38;5;241m*\u001b[39m, timeout, headers):\n\u001b[1;32m--> 447\u001b[0m     resp \u001b[38;5;241m=\u001b[39m \u001b[38;5;28;43mself\u001b[39;49m\u001b[38;5;241;43m.\u001b[39;49m\u001b[43m_request\u001b[49m\u001b[43m(\u001b[49m\u001b[43murl\u001b[49m\u001b[43m,\u001b[49m\u001b[43m \u001b[49m\u001b[43mtimeout\u001b[49m\u001b[38;5;241;43m=\u001b[39;49m\u001b[43mtimeout\u001b[49m\u001b[43m,\u001b[49m\u001b[43m \u001b[49m\u001b[43mheaders\u001b[49m\u001b[38;5;241;43m=\u001b[39;49m\u001b[43mheaders\u001b[49m\u001b[43m)\u001b[49m\n\u001b[0;32m    448\u001b[0m     \u001b[38;5;28;01mtry\u001b[39;00m:\n",
      "File \u001b[1;32m~\\anaconda\\lib\\site-packages\\geopy\\adapters.py:475\u001b[0m, in \u001b[0;36mRequestsAdapter._request\u001b[1;34m(self, url, timeout, headers)\u001b[0m\n\u001b[0;32m    474\u001b[0m     \u001b[38;5;28;01mif\u001b[39;00m resp\u001b[38;5;241m.\u001b[39mstatus_code \u001b[38;5;241m>\u001b[39m\u001b[38;5;241m=\u001b[39m \u001b[38;5;241m400\u001b[39m:\n\u001b[1;32m--> 475\u001b[0m         \u001b[38;5;28;01mraise\u001b[39;00m AdapterHTTPError(\n\u001b[0;32m    476\u001b[0m             \u001b[38;5;124m\"\u001b[39m\u001b[38;5;124mNon-successful status code \u001b[39m\u001b[38;5;132;01m%s\u001b[39;00m\u001b[38;5;124m\"\u001b[39m \u001b[38;5;241m%\u001b[39m resp\u001b[38;5;241m.\u001b[39mstatus_code,\n\u001b[0;32m    477\u001b[0m             status_code\u001b[38;5;241m=\u001b[39mresp\u001b[38;5;241m.\u001b[39mstatus_code,\n\u001b[0;32m    478\u001b[0m             headers\u001b[38;5;241m=\u001b[39mresp\u001b[38;5;241m.\u001b[39mheaders,\n\u001b[0;32m    479\u001b[0m             text\u001b[38;5;241m=\u001b[39mresp\u001b[38;5;241m.\u001b[39mtext,\n\u001b[0;32m    480\u001b[0m         )\n\u001b[0;32m    482\u001b[0m \u001b[38;5;28;01mreturn\u001b[39;00m resp\n",
      "\u001b[1;31mAdapterHTTPError\u001b[0m: Non-successful status code 403",
      "\nThe above exception was the direct cause of the following exception:\n",
      "\u001b[1;31mGeocoderInsufficientPrivileges\u001b[0m            Traceback (most recent call last)",
      "Cell \u001b[1;32mIn[7], line 32\u001b[0m\n\u001b[0;32m     29\u001b[0m user_province \u001b[38;5;241m=\u001b[39m \u001b[38;5;124m\"\u001b[39m\u001b[38;5;124mQuebec\u001b[39m\u001b[38;5;124m\"\u001b[39m\n\u001b[0;32m     31\u001b[0m \u001b[38;5;66;03m# Call the function to get geographic proximity recommendations sorted by rating\u001b[39;00m\n\u001b[1;32m---> 32\u001b[0m proximity_recommendations \u001b[38;5;241m=\u001b[39m \u001b[43mgeographic_proximity_recommendation\u001b[49m\u001b[43m(\u001b[49m\u001b[43myelp_df\u001b[49m\u001b[43m,\u001b[49m\u001b[43m \u001b[49m\u001b[43muser_location\u001b[49m\u001b[43m,\u001b[49m\u001b[43m \u001b[49m\u001b[43muser_province\u001b[49m\u001b[43m)\u001b[49m\n\u001b[0;32m     33\u001b[0m proximity_recommendations\u001b[38;5;241m.\u001b[39mhead()\n",
      "Cell \u001b[1;32mIn[7], line 11\u001b[0m, in \u001b[0;36mgeographic_proximity_recommendation\u001b[1;34m(yelp_df, user_location, user_province)\u001b[0m\n\u001b[0;32m      9\u001b[0m \u001b[38;5;28;01mdef\u001b[39;00m \u001b[38;5;21mgeographic_proximity_recommendation\u001b[39m(yelp_df, user_location, user_province):\n\u001b[0;32m     10\u001b[0m     \u001b[38;5;66;03m# Get the user's latitude and longitude from the location string\u001b[39;00m\n\u001b[1;32m---> 11\u001b[0m     user_coordinates \u001b[38;5;241m=\u001b[39m \u001b[43mget_coordinates\u001b[49m\u001b[43m(\u001b[49m\u001b[43muser_location\u001b[49m\u001b[43m)\u001b[49m\n\u001b[0;32m     12\u001b[0m     \u001b[38;5;28;01mif\u001b[39;00m user_coordinates \u001b[38;5;129;01mis\u001b[39;00m \u001b[38;5;28;01mNone\u001b[39;00m:\n\u001b[0;32m     13\u001b[0m         \u001b[38;5;28;01mraise\u001b[39;00m \u001b[38;5;167;01mValueError\u001b[39;00m(\u001b[38;5;124m\"\u001b[39m\u001b[38;5;124mInvalid user location.\u001b[39m\u001b[38;5;124m\"\u001b[39m)\n",
      "Cell \u001b[1;32mIn[7], line 3\u001b[0m, in \u001b[0;36mget_coordinates\u001b[1;34m(location)\u001b[0m\n\u001b[0;32m      1\u001b[0m \u001b[38;5;28;01mdef\u001b[39;00m \u001b[38;5;21mget_coordinates\u001b[39m(location):\n\u001b[0;32m      2\u001b[0m     geolocator \u001b[38;5;241m=\u001b[39m Nominatim(user_agent\u001b[38;5;241m=\u001b[39m\u001b[38;5;124m\"\u001b[39m\u001b[38;5;124mgeoapiExercises\u001b[39m\u001b[38;5;124m\"\u001b[39m)\n\u001b[1;32m----> 3\u001b[0m     location \u001b[38;5;241m=\u001b[39m \u001b[43mgeolocator\u001b[49m\u001b[38;5;241;43m.\u001b[39;49m\u001b[43mgeocode\u001b[49m\u001b[43m(\u001b[49m\u001b[43mlocation\u001b[49m\u001b[43m)\u001b[49m\n\u001b[0;32m      4\u001b[0m     \u001b[38;5;28;01mif\u001b[39;00m location:\n\u001b[0;32m      5\u001b[0m         \u001b[38;5;28;01mreturn\u001b[39;00m location\u001b[38;5;241m.\u001b[39mlatitude, location\u001b[38;5;241m.\u001b[39mlongitude\n",
      "File \u001b[1;32m~\\anaconda\\lib\\site-packages\\geopy\\geocoders\\nominatim.py:297\u001b[0m, in \u001b[0;36mNominatim.geocode\u001b[1;34m(self, query, exactly_one, timeout, limit, addressdetails, language, geometry, extratags, country_codes, viewbox, bounded, featuretype, namedetails)\u001b[0m\n\u001b[0;32m    295\u001b[0m logger\u001b[38;5;241m.\u001b[39mdebug(\u001b[38;5;124m\"\u001b[39m\u001b[38;5;132;01m%s\u001b[39;00m\u001b[38;5;124m.geocode: \u001b[39m\u001b[38;5;132;01m%s\u001b[39;00m\u001b[38;5;124m\"\u001b[39m, \u001b[38;5;28mself\u001b[39m\u001b[38;5;241m.\u001b[39m\u001b[38;5;18m__class__\u001b[39m\u001b[38;5;241m.\u001b[39m\u001b[38;5;18m__name__\u001b[39m, url)\n\u001b[0;32m    296\u001b[0m callback \u001b[38;5;241m=\u001b[39m partial(\u001b[38;5;28mself\u001b[39m\u001b[38;5;241m.\u001b[39m_parse_json, exactly_one\u001b[38;5;241m=\u001b[39mexactly_one)\n\u001b[1;32m--> 297\u001b[0m \u001b[38;5;28;01mreturn\u001b[39;00m \u001b[38;5;28;43mself\u001b[39;49m\u001b[38;5;241;43m.\u001b[39;49m\u001b[43m_call_geocoder\u001b[49m\u001b[43m(\u001b[49m\u001b[43murl\u001b[49m\u001b[43m,\u001b[49m\u001b[43m \u001b[49m\u001b[43mcallback\u001b[49m\u001b[43m,\u001b[49m\u001b[43m \u001b[49m\u001b[43mtimeout\u001b[49m\u001b[38;5;241;43m=\u001b[39;49m\u001b[43mtimeout\u001b[49m\u001b[43m)\u001b[49m\n",
      "File \u001b[1;32m~\\anaconda\\lib\\site-packages\\geopy\\geocoders\\base.py:388\u001b[0m, in \u001b[0;36mGeocoder._call_geocoder\u001b[1;34m(self, url, callback, timeout, is_json, headers)\u001b[0m\n\u001b[0;32m    386\u001b[0m         \u001b[38;5;28;01mreturn\u001b[39;00m callback(result)\n\u001b[0;32m    387\u001b[0m \u001b[38;5;28;01mexcept\u001b[39;00m \u001b[38;5;167;01mException\u001b[39;00m \u001b[38;5;28;01mas\u001b[39;00m error:\n\u001b[1;32m--> 388\u001b[0m     res \u001b[38;5;241m=\u001b[39m \u001b[38;5;28;43mself\u001b[39;49m\u001b[38;5;241;43m.\u001b[39;49m\u001b[43m_adapter_error_handler\u001b[49m\u001b[43m(\u001b[49m\u001b[43merror\u001b[49m\u001b[43m)\u001b[49m\n\u001b[0;32m    389\u001b[0m     \u001b[38;5;28;01mif\u001b[39;00m res \u001b[38;5;129;01mis\u001b[39;00m NONE_RESULT:\n\u001b[0;32m    390\u001b[0m         \u001b[38;5;28;01mreturn\u001b[39;00m \u001b[38;5;28;01mNone\u001b[39;00m\n",
      "File \u001b[1;32m~\\anaconda\\lib\\site-packages\\geopy\\geocoders\\base.py:411\u001b[0m, in \u001b[0;36mGeocoder._adapter_error_handler\u001b[1;34m(self, error)\u001b[0m\n\u001b[0;32m    407\u001b[0m         \u001b[38;5;28;01mraise\u001b[39;00m exc_cls(\n\u001b[0;32m    408\u001b[0m             \u001b[38;5;28mstr\u001b[39m(error), retry_after\u001b[38;5;241m=\u001b[39mget_retry_after(error\u001b[38;5;241m.\u001b[39mheaders)\n\u001b[0;32m    409\u001b[0m         ) \u001b[38;5;28;01mfrom\u001b[39;00m \u001b[38;5;21;01merror\u001b[39;00m\n\u001b[0;32m    410\u001b[0m     \u001b[38;5;28;01melse\u001b[39;00m:\n\u001b[1;32m--> 411\u001b[0m         \u001b[38;5;28;01mraise\u001b[39;00m exc_cls(\u001b[38;5;28mstr\u001b[39m(error)) \u001b[38;5;28;01mfrom\u001b[39;00m \u001b[38;5;21;01merror\u001b[39;00m\n\u001b[0;32m    412\u001b[0m \u001b[38;5;28;01melse\u001b[39;00m:\n\u001b[0;32m    413\u001b[0m     res \u001b[38;5;241m=\u001b[39m \u001b[38;5;28mself\u001b[39m\u001b[38;5;241m.\u001b[39m_geocoder_exception_handler(error)\n",
      "\u001b[1;31mGeocoderInsufficientPrivileges\u001b[0m: Non-successful status code 403"
     ]
    }
   ],
   "source": [
    "def get_coordinates(location):\n",
    "    geolocator = Nominatim(user_agent=\"geoapiExercises\")\n",
    "    location = geolocator.geocode(location)\n",
    "    if location:\n",
    "        return location.latitude, location.longitude\n",
    "    else:\n",
    "        return None\n",
    "\n",
    "def geographic_proximity_recommendation(yelp_df, user_location, user_province):\n",
    "    # Get the user's latitude and longitude from the location string\n",
    "    user_coordinates = get_coordinates(user_location)\n",
    "    if user_coordinates is None:\n",
    "        raise ValueError(\"Invalid user location.\")\n",
    "\n",
    "    # Calculate distance to the user's location for each restaurant\n",
    "    yelp_df['Distance'] = yelp_df.apply(lambda row: geodesic(user_coordinates,\n",
    "                                    (row['Latitude'], row['Longitude'])).kilometers, axis=1)\n",
    "\n",
    "    # DataFrame sorted based on distance and rating\n",
    "    yelp_df.sort_values(by=['Distance', 'rating'], ascending=[True, False], inplace=True)\n",
    "\n",
    "    # Drop the Distance column as it's no longer needed in the final result\n",
    "    yelp_df.drop(columns=['Distance'], inplace=True)\n",
    "\n",
    "    return yelp_df\n",
    "\n",
    "# User's location as a string\n",
    "user_location = \"Montreal\"\n",
    "user_province = \"Quebec\"\n",
    "\n",
    "# Call the function to get geographic proximity recommendations sorted by rating\n",
    "proximity_recommendations = geographic_proximity_recommendation(yelp_df, user_location, user_province)\n",
    "proximity_recommendations.head()"
   ]
  },
  {
   "cell_type": "code",
   "execution_count": 8,
   "metadata": {
    "id": "vNBvvmW33KSy"
   },
   "outputs": [],
   "source": [
    "def hybrid_recommendation(yelp_df, chosen_category, user_location, user_province):\n",
    "    # Get content-based recommendations\n",
    "    content_based_df = recommendation(yelp_df, chosen_category)\n",
    "\n",
    "    # Get geographic proximity recommendations\n",
    "    proximity_df = geographic_proximity_recommendation(yelp_df, user_location, user_province)\n",
    "\n",
    "    # Merge the two recommendation DataFrames based on the restaurant name\n",
    "    recommended_df = pd.merge(content_based_df, proximity_df, on='restaurant_name', suffixes=('_content', '_proximity'))\n",
    "\n",
    "    return recommended_df\n"
   ]
  },
  {
   "cell_type": "code",
   "execution_count": 9,
   "metadata": {
    "colab": {
     "base_uri": "https://localhost:8080/",
     "height": 508
    },
    "id": "nytIh0IT3lYY",
    "outputId": "03744582-9ab8-4f7d-999b-b68c6e87aeed"
   },
   "outputs": [
    {
     "ename": "GeocoderInsufficientPrivileges",
     "evalue": "Non-successful status code 403",
     "output_type": "error",
     "traceback": [
      "\u001b[1;31m---------------------------------------------------------------------------\u001b[0m",
      "\u001b[1;31mAdapterHTTPError\u001b[0m                          Traceback (most recent call last)",
      "File \u001b[1;32m~\\anaconda\\lib\\site-packages\\geopy\\geocoders\\base.py:368\u001b[0m, in \u001b[0;36mGeocoder._call_geocoder\u001b[1;34m(self, url, callback, timeout, is_json, headers)\u001b[0m\n\u001b[0;32m    367\u001b[0m \u001b[38;5;28;01mif\u001b[39;00m is_json:\n\u001b[1;32m--> 368\u001b[0m     result \u001b[38;5;241m=\u001b[39m \u001b[38;5;28;43mself\u001b[39;49m\u001b[38;5;241;43m.\u001b[39;49m\u001b[43madapter\u001b[49m\u001b[38;5;241;43m.\u001b[39;49m\u001b[43mget_json\u001b[49m\u001b[43m(\u001b[49m\u001b[43murl\u001b[49m\u001b[43m,\u001b[49m\u001b[43m \u001b[49m\u001b[43mtimeout\u001b[49m\u001b[38;5;241;43m=\u001b[39;49m\u001b[43mtimeout\u001b[49m\u001b[43m,\u001b[49m\u001b[43m \u001b[49m\u001b[43mheaders\u001b[49m\u001b[38;5;241;43m=\u001b[39;49m\u001b[43mreq_headers\u001b[49m\u001b[43m)\u001b[49m\n\u001b[0;32m    369\u001b[0m \u001b[38;5;28;01melse\u001b[39;00m:\n",
      "File \u001b[1;32m~\\anaconda\\lib\\site-packages\\geopy\\adapters.py:447\u001b[0m, in \u001b[0;36mRequestsAdapter.get_json\u001b[1;34m(self, url, timeout, headers)\u001b[0m\n\u001b[0;32m    446\u001b[0m \u001b[38;5;28;01mdef\u001b[39;00m \u001b[38;5;21mget_json\u001b[39m(\u001b[38;5;28mself\u001b[39m, url, \u001b[38;5;241m*\u001b[39m, timeout, headers):\n\u001b[1;32m--> 447\u001b[0m     resp \u001b[38;5;241m=\u001b[39m \u001b[38;5;28;43mself\u001b[39;49m\u001b[38;5;241;43m.\u001b[39;49m\u001b[43m_request\u001b[49m\u001b[43m(\u001b[49m\u001b[43murl\u001b[49m\u001b[43m,\u001b[49m\u001b[43m \u001b[49m\u001b[43mtimeout\u001b[49m\u001b[38;5;241;43m=\u001b[39;49m\u001b[43mtimeout\u001b[49m\u001b[43m,\u001b[49m\u001b[43m \u001b[49m\u001b[43mheaders\u001b[49m\u001b[38;5;241;43m=\u001b[39;49m\u001b[43mheaders\u001b[49m\u001b[43m)\u001b[49m\n\u001b[0;32m    448\u001b[0m     \u001b[38;5;28;01mtry\u001b[39;00m:\n",
      "File \u001b[1;32m~\\anaconda\\lib\\site-packages\\geopy\\adapters.py:475\u001b[0m, in \u001b[0;36mRequestsAdapter._request\u001b[1;34m(self, url, timeout, headers)\u001b[0m\n\u001b[0;32m    474\u001b[0m     \u001b[38;5;28;01mif\u001b[39;00m resp\u001b[38;5;241m.\u001b[39mstatus_code \u001b[38;5;241m>\u001b[39m\u001b[38;5;241m=\u001b[39m \u001b[38;5;241m400\u001b[39m:\n\u001b[1;32m--> 475\u001b[0m         \u001b[38;5;28;01mraise\u001b[39;00m AdapterHTTPError(\n\u001b[0;32m    476\u001b[0m             \u001b[38;5;124m\"\u001b[39m\u001b[38;5;124mNon-successful status code \u001b[39m\u001b[38;5;132;01m%s\u001b[39;00m\u001b[38;5;124m\"\u001b[39m \u001b[38;5;241m%\u001b[39m resp\u001b[38;5;241m.\u001b[39mstatus_code,\n\u001b[0;32m    477\u001b[0m             status_code\u001b[38;5;241m=\u001b[39mresp\u001b[38;5;241m.\u001b[39mstatus_code,\n\u001b[0;32m    478\u001b[0m             headers\u001b[38;5;241m=\u001b[39mresp\u001b[38;5;241m.\u001b[39mheaders,\n\u001b[0;32m    479\u001b[0m             text\u001b[38;5;241m=\u001b[39mresp\u001b[38;5;241m.\u001b[39mtext,\n\u001b[0;32m    480\u001b[0m         )\n\u001b[0;32m    482\u001b[0m \u001b[38;5;28;01mreturn\u001b[39;00m resp\n",
      "\u001b[1;31mAdapterHTTPError\u001b[0m: Non-successful status code 403",
      "\nThe above exception was the direct cause of the following exception:\n",
      "\u001b[1;31mGeocoderInsufficientPrivileges\u001b[0m            Traceback (most recent call last)",
      "Cell \u001b[1;32mIn[9], line 6\u001b[0m\n\u001b[0;32m      2\u001b[0m user_location \u001b[38;5;241m=\u001b[39m \u001b[38;5;124m\"\u001b[39m\u001b[38;5;124mtoronto\u001b[39m\u001b[38;5;124m\"\u001b[39m\n\u001b[0;32m      3\u001b[0m user_province \u001b[38;5;241m=\u001b[39m \u001b[38;5;124m\"\u001b[39m\u001b[38;5;124montario\u001b[39m\u001b[38;5;124m\"\u001b[39m\n\u001b[1;32m----> 6\u001b[0m recommendations \u001b[38;5;241m=\u001b[39m \u001b[43mhybrid_recommendation\u001b[49m\u001b[43m(\u001b[49m\u001b[43myelp_df\u001b[49m\u001b[43m,\u001b[49m\u001b[43m \u001b[49m\u001b[43mchosen_category\u001b[49m\u001b[43m,\u001b[49m\u001b[43m \u001b[49m\u001b[43muser_location\u001b[49m\u001b[43m,\u001b[49m\u001b[43m \u001b[49m\u001b[43muser_province\u001b[49m\u001b[43m)\u001b[49m\n\u001b[0;32m      8\u001b[0m recommendations\u001b[38;5;241m.\u001b[39mhead()\n",
      "Cell \u001b[1;32mIn[8], line 6\u001b[0m, in \u001b[0;36mhybrid_recommendation\u001b[1;34m(yelp_df, chosen_category, user_location, user_province)\u001b[0m\n\u001b[0;32m      3\u001b[0m content_based_df \u001b[38;5;241m=\u001b[39m recommendation(yelp_df, chosen_category)\n\u001b[0;32m      5\u001b[0m \u001b[38;5;66;03m# Get geographic proximity recommendations\u001b[39;00m\n\u001b[1;32m----> 6\u001b[0m proximity_df \u001b[38;5;241m=\u001b[39m \u001b[43mgeographic_proximity_recommendation\u001b[49m\u001b[43m(\u001b[49m\u001b[43myelp_df\u001b[49m\u001b[43m,\u001b[49m\u001b[43m \u001b[49m\u001b[43muser_location\u001b[49m\u001b[43m,\u001b[49m\u001b[43m \u001b[49m\u001b[43muser_province\u001b[49m\u001b[43m)\u001b[49m\n\u001b[0;32m      8\u001b[0m \u001b[38;5;66;03m# Merge the two recommendation DataFrames based on the restaurant name\u001b[39;00m\n\u001b[0;32m      9\u001b[0m recommended_df \u001b[38;5;241m=\u001b[39m pd\u001b[38;5;241m.\u001b[39mmerge(content_based_df, proximity_df, on\u001b[38;5;241m=\u001b[39m\u001b[38;5;124m'\u001b[39m\u001b[38;5;124mrestaurant_name\u001b[39m\u001b[38;5;124m'\u001b[39m, suffixes\u001b[38;5;241m=\u001b[39m(\u001b[38;5;124m'\u001b[39m\u001b[38;5;124m_content\u001b[39m\u001b[38;5;124m'\u001b[39m, \u001b[38;5;124m'\u001b[39m\u001b[38;5;124m_proximity\u001b[39m\u001b[38;5;124m'\u001b[39m))\n",
      "Cell \u001b[1;32mIn[7], line 11\u001b[0m, in \u001b[0;36mgeographic_proximity_recommendation\u001b[1;34m(yelp_df, user_location, user_province)\u001b[0m\n\u001b[0;32m      9\u001b[0m \u001b[38;5;28;01mdef\u001b[39;00m \u001b[38;5;21mgeographic_proximity_recommendation\u001b[39m(yelp_df, user_location, user_province):\n\u001b[0;32m     10\u001b[0m     \u001b[38;5;66;03m# Get the user's latitude and longitude from the location string\u001b[39;00m\n\u001b[1;32m---> 11\u001b[0m     user_coordinates \u001b[38;5;241m=\u001b[39m \u001b[43mget_coordinates\u001b[49m\u001b[43m(\u001b[49m\u001b[43muser_location\u001b[49m\u001b[43m)\u001b[49m\n\u001b[0;32m     12\u001b[0m     \u001b[38;5;28;01mif\u001b[39;00m user_coordinates \u001b[38;5;129;01mis\u001b[39;00m \u001b[38;5;28;01mNone\u001b[39;00m:\n\u001b[0;32m     13\u001b[0m         \u001b[38;5;28;01mraise\u001b[39;00m \u001b[38;5;167;01mValueError\u001b[39;00m(\u001b[38;5;124m\"\u001b[39m\u001b[38;5;124mInvalid user location.\u001b[39m\u001b[38;5;124m\"\u001b[39m)\n",
      "Cell \u001b[1;32mIn[7], line 3\u001b[0m, in \u001b[0;36mget_coordinates\u001b[1;34m(location)\u001b[0m\n\u001b[0;32m      1\u001b[0m \u001b[38;5;28;01mdef\u001b[39;00m \u001b[38;5;21mget_coordinates\u001b[39m(location):\n\u001b[0;32m      2\u001b[0m     geolocator \u001b[38;5;241m=\u001b[39m Nominatim(user_agent\u001b[38;5;241m=\u001b[39m\u001b[38;5;124m\"\u001b[39m\u001b[38;5;124mgeoapiExercises\u001b[39m\u001b[38;5;124m\"\u001b[39m)\n\u001b[1;32m----> 3\u001b[0m     location \u001b[38;5;241m=\u001b[39m \u001b[43mgeolocator\u001b[49m\u001b[38;5;241;43m.\u001b[39;49m\u001b[43mgeocode\u001b[49m\u001b[43m(\u001b[49m\u001b[43mlocation\u001b[49m\u001b[43m)\u001b[49m\n\u001b[0;32m      4\u001b[0m     \u001b[38;5;28;01mif\u001b[39;00m location:\n\u001b[0;32m      5\u001b[0m         \u001b[38;5;28;01mreturn\u001b[39;00m location\u001b[38;5;241m.\u001b[39mlatitude, location\u001b[38;5;241m.\u001b[39mlongitude\n",
      "File \u001b[1;32m~\\anaconda\\lib\\site-packages\\geopy\\geocoders\\nominatim.py:297\u001b[0m, in \u001b[0;36mNominatim.geocode\u001b[1;34m(self, query, exactly_one, timeout, limit, addressdetails, language, geometry, extratags, country_codes, viewbox, bounded, featuretype, namedetails)\u001b[0m\n\u001b[0;32m    295\u001b[0m logger\u001b[38;5;241m.\u001b[39mdebug(\u001b[38;5;124m\"\u001b[39m\u001b[38;5;132;01m%s\u001b[39;00m\u001b[38;5;124m.geocode: \u001b[39m\u001b[38;5;132;01m%s\u001b[39;00m\u001b[38;5;124m\"\u001b[39m, \u001b[38;5;28mself\u001b[39m\u001b[38;5;241m.\u001b[39m\u001b[38;5;18m__class__\u001b[39m\u001b[38;5;241m.\u001b[39m\u001b[38;5;18m__name__\u001b[39m, url)\n\u001b[0;32m    296\u001b[0m callback \u001b[38;5;241m=\u001b[39m partial(\u001b[38;5;28mself\u001b[39m\u001b[38;5;241m.\u001b[39m_parse_json, exactly_one\u001b[38;5;241m=\u001b[39mexactly_one)\n\u001b[1;32m--> 297\u001b[0m \u001b[38;5;28;01mreturn\u001b[39;00m \u001b[38;5;28;43mself\u001b[39;49m\u001b[38;5;241;43m.\u001b[39;49m\u001b[43m_call_geocoder\u001b[49m\u001b[43m(\u001b[49m\u001b[43murl\u001b[49m\u001b[43m,\u001b[49m\u001b[43m \u001b[49m\u001b[43mcallback\u001b[49m\u001b[43m,\u001b[49m\u001b[43m \u001b[49m\u001b[43mtimeout\u001b[49m\u001b[38;5;241;43m=\u001b[39;49m\u001b[43mtimeout\u001b[49m\u001b[43m)\u001b[49m\n",
      "File \u001b[1;32m~\\anaconda\\lib\\site-packages\\geopy\\geocoders\\base.py:388\u001b[0m, in \u001b[0;36mGeocoder._call_geocoder\u001b[1;34m(self, url, callback, timeout, is_json, headers)\u001b[0m\n\u001b[0;32m    386\u001b[0m         \u001b[38;5;28;01mreturn\u001b[39;00m callback(result)\n\u001b[0;32m    387\u001b[0m \u001b[38;5;28;01mexcept\u001b[39;00m \u001b[38;5;167;01mException\u001b[39;00m \u001b[38;5;28;01mas\u001b[39;00m error:\n\u001b[1;32m--> 388\u001b[0m     res \u001b[38;5;241m=\u001b[39m \u001b[38;5;28;43mself\u001b[39;49m\u001b[38;5;241;43m.\u001b[39;49m\u001b[43m_adapter_error_handler\u001b[49m\u001b[43m(\u001b[49m\u001b[43merror\u001b[49m\u001b[43m)\u001b[49m\n\u001b[0;32m    389\u001b[0m     \u001b[38;5;28;01mif\u001b[39;00m res \u001b[38;5;129;01mis\u001b[39;00m NONE_RESULT:\n\u001b[0;32m    390\u001b[0m         \u001b[38;5;28;01mreturn\u001b[39;00m \u001b[38;5;28;01mNone\u001b[39;00m\n",
      "File \u001b[1;32m~\\anaconda\\lib\\site-packages\\geopy\\geocoders\\base.py:411\u001b[0m, in \u001b[0;36mGeocoder._adapter_error_handler\u001b[1;34m(self, error)\u001b[0m\n\u001b[0;32m    407\u001b[0m         \u001b[38;5;28;01mraise\u001b[39;00m exc_cls(\n\u001b[0;32m    408\u001b[0m             \u001b[38;5;28mstr\u001b[39m(error), retry_after\u001b[38;5;241m=\u001b[39mget_retry_after(error\u001b[38;5;241m.\u001b[39mheaders)\n\u001b[0;32m    409\u001b[0m         ) \u001b[38;5;28;01mfrom\u001b[39;00m \u001b[38;5;21;01merror\u001b[39;00m\n\u001b[0;32m    410\u001b[0m     \u001b[38;5;28;01melse\u001b[39;00m:\n\u001b[1;32m--> 411\u001b[0m         \u001b[38;5;28;01mraise\u001b[39;00m exc_cls(\u001b[38;5;28mstr\u001b[39m(error)) \u001b[38;5;28;01mfrom\u001b[39;00m \u001b[38;5;21;01merror\u001b[39;00m\n\u001b[0;32m    412\u001b[0m \u001b[38;5;28;01melse\u001b[39;00m:\n\u001b[0;32m    413\u001b[0m     res \u001b[38;5;241m=\u001b[39m \u001b[38;5;28mself\u001b[39m\u001b[38;5;241m.\u001b[39m_geocoder_exception_handler(error)\n",
      "\u001b[1;31mGeocoderInsufficientPrivileges\u001b[0m: Non-successful status code 403"
     ]
    }
   ],
   "source": [
    "chosen_category = 'Italian'\n",
    "user_location = \"toronto\"\n",
    "user_province = \"ontario\"\n",
    "\n",
    "\n",
    "recommendations = hybrid_recommendation(yelp_df, chosen_category, user_location, user_province)\n",
    "\n",
    "recommendations.head()"
   ]
  },
  {
   "cell_type": "code",
   "execution_count": null,
   "metadata": {},
   "outputs": [],
   "source": []
  }
 ],
 "metadata": {
  "colab": {
   "provenance": []
  },
  "kernelspec": {
   "display_name": "Python 3 (ipykernel)",
   "language": "python",
   "name": "python3"
  },
  "language_info": {
   "codemirror_mode": {
    "name": "ipython",
    "version": 3
   },
   "file_extension": ".py",
   "mimetype": "text/x-python",
   "name": "python",
   "nbconvert_exporter": "python",
   "pygments_lexer": "ipython3",
   "version": "3.9.13"
  }
 },
 "nbformat": 4,
 "nbformat_minor": 1
}
