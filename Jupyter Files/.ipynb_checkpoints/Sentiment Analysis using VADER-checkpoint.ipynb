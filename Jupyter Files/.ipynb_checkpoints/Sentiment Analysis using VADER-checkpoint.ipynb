{
 "cells": [
  {
   "cell_type": "code",
   "execution_count": 1,
   "id": "8a76d66c",
   "metadata": {},
   "outputs": [],
   "source": [
    "import pandas as pd\n",
    "import nltk\n",
    "from nltk.sentiment.vader import SentimentIntensityAnalyzer"
   ]
  },
  {
   "cell_type": "code",
   "execution_count": 2,
   "id": "949f8420",
   "metadata": {},
   "outputs": [
    {
     "name": "stderr",
     "output_type": "stream",
     "text": [
      "[nltk_data] Downloading package vader_lexicon to C:\\Users\\Fabio_UofT\n",
      "[nltk_data]     SCS\\AppData\\Roaming\\nltk_data...\n",
      "[nltk_data]   Package vader_lexicon is already up-to-date!\n"
     ]
    },
    {
     "data": {
      "text/plain": [
       "True"
      ]
     },
     "execution_count": 2,
     "metadata": {},
     "output_type": "execute_result"
    }
   ],
   "source": [
    "# Download VADER lexicon (only required once)\n",
    "nltk.download('vader_lexicon')"
   ]
  },
  {
   "cell_type": "code",
   "execution_count": 3,
   "id": "39476e84",
   "metadata": {},
   "outputs": [],
   "source": [
    "# Read the dataset\n",
    "restaurants_df = pd.read_csv('Restaurants_Yelp_Reviews.csv')"
   ]
  },
  {
   "cell_type": "code",
   "execution_count": 4,
   "id": "ad57d1d0",
   "metadata": {},
   "outputs": [
    {
     "data": {
      "text/html": [
       "<div>\n",
       "<style scoped>\n",
       "    .dataframe tbody tr th:only-of-type {\n",
       "        vertical-align: middle;\n",
       "    }\n",
       "\n",
       "    .dataframe tbody tr th {\n",
       "        vertical-align: top;\n",
       "    }\n",
       "\n",
       "    .dataframe thead th {\n",
       "        text-align: right;\n",
       "    }\n",
       "</style>\n",
       "<table border=\"1\" class=\"dataframe\">\n",
       "  <thead>\n",
       "    <tr style=\"text-align: right;\">\n",
       "      <th></th>\n",
       "      <th>Restaurant_name</th>\n",
       "      <th>Category</th>\n",
       "      <th>Address</th>\n",
       "      <th>Province</th>\n",
       "      <th>Latitude</th>\n",
       "      <th>Longitude</th>\n",
       "      <th>Rating</th>\n",
       "      <th>Review</th>\n",
       "    </tr>\n",
       "  </thead>\n",
       "  <tbody>\n",
       "    <tr>\n",
       "      <th>0</th>\n",
       "      <td>España Restaurant</td>\n",
       "      <td>Spanish</td>\n",
       "      <td>1118 Denman Street Vancouver, BC V6G 2M8 Canada</td>\n",
       "      <td>BC</td>\n",
       "      <td>49.288055</td>\n",
       "      <td>-123.140411</td>\n",
       "      <td>5</td>\n",
       "      <td>The vibe of the place is simply amazing. We we...</td>\n",
       "    </tr>\n",
       "    <tr>\n",
       "      <th>1</th>\n",
       "      <td>España Restaurant</td>\n",
       "      <td>Spanish</td>\n",
       "      <td>1118 Denman Street Vancouver, BC V6G 2M8 Canada</td>\n",
       "      <td>BC</td>\n",
       "      <td>49.288055</td>\n",
       "      <td>-123.140411</td>\n",
       "      <td>5</td>\n",
       "      <td>Very attentive staff! Very good food and a won...</td>\n",
       "    </tr>\n",
       "    <tr>\n",
       "      <th>2</th>\n",
       "      <td>España Restaurant</td>\n",
       "      <td>Spanish</td>\n",
       "      <td>1118 Denman Street Vancouver, BC V6G 2M8 Canada</td>\n",
       "      <td>BC</td>\n",
       "      <td>49.288055</td>\n",
       "      <td>-123.140411</td>\n",
       "      <td>5</td>\n",
       "      <td>The seafood in the daily Paella was so fresh a...</td>\n",
       "    </tr>\n",
       "    <tr>\n",
       "      <th>3</th>\n",
       "      <td>España Restaurant</td>\n",
       "      <td>Spanish</td>\n",
       "      <td>1118 Denman Street Vancouver, BC V6G 2M8 Canada</td>\n",
       "      <td>BC</td>\n",
       "      <td>49.288055</td>\n",
       "      <td>-123.140411</td>\n",
       "      <td>5</td>\n",
       "      <td>Food is fantastic and service is great!\\nI lov...</td>\n",
       "    </tr>\n",
       "    <tr>\n",
       "      <th>4</th>\n",
       "      <td>España Restaurant</td>\n",
       "      <td>Spanish</td>\n",
       "      <td>1118 Denman Street Vancouver, BC V6G 2M8 Canada</td>\n",
       "      <td>BC</td>\n",
       "      <td>49.288055</td>\n",
       "      <td>-123.140411</td>\n",
       "      <td>5</td>\n",
       "      <td>Great little place, enjoyed the food and the s...</td>\n",
       "    </tr>\n",
       "  </tbody>\n",
       "</table>\n",
       "</div>"
      ],
      "text/plain": [
       "     Restaurant_name Category  \\\n",
       "0  España Restaurant  Spanish   \n",
       "1  España Restaurant  Spanish   \n",
       "2  España Restaurant  Spanish   \n",
       "3  España Restaurant  Spanish   \n",
       "4  España Restaurant  Spanish   \n",
       "\n",
       "                                           Address Province   Latitude  \\\n",
       "0  1118 Denman Street Vancouver, BC V6G 2M8 Canada       BC  49.288055   \n",
       "1  1118 Denman Street Vancouver, BC V6G 2M8 Canada       BC  49.288055   \n",
       "2  1118 Denman Street Vancouver, BC V6G 2M8 Canada       BC  49.288055   \n",
       "3  1118 Denman Street Vancouver, BC V6G 2M8 Canada       BC  49.288055   \n",
       "4  1118 Denman Street Vancouver, BC V6G 2M8 Canada       BC  49.288055   \n",
       "\n",
       "    Longitude  Rating                                             Review  \n",
       "0 -123.140411       5  The vibe of the place is simply amazing. We we...  \n",
       "1 -123.140411       5  Very attentive staff! Very good food and a won...  \n",
       "2 -123.140411       5  The seafood in the daily Paella was so fresh a...  \n",
       "3 -123.140411       5  Food is fantastic and service is great!\\nI lov...  \n",
       "4 -123.140411       5  Great little place, enjoyed the food and the s...  "
      ]
     },
     "execution_count": 4,
     "metadata": {},
     "output_type": "execute_result"
    }
   ],
   "source": [
    "# Print DF\n",
    "restaurants_df.head()"
   ]
  },
  {
   "cell_type": "code",
   "execution_count": 5,
   "id": "874ecae0",
   "metadata": {},
   "outputs": [
    {
     "name": "stderr",
     "output_type": "stream",
     "text": [
      "C:\\Users\\Fabio_UofT SCS\\AppData\\Local\\Temp\\ipykernel_448\\3173914631.py:4: FutureWarning: The default value of regex will change from True to False in a future version.\n",
      "  restaurants_df['Review'] = restaurants_df['Review'].str.replace('[^\\w\\s]', '')\n"
     ]
    }
   ],
   "source": [
    "# Text Preprocessing\n",
    "restaurants_df['Review'] = restaurants_df['Review'].astype(str)\n",
    "restaurants_df['Review'] = restaurants_df['Review'].apply(lambda review: review.lower())\n",
    "restaurants_df['Review'] = restaurants_df['Review'].str.replace('[^\\w\\s]', '')\n"
   ]
  },
  {
   "cell_type": "code",
   "execution_count": 6,
   "id": "b9ecffdb",
   "metadata": {},
   "outputs": [],
   "source": [
    "# Perform Sentiment Analysis using VADER\n",
    "analyzer = SentimentIntensityAnalyzer()\n",
    "\n",
    "def get_sentiment_polarity(review):\n",
    "    return analyzer.polarity_scores(review)['compound']\n",
    "\n",
    "restaurants_df['Sentiment_score'] = restaurants_df['Review'].apply(get_sentiment_polarity)\n"
   ]
  },
  {
   "cell_type": "code",
   "execution_count": 7,
   "id": "44239c3c",
   "metadata": {},
   "outputs": [],
   "source": [
    "# Categorize reviews as positive or negative based on sentiment score\n",
    "threshold = 0.5  # You can adjust this threshold based on your preference\n",
    "restaurants_df['Sentiment'] = restaurants_df['Sentiment_score'].apply(lambda score: 'Good' if score >= threshold else 'Bad')\n"
   ]
  },
  {
   "cell_type": "code",
   "execution_count": 8,
   "id": "6ce68882",
   "metadata": {},
   "outputs": [
    {
     "data": {
      "text/html": [
       "<div>\n",
       "<style scoped>\n",
       "    .dataframe tbody tr th:only-of-type {\n",
       "        vertical-align: middle;\n",
       "    }\n",
       "\n",
       "    .dataframe tbody tr th {\n",
       "        vertical-align: top;\n",
       "    }\n",
       "\n",
       "    .dataframe thead th {\n",
       "        text-align: right;\n",
       "    }\n",
       "</style>\n",
       "<table border=\"1\" class=\"dataframe\">\n",
       "  <thead>\n",
       "    <tr style=\"text-align: right;\">\n",
       "      <th></th>\n",
       "      <th>Restaurant_name</th>\n",
       "      <th>Category</th>\n",
       "      <th>Address</th>\n",
       "      <th>Province</th>\n",
       "      <th>Latitude</th>\n",
       "      <th>Longitude</th>\n",
       "      <th>Rating</th>\n",
       "      <th>Review</th>\n",
       "      <th>Sentiment_score</th>\n",
       "      <th>Sentiment</th>\n",
       "    </tr>\n",
       "  </thead>\n",
       "  <tbody>\n",
       "    <tr>\n",
       "      <th>0</th>\n",
       "      <td>España Restaurant</td>\n",
       "      <td>Spanish</td>\n",
       "      <td>1118 Denman Street Vancouver, BC V6G 2M8 Canada</td>\n",
       "      <td>BC</td>\n",
       "      <td>49.288055</td>\n",
       "      <td>-123.140411</td>\n",
       "      <td>5</td>\n",
       "      <td>the vibe of the place is simply amazing we wer...</td>\n",
       "      <td>0.9708</td>\n",
       "      <td>Good</td>\n",
       "    </tr>\n",
       "    <tr>\n",
       "      <th>1</th>\n",
       "      <td>España Restaurant</td>\n",
       "      <td>Spanish</td>\n",
       "      <td>1118 Denman Street Vancouver, BC V6G 2M8 Canada</td>\n",
       "      <td>BC</td>\n",
       "      <td>49.288055</td>\n",
       "      <td>-123.140411</td>\n",
       "      <td>5</td>\n",
       "      <td>very attentive staff very good food and a wond...</td>\n",
       "      <td>0.7846</td>\n",
       "      <td>Good</td>\n",
       "    </tr>\n",
       "    <tr>\n",
       "      <th>2</th>\n",
       "      <td>España Restaurant</td>\n",
       "      <td>Spanish</td>\n",
       "      <td>1118 Denman Street Vancouver, BC V6G 2M8 Canada</td>\n",
       "      <td>BC</td>\n",
       "      <td>49.288055</td>\n",
       "      <td>-123.140411</td>\n",
       "      <td>5</td>\n",
       "      <td>the seafood in the daily paella was so fresh a...</td>\n",
       "      <td>0.9700</td>\n",
       "      <td>Good</td>\n",
       "    </tr>\n",
       "    <tr>\n",
       "      <th>3</th>\n",
       "      <td>España Restaurant</td>\n",
       "      <td>Spanish</td>\n",
       "      <td>1118 Denman Street Vancouver, BC V6G 2M8 Canada</td>\n",
       "      <td>BC</td>\n",
       "      <td>49.288055</td>\n",
       "      <td>-123.140411</td>\n",
       "      <td>5</td>\n",
       "      <td>food is fantastic and service is great\\ni love...</td>\n",
       "      <td>0.9509</td>\n",
       "      <td>Good</td>\n",
       "    </tr>\n",
       "    <tr>\n",
       "      <th>4</th>\n",
       "      <td>España Restaurant</td>\n",
       "      <td>Spanish</td>\n",
       "      <td>1118 Denman Street Vancouver, BC V6G 2M8 Canada</td>\n",
       "      <td>BC</td>\n",
       "      <td>49.288055</td>\n",
       "      <td>-123.140411</td>\n",
       "      <td>5</td>\n",
       "      <td>great little place enjoyed the food and the sa...</td>\n",
       "      <td>0.9023</td>\n",
       "      <td>Good</td>\n",
       "    </tr>\n",
       "  </tbody>\n",
       "</table>\n",
       "</div>"
      ],
      "text/plain": [
       "     Restaurant_name Category  \\\n",
       "0  España Restaurant  Spanish   \n",
       "1  España Restaurant  Spanish   \n",
       "2  España Restaurant  Spanish   \n",
       "3  España Restaurant  Spanish   \n",
       "4  España Restaurant  Spanish   \n",
       "\n",
       "                                           Address Province   Latitude  \\\n",
       "0  1118 Denman Street Vancouver, BC V6G 2M8 Canada       BC  49.288055   \n",
       "1  1118 Denman Street Vancouver, BC V6G 2M8 Canada       BC  49.288055   \n",
       "2  1118 Denman Street Vancouver, BC V6G 2M8 Canada       BC  49.288055   \n",
       "3  1118 Denman Street Vancouver, BC V6G 2M8 Canada       BC  49.288055   \n",
       "4  1118 Denman Street Vancouver, BC V6G 2M8 Canada       BC  49.288055   \n",
       "\n",
       "    Longitude  Rating                                             Review  \\\n",
       "0 -123.140411       5  the vibe of the place is simply amazing we wer...   \n",
       "1 -123.140411       5  very attentive staff very good food and a wond...   \n",
       "2 -123.140411       5  the seafood in the daily paella was so fresh a...   \n",
       "3 -123.140411       5  food is fantastic and service is great\\ni love...   \n",
       "4 -123.140411       5  great little place enjoyed the food and the sa...   \n",
       "\n",
       "   Sentiment_score Sentiment  \n",
       "0           0.9708      Good  \n",
       "1           0.7846      Good  \n",
       "2           0.9700      Good  \n",
       "3           0.9509      Good  \n",
       "4           0.9023      Good  "
      ]
     },
     "execution_count": 8,
     "metadata": {},
     "output_type": "execute_result"
    }
   ],
   "source": [
    "# Print DF\n",
    "restaurants_df.head()"
   ]
  },
  {
   "cell_type": "code",
   "execution_count": 9,
   "id": "c667aa67",
   "metadata": {},
   "outputs": [],
   "source": [
    "# Save the updated CSV\n",
    "restaurants_df.to_csv('Restaurants_Yelp_with_Sentiment.csv', index=False)"
   ]
  },
  {
   "cell_type": "code",
   "execution_count": null,
   "id": "31fc4cf8",
   "metadata": {},
   "outputs": [],
   "source": []
  }
 ],
 "metadata": {
  "kernelspec": {
   "display_name": "Python 3 (ipykernel)",
   "language": "python",
   "name": "python3"
  },
  "language_info": {
   "codemirror_mode": {
    "name": "ipython",
    "version": 3
   },
   "file_extension": ".py",
   "mimetype": "text/x-python",
   "name": "python",
   "nbconvert_exporter": "python",
   "pygments_lexer": "ipython3",
   "version": "3.9.13"
  }
 },
 "nbformat": 4,
 "nbformat_minor": 5
}
