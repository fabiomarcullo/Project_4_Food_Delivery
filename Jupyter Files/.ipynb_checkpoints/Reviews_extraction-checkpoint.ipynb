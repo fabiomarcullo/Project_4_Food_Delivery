{
 "cells": [
  {
   "cell_type": "code",
   "execution_count": 1,
   "id": "8a76d66c",
   "metadata": {},
   "outputs": [],
   "source": [
    "import pandas as pd\n",
    "import nltk\n",
    "from nltk.sentiment.vader import SentimentIntensityAnalyzer"
   ]
  },
  {
   "cell_type": "code",
   "execution_count": 2,
   "id": "949f8420",
   "metadata": {},
   "outputs": [
    {
     "name": "stderr",
     "output_type": "stream",
     "text": [
      "[nltk_data] Downloading package vader_lexicon to C:\\Users\\Fabio_UofT\n",
      "[nltk_data]     SCS\\AppData\\Roaming\\nltk_data...\n",
      "[nltk_data]   Package vader_lexicon is already up-to-date!\n"
     ]
    },
    {
     "data": {
      "text/plain": [
       "True"
      ]
     },
     "execution_count": 2,
     "metadata": {},
     "output_type": "execute_result"
    }
   ],
   "source": [
    "# Download VADER lexicon (only required once)\n",
    "nltk.download('vader_lexicon')"
   ]
  },
  {
   "cell_type": "code",
   "execution_count": 3,
   "id": "39476e84",
   "metadata": {},
   "outputs": [],
   "source": [
    "# Step 1: Prepare the labeled dataset\n",
    "restaurants_df = pd.read_csv('restaurants_reviews.csv')"
   ]
  },
  {
   "cell_type": "code",
   "execution_count": 4,
   "id": "ad57d1d0",
   "metadata": {},
   "outputs": [
    {
     "data": {
      "text/html": [
       "<div>\n",
       "<style scoped>\n",
       "    .dataframe tbody tr th:only-of-type {\n",
       "        vertical-align: middle;\n",
       "    }\n",
       "\n",
       "    .dataframe tbody tr th {\n",
       "        vertical-align: top;\n",
       "    }\n",
       "\n",
       "    .dataframe thead th {\n",
       "        text-align: right;\n",
       "    }\n",
       "</style>\n",
       "<table border=\"1\" class=\"dataframe\">\n",
       "  <thead>\n",
       "    <tr style=\"text-align: right;\">\n",
       "      <th></th>\n",
       "      <th>Restaurant_Name</th>\n",
       "      <th>Category</th>\n",
       "      <th>Address</th>\n",
       "      <th>Province</th>\n",
       "      <th>Latitude</th>\n",
       "      <th>Longitude</th>\n",
       "      <th>Rating</th>\n",
       "      <th>Review</th>\n",
       "    </tr>\n",
       "  </thead>\n",
       "  <tbody>\n",
       "    <tr>\n",
       "      <th>0</th>\n",
       "      <td>Wendy's (10365 111th Street)</td>\n",
       "      <td>Fast food</td>\n",
       "      <td>10365 111th Street, Edmonton, AB T5K 2V3</td>\n",
       "      <td>AB</td>\n",
       "      <td>53.545878</td>\n",
       "      <td>-113.510914</td>\n",
       "      <td>5</td>\n",
       "      <td>The food met my expectation. The seating area ...</td>\n",
       "    </tr>\n",
       "    <tr>\n",
       "      <th>1</th>\n",
       "      <td>Wendy's (10365 111th Street)</td>\n",
       "      <td>Fast food</td>\n",
       "      <td>10365 111th Street, Edmonton, AB T5K 2V3</td>\n",
       "      <td>AB</td>\n",
       "      <td>53.545878</td>\n",
       "      <td>-113.510914</td>\n",
       "      <td>2</td>\n",
       "      <td>It's a Wendy's, their food is good. Better tha...</td>\n",
       "    </tr>\n",
       "    <tr>\n",
       "      <th>2</th>\n",
       "      <td>Wendy's (10365 111th Street)</td>\n",
       "      <td>Fast food</td>\n",
       "      <td>10365 111th Street, Edmonton, AB T5K 2V3</td>\n",
       "      <td>AB</td>\n",
       "      <td>53.545878</td>\n",
       "      <td>-113.510914</td>\n",
       "      <td>3</td>\n",
       "      <td>I love the taste of this food as it tastes lik...</td>\n",
       "    </tr>\n",
       "    <tr>\n",
       "      <th>3</th>\n",
       "      <td>Wendy's (10365 111th Street)</td>\n",
       "      <td>Fast food</td>\n",
       "      <td>10365 111th Street, Edmonton, AB T5K 2V3</td>\n",
       "      <td>AB</td>\n",
       "      <td>53.545878</td>\n",
       "      <td>-113.510914</td>\n",
       "      <td>5</td>\n",
       "      <td>This is the best Wendy's I've ever been to. In...</td>\n",
       "    </tr>\n",
       "    <tr>\n",
       "      <th>4</th>\n",
       "      <td>Wendy's (10365 111th Street)</td>\n",
       "      <td>Fast food</td>\n",
       "      <td>10365 111th Street, Edmonton, AB T5K 2V3</td>\n",
       "      <td>AB</td>\n",
       "      <td>53.545878</td>\n",
       "      <td>-113.510914</td>\n",
       "      <td>5</td>\n",
       "      <td>I been here so many times. I never had a probl...</td>\n",
       "    </tr>\n",
       "  </tbody>\n",
       "</table>\n",
       "</div>"
      ],
      "text/plain": [
       "                Restaurant_Name   Category  \\\n",
       "0  Wendy's (10365 111th Street)  Fast food   \n",
       "1  Wendy's (10365 111th Street)  Fast food   \n",
       "2  Wendy's (10365 111th Street)  Fast food   \n",
       "3  Wendy's (10365 111th Street)  Fast food   \n",
       "4  Wendy's (10365 111th Street)  Fast food   \n",
       "\n",
       "                                    Address Province   Latitude   Longitude  \\\n",
       "0  10365 111th Street, Edmonton, AB T5K 2V3       AB  53.545878 -113.510914   \n",
       "1  10365 111th Street, Edmonton, AB T5K 2V3       AB  53.545878 -113.510914   \n",
       "2  10365 111th Street, Edmonton, AB T5K 2V3       AB  53.545878 -113.510914   \n",
       "3  10365 111th Street, Edmonton, AB T5K 2V3       AB  53.545878 -113.510914   \n",
       "4  10365 111th Street, Edmonton, AB T5K 2V3       AB  53.545878 -113.510914   \n",
       "\n",
       "   Rating                                             Review  \n",
       "0       5  The food met my expectation. The seating area ...  \n",
       "1       2  It's a Wendy's, their food is good. Better tha...  \n",
       "2       3  I love the taste of this food as it tastes lik...  \n",
       "3       5  This is the best Wendy's I've ever been to. In...  \n",
       "4       5  I been here so many times. I never had a probl...  "
      ]
     },
     "execution_count": 4,
     "metadata": {},
     "output_type": "execute_result"
    }
   ],
   "source": [
    "restaurants_df.head()"
   ]
  },
  {
   "cell_type": "code",
   "execution_count": 5,
   "id": "874ecae0",
   "metadata": {},
   "outputs": [
    {
     "name": "stderr",
     "output_type": "stream",
     "text": [
      "C:\\Users\\Fabio_UofT SCS\\AppData\\Local\\Temp\\ipykernel_18728\\1923207310.py:4: FutureWarning: The default value of regex will change from True to False in a future version.\n",
      "  restaurants_df['Review'] = restaurants_df['Review'].str.replace('[^\\w\\s]', '')\n"
     ]
    }
   ],
   "source": [
    "# Step 2: Text Preprocessing (if needed)\n",
    "restaurants_df['Review'] = restaurants_df['Review'].astype(str)\n",
    "restaurants_df['Review'] = restaurants_df['Review'].apply(lambda review: review.lower())\n",
    "restaurants_df['Review'] = restaurants_df['Review'].str.replace('[^\\w\\s]', '')\n"
   ]
  },
  {
   "cell_type": "code",
   "execution_count": 6,
   "id": "b9ecffdb",
   "metadata": {},
   "outputs": [],
   "source": [
    "# Step 3: Perform Sentiment Analysis using VADER\n",
    "analyzer = SentimentIntensityAnalyzer()\n",
    "\n",
    "def get_sentiment_polarity(review):\n",
    "    return analyzer.polarity_scores(review)['compound']\n",
    "\n",
    "restaurants_df['Sentiment_score'] = restaurants_df['Review'].apply(get_sentiment_polarity)\n"
   ]
  },
  {
   "cell_type": "code",
   "execution_count": 7,
   "id": "44239c3c",
   "metadata": {},
   "outputs": [],
   "source": [
    "# Step 4: Categorize reviews as positive or negative based on sentiment score\n",
    "threshold = 0.5  # You can adjust this threshold based on your preference\n",
    "restaurants_df['Sentiment'] = restaurants_df['Sentiment_score'].apply(lambda score: 'Good' if score >= threshold else 'Bad')\n"
   ]
  },
  {
   "cell_type": "code",
   "execution_count": 8,
   "id": "6ce68882",
   "metadata": {},
   "outputs": [
    {
     "data": {
      "text/html": [
       "<div>\n",
       "<style scoped>\n",
       "    .dataframe tbody tr th:only-of-type {\n",
       "        vertical-align: middle;\n",
       "    }\n",
       "\n",
       "    .dataframe tbody tr th {\n",
       "        vertical-align: top;\n",
       "    }\n",
       "\n",
       "    .dataframe thead th {\n",
       "        text-align: right;\n",
       "    }\n",
       "</style>\n",
       "<table border=\"1\" class=\"dataframe\">\n",
       "  <thead>\n",
       "    <tr style=\"text-align: right;\">\n",
       "      <th></th>\n",
       "      <th>Restaurant_Name</th>\n",
       "      <th>Category</th>\n",
       "      <th>Address</th>\n",
       "      <th>Province</th>\n",
       "      <th>Latitude</th>\n",
       "      <th>Longitude</th>\n",
       "      <th>Rating</th>\n",
       "      <th>Review</th>\n",
       "      <th>Sentiment_score</th>\n",
       "      <th>Sentiment</th>\n",
       "    </tr>\n",
       "  </thead>\n",
       "  <tbody>\n",
       "    <tr>\n",
       "      <th>0</th>\n",
       "      <td>Wendy's (10365 111th Street)</td>\n",
       "      <td>Fast food</td>\n",
       "      <td>10365 111th Street, Edmonton, AB T5K 2V3</td>\n",
       "      <td>AB</td>\n",
       "      <td>53.545878</td>\n",
       "      <td>-113.510914</td>\n",
       "      <td>5</td>\n",
       "      <td>the food met my expectation the seating area w...</td>\n",
       "      <td>0.9607</td>\n",
       "      <td>Good</td>\n",
       "    </tr>\n",
       "    <tr>\n",
       "      <th>1</th>\n",
       "      <td>Wendy's (10365 111th Street)</td>\n",
       "      <td>Fast food</td>\n",
       "      <td>10365 111th Street, Edmonton, AB T5K 2V3</td>\n",
       "      <td>AB</td>\n",
       "      <td>53.545878</td>\n",
       "      <td>-113.510914</td>\n",
       "      <td>2</td>\n",
       "      <td>its a wendys their food is good better than mc...</td>\n",
       "      <td>0.1966</td>\n",
       "      <td>Bad</td>\n",
       "    </tr>\n",
       "    <tr>\n",
       "      <th>2</th>\n",
       "      <td>Wendy's (10365 111th Street)</td>\n",
       "      <td>Fast food</td>\n",
       "      <td>10365 111th Street, Edmonton, AB T5K 2V3</td>\n",
       "      <td>AB</td>\n",
       "      <td>53.545878</td>\n",
       "      <td>-113.510914</td>\n",
       "      <td>3</td>\n",
       "      <td>i love the taste of this food as it tastes lik...</td>\n",
       "      <td>0.8198</td>\n",
       "      <td>Good</td>\n",
       "    </tr>\n",
       "    <tr>\n",
       "      <th>3</th>\n",
       "      <td>Wendy's (10365 111th Street)</td>\n",
       "      <td>Fast food</td>\n",
       "      <td>10365 111th Street, Edmonton, AB T5K 2V3</td>\n",
       "      <td>AB</td>\n",
       "      <td>53.545878</td>\n",
       "      <td>-113.510914</td>\n",
       "      <td>5</td>\n",
       "      <td>this is the best wendys ive ever been to incre...</td>\n",
       "      <td>0.9287</td>\n",
       "      <td>Good</td>\n",
       "    </tr>\n",
       "    <tr>\n",
       "      <th>4</th>\n",
       "      <td>Wendy's (10365 111th Street)</td>\n",
       "      <td>Fast food</td>\n",
       "      <td>10365 111th Street, Edmonton, AB T5K 2V3</td>\n",
       "      <td>AB</td>\n",
       "      <td>53.545878</td>\n",
       "      <td>-113.510914</td>\n",
       "      <td>5</td>\n",
       "      <td>i been here so many times i never had a proble...</td>\n",
       "      <td>0.5613</td>\n",
       "      <td>Good</td>\n",
       "    </tr>\n",
       "  </tbody>\n",
       "</table>\n",
       "</div>"
      ],
      "text/plain": [
       "                Restaurant_Name   Category  \\\n",
       "0  Wendy's (10365 111th Street)  Fast food   \n",
       "1  Wendy's (10365 111th Street)  Fast food   \n",
       "2  Wendy's (10365 111th Street)  Fast food   \n",
       "3  Wendy's (10365 111th Street)  Fast food   \n",
       "4  Wendy's (10365 111th Street)  Fast food   \n",
       "\n",
       "                                    Address Province   Latitude   Longitude  \\\n",
       "0  10365 111th Street, Edmonton, AB T5K 2V3       AB  53.545878 -113.510914   \n",
       "1  10365 111th Street, Edmonton, AB T5K 2V3       AB  53.545878 -113.510914   \n",
       "2  10365 111th Street, Edmonton, AB T5K 2V3       AB  53.545878 -113.510914   \n",
       "3  10365 111th Street, Edmonton, AB T5K 2V3       AB  53.545878 -113.510914   \n",
       "4  10365 111th Street, Edmonton, AB T5K 2V3       AB  53.545878 -113.510914   \n",
       "\n",
       "   Rating                                             Review  Sentiment_score  \\\n",
       "0       5  the food met my expectation the seating area w...           0.9607   \n",
       "1       2  its a wendys their food is good better than mc...           0.1966   \n",
       "2       3  i love the taste of this food as it tastes lik...           0.8198   \n",
       "3       5  this is the best wendys ive ever been to incre...           0.9287   \n",
       "4       5  i been here so many times i never had a proble...           0.5613   \n",
       "\n",
       "  Sentiment  \n",
       "0      Good  \n",
       "1       Bad  \n",
       "2      Good  \n",
       "3      Good  \n",
       "4      Good  "
      ]
     },
     "execution_count": 8,
     "metadata": {},
     "output_type": "execute_result"
    }
   ],
   "source": [
    "restaurants_df.head()"
   ]
  },
  {
   "cell_type": "code",
   "execution_count": 9,
   "id": "c667aa67",
   "metadata": {},
   "outputs": [],
   "source": [
    "# Step 5: Save the updated CSV\n",
    "restaurants_df.to_csv('restaurants_with_sentiment.csv', index=False)"
   ]
  },
  {
   "cell_type": "code",
   "execution_count": null,
   "id": "31fc4cf8",
   "metadata": {},
   "outputs": [],
   "source": []
  }
 ],
 "metadata": {
  "kernelspec": {
   "display_name": "Python 3 (ipykernel)",
   "language": "python",
   "name": "python3"
  },
  "language_info": {
   "codemirror_mode": {
    "name": "ipython",
    "version": 3
   },
   "file_extension": ".py",
   "mimetype": "text/x-python",
   "name": "python",
   "nbconvert_exporter": "python",
   "pygments_lexer": "ipython3",
   "version": "3.9.13"
  }
 },
 "nbformat": 4,
 "nbformat_minor": 5
}
