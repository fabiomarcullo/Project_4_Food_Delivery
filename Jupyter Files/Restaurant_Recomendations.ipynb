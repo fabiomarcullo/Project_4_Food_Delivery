{
 "cells": [
  {
   "cell_type": "code",
   "execution_count": 7,
   "metadata": {
    "id": "PVuxagrEvia2"
   },
   "outputs": [],
   "source": [
    "import pandas as pd\n",
    "import re\n",
    "from geopy.distance import geodesic\n",
    "from geopy.geocoders import Nominatim\n",
    "import requests\n",
    "import time"
   ]
  },
  {
   "cell_type": "code",
   "execution_count": 8,
   "metadata": {
    "colab": {
     "base_uri": "https://localhost:8080/",
     "height": 756
    },
    "id": "BEDlVq7av004",
    "outputId": "31f62979-8bc3-4f8d-f673-76536d05aeb7"
   },
   "outputs": [
    {
     "data": {
      "text/html": [
       "<div>\n",
       "<style scoped>\n",
       "    .dataframe tbody tr th:only-of-type {\n",
       "        vertical-align: middle;\n",
       "    }\n",
       "\n",
       "    .dataframe tbody tr th {\n",
       "        vertical-align: top;\n",
       "    }\n",
       "\n",
       "    .dataframe thead th {\n",
       "        text-align: right;\n",
       "    }\n",
       "</style>\n",
       "<table border=\"1\" class=\"dataframe\">\n",
       "  <thead>\n",
       "    <tr style=\"text-align: right;\">\n",
       "      <th></th>\n",
       "      <th>restaurant_name</th>\n",
       "      <th>price_range</th>\n",
       "      <th>rating</th>\n",
       "      <th>total_reviews</th>\n",
       "      <th>category</th>\n",
       "      <th>location</th>\n",
       "      <th>province</th>\n",
       "      <th>address</th>\n",
       "      <th>Latitude</th>\n",
       "      <th>Longitude</th>\n",
       "      <th>Province</th>\n",
       "    </tr>\n",
       "  </thead>\n",
       "  <tbody>\n",
       "    <tr>\n",
       "      <th>0</th>\n",
       "      <td>The Flying Pig</td>\n",
       "      <td>$$</td>\n",
       "      <td>4.0</td>\n",
       "      <td>1300</td>\n",
       "      <td>Canadian (New)</td>\n",
       "      <td>vancouver</td>\n",
       "      <td>BC</td>\n",
       "      <td>1168 Hamilton Street Unit 104 Vancouver, BC V6...</td>\n",
       "      <td>49.275039</td>\n",
       "      <td>-123.122038</td>\n",
       "      <td>BC</td>\n",
       "    </tr>\n",
       "    <tr>\n",
       "      <th>1</th>\n",
       "      <td>Kingyo</td>\n",
       "      <td>$$</td>\n",
       "      <td>4.4</td>\n",
       "      <td>1100</td>\n",
       "      <td>Japanese</td>\n",
       "      <td>vancouver</td>\n",
       "      <td>BC</td>\n",
       "      <td>871 Denman Street Vancouver, BC V6G 2L9 Canada</td>\n",
       "      <td>49.290612</td>\n",
       "      <td>-123.137095</td>\n",
       "      <td>BC</td>\n",
       "    </tr>\n",
       "    <tr>\n",
       "      <th>2</th>\n",
       "      <td>Miku</td>\n",
       "      <td>$$$</td>\n",
       "      <td>4.4</td>\n",
       "      <td>2200</td>\n",
       "      <td>Japanese</td>\n",
       "      <td>vancouver</td>\n",
       "      <td>BC</td>\n",
       "      <td>200 Granville Street Suite 70 Vancouver, BC V6...</td>\n",
       "      <td>49.286826</td>\n",
       "      <td>-123.112583</td>\n",
       "      <td>BC</td>\n",
       "    </tr>\n",
       "    <tr>\n",
       "      <th>3</th>\n",
       "      <td>Kosoo</td>\n",
       "      <td>$$</td>\n",
       "      <td>4.3</td>\n",
       "      <td>88</td>\n",
       "      <td>Korean</td>\n",
       "      <td>vancouver</td>\n",
       "      <td>BC</td>\n",
       "      <td>1128 Robson Street Vancouver, BC V6E 1B2 Canada</td>\n",
       "      <td>49.284988</td>\n",
       "      <td>-123.125959</td>\n",
       "      <td>BC</td>\n",
       "    </tr>\n",
       "    <tr>\n",
       "      <th>4</th>\n",
       "      <td>Dinesty Dumpling House</td>\n",
       "      <td>$$</td>\n",
       "      <td>3.9</td>\n",
       "      <td>928</td>\n",
       "      <td>Chinese</td>\n",
       "      <td>vancouver</td>\n",
       "      <td>BC</td>\n",
       "      <td>1719 Robson Street Vancouver, BC V6G 1C8 Canada</td>\n",
       "      <td>49.290780</td>\n",
       "      <td>-123.134073</td>\n",
       "      <td>BC</td>\n",
       "    </tr>\n",
       "  </tbody>\n",
       "</table>\n",
       "</div>"
      ],
      "text/plain": [
       "          restaurant_name price_range  rating  total_reviews        category  \\\n",
       "0          The Flying Pig          $$     4.0           1300  Canadian (New)   \n",
       "1                  Kingyo          $$     4.4           1100        Japanese   \n",
       "2                    Miku         $$$     4.4           2200        Japanese   \n",
       "3                   Kosoo          $$     4.3             88          Korean   \n",
       "4  Dinesty Dumpling House          $$     3.9            928         Chinese   \n",
       "\n",
       "    location province                                            address  \\\n",
       "0  vancouver       BC  1168 Hamilton Street Unit 104 Vancouver, BC V6...   \n",
       "1  vancouver       BC     871 Denman Street Vancouver, BC V6G 2L9 Canada   \n",
       "2  vancouver       BC  200 Granville Street Suite 70 Vancouver, BC V6...   \n",
       "3  vancouver       BC    1128 Robson Street Vancouver, BC V6E 1B2 Canada   \n",
       "4  vancouver       BC    1719 Robson Street Vancouver, BC V6G 1C8 Canada   \n",
       "\n",
       "    Latitude   Longitude Province  \n",
       "0  49.275039 -123.122038       BC  \n",
       "1  49.290612 -123.137095       BC  \n",
       "2  49.286826 -123.112583       BC  \n",
       "3  49.284988 -123.125959       BC  \n",
       "4  49.290780 -123.134073       BC  "
      ]
     },
     "execution_count": 8,
     "metadata": {},
     "output_type": "execute_result"
    }
   ],
   "source": [
    "# Data Collection\n",
    "yelp_data_file = 'Restaurants_Yelp_With_Lat.csv'\n",
    "df = pd.read_csv(yelp_data_file)\n",
    "\n",
    "df.head()"
   ]
  },
  {
   "cell_type": "code",
   "execution_count": 9,
   "metadata": {
    "colab": {
     "base_uri": "https://localhost:8080/"
    },
    "id": "kxJfHW_d94LW",
    "outputId": "de2532c3-3e80-403a-b31c-496a37d4f9f6"
   },
   "outputs": [
    {
     "name": "stdout",
     "output_type": "stream",
     "text": [
      "Index(['restaurant_name', 'price_range', 'rating', 'total_reviews', 'category',\n",
      "       'location', 'province', 'address', 'Latitude', 'Longitude', 'Province'],\n",
      "      dtype='object')\n"
     ]
    }
   ],
   "source": [
    "print(df.columns)"
   ]
  },
  {
   "cell_type": "code",
   "execution_count": 10,
   "metadata": {
    "colab": {
     "base_uri": "https://localhost:8080/"
    },
    "id": "ju0UGi5SoflZ",
    "outputId": "0c4d9cf8-1421-409f-9878-be421883ddf8"
   },
   "outputs": [
    {
     "data": {
      "text/plain": [
       "1157"
      ]
     },
     "execution_count": 10,
     "metadata": {},
     "output_type": "execute_result"
    }
   ],
   "source": [
    "len(df)"
   ]
  },
  {
   "cell_type": "code",
   "execution_count": 12,
   "metadata": {},
   "outputs": [
    {
     "name": "stdout",
     "output_type": "stream",
     "text": [
      "        restaurant_name       category  rating  total_reviews\n",
      "44            Tom Sushi     Sushi Bars     4.7            194\n",
      "65    The Red Accordion  Cocktail Bars     4.7             72\n",
      "103     Absinthe Bistro         French     4.6            137\n",
      "17   Happy Noodle House        Dim Sum     4.6             81\n",
      "79         Burger Crush        Burgers     4.6             19\n"
     ]
    }
   ],
   "source": [
    "    def get_lat_long_from_postal_code(postal_code):\n",
    "        geocoding_url = f\"https://nominatim.openstreetmap.org/search\"\n",
    "        params = {\"q\": postal_code, \"format\": \"json\", \"limit\": 1}\n",
    "\n",
    "        retries = 5\n",
    "        for i in range(retries):\n",
    "            try:\n",
    "                response = requests.get(geocoding_url, params=params)\n",
    "                response.raise_for_status()  # Raise an exception for non-2xx status codes\n",
    "                data = response.json()\n",
    "                if data:\n",
    "                    latitude = float(data[0]['lat'])\n",
    "                    longitude = float(data[0]['lon'])\n",
    "                    return latitude, longitude\n",
    "                else:\n",
    "                    raise ValueError(\"Invalid postal code or location not found.\")\n",
    "            except requests.exceptions.RequestException as e:\n",
    "                print(f\"Error occurred while geocoding: {e}\")\n",
    "                if i < retries - 1:\n",
    "                    print(\"Retrying in 5 seconds...\")\n",
    "                    time.sleep(5)\n",
    "                else:\n",
    "                    raise\n",
    "\n",
    "    def suggest_restaurants(postal_code, max_distance_km=5, top_n=5):\n",
    "        # Convert postal code to Latitude and Longitude\n",
    "        user_latitude, user_longitude = get_lat_long_from_postal_code(postal_code)\n",
    "\n",
    "        # Calculate distances between user location and each restaurant\n",
    "        df['Distance'] = df.apply(\n",
    "            lambda row: geodesic((user_latitude, user_longitude), (row['Latitude'], row['Longitude'])).kilometers,\n",
    "            axis=1\n",
    "        )\n",
    "\n",
    "        # Filter restaurants within the specified maximum distance\n",
    "        nearby_restaurants = df[df['Distance'] <= max_distance_km]\n",
    "\n",
    "        # Sort restaurants based on rating and total_reviews (you can customize this)\n",
    "        sorted_restaurants = nearby_restaurants.sort_values(by=['rating', 'total_reviews'], ascending=False)\n",
    "\n",
    "        # Get the top 'top_n' restaurant suggestions\n",
    "        restaurant_suggestions = sorted_restaurants.head(top_n)\n",
    "\n",
    "        return restaurant_suggestions[['restaurant_name', 'category', 'rating', 'total_reviews']]\n",
    "\n",
    "    # Sample usage:\n",
    "    postal_code = 'V6E 1B2'\n",
    "    suggested_restaurants = suggest_restaurants(postal_code)\n",
    "    print(suggested_restaurants)\n"
   ]
  }
 ],
 "metadata": {
  "colab": {
   "provenance": []
  },
  "kernelspec": {
   "display_name": "Python 3 (ipykernel)",
   "language": "python",
   "name": "python3"
  },
  "language_info": {
   "codemirror_mode": {
    "name": "ipython",
    "version": 3
   },
   "file_extension": ".py",
   "mimetype": "text/x-python",
   "name": "python",
   "nbconvert_exporter": "python",
   "pygments_lexer": "ipython3",
   "version": "3.9.13"
  }
 },
 "nbformat": 4,
 "nbformat_minor": 1
}
