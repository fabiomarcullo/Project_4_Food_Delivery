{
 "cells": [
  {
   "cell_type": "code",
   "execution_count": 41,
   "id": "39d82a98",
   "metadata": {},
   "outputs": [],
   "source": [
    "# Import dependencies/libraries\n",
    "from splinter import Browser\n",
    "from bs4 import BeautifulSoup as soup\n",
    "import pandas as pd\n"
   ]
  },
  {
   "cell_type": "code",
   "execution_count": 42,
   "id": "90fdaf9b",
   "metadata": {},
   "outputs": [],
   "source": [
    "# Setting up the browser\n",
    "browser = Browser('chrome')"
   ]
  },
  {
   "cell_type": "code",
   "execution_count": 43,
   "id": "f683952c",
   "metadata": {},
   "outputs": [],
   "source": [
    "# Visiting the website\n",
    "base_url = \"https://www.ubereats.com/ca/city/\"\n",
    "location = \"lethbridge-ab/\"\n",
    "url = base_url + location\n",
    "browser.visit(url)"
   ]
  },
  {
   "cell_type": "code",
   "execution_count": 44,
   "id": "f9578c21",
   "metadata": {},
   "outputs": [],
   "source": [
    "html = browser.html\n",
    "soup = soup(html, 'html.parser')"
   ]
  },
  {
   "cell_type": "code",
   "execution_count": 45,
   "id": "16794064",
   "metadata": {
    "scrolled": true
   },
   "outputs": [
    {
     "name": "stdout",
     "output_type": "stream",
     "text": [
      "                                      Restaurant Name\n",
      "0                 MrBeast Burger (313 5 Street South)\n",
      "1               Burger King (1950 Third Avenue South)\n",
      "2   Mary Brown's Chicken (1 - 413 Highlands Blvd. W.)\n",
      "3                     2 For 1 Family Pizza Lethbridge\n",
      "4                       Rivaaz Indian Pizza & Cuisine\n",
      "..                                                ...\n",
      "75               Rexall Drug Store (Aquitania Blvd W)\n",
      "76                Thai Express (3010 26 Avenue South)\n",
      "77                                  Apna tandoori hut\n",
      "78                     Lighthouse Japanese Restaurant\n",
      "79                                         Poke Shack\n",
      "\n",
      "[80 rows x 1 columns]\n"
     ]
    }
   ],
   "source": [
    "# Restaurant name\n",
    "\n",
    "res_name = soup.find_all('div', class_='al ii br iw c3')\n",
    "restaurants = []\n",
    "\n",
    "for i in res_name:\n",
    "    restaurant = i.find('h3').text.strip()\n",
    "    restaurants.append(restaurant)\n",
    "\n",
    "df = pd.DataFrame(restaurants, columns=['Restaurant Name'])\n",
    "print(df)"
   ]
  },
  {
   "cell_type": "code",
   "execution_count": 46,
   "id": "4a9881ba",
   "metadata": {
    "scrolled": true
   },
   "outputs": [
    {
     "name": "stdout",
     "output_type": "stream",
     "text": [
      "   Rating\n",
      "0     New\n",
      "1     4.3\n",
      "2     4.8\n",
      "3     New\n",
      "4     4.3\n",
      "..    ...\n",
      "75    New\n",
      "76    New\n",
      "77    New\n",
      "78    4.8\n",
      "79    4.5\n",
      "\n",
      "[80 rows x 1 columns]\n"
     ]
    }
   ],
   "source": [
    "# Rating information \n",
    "\n",
    "\n",
    "res_Rating = soup.find_all('div', class_='br al b9 bm c3 dd ix')\n",
    "\n",
    "ratings = []\n",
    "\n",
    "for i in res_Rating:\n",
    "    rating = i.find('div').text.strip()\n",
    "    ratings.append(rating)\n",
    "\n",
    "df2 = pd.DataFrame(ratings, columns=['Rating'])\n",
    "print(df2)"
   ]
  },
  {
   "cell_type": "code",
   "execution_count": 48,
   "id": "fee02591",
   "metadata": {},
   "outputs": [
    {
     "name": "stdout",
     "output_type": "stream",
     "text": [
      "                                              Address\n",
      "0   328 5 Street South, Lethbridge, Ab T1j 0h3, Ca...\n",
      "1     1950 Third Avenue South, Lethbridge, AB T1J 0J6\n",
      "2   413 Highlands Boulevard West, Lethbridge, NAME...\n",
      "3             1281 3 Ave S, Lethbridge, NAMER T1J 0K2\n",
      "4   1020 Mayor Magrath Drive South, Lethbridge, AB...\n",
      "..                                                ...\n",
      "75         20-12 Aquitania Blvd W, Lethbridge, AB T1J\n",
      "76    3010 26 Avenue South, Lethbridge, NAMER T1K 7K8\n",
      "77        1520 3 Avenue South, Lethbridge, AB T1J 0K8\n",
      "78             708 3 Avenue South, Lethbridge, AB T1J\n",
      "79             708 3 Ave S Lethbridge, Lethbridge T1J\n",
      "\n",
      "[80 rows x 1 columns]\n"
     ]
    }
   ],
   "source": [
    "# Address\n",
    "res_Address = soup.find_all('div', class_='fz j4 al ii')\n",
    "addresses = []\n",
    "\n",
    "for i in res_Address:\n",
    "    if i.text:\n",
    "        spans = i.find_all('span')\n",
    "        if len(spans) > 1:\n",
    "            address = spans[1].text.strip()\n",
    "            addresses.append(address)\n",
    "\n",
    "df3 = pd.DataFrame(addresses, columns=['Address'])\n",
    "print(df3)"
   ]
  },
  {
   "cell_type": "code",
   "execution_count": 49,
   "id": "042043d8",
   "metadata": {},
   "outputs": [
    {
     "name": "stdout",
     "output_type": "stream",
     "text": [
      "                Category\n",
      "0               American\n",
      "1               American\n",
      "2                Chicken\n",
      "3                  pizza\n",
      "4                 Indian\n",
      "..                   ...\n",
      "75  Home & Personal Care\n",
      "76               Healthy\n",
      "77                Indian\n",
      "78              Japanese\n",
      "79               Healthy\n",
      "\n",
      "[80 rows x 1 columns]\n"
     ]
    }
   ],
   "source": [
    "# Category\n",
    "res_category = soup.find_all('div', class_='al ii br iw c3')\n",
    "categories = []\n",
    "\n",
    "for i in res_category:\n",
    "    span_text = i.find('span').text.strip()\n",
    "    category = span_text.split('•')[0].strip()\n",
    "    categories.append(category)\n",
    "\n",
    "df4 = pd.DataFrame(categories, columns=['Category'])\n",
    "print(df4)"
   ]
  },
  {
   "cell_type": "code",
   "execution_count": 50,
   "id": "c2784c43",
   "metadata": {},
   "outputs": [
    {
     "data": {
      "text/html": [
       "<div>\n",
       "<style scoped>\n",
       "    .dataframe tbody tr th:only-of-type {\n",
       "        vertical-align: middle;\n",
       "    }\n",
       "\n",
       "    .dataframe tbody tr th {\n",
       "        vertical-align: top;\n",
       "    }\n",
       "\n",
       "    .dataframe thead th {\n",
       "        text-align: right;\n",
       "    }\n",
       "</style>\n",
       "<table border=\"1\" class=\"dataframe\">\n",
       "  <thead>\n",
       "    <tr style=\"text-align: right;\">\n",
       "      <th></th>\n",
       "      <th>Restaurant Name</th>\n",
       "      <th>Rating</th>\n",
       "      <th>Category</th>\n",
       "      <th>Address</th>\n",
       "    </tr>\n",
       "  </thead>\n",
       "  <tbody>\n",
       "    <tr>\n",
       "      <th>0</th>\n",
       "      <td>MrBeast Burger (313 5 Street South)</td>\n",
       "      <td>New</td>\n",
       "      <td>American</td>\n",
       "      <td>328 5 Street South, Lethbridge, Ab T1j 0h3, Ca...</td>\n",
       "    </tr>\n",
       "    <tr>\n",
       "      <th>1</th>\n",
       "      <td>Burger King (1950 Third Avenue South)</td>\n",
       "      <td>4.3</td>\n",
       "      <td>American</td>\n",
       "      <td>1950 Third Avenue South, Lethbridge, AB T1J 0J6</td>\n",
       "    </tr>\n",
       "    <tr>\n",
       "      <th>2</th>\n",
       "      <td>Mary Brown's Chicken (1 - 413 Highlands Blvd. W.)</td>\n",
       "      <td>4.8</td>\n",
       "      <td>Chicken</td>\n",
       "      <td>413 Highlands Boulevard West, Lethbridge, NAME...</td>\n",
       "    </tr>\n",
       "    <tr>\n",
       "      <th>3</th>\n",
       "      <td>2 For 1 Family Pizza Lethbridge</td>\n",
       "      <td>New</td>\n",
       "      <td>pizza</td>\n",
       "      <td>1281 3 Ave S, Lethbridge, NAMER T1J 0K2</td>\n",
       "    </tr>\n",
       "    <tr>\n",
       "      <th>4</th>\n",
       "      <td>Rivaaz Indian Pizza &amp; Cuisine</td>\n",
       "      <td>4.3</td>\n",
       "      <td>Indian</td>\n",
       "      <td>1020 Mayor Magrath Drive South, Lethbridge, AB...</td>\n",
       "    </tr>\n",
       "  </tbody>\n",
       "</table>\n",
       "</div>"
      ],
      "text/plain": [
       "                                     Restaurant Name Rating  Category  \\\n",
       "0                MrBeast Burger (313 5 Street South)    New  American   \n",
       "1              Burger King (1950 Third Avenue South)    4.3  American   \n",
       "2  Mary Brown's Chicken (1 - 413 Highlands Blvd. W.)    4.8   Chicken   \n",
       "3                    2 For 1 Family Pizza Lethbridge    New     pizza   \n",
       "4                      Rivaaz Indian Pizza & Cuisine    4.3    Indian   \n",
       "\n",
       "                                             Address  \n",
       "0  328 5 Street South, Lethbridge, Ab T1j 0h3, Ca...  \n",
       "1    1950 Third Avenue South, Lethbridge, AB T1J 0J6  \n",
       "2  413 Highlands Boulevard West, Lethbridge, NAME...  \n",
       "3            1281 3 Ave S, Lethbridge, NAMER T1J 0K2  \n",
       "4  1020 Mayor Magrath Drive South, Lethbridge, AB...  "
      ]
     },
     "execution_count": 50,
     "metadata": {},
     "output_type": "execute_result"
    }
   ],
   "source": [
    "# Join the DataFrames in the desired order\n",
    "result = pd.concat([df, df2, df4, df3], axis=1)\n",
    "\n",
    "result.head()"
   ]
  },
  {
   "cell_type": "code",
   "execution_count": 51,
   "id": "1021338a",
   "metadata": {},
   "outputs": [],
   "source": [
    "# Export the joined DataFrame to an Excel file\n",
    "result.to_csv('lethbridge-ab.csv', index=False)"
   ]
  },
  {
   "cell_type": "code",
   "execution_count": 52,
   "id": "0c41a08a",
   "metadata": {},
   "outputs": [],
   "source": [
    "browser.quit()"
   ]
  },
  {
   "cell_type": "code",
   "execution_count": null,
   "id": "dbc2712a",
   "metadata": {},
   "outputs": [],
   "source": []
  }
 ],
 "metadata": {
  "kernelspec": {
   "display_name": "Python 3 (ipykernel)",
   "language": "python",
   "name": "python3"
  },
  "language_info": {
   "codemirror_mode": {
    "name": "ipython",
    "version": 3
   },
   "file_extension": ".py",
   "mimetype": "text/x-python",
   "name": "python",
   "nbconvert_exporter": "python",
   "pygments_lexer": "ipython3",
   "version": "3.9.13"
  }
 },
 "nbformat": 4,
 "nbformat_minor": 5
}
