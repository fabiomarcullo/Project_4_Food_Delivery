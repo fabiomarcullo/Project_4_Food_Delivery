{
 "cells": [
  {
   "cell_type": "code",
   "execution_count": 50,
   "id": "39d82a98",
   "metadata": {},
   "outputs": [],
   "source": [
    "# Import dependencies/libraries\n",
    "from splinter import Browser\n",
    "from bs4 import BeautifulSoup as soup\n",
    "import pandas as pd\n"
   ]
  },
  {
   "cell_type": "code",
   "execution_count": 51,
   "id": "90fdaf9b",
   "metadata": {},
   "outputs": [],
   "source": [
    "# Setting up the browser\n",
    "browser = Browser('chrome')"
   ]
  },
  {
   "cell_type": "code",
   "execution_count": 52,
   "id": "f683952c",
   "metadata": {},
   "outputs": [],
   "source": [
    "# Visiting the website\n",
    "base_url = \"https://www.ubereats.com/ca/city/\"\n",
    "location = \"kingston-on/\"\n",
    "url = base_url + location\n",
    "browser.visit(url)"
   ]
  },
  {
   "cell_type": "code",
   "execution_count": 53,
   "id": "f9578c21",
   "metadata": {},
   "outputs": [],
   "source": [
    "html = browser.html\n",
    "soup = soup(html, 'html.parser')"
   ]
  },
  {
   "cell_type": "code",
   "execution_count": 54,
   "id": "16794064",
   "metadata": {
    "scrolled": true
   },
   "outputs": [
    {
     "name": "stdout",
     "output_type": "stream",
     "text": [
      "                                    Restaurant Name\n",
      "0      Fresh Healthy Cafe (Formerly Soulful Delish)\n",
      "1                       Food Basics (33 Barrack St)\n",
      "2              McDonald's (Kingston - 312 Princess)\n",
      "3                   M&M Food Market (Kingston-Bath)\n",
      "4   For Thirst and Hunger Beverage and Food Company\n",
      "..                                              ...\n",
      "75                              Presotea (Kingston)\n",
      "76                             Torino pizza & pasta\n",
      "77                        Swiss Chalet (Dalton Ave)\n",
      "78      Hero Certified Burgers  (1046 Princess St.)\n",
      "79                             Montana's (Kingston)\n",
      "\n",
      "[80 rows x 1 columns]\n"
     ]
    }
   ],
   "source": [
    "# Restaurant name\n",
    "\n",
    "res_name = soup.find_all('div', class_='al ii br iw c3')\n",
    "restaurants = []\n",
    "\n",
    "for i in res_name:\n",
    "    restaurant = i.find('h3').text.strip()\n",
    "    restaurants.append(restaurant)\n",
    "\n",
    "df = pd.DataFrame(restaurants, columns=['Restaurant Name'])\n",
    "print(df)"
   ]
  },
  {
   "cell_type": "code",
   "execution_count": 55,
   "id": "4a9881ba",
   "metadata": {
    "scrolled": true
   },
   "outputs": [
    {
     "name": "stdout",
     "output_type": "stream",
     "text": [
      "   Rating\n",
      "0     4.6\n",
      "1     4.2\n",
      "2     4.6\n",
      "3     New\n",
      "4     New\n",
      "..    ...\n",
      "75    4.8\n",
      "76    4.6\n",
      "77    4.7\n",
      "78    4.4\n",
      "79    4.6\n",
      "\n",
      "[80 rows x 1 columns]\n"
     ]
    }
   ],
   "source": [
    "# Rating information \n",
    "\n",
    "\n",
    "res_Rating = soup.find_all('div', class_='br al b9 bm c3 dd ix')\n",
    "\n",
    "ratings = []\n",
    "\n",
    "for i in res_Rating:\n",
    "    rating = i.find('div').text.strip()\n",
    "    ratings.append(rating)\n",
    "\n",
    "df2 = pd.DataFrame(ratings, columns=['Rating'])\n",
    "print(df2)"
   ]
  },
  {
   "cell_type": "code",
   "execution_count": 56,
   "id": "fee02591",
   "metadata": {},
   "outputs": [
    {
     "name": "stdout",
     "output_type": "stream",
     "text": [
      "                                        Address\n",
      "0   33 Brock St, Store, Kingston, NAMER K7L 1R7\n",
      "1        33 Barrack St, Kingston, NAMER K7K 1E7\n",
      "2         312 Princess St, Kingston, ON K7L 1B6\n",
      "3         277 Bath Road, Kingston, NAMER K7M2X6\n",
      "4   645 Gardiners Rd, 110, Kingston, ON K7M 8K2\n",
      "..                                          ...\n",
      "75    346 Princess Street, Kingston, ON K7L 1B6\n",
      "76    1786 Bath Rd Kingston, On K7m 4y2 Canada,\n",
      "77              85 Dalton Ave, Kingston, ON K7K\n",
      "78       1046 Princess St, Kingston, ON K7L 1H2\n",
      "79           630 Gardiners Rd, Kingston, ON K7M\n",
      "\n",
      "[80 rows x 1 columns]\n"
     ]
    }
   ],
   "source": [
    "# Address\n",
    "res_Address = soup.find_all('div', class_='fz j5 al ii')\n",
    "addresses = []\n",
    "\n",
    "for i in res_Address:\n",
    "    if i.text:\n",
    "        spans = i.find_all('span')\n",
    "        if len(spans) > 1:\n",
    "            address = spans[1].text.strip()\n",
    "            addresses.append(address)\n",
    "\n",
    "df3 = pd.DataFrame(addresses, columns=['Address'])\n",
    "print(df3)"
   ]
  },
  {
   "cell_type": "code",
   "execution_count": 57,
   "id": "042043d8",
   "metadata": {},
   "outputs": [
    {
     "name": "stdout",
     "output_type": "stream",
     "text": [
      "               Category\n",
      "0               Healthy\n",
      "1   Everyday Essentials\n",
      "2              American\n",
      "3               Grocery\n",
      "4              Canadian\n",
      "..                  ...\n",
      "75           Bubble tea\n",
      "76                Pizza\n",
      "77                Diner\n",
      "78             American\n",
      "79                Steak\n",
      "\n",
      "[80 rows x 1 columns]\n"
     ]
    }
   ],
   "source": [
    "# Category\n",
    "res_category = soup.find_all('div', class_='al ii br iw c3')\n",
    "categories = []\n",
    "\n",
    "for i in res_category:\n",
    "    span_text = i.find('span').text.strip()\n",
    "    category = span_text.split('•')[0].strip()\n",
    "    categories.append(category)\n",
    "\n",
    "df4 = pd.DataFrame(categories, columns=['Category'])\n",
    "print(df4)"
   ]
  },
  {
   "cell_type": "code",
   "execution_count": 58,
   "id": "c2784c43",
   "metadata": {},
   "outputs": [
    {
     "data": {
      "text/html": [
       "<div>\n",
       "<style scoped>\n",
       "    .dataframe tbody tr th:only-of-type {\n",
       "        vertical-align: middle;\n",
       "    }\n",
       "\n",
       "    .dataframe tbody tr th {\n",
       "        vertical-align: top;\n",
       "    }\n",
       "\n",
       "    .dataframe thead th {\n",
       "        text-align: right;\n",
       "    }\n",
       "</style>\n",
       "<table border=\"1\" class=\"dataframe\">\n",
       "  <thead>\n",
       "    <tr style=\"text-align: right;\">\n",
       "      <th></th>\n",
       "      <th>Restaurant Name</th>\n",
       "      <th>Rating</th>\n",
       "      <th>Category</th>\n",
       "      <th>Address</th>\n",
       "    </tr>\n",
       "  </thead>\n",
       "  <tbody>\n",
       "    <tr>\n",
       "      <th>0</th>\n",
       "      <td>Fresh Healthy Cafe (Formerly Soulful Delish)</td>\n",
       "      <td>4.6</td>\n",
       "      <td>Healthy</td>\n",
       "      <td>33 Brock St, Store, Kingston, NAMER K7L 1R7</td>\n",
       "    </tr>\n",
       "    <tr>\n",
       "      <th>1</th>\n",
       "      <td>Food Basics (33 Barrack St)</td>\n",
       "      <td>4.2</td>\n",
       "      <td>Everyday Essentials</td>\n",
       "      <td>33 Barrack St, Kingston, NAMER K7K 1E7</td>\n",
       "    </tr>\n",
       "    <tr>\n",
       "      <th>2</th>\n",
       "      <td>McDonald's (Kingston - 312 Princess)</td>\n",
       "      <td>4.6</td>\n",
       "      <td>American</td>\n",
       "      <td>312 Princess St, Kingston, ON K7L 1B6</td>\n",
       "    </tr>\n",
       "    <tr>\n",
       "      <th>3</th>\n",
       "      <td>M&amp;M Food Market (Kingston-Bath)</td>\n",
       "      <td>New</td>\n",
       "      <td>Grocery</td>\n",
       "      <td>277 Bath Road, Kingston, NAMER K7M2X6</td>\n",
       "    </tr>\n",
       "    <tr>\n",
       "      <th>4</th>\n",
       "      <td>For Thirst and Hunger Beverage and Food Company</td>\n",
       "      <td>New</td>\n",
       "      <td>Canadian</td>\n",
       "      <td>645 Gardiners Rd, 110, Kingston, ON K7M 8K2</td>\n",
       "    </tr>\n",
       "  </tbody>\n",
       "</table>\n",
       "</div>"
      ],
      "text/plain": [
       "                                   Restaurant Name Rating  \\\n",
       "0     Fresh Healthy Cafe (Formerly Soulful Delish)    4.6   \n",
       "1                      Food Basics (33 Barrack St)    4.2   \n",
       "2             McDonald's (Kingston - 312 Princess)    4.6   \n",
       "3                  M&M Food Market (Kingston-Bath)    New   \n",
       "4  For Thirst and Hunger Beverage and Food Company    New   \n",
       "\n",
       "              Category                                      Address  \n",
       "0              Healthy  33 Brock St, Store, Kingston, NAMER K7L 1R7  \n",
       "1  Everyday Essentials       33 Barrack St, Kingston, NAMER K7K 1E7  \n",
       "2             American        312 Princess St, Kingston, ON K7L 1B6  \n",
       "3              Grocery        277 Bath Road, Kingston, NAMER K7M2X6  \n",
       "4             Canadian  645 Gardiners Rd, 110, Kingston, ON K7M 8K2  "
      ]
     },
     "execution_count": 58,
     "metadata": {},
     "output_type": "execute_result"
    }
   ],
   "source": [
    "# Join the DataFrames in the desired order\n",
    "result = pd.concat([df, df2, df4, df3], axis=1)\n",
    "\n",
    "result.head()"
   ]
  },
  {
   "cell_type": "code",
   "execution_count": 59,
   "id": "1021338a",
   "metadata": {},
   "outputs": [],
   "source": [
    "# Export the joined DataFrame to an Excel file\n",
    "result.to_csv('Kingston-ON.csv', index=False)"
   ]
  },
  {
   "cell_type": "code",
   "execution_count": 60,
   "id": "0c41a08a",
   "metadata": {},
   "outputs": [],
   "source": [
    "browser.quit()"
   ]
  },
  {
   "cell_type": "code",
   "execution_count": null,
   "id": "dbc2712a",
   "metadata": {},
   "outputs": [],
   "source": []
  }
 ],
 "metadata": {
  "kernelspec": {
   "display_name": "Python 3 (ipykernel)",
   "language": "python",
   "name": "python3"
  },
  "language_info": {
   "codemirror_mode": {
    "name": "ipython",
    "version": 3
   },
   "file_extension": ".py",
   "mimetype": "text/x-python",
   "name": "python",
   "nbconvert_exporter": "python",
   "pygments_lexer": "ipython3",
   "version": "3.9.13"
  }
 },
 "nbformat": 4,
 "nbformat_minor": 5
}
