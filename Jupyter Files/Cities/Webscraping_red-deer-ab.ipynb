{
 "cells": [
  {
   "cell_type": "code",
   "execution_count": 102,
   "id": "39d82a98",
   "metadata": {},
   "outputs": [],
   "source": [
    "# Import dependencies/libraries\n",
    "from splinter import Browser\n",
    "from bs4 import BeautifulSoup as soup\n",
    "import pandas as pd\n"
   ]
  },
  {
   "cell_type": "code",
   "execution_count": 103,
   "id": "90fdaf9b",
   "metadata": {},
   "outputs": [],
   "source": [
    "# Setting up the browser\n",
    "browser = Browser('chrome')"
   ]
  },
  {
   "cell_type": "code",
   "execution_count": 104,
   "id": "f683952c",
   "metadata": {},
   "outputs": [],
   "source": [
    "# Visiting the website\n",
    "base_url = \"https://www.ubereats.com/ca/city/\"\n",
    "location = \"red-deer-ab/\"\n",
    "url = base_url + location\n",
    "browser.visit(url)"
   ]
  },
  {
   "cell_type": "code",
   "execution_count": 105,
   "id": "f9578c21",
   "metadata": {},
   "outputs": [],
   "source": [
    "html = browser.html\n",
    "soup = soup(html, 'html.parser')"
   ]
  },
  {
   "cell_type": "code",
   "execution_count": 107,
   "id": "16794064",
   "metadata": {
    "scrolled": true
   },
   "outputs": [
    {
     "name": "stdout",
     "output_type": "stream",
     "text": [
      "                                     Restaurant Name\n",
      "0                              McDonald's (Red Deer)\n",
      "1                    Starbucks (DT Red Deer Village)\n",
      "2   Popeyes Louisiana Kitchen (7414 50 Ave Red Deer)\n",
      "3                                  A&W (50th Avenue)\n",
      "4                             7-Eleven (3803 40 Ave)\n",
      "..                                               ...\n",
      "75             Quesada Burritos and Tacos (Red Deer)\n",
      "76                               Gravy Boat (50 Ave)\n",
      "77                                         Cafe Séne\n",
      "78   King Donair Chicken Shawarma Mediterranean Food\n",
      "79                   Mucho Burrito (69 Dunlop St #6)\n",
      "\n",
      "[80 rows x 1 columns]\n"
     ]
    }
   ],
   "source": [
    "# Restaurant name\n",
    "\n",
    "res_name = soup.find_all('div', class_='al ii br iw c3')\n",
    "restaurants = []\n",
    "\n",
    "for i in res_name:\n",
    "    restaurant = i.find('h3').text.strip()\n",
    "    restaurants.append(restaurant)\n",
    "\n",
    "df = pd.DataFrame(restaurants, columns=['Restaurant Name'])\n",
    "print(df)"
   ]
  },
  {
   "cell_type": "code",
   "execution_count": 109,
   "id": "4a9881ba",
   "metadata": {
    "scrolled": true
   },
   "outputs": [
    {
     "name": "stdout",
     "output_type": "stream",
     "text": [
      "   Rating\n",
      "0     4.0\n",
      "1     4.7\n",
      "2     4.5\n",
      "3     4.6\n",
      "4     4.6\n",
      "..    ...\n",
      "75    4.4\n",
      "76    New\n",
      "77    New\n",
      "78    New\n",
      "79    4.9\n",
      "\n",
      "[80 rows x 1 columns]\n"
     ]
    }
   ],
   "source": [
    "# Rating information \n",
    "\n",
    "\n",
    "res_Rating = soup.find_all('div', class_='br al b9 bm c3 dd ix')\n",
    "\n",
    "ratings = []\n",
    "\n",
    "for i in res_Rating:\n",
    "    rating = i.find('div').text.strip()\n",
    "    ratings.append(rating)\n",
    "\n",
    "df2 = pd.DataFrame(ratings, columns=['Rating'])\n",
    "print(df2)"
   ]
  },
  {
   "cell_type": "code",
   "execution_count": 110,
   "id": "fee02591",
   "metadata": {},
   "outputs": [
    {
     "name": "stdout",
     "output_type": "stream",
     "text": [
      "                                              Address\n",
      "0                   4840 52 Ave, Red Deer, AB T4N 6Y8\n",
      "1                  6380 50th Avenue, Red Deer, AB T4N\n",
      "2                7414 50 Avenue, Red Deer, AB T4P 1X7\n",
      "3                 6320 50th Ave, 58, Red Deer, AB T4N\n",
      "4                   3803 40 Ave, Red Deer, AB T4N 2W4\n",
      "..                                                ...\n",
      "75        2404 50 Ave, Unit 140, Red Deer, AB T4R 1M3\n",
      "76  4807 50 Avenue, Unit #108 Red Deer, Ab T4n 4a5...\n",
      "77        146 Erickson Drive, Red Deer, NAMER T4R 2C3\n",
      "78                   4942 50 St, Red Deer, AB T4N 1X7\n",
      "79                  69 Dunlop St #6, Red Deer, AB T4R\n",
      "\n",
      "[80 rows x 1 columns]\n"
     ]
    }
   ],
   "source": [
    "# Address\n",
    "res_Address = soup.find_all('div', class_='fz j5 al ii')\n",
    "addresses = []\n",
    "\n",
    "for i in res_Address:\n",
    "    if i.text:\n",
    "        spans = i.find_all('span')\n",
    "        if len(spans) > 1:\n",
    "            address = spans[1].text.strip()\n",
    "            addresses.append(address)\n",
    "\n",
    "df3 = pd.DataFrame(addresses, columns=['Address'])\n",
    "print(df3)"
   ]
  },
  {
   "cell_type": "code",
   "execution_count": 111,
   "id": "042043d8",
   "metadata": {},
   "outputs": [
    {
     "name": "stdout",
     "output_type": "stream",
     "text": [
      "                Category\n",
      "0                Burgers\n",
      "1                 Bakery\n",
      "2               American\n",
      "3              Fast food\n",
      "4                  Wings\n",
      "..                   ...\n",
      "75              Burritos\n",
      "76               Burgers\n",
      "77  Breakfast and brunch\n",
      "78         Mediterranean\n",
      "79               Mexican\n",
      "\n",
      "[80 rows x 1 columns]\n"
     ]
    }
   ],
   "source": [
    "# Category\n",
    "res_category = soup.find_all('div', class_='al ii br iw c3')\n",
    "categories = []\n",
    "\n",
    "for i in res_category:\n",
    "    span_text = i.find('span').text.strip()\n",
    "    category = span_text.split('•')[0].strip()\n",
    "    categories.append(category)\n",
    "\n",
    "df4 = pd.DataFrame(categories, columns=['Category'])\n",
    "print(df4)"
   ]
  },
  {
   "cell_type": "code",
   "execution_count": 112,
   "id": "c2784c43",
   "metadata": {},
   "outputs": [
    {
     "data": {
      "text/html": [
       "<div>\n",
       "<style scoped>\n",
       "    .dataframe tbody tr th:only-of-type {\n",
       "        vertical-align: middle;\n",
       "    }\n",
       "\n",
       "    .dataframe tbody tr th {\n",
       "        vertical-align: top;\n",
       "    }\n",
       "\n",
       "    .dataframe thead th {\n",
       "        text-align: right;\n",
       "    }\n",
       "</style>\n",
       "<table border=\"1\" class=\"dataframe\">\n",
       "  <thead>\n",
       "    <tr style=\"text-align: right;\">\n",
       "      <th></th>\n",
       "      <th>Restaurant Name</th>\n",
       "      <th>Rating</th>\n",
       "      <th>Category</th>\n",
       "      <th>Address</th>\n",
       "    </tr>\n",
       "  </thead>\n",
       "  <tbody>\n",
       "    <tr>\n",
       "      <th>0</th>\n",
       "      <td>McDonald's (Red Deer)</td>\n",
       "      <td>4.0</td>\n",
       "      <td>Burgers</td>\n",
       "      <td>4840 52 Ave, Red Deer, AB T4N 6Y8</td>\n",
       "    </tr>\n",
       "    <tr>\n",
       "      <th>1</th>\n",
       "      <td>Starbucks (DT Red Deer Village)</td>\n",
       "      <td>4.7</td>\n",
       "      <td>Bakery</td>\n",
       "      <td>6380 50th Avenue, Red Deer, AB T4N</td>\n",
       "    </tr>\n",
       "    <tr>\n",
       "      <th>2</th>\n",
       "      <td>Popeyes Louisiana Kitchen (7414 50 Ave Red Deer)</td>\n",
       "      <td>4.5</td>\n",
       "      <td>American</td>\n",
       "      <td>7414 50 Avenue, Red Deer, AB T4P 1X7</td>\n",
       "    </tr>\n",
       "    <tr>\n",
       "      <th>3</th>\n",
       "      <td>A&amp;W (50th Avenue)</td>\n",
       "      <td>4.6</td>\n",
       "      <td>Fast food</td>\n",
       "      <td>6320 50th Ave, 58, Red Deer, AB T4N</td>\n",
       "    </tr>\n",
       "    <tr>\n",
       "      <th>4</th>\n",
       "      <td>7-Eleven (3803 40 Ave)</td>\n",
       "      <td>4.6</td>\n",
       "      <td>Wings</td>\n",
       "      <td>3803 40 Ave, Red Deer, AB T4N 2W4</td>\n",
       "    </tr>\n",
       "  </tbody>\n",
       "</table>\n",
       "</div>"
      ],
      "text/plain": [
       "                                    Restaurant Name Rating   Category  \\\n",
       "0                             McDonald's (Red Deer)    4.0    Burgers   \n",
       "1                   Starbucks (DT Red Deer Village)    4.7     Bakery   \n",
       "2  Popeyes Louisiana Kitchen (7414 50 Ave Red Deer)    4.5   American   \n",
       "3                                 A&W (50th Avenue)    4.6  Fast food   \n",
       "4                            7-Eleven (3803 40 Ave)    4.6      Wings   \n",
       "\n",
       "                                Address  \n",
       "0     4840 52 Ave, Red Deer, AB T4N 6Y8  \n",
       "1    6380 50th Avenue, Red Deer, AB T4N  \n",
       "2  7414 50 Avenue, Red Deer, AB T4P 1X7  \n",
       "3   6320 50th Ave, 58, Red Deer, AB T4N  \n",
       "4     3803 40 Ave, Red Deer, AB T4N 2W4  "
      ]
     },
     "execution_count": 112,
     "metadata": {},
     "output_type": "execute_result"
    }
   ],
   "source": [
    "# Join the DataFrames in the desired order\n",
    "result = pd.concat([df, df2, df4, df3], axis=1)\n",
    "\n",
    "result.head()"
   ]
  },
  {
   "cell_type": "code",
   "execution_count": 113,
   "id": "1021338a",
   "metadata": {},
   "outputs": [],
   "source": [
    "# Export the joined DataFrame to an Excel file\n",
    "result.to_csv('red-deer-ab', index=False)"
   ]
  },
  {
   "cell_type": "code",
   "execution_count": 114,
   "id": "0c41a08a",
   "metadata": {},
   "outputs": [],
   "source": [
    "browser.quit()"
   ]
  },
  {
   "cell_type": "code",
   "execution_count": null,
   "id": "dbc2712a",
   "metadata": {},
   "outputs": [],
   "source": []
  }
 ],
 "metadata": {
  "kernelspec": {
   "display_name": "Python 3 (ipykernel)",
   "language": "python",
   "name": "python3"
  },
  "language_info": {
   "codemirror_mode": {
    "name": "ipython",
    "version": 3
   },
   "file_extension": ".py",
   "mimetype": "text/x-python",
   "name": "python",
   "nbconvert_exporter": "python",
   "pygments_lexer": "ipython3",
   "version": "3.9.13"
  }
 },
 "nbformat": 4,
 "nbformat_minor": 5
}
