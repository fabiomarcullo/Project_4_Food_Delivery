{
 "cells": [
  {
   "cell_type": "code",
   "execution_count": 29,
   "id": "39d82a98",
   "metadata": {},
   "outputs": [],
   "source": [
    "# Import dependencies/libraries\n",
    "from splinter import Browser\n",
    "from bs4 import BeautifulSoup as soup\n",
    "import pandas as pd\n"
   ]
  },
  {
   "cell_type": "code",
   "execution_count": 30,
   "id": "90fdaf9b",
   "metadata": {},
   "outputs": [],
   "source": [
    "# Setting up the browser\n",
    "browser = Browser('chrome')"
   ]
  },
  {
   "cell_type": "code",
   "execution_count": 31,
   "id": "f683952c",
   "metadata": {},
   "outputs": [],
   "source": [
    "# Visiting the website\n",
    "base_url = \"https://www.ubereats.com/ca/city/\"\n",
    "location = \"kitchener-on/\"\n",
    "url = base_url + location\n",
    "browser.visit(url)"
   ]
  },
  {
   "cell_type": "code",
   "execution_count": 32,
   "id": "f9578c21",
   "metadata": {},
   "outputs": [],
   "source": [
    "html = browser.html\n",
    "soup = soup(html, 'html.parser')"
   ]
  },
  {
   "cell_type": "code",
   "execution_count": 33,
   "id": "16794064",
   "metadata": {
    "scrolled": true
   },
   "outputs": [
    {
     "name": "stdout",
     "output_type": "stream",
     "text": [
      "                               Restaurant Name\n",
      "0   Burger King #4923 (809 Victoria St. North)\n",
      "1                       Pizza Express Stirling\n",
      "2                           Nova Era Bakery #3\n",
      "3                        SMK African Foods Inc\n",
      "4   Galito's Flame Grilled Chicken (Kitchener)\n",
      "..                                         ...\n",
      "75            Burger Factory (550 Hespeler Rd)\n",
      "76                                   iShawarma\n",
      "77                      126 Chinese Restaurant\n",
      "78                                  Ye's Sushi\n",
      "79         Lazeez Shawarma (370 Highland Rd W)\n",
      "\n",
      "[80 rows x 1 columns]\n"
     ]
    }
   ],
   "source": [
    "# Restaurant name\n",
    "\n",
    "res_name = soup.find_all('div', class_='al ii br iw c3')\n",
    "restaurants = []\n",
    "\n",
    "for i in res_name:\n",
    "    restaurant = i.find('h3').text.strip()\n",
    "    restaurants.append(restaurant)\n",
    "\n",
    "df = pd.DataFrame(restaurants, columns=['Restaurant Name'])\n",
    "print(df)"
   ]
  },
  {
   "cell_type": "code",
   "execution_count": 34,
   "id": "4a9881ba",
   "metadata": {
    "scrolled": true
   },
   "outputs": [
    {
     "name": "stdout",
     "output_type": "stream",
     "text": [
      "   Rating\n",
      "0     4.6\n",
      "1     4.3\n",
      "2     4.8\n",
      "3     New\n",
      "4     New\n",
      "..    ...\n",
      "75    4.4\n",
      "76    4.3\n",
      "77    4.7\n",
      "78    4.6\n",
      "79    4.5\n",
      "\n",
      "[80 rows x 1 columns]\n"
     ]
    }
   ],
   "source": [
    "# Rating information \n",
    "\n",
    "\n",
    "res_Rating = soup.find_all('div', class_='br al b9 bm c3 dd ix')\n",
    "\n",
    "ratings = []\n",
    "\n",
    "for i in res_Rating:\n",
    "    rating = i.find('div').text.strip()\n",
    "    ratings.append(rating)\n",
    "\n",
    "df2 = pd.DataFrame(ratings, columns=['Rating'])\n",
    "print(df2)"
   ]
  },
  {
   "cell_type": "code",
   "execution_count": 36,
   "id": "fee02591",
   "metadata": {},
   "outputs": [
    {
     "name": "stdout",
     "output_type": "stream",
     "text": [
      "                                             Address\n",
      "0          809 Victoria St. North, Kitchener, ON N2B\n",
      "1   248 Stirling Avenue South 12a, Kitchener, ON N2M\n",
      "2        376 King Street East, Kitchener, ON N2G 2L5\n",
      "3            206-C King St E,, Kitchener, ON N2G 2L1\n",
      "4         29 King Street East, Kitchener, ON N2G 2K4\n",
      "..                                               ...\n",
      "75       550 Hespeler Rd , Unit 2, Cambridge, ON N1R\n",
      "76           66 Bridgeport Rd E, 6, Waterloo, ON N2J\n",
      "77          2922 King St E, Kitchener, NAMER N2A 1A7\n",
      "78          70 Sportsworld Dr, Kitchener, ON N2P 2J1\n",
      "79          370 Highland Rd W, Kitchener, ON N2M 5J9\n",
      "\n",
      "[80 rows x 1 columns]\n"
     ]
    }
   ],
   "source": [
    "# Address\n",
    "res_Address = soup.find_all('div', class_='fz j5 al ii')\n",
    "addresses = []\n",
    "\n",
    "for i in res_Address:\n",
    "    if i.text:\n",
    "        spans = i.find_all('span')\n",
    "        if len(spans) > 1:\n",
    "            address = spans[1].text.strip()\n",
    "            addresses.append(address)\n",
    "\n",
    "df3 = pd.DataFrame(addresses, columns=['Address'])\n",
    "print(df3)"
   ]
  },
  {
   "cell_type": "code",
   "execution_count": 37,
   "id": "042043d8",
   "metadata": {},
   "outputs": [
    {
     "name": "stdout",
     "output_type": "stream",
     "text": [
      "         Category\n",
      "0        American\n",
      "1           Pizza\n",
      "2        American\n",
      "3            Deli\n",
      "4    Comfort food\n",
      "..            ...\n",
      "75          Pizza\n",
      "76  Mediterranean\n",
      "77          Asian\n",
      "78          Sushi\n",
      "79  Mediterranean\n",
      "\n",
      "[80 rows x 1 columns]\n"
     ]
    }
   ],
   "source": [
    "# Category\n",
    "res_category = soup.find_all('div', class_='al ii br iw c3')\n",
    "categories = []\n",
    "\n",
    "for i in res_category:\n",
    "    span_text = i.find('span').text.strip()\n",
    "    category = span_text.split('•')[0].strip()\n",
    "    categories.append(category)\n",
    "\n",
    "df4 = pd.DataFrame(categories, columns=['Category'])\n",
    "print(df4)"
   ]
  },
  {
   "cell_type": "code",
   "execution_count": 38,
   "id": "c2784c43",
   "metadata": {},
   "outputs": [
    {
     "data": {
      "text/html": [
       "<div>\n",
       "<style scoped>\n",
       "    .dataframe tbody tr th:only-of-type {\n",
       "        vertical-align: middle;\n",
       "    }\n",
       "\n",
       "    .dataframe tbody tr th {\n",
       "        vertical-align: top;\n",
       "    }\n",
       "\n",
       "    .dataframe thead th {\n",
       "        text-align: right;\n",
       "    }\n",
       "</style>\n",
       "<table border=\"1\" class=\"dataframe\">\n",
       "  <thead>\n",
       "    <tr style=\"text-align: right;\">\n",
       "      <th></th>\n",
       "      <th>Restaurant Name</th>\n",
       "      <th>Rating</th>\n",
       "      <th>Category</th>\n",
       "      <th>Address</th>\n",
       "    </tr>\n",
       "  </thead>\n",
       "  <tbody>\n",
       "    <tr>\n",
       "      <th>0</th>\n",
       "      <td>Burger King #4923 (809 Victoria St. North)</td>\n",
       "      <td>4.6</td>\n",
       "      <td>American</td>\n",
       "      <td>809 Victoria St. North, Kitchener, ON N2B</td>\n",
       "    </tr>\n",
       "    <tr>\n",
       "      <th>1</th>\n",
       "      <td>Pizza Express Stirling</td>\n",
       "      <td>4.3</td>\n",
       "      <td>Pizza</td>\n",
       "      <td>248 Stirling Avenue South 12a, Kitchener, ON N2M</td>\n",
       "    </tr>\n",
       "    <tr>\n",
       "      <th>2</th>\n",
       "      <td>Nova Era Bakery #3</td>\n",
       "      <td>4.8</td>\n",
       "      <td>American</td>\n",
       "      <td>376 King Street East, Kitchener, ON N2G 2L5</td>\n",
       "    </tr>\n",
       "    <tr>\n",
       "      <th>3</th>\n",
       "      <td>SMK African Foods Inc</td>\n",
       "      <td>New</td>\n",
       "      <td>Deli</td>\n",
       "      <td>206-C King St E,, Kitchener, ON N2G 2L1</td>\n",
       "    </tr>\n",
       "    <tr>\n",
       "      <th>4</th>\n",
       "      <td>Galito's Flame Grilled Chicken (Kitchener)</td>\n",
       "      <td>New</td>\n",
       "      <td>Comfort food</td>\n",
       "      <td>29 King Street East, Kitchener, ON N2G 2K4</td>\n",
       "    </tr>\n",
       "  </tbody>\n",
       "</table>\n",
       "</div>"
      ],
      "text/plain": [
       "                              Restaurant Name Rating      Category  \\\n",
       "0  Burger King #4923 (809 Victoria St. North)    4.6      American   \n",
       "1                      Pizza Express Stirling    4.3         Pizza   \n",
       "2                          Nova Era Bakery #3    4.8      American   \n",
       "3                       SMK African Foods Inc    New          Deli   \n",
       "4  Galito's Flame Grilled Chicken (Kitchener)    New  Comfort food   \n",
       "\n",
       "                                            Address  \n",
       "0         809 Victoria St. North, Kitchener, ON N2B  \n",
       "1  248 Stirling Avenue South 12a, Kitchener, ON N2M  \n",
       "2       376 King Street East, Kitchener, ON N2G 2L5  \n",
       "3           206-C King St E,, Kitchener, ON N2G 2L1  \n",
       "4        29 King Street East, Kitchener, ON N2G 2K4  "
      ]
     },
     "execution_count": 38,
     "metadata": {},
     "output_type": "execute_result"
    }
   ],
   "source": [
    "# Join the DataFrames in the desired order\n",
    "result = pd.concat([df, df2, df4, df3], axis=1)\n",
    "\n",
    "result.head()"
   ]
  },
  {
   "cell_type": "code",
   "execution_count": 39,
   "id": "1021338a",
   "metadata": {},
   "outputs": [],
   "source": [
    "# Export the joined DataFrame to an Excel file\n",
    "result.to_csv('kitchener-on.csv', index=False)"
   ]
  },
  {
   "cell_type": "code",
   "execution_count": 40,
   "id": "0c41a08a",
   "metadata": {},
   "outputs": [],
   "source": [
    "browser.quit()"
   ]
  },
  {
   "cell_type": "code",
   "execution_count": null,
   "id": "dbc2712a",
   "metadata": {},
   "outputs": [],
   "source": []
  }
 ],
 "metadata": {
  "kernelspec": {
   "display_name": "Python 3 (ipykernel)",
   "language": "python",
   "name": "python3"
  },
  "language_info": {
   "codemirror_mode": {
    "name": "ipython",
    "version": 3
   },
   "file_extension": ".py",
   "mimetype": "text/x-python",
   "name": "python",
   "nbconvert_exporter": "python",
   "pygments_lexer": "ipython3",
   "version": "3.9.13"
  }
 },
 "nbformat": 4,
 "nbformat_minor": 5
}
