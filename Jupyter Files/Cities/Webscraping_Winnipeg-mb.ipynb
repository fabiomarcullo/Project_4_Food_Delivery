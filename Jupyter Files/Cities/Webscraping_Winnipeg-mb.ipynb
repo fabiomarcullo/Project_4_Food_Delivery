{
 "cells": [
  {
   "cell_type": "code",
   "execution_count": 81,
   "id": "39d82a98",
   "metadata": {},
   "outputs": [],
   "source": [
    "# Import dependencies/libraries\n",
    "from splinter import Browser\n",
    "from bs4 import BeautifulSoup as soup\n",
    "import pandas as pd\n"
   ]
  },
  {
   "cell_type": "code",
   "execution_count": 82,
   "id": "90fdaf9b",
   "metadata": {},
   "outputs": [],
   "source": [
    "# Setting up the browser\n",
    "browser = Browser('chrome')"
   ]
  },
  {
   "cell_type": "code",
   "execution_count": 83,
   "id": "f683952c",
   "metadata": {},
   "outputs": [],
   "source": [
    "# Visiting the website\n",
    "base_url = \"https://www.ubereats.com/ca/city/\"\n",
    "location = \"winnipeg-mb/\"\n",
    "url = base_url + location\n",
    "browser.visit(url)"
   ]
  },
  {
   "cell_type": "code",
   "execution_count": 84,
   "id": "f9578c21",
   "metadata": {},
   "outputs": [],
   "source": [
    "html = browser.html\n",
    "soup = soup(html, 'html.parser')"
   ]
  },
  {
   "cell_type": "code",
   "execution_count": 85,
   "id": "16794064",
   "metadata": {
    "scrolled": true
   },
   "outputs": [
    {
     "name": "stdout",
     "output_type": "stream",
     "text": [
      "                         Restaurant Name\n",
      "0    7-Eleven (355 Henderson & Harbison)\n",
      "1             Al Basha Restaurant & Cafe\n",
      "2                          Lisbon Bakery\n",
      "3           Dollarama (1114 Main Street)\n",
      "4                Subway (247 Kennedy St)\n",
      "..                                   ...\n",
      "75                      Atiga Restaurant\n",
      "76           Woodbine Hotel Bar & Vendor\n",
      "77  VJoy Beverage and Dessert Restaurant\n",
      "78             Panda Tea (McPhillips St)\n",
      "79              Royal Punjabi restaurant\n",
      "\n",
      "[80 rows x 1 columns]\n"
     ]
    }
   ],
   "source": [
    "# Restaurant name\n",
    "\n",
    "res_name = soup.find_all('div', class_='al ii br j2 c3')\n",
    "restaurants = []\n",
    "\n",
    "for i in res_name:\n",
    "    restaurant = i.find('h3').text.strip()\n",
    "    restaurants.append(restaurant)\n",
    "\n",
    "df = pd.DataFrame(restaurants, columns=['Restaurant Name'])\n",
    "print(df)"
   ]
  },
  {
   "cell_type": "code",
   "execution_count": 86,
   "id": "4a9881ba",
   "metadata": {
    "scrolled": true
   },
   "outputs": [
    {
     "name": "stdout",
     "output_type": "stream",
     "text": [
      "   Rating\n",
      "0     4.4\n",
      "1     New\n",
      "2     New\n",
      "3     4.6\n",
      "4     New\n",
      "..    ...\n",
      "75    4.5\n",
      "76    4.9\n",
      "77    4.8\n",
      "78    4.6\n",
      "79    3.8\n",
      "\n",
      "[80 rows x 1 columns]\n"
     ]
    }
   ],
   "source": [
    "# Rating information \n",
    "\n",
    "\n",
    "res_Rating = soup.find_all('div', class_='br al b9 bm c3 dd j3')\n",
    "\n",
    "ratings = []\n",
    "\n",
    "for i in res_Rating:\n",
    "    rating = i.find('div').text.strip()\n",
    "    ratings.append(rating)\n",
    "\n",
    "df2 = pd.DataFrame(ratings, columns=['Rating'])\n",
    "print(df2)"
   ]
  },
  {
   "cell_type": "code",
   "execution_count": 87,
   "id": "fee02591",
   "metadata": {},
   "outputs": [
    {
     "name": "stdout",
     "output_type": "stream",
     "text": [
      "                                          Address\n",
      "0      355 Henderson & Harbison, Winnipeg, MB R2K\n",
      "1   1566 Pembina Highway, Winnipeg, NAMER R3T 2E9\n",
      "2             717 Sargent Ave Winnipeg, Mb R3e 0,\n",
      "3          1114 Main Street Winnipeg, Mb R2w 3s2,\n",
      "4                247 Kennedy St, Winnipeg, MB R3C\n",
      "..                                            ...\n",
      "75              329 William Ave, Winnipeg, MB R3A\n",
      "76              466 Main St, Winnipeg, MB R3B 1B6\n",
      "77         1521 Pembina Highway, Winnipeg, MB R3T\n",
      "78       1041 Mcphillips St, Winnipeg, MB R2X 2K6\n",
      "79            728 Logan Ave, Winnipeg, MB R3E 1M7\n",
      "\n",
      "[80 rows x 1 columns]\n"
     ]
    }
   ],
   "source": [
    "# Address\n",
    "res_Address = soup.find_all('div', class_='fz jb al ii')\n",
    "addresses = []\n",
    "\n",
    "for i in res_Address:\n",
    "    if i.text:\n",
    "        spans = i.find_all('span')\n",
    "        if len(spans) > 1:\n",
    "            address = spans[1].text.strip()\n",
    "            addresses.append(address)\n",
    "\n",
    "df3 = pd.DataFrame(addresses, columns=['Address'])\n",
    "print(df3)"
   ]
  },
  {
   "cell_type": "code",
   "execution_count": 88,
   "id": "042043d8",
   "metadata": {},
   "outputs": [
    {
     "name": "stdout",
     "output_type": "stream",
     "text": [
      "                Category\n",
      "0                  Wings\n",
      "1               American\n",
      "2   Breakfast and brunch\n",
      "3                   Toys\n",
      "4               American\n",
      "..                   ...\n",
      "75               African\n",
      "76               Alcohol\n",
      "77            Bubble tea\n",
      "78                 Asian\n",
      "79                Indian\n",
      "\n",
      "[80 rows x 1 columns]\n"
     ]
    }
   ],
   "source": [
    "# Category\n",
    "res_category = soup.find_all('div', class_='al ii br j2 c3')\n",
    "categories = []\n",
    "\n",
    "for i in res_category:\n",
    "    span_text = i.find('span').text.strip()\n",
    "    category = span_text.split('•')[0].strip()\n",
    "    categories.append(category)\n",
    "\n",
    "df4 = pd.DataFrame(categories, columns=['Category'])\n",
    "print(df4)"
   ]
  },
  {
   "cell_type": "code",
   "execution_count": 89,
   "id": "c2784c43",
   "metadata": {},
   "outputs": [
    {
     "data": {
      "text/html": [
       "<div>\n",
       "<style scoped>\n",
       "    .dataframe tbody tr th:only-of-type {\n",
       "        vertical-align: middle;\n",
       "    }\n",
       "\n",
       "    .dataframe tbody tr th {\n",
       "        vertical-align: top;\n",
       "    }\n",
       "\n",
       "    .dataframe thead th {\n",
       "        text-align: right;\n",
       "    }\n",
       "</style>\n",
       "<table border=\"1\" class=\"dataframe\">\n",
       "  <thead>\n",
       "    <tr style=\"text-align: right;\">\n",
       "      <th></th>\n",
       "      <th>Restaurant Name</th>\n",
       "      <th>Rating</th>\n",
       "      <th>Category</th>\n",
       "      <th>Address</th>\n",
       "    </tr>\n",
       "  </thead>\n",
       "  <tbody>\n",
       "    <tr>\n",
       "      <th>0</th>\n",
       "      <td>7-Eleven (355 Henderson &amp; Harbison)</td>\n",
       "      <td>4.4</td>\n",
       "      <td>Wings</td>\n",
       "      <td>355 Henderson &amp; Harbison, Winnipeg, MB R2K</td>\n",
       "    </tr>\n",
       "    <tr>\n",
       "      <th>1</th>\n",
       "      <td>Al Basha Restaurant &amp; Cafe</td>\n",
       "      <td>New</td>\n",
       "      <td>American</td>\n",
       "      <td>1566 Pembina Highway, Winnipeg, NAMER R3T 2E9</td>\n",
       "    </tr>\n",
       "    <tr>\n",
       "      <th>2</th>\n",
       "      <td>Lisbon Bakery</td>\n",
       "      <td>New</td>\n",
       "      <td>Breakfast and brunch</td>\n",
       "      <td>717 Sargent Ave Winnipeg, Mb R3e 0,</td>\n",
       "    </tr>\n",
       "    <tr>\n",
       "      <th>3</th>\n",
       "      <td>Dollarama (1114 Main Street)</td>\n",
       "      <td>4.6</td>\n",
       "      <td>Toys</td>\n",
       "      <td>1114 Main Street Winnipeg, Mb R2w 3s2,</td>\n",
       "    </tr>\n",
       "    <tr>\n",
       "      <th>4</th>\n",
       "      <td>Subway (247 Kennedy St)</td>\n",
       "      <td>New</td>\n",
       "      <td>American</td>\n",
       "      <td>247 Kennedy St, Winnipeg, MB R3C</td>\n",
       "    </tr>\n",
       "  </tbody>\n",
       "</table>\n",
       "</div>"
      ],
      "text/plain": [
       "                       Restaurant Name Rating              Category  \\\n",
       "0  7-Eleven (355 Henderson & Harbison)    4.4                 Wings   \n",
       "1           Al Basha Restaurant & Cafe    New              American   \n",
       "2                        Lisbon Bakery    New  Breakfast and brunch   \n",
       "3         Dollarama (1114 Main Street)    4.6                  Toys   \n",
       "4              Subway (247 Kennedy St)    New              American   \n",
       "\n",
       "                                         Address  \n",
       "0     355 Henderson & Harbison, Winnipeg, MB R2K  \n",
       "1  1566 Pembina Highway, Winnipeg, NAMER R3T 2E9  \n",
       "2            717 Sargent Ave Winnipeg, Mb R3e 0,  \n",
       "3         1114 Main Street Winnipeg, Mb R2w 3s2,  \n",
       "4               247 Kennedy St, Winnipeg, MB R3C  "
      ]
     },
     "execution_count": 89,
     "metadata": {},
     "output_type": "execute_result"
    }
   ],
   "source": [
    "# Join the DataFrames in the desired order\n",
    "result = pd.concat([df, df2, df4, df3], axis=1)\n",
    "\n",
    "result.head()"
   ]
  },
  {
   "cell_type": "code",
   "execution_count": 90,
   "id": "1021338a",
   "metadata": {},
   "outputs": [],
   "source": [
    "# Export the joined DataFrame to an Excel file\n",
    "result.to_csv('Winnipeg-mb.csv', index=False)"
   ]
  },
  {
   "cell_type": "code",
   "execution_count": 91,
   "id": "0c41a08a",
   "metadata": {},
   "outputs": [],
   "source": [
    "browser.quit()"
   ]
  },
  {
   "cell_type": "code",
   "execution_count": null,
   "id": "dbc2712a",
   "metadata": {},
   "outputs": [],
   "source": []
  }
 ],
 "metadata": {
  "kernelspec": {
   "display_name": "Python 3 (ipykernel)",
   "language": "python",
   "name": "python3"
  },
  "language_info": {
   "codemirror_mode": {
    "name": "ipython",
    "version": 3
   },
   "file_extension": ".py",
   "mimetype": "text/x-python",
   "name": "python",
   "nbconvert_exporter": "python",
   "pygments_lexer": "ipython3",
   "version": "3.9.13"
  }
 },
 "nbformat": 4,
 "nbformat_minor": 5
}
