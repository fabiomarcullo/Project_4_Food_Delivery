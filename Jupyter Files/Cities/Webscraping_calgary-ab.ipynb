{
 "cells": [
  {
   "cell_type": "code",
   "execution_count": 17,
   "id": "39d82a98",
   "metadata": {},
   "outputs": [],
   "source": [
    "# Import dependencies/libraries\n",
    "from splinter import Browser\n",
    "from bs4 import BeautifulSoup as soup\n",
    "import pandas as pd\n"
   ]
  },
  {
   "cell_type": "code",
   "execution_count": 18,
   "id": "90fdaf9b",
   "metadata": {},
   "outputs": [],
   "source": [
    "# Setting up the browser\n",
    "browser = Browser('chrome')"
   ]
  },
  {
   "cell_type": "code",
   "execution_count": 19,
   "id": "f683952c",
   "metadata": {},
   "outputs": [],
   "source": [
    "# Visiting the website\n",
    "base_url = \"https://www.ubereats.com/ca/city/\"\n",
    "location = \"greater-sudbury-on/\"\n",
    "url = base_url + location\n",
    "browser.visit(url)"
   ]
  },
  {
   "cell_type": "code",
   "execution_count": 20,
   "id": "f9578c21",
   "metadata": {},
   "outputs": [],
   "source": [
    "html = browser.html\n",
    "soup = soup(html, 'html.parser')"
   ]
  },
  {
   "cell_type": "code",
   "execution_count": null,
   "id": "16794064",
   "metadata": {
    "scrolled": true
   },
   "outputs": [],
   "source": [
    "# Restaurant name\n",
    "\n",
    "res_name = soup.find_all('div', class_='al ii br iw c3')\n",
    "restaurants = []\n",
    "\n",
    "for i in res_name:\n",
    "    restaurant = i.find('h3').text.strip()\n",
    "    restaurants.append(restaurant)\n",
    "\n",
    "df = pd.DataFrame(restaurants, columns=['Restaurant Name'])\n",
    "print(df)"
   ]
  },
  {
   "cell_type": "code",
   "execution_count": 6,
   "id": "4a9881ba",
   "metadata": {
    "scrolled": true
   },
   "outputs": [
    {
     "name": "stdout",
     "output_type": "stream",
     "text": [
      "   Rating\n",
      "0     4.8\n",
      "1     New\n",
      "2     New\n",
      "3     New\n",
      "4     5.0\n",
      "..    ...\n",
      "75    4.8\n",
      "76    4.4\n",
      "77    4.4\n",
      "78    4.8\n",
      "79    4.7\n",
      "\n",
      "[80 rows x 1 columns]\n"
     ]
    }
   ],
   "source": [
    "# Rating information \n",
    "\n",
    "\n",
    "res_Rating = soup.find_all('div', class_='br al b9 bm c3 dd j3')\n",
    "\n",
    "ratings = []\n",
    "\n",
    "for i in res_Rating:\n",
    "    rating = i.find('div').text.strip()\n",
    "    ratings.append(rating)\n",
    "\n",
    "df2 = pd.DataFrame(ratings, columns=['Rating'])\n",
    "print(df2)"
   ]
  },
  {
   "cell_type": "code",
   "execution_count": 7,
   "id": "fee02591",
   "metadata": {},
   "outputs": [
    {
     "name": "stdout",
     "output_type": "stream",
     "text": [
      "                                              Address\n",
      "0                  311 16 Ave Ne, Calgary, AB T2E 1K1\n",
      "1      935 5 Avenue Southwest, Calgary, NAMER T2P 0N8\n",
      "2   1411 17 Avenue Southwest Calgary, Ab T2t 0c3 C...\n",
      "3    1515 14 Street Southwest, Calgary, NAMER T3C 1E1\n",
      "4                   2042 42 Avenue Sw Calgary, Ab T2T\n",
      "..                                                ...\n",
      "75  233 Centre Street Southeast, 103, Calgary, AB T2P\n",
      "76      630 Redstone Drive Northeast, Calgary, AB T3N\n",
      "77         3745 Memorial Dr E #7, Calgary, AB T2A 6V4\n",
      "78  537 Riverfront Avenue Southeast, Calgary, AB T...\n",
      "79      9679 Macleod Trail Southwest, Calgary, AB T2V\n",
      "\n",
      "[80 rows x 1 columns]\n"
     ]
    }
   ],
   "source": [
    "# Address\n",
    "res_Address = soup.find_all('div', class_='fz jb al ii')\n",
    "addresses = []\n",
    "\n",
    "for i in res_Address:\n",
    "    if i.text:\n",
    "        spans = i.find_all('span')\n",
    "        if len(spans) > 1:\n",
    "            address = spans[1].text.strip()\n",
    "            addresses.append(address)\n",
    "\n",
    "df3 = pd.DataFrame(addresses, columns=['Address'])\n",
    "print(df3)"
   ]
  },
  {
   "cell_type": "code",
   "execution_count": 8,
   "id": "042043d8",
   "metadata": {},
   "outputs": [
    {
     "name": "stdout",
     "output_type": "stream",
     "text": [
      "                     Category\n",
      "0                      Bakery\n",
      "1                Comfort food\n",
      "2                  Vietnamese\n",
      "3                      Indian\n",
      "4                     Alcohol\n",
      "..                        ...\n",
      "75                      Asian\n",
      "76                      Pizza\n",
      "77           South East Asian\n",
      "78  Ice Cream & Frozen Yogurt\n",
      "79           South East Asian\n",
      "\n",
      "[80 rows x 1 columns]\n"
     ]
    }
   ],
   "source": [
    "# Category\n",
    "res_category = soup.find_all('div', class_='al ii br j2 c3')\n",
    "categories = []\n",
    "\n",
    "for i in res_category:\n",
    "    span_text = i.find('span').text.strip()\n",
    "    category = span_text.split('•')[0].strip()\n",
    "    categories.append(category)\n",
    "\n",
    "df4 = pd.DataFrame(categories, columns=['Category'])\n",
    "print(df4)"
   ]
  },
  {
   "cell_type": "code",
   "execution_count": 9,
   "id": "c2784c43",
   "metadata": {},
   "outputs": [
    {
     "data": {
      "text/html": [
       "<div>\n",
       "<style scoped>\n",
       "    .dataframe tbody tr th:only-of-type {\n",
       "        vertical-align: middle;\n",
       "    }\n",
       "\n",
       "    .dataframe tbody tr th {\n",
       "        vertical-align: top;\n",
       "    }\n",
       "\n",
       "    .dataframe thead th {\n",
       "        text-align: right;\n",
       "    }\n",
       "</style>\n",
       "<table border=\"1\" class=\"dataframe\">\n",
       "  <thead>\n",
       "    <tr style=\"text-align: right;\">\n",
       "      <th></th>\n",
       "      <th>Restaurant Name</th>\n",
       "      <th>Rating</th>\n",
       "      <th>Category</th>\n",
       "      <th>Address</th>\n",
       "    </tr>\n",
       "  </thead>\n",
       "  <tbody>\n",
       "    <tr>\n",
       "      <th>0</th>\n",
       "      <td>7-Eleven (311 16 Ave NE)</td>\n",
       "      <td>4.8</td>\n",
       "      <td>Bakery</td>\n",
       "      <td>311 16 Ave Ne, Calgary, AB T2E 1K1</td>\n",
       "    </tr>\n",
       "    <tr>\n",
       "      <th>1</th>\n",
       "      <td>Bell's Pizza</td>\n",
       "      <td>New</td>\n",
       "      <td>Comfort food</td>\n",
       "      <td>935 5 Avenue Southwest, Calgary, NAMER T2P 0N8</td>\n",
       "    </tr>\n",
       "    <tr>\n",
       "      <th>2</th>\n",
       "      <td>CO DO Vietnamese Restaurant</td>\n",
       "      <td>New</td>\n",
       "      <td>Vietnamese</td>\n",
       "      <td>1411 17 Avenue Southwest Calgary, Ab T2t 0c3 C...</td>\n",
       "    </tr>\n",
       "    <tr>\n",
       "      <th>3</th>\n",
       "      <td>Passage to India</td>\n",
       "      <td>New</td>\n",
       "      <td>Indian</td>\n",
       "      <td>1515 14 Street Southwest, Calgary, NAMER T3C 1E1</td>\n",
       "    </tr>\n",
       "    <tr>\n",
       "      <th>4</th>\n",
       "      <td>Cap Liquor</td>\n",
       "      <td>5.0</td>\n",
       "      <td>Alcohol</td>\n",
       "      <td>2042 42 Avenue Sw Calgary, Ab T2T</td>\n",
       "    </tr>\n",
       "  </tbody>\n",
       "</table>\n",
       "</div>"
      ],
      "text/plain": [
       "               Restaurant Name Rating      Category  \\\n",
       "0     7-Eleven (311 16 Ave NE)    4.8        Bakery   \n",
       "1                 Bell's Pizza    New  Comfort food   \n",
       "2  CO DO Vietnamese Restaurant    New    Vietnamese   \n",
       "3             Passage to India    New        Indian   \n",
       "4                   Cap Liquor    5.0       Alcohol   \n",
       "\n",
       "                                             Address  \n",
       "0                 311 16 Ave Ne, Calgary, AB T2E 1K1  \n",
       "1     935 5 Avenue Southwest, Calgary, NAMER T2P 0N8  \n",
       "2  1411 17 Avenue Southwest Calgary, Ab T2t 0c3 C...  \n",
       "3   1515 14 Street Southwest, Calgary, NAMER T3C 1E1  \n",
       "4                  2042 42 Avenue Sw Calgary, Ab T2T  "
      ]
     },
     "execution_count": 9,
     "metadata": {},
     "output_type": "execute_result"
    }
   ],
   "source": [
    "# Join the DataFrames in the desired order\n",
    "result = pd.concat([df, df2, df4, df3], axis=1)\n",
    "\n",
    "result.head()"
   ]
  },
  {
   "cell_type": "code",
   "execution_count": 10,
   "id": "1021338a",
   "metadata": {},
   "outputs": [],
   "source": [
    "# Export the joined DataFrame to an Excel file\n",
    "result.to_csv('greater-sudbury-on.csv', index=False)"
   ]
  },
  {
   "cell_type": "code",
   "execution_count": 22,
   "id": "0c41a08a",
   "metadata": {},
   "outputs": [],
   "source": [
    "browser.quit()"
   ]
  },
  {
   "cell_type": "code",
   "execution_count": null,
   "id": "dbc2712a",
   "metadata": {},
   "outputs": [],
   "source": []
  }
 ],
 "metadata": {
  "kernelspec": {
   "display_name": "Python 3 (ipykernel)",
   "language": "python",
   "name": "python3"
  },
  "language_info": {
   "codemirror_mode": {
    "name": "ipython",
    "version": 3
   },
   "file_extension": ".py",
   "mimetype": "text/x-python",
   "name": "python",
   "nbconvert_exporter": "python",
   "pygments_lexer": "ipython3",
   "version": "3.9.13"
  }
 },
 "nbformat": 4,
 "nbformat_minor": 5
}
