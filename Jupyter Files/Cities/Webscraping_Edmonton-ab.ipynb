{
 "cells": [
  {
   "cell_type": "code",
   "execution_count": 1,
   "id": "39d82a98",
   "metadata": {},
   "outputs": [],
   "source": [
    "# Import dependencies/libraries\n",
    "from splinter import Browser\n",
    "from bs4 import BeautifulSoup as soup\n",
    "import pandas as pd\n"
   ]
  },
  {
   "cell_type": "code",
   "execution_count": 2,
   "id": "90fdaf9b",
   "metadata": {},
   "outputs": [],
   "source": [
    "# Setting up the browser\n",
    "browser = Browser('chrome')"
   ]
  },
  {
   "cell_type": "code",
   "execution_count": 3,
   "id": "f683952c",
   "metadata": {},
   "outputs": [],
   "source": [
    "# Visiting the website\n",
    "base_url = \"https://www.ubereats.com/ca/city/\"\n",
    "location = \"edmonton-ab/\"\n",
    "url = base_url + location\n",
    "browser.visit(url)"
   ]
  },
  {
   "cell_type": "code",
   "execution_count": 4,
   "id": "f9578c21",
   "metadata": {},
   "outputs": [],
   "source": [
    "html = browser.html\n",
    "soup = soup(html, 'html.parser')"
   ]
  },
  {
   "cell_type": "code",
   "execution_count": 7,
   "id": "16794064",
   "metadata": {
    "scrolled": true
   },
   "outputs": [
    {
     "name": "stdout",
     "output_type": "stream",
     "text": [
      "                       Restaurant Name\n",
      "0         Wendy's (10365 111th Street)\n",
      "1                 McDonald's (Garneau)\n",
      "2           Subway (230 10111 104 Ave)\n",
      "3       Burger King (13338-137 Avenue)\n",
      "4        7-Eleven (11528 - 107 Avenue)\n",
      "..                                 ...\n",
      "75  New Gurkha Indian Restaurant & Bar\n",
      "76                 Kathmandu rasoi Ltd\n",
      "77           Soban Sushi & Asian Taste\n",
      "78           Royal Sweets & Restaurant\n",
      "79                          Raja Foods\n",
      "\n",
      "[80 rows x 1 columns]\n"
     ]
    }
   ],
   "source": [
    "# Restaurant name\n",
    "\n",
    "res_name = soup.find_all('div', class_='al ii br j2 c3')\n",
    "restaurants = []\n",
    "\n",
    "for i in res_name:\n",
    "    restaurant = i.find('h3').text.strip()\n",
    "    restaurants.append(restaurant)\n",
    "\n",
    "df = pd.DataFrame(restaurants, columns=['Restaurant Name'])\n",
    "print(df)"
   ]
  },
  {
   "cell_type": "code",
   "execution_count": 9,
   "id": "4a9881ba",
   "metadata": {
    "scrolled": true
   },
   "outputs": [
    {
     "name": "stdout",
     "output_type": "stream",
     "text": [
      "   Rating\n",
      "0     4.7\n",
      "1     4.6\n",
      "2     New\n",
      "3     4.3\n",
      "4     4.9\n",
      "..    ...\n",
      "75    4.4\n",
      "76    4.7\n",
      "77    4.8\n",
      "78    4.2\n",
      "79    4.4\n",
      "\n",
      "[80 rows x 1 columns]\n"
     ]
    }
   ],
   "source": [
    "# Rating information \n",
    "\n",
    "\n",
    "res_Rating = soup.find_all('div', class_='br al b9 bm c3 dd j3')\n",
    "\n",
    "ratings = []\n",
    "\n",
    "for i in res_Rating:\n",
    "    rating = i.find('div').text.strip()\n",
    "    ratings.append(rating)\n",
    "\n",
    "df2 = pd.DataFrame(ratings, columns=['Rating'])\n",
    "print(df2)"
   ]
  },
  {
   "cell_type": "code",
   "execution_count": 14,
   "id": "fee02591",
   "metadata": {},
   "outputs": [
    {
     "name": "stdout",
     "output_type": "stream",
     "text": [
      "                                           Address\n",
      "0         10365 111th Street, Edmonton, AB T5K 2V3\n",
      "1              8415 109th Street, Edmonton, AB T6E\n",
      "2           10111 104 Ave Nw, Edmonton, AB T5J 4X1\n",
      "3           13338-137 Avenue, Edmonton, AB T5L 2A9\n",
      "4             11528 - 107 Avenue, Edmonton, AB T5H\n",
      "..                                             ...\n",
      "75          4005 Gateway Blvd Nw, Edmonton, AB T6J\n",
      "76          17759 98a Ave Nw, Edmonton, AB T5T 5W8\n",
      "77  7450 82 Avenue Northwest, Edmonton, AB T6B 0G2\n",
      "78      5065 22 Avenue Southwest, Edmonton, AB T6X\n",
      "79                5173 55 Ave Nw, Edmonton, AB T6B\n",
      "\n",
      "[80 rows x 1 columns]\n"
     ]
    }
   ],
   "source": [
    "# Address\n",
    "res_Address = soup.find_all('div', class_='fz jb al ii')\n",
    "addresses = []\n",
    "\n",
    "for i in res_Address:\n",
    "    if i.text:\n",
    "        spans = i.find_all('span')\n",
    "        if len(spans) > 1:\n",
    "            address = spans[1].text.strip()\n",
    "            addresses.append(address)\n",
    "\n",
    "df3 = pd.DataFrame(addresses, columns=['Address'])\n",
    "print(df3)"
   ]
  },
  {
   "cell_type": "code",
   "execution_count": 19,
   "id": "042043d8",
   "metadata": {},
   "outputs": [
    {
     "name": "stdout",
     "output_type": "stream",
     "text": [
      "     Category\n",
      "0   Fast food\n",
      "1     Burgers\n",
      "2    American\n",
      "3    American\n",
      "4      Bakery\n",
      "..        ...\n",
      "75     Indian\n",
      "76     Indian\n",
      "77      Sushi\n",
      "78     Indian\n",
      "79     Indian\n",
      "\n",
      "[80 rows x 1 columns]\n"
     ]
    }
   ],
   "source": [
    "# Category\n",
    "res_category = soup.find_all('div', class_='al ii br j2 c3')\n",
    "categories = []\n",
    "\n",
    "for i in res_category:\n",
    "    span_text = i.find('span').text.strip()\n",
    "    category = span_text.split('•')[0].strip()\n",
    "    categories.append(category)\n",
    "\n",
    "df4 = pd.DataFrame(categories, columns=['Category'])\n",
    "print(df4)"
   ]
  },
  {
   "cell_type": "code",
   "execution_count": 20,
   "id": "c2784c43",
   "metadata": {},
   "outputs": [
    {
     "data": {
      "text/html": [
       "<div>\n",
       "<style scoped>\n",
       "    .dataframe tbody tr th:only-of-type {\n",
       "        vertical-align: middle;\n",
       "    }\n",
       "\n",
       "    .dataframe tbody tr th {\n",
       "        vertical-align: top;\n",
       "    }\n",
       "\n",
       "    .dataframe thead th {\n",
       "        text-align: right;\n",
       "    }\n",
       "</style>\n",
       "<table border=\"1\" class=\"dataframe\">\n",
       "  <thead>\n",
       "    <tr style=\"text-align: right;\">\n",
       "      <th></th>\n",
       "      <th>Restaurant Name</th>\n",
       "      <th>Rating</th>\n",
       "      <th>Category</th>\n",
       "      <th>Address</th>\n",
       "    </tr>\n",
       "  </thead>\n",
       "  <tbody>\n",
       "    <tr>\n",
       "      <th>0</th>\n",
       "      <td>Wendy's (10365 111th Street)</td>\n",
       "      <td>4.7</td>\n",
       "      <td>Fast food</td>\n",
       "      <td>10365 111th Street, Edmonton, AB T5K 2V3</td>\n",
       "    </tr>\n",
       "    <tr>\n",
       "      <th>1</th>\n",
       "      <td>McDonald's (Garneau)</td>\n",
       "      <td>4.6</td>\n",
       "      <td>Burgers</td>\n",
       "      <td>8415 109th Street, Edmonton, AB T6E</td>\n",
       "    </tr>\n",
       "    <tr>\n",
       "      <th>2</th>\n",
       "      <td>Subway (230 10111 104 Ave)</td>\n",
       "      <td>New</td>\n",
       "      <td>American</td>\n",
       "      <td>10111 104 Ave Nw, Edmonton, AB T5J 4X1</td>\n",
       "    </tr>\n",
       "    <tr>\n",
       "      <th>3</th>\n",
       "      <td>Burger King (13338-137 Avenue)</td>\n",
       "      <td>4.3</td>\n",
       "      <td>American</td>\n",
       "      <td>13338-137 Avenue, Edmonton, AB T5L 2A9</td>\n",
       "    </tr>\n",
       "    <tr>\n",
       "      <th>4</th>\n",
       "      <td>7-Eleven (11528 - 107 Avenue)</td>\n",
       "      <td>4.9</td>\n",
       "      <td>Bakery</td>\n",
       "      <td>11528 - 107 Avenue, Edmonton, AB T5H</td>\n",
       "    </tr>\n",
       "  </tbody>\n",
       "</table>\n",
       "</div>"
      ],
      "text/plain": [
       "                  Restaurant Name Rating   Category  \\\n",
       "0    Wendy's (10365 111th Street)    4.7  Fast food   \n",
       "1            McDonald's (Garneau)    4.6    Burgers   \n",
       "2      Subway (230 10111 104 Ave)    New   American   \n",
       "3  Burger King (13338-137 Avenue)    4.3   American   \n",
       "4   7-Eleven (11528 - 107 Avenue)    4.9     Bakery   \n",
       "\n",
       "                                    Address  \n",
       "0  10365 111th Street, Edmonton, AB T5K 2V3  \n",
       "1       8415 109th Street, Edmonton, AB T6E  \n",
       "2    10111 104 Ave Nw, Edmonton, AB T5J 4X1  \n",
       "3    13338-137 Avenue, Edmonton, AB T5L 2A9  \n",
       "4      11528 - 107 Avenue, Edmonton, AB T5H  "
      ]
     },
     "execution_count": 20,
     "metadata": {},
     "output_type": "execute_result"
    }
   ],
   "source": [
    "# Join the DataFrames in the desired order\n",
    "result = pd.concat([df, df2, df4, df3], axis=1)\n",
    "\n",
    "result.head()"
   ]
  },
  {
   "cell_type": "code",
   "execution_count": 21,
   "id": "1021338a",
   "metadata": {},
   "outputs": [],
   "source": [
    "# Export the joined DataFrame to an Excel file\n",
    "result.to_csv('edmonton-ab.csv', index=False)"
   ]
  },
  {
   "cell_type": "code",
   "execution_count": 22,
   "id": "0c41a08a",
   "metadata": {},
   "outputs": [],
   "source": [
    "browser.quit()"
   ]
  },
  {
   "cell_type": "code",
   "execution_count": null,
   "id": "dbc2712a",
   "metadata": {},
   "outputs": [],
   "source": []
  }
 ],
 "metadata": {
  "kernelspec": {
   "display_name": "Python 3 (ipykernel)",
   "language": "python",
   "name": "python3"
  },
  "language_info": {
   "codemirror_mode": {
    "name": "ipython",
    "version": 3
   },
   "file_extension": ".py",
   "mimetype": "text/x-python",
   "name": "python",
   "nbconvert_exporter": "python",
   "pygments_lexer": "ipython3",
   "version": "3.9.13"
  }
 },
 "nbformat": 4,
 "nbformat_minor": 5
}
