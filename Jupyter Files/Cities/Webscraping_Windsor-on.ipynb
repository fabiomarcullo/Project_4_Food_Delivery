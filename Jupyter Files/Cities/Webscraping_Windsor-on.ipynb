{
 "cells": [
  {
   "cell_type": "code",
   "execution_count": 33,
   "id": "39d82a98",
   "metadata": {},
   "outputs": [],
   "source": [
    "# Import dependencies/libraries\n",
    "from splinter import Browser\n",
    "from bs4 import BeautifulSoup as soup\n",
    "import pandas as pd\n"
   ]
  },
  {
   "cell_type": "code",
   "execution_count": 34,
   "id": "90fdaf9b",
   "metadata": {},
   "outputs": [],
   "source": [
    "# Setting up the browser\n",
    "browser = Browser('chrome')"
   ]
  },
  {
   "cell_type": "code",
   "execution_count": 35,
   "id": "f683952c",
   "metadata": {},
   "outputs": [],
   "source": [
    "# Visiting the website\n",
    "base_url = \"https://www.ubereats.com/ca/city/\"\n",
    "location = \"windsor-on/\"\n",
    "url = base_url + location\n",
    "browser.visit(url)"
   ]
  },
  {
   "cell_type": "code",
   "execution_count": 36,
   "id": "f9578c21",
   "metadata": {},
   "outputs": [],
   "source": [
    "html = browser.html\n",
    "soup = soup(html, 'html.parser')"
   ]
  },
  {
   "cell_type": "code",
   "execution_count": 38,
   "id": "16794064",
   "metadata": {
    "scrolled": true
   },
   "outputs": [
    {
     "name": "stdout",
     "output_type": "stream",
     "text": [
      "                                Restaurant Name\n",
      "0      7-Eleven (278 Tecumseh Rd E @ McDougall)\n",
      "1                   Food Basics (880 Goyeau St)\n",
      "2            Starbucks (300 Tecumseh Road East)\n",
      "3              M&M Food Market (Windsor-Walker)\n",
      "4   Burger King #13322 (300 Tecumseh Road East)\n",
      "..                                          ...\n",
      "75                                NIK’S VARIETY\n",
      "76                       Windsor Café N Cuisine\n",
      "77              The Body Shop (3100 Howard Ave)\n",
      "78                      Minh Hang Sandwich Shop\n",
      "79                     Sam's Pizzeria & Cantina\n",
      "\n",
      "[80 rows x 1 columns]\n"
     ]
    }
   ],
   "source": [
    "# Restaurant name\n",
    "\n",
    "res_name = soup.find_all('div', class_='al ii br j2 c3')\n",
    "restaurants = []\n",
    "\n",
    "for i in res_name:\n",
    "    restaurant = i.find('h3').text.strip()\n",
    "    restaurants.append(restaurant)\n",
    "\n",
    "df = pd.DataFrame(restaurants, columns=['Restaurant Name'])\n",
    "print(df)"
   ]
  },
  {
   "cell_type": "code",
   "execution_count": 40,
   "id": "4a9881ba",
   "metadata": {
    "scrolled": true
   },
   "outputs": [
    {
     "name": "stdout",
     "output_type": "stream",
     "text": [
      "   Rating\n",
      "0     4.5\n",
      "1     4.5\n",
      "2     4.9\n",
      "3     New\n",
      "4     4.3\n",
      "..    ...\n",
      "75    New\n",
      "76    New\n",
      "77    New\n",
      "78    4.7\n",
      "79    New\n",
      "\n",
      "[80 rows x 1 columns]\n"
     ]
    }
   ],
   "source": [
    "# Rating information \n",
    "\n",
    "\n",
    "res_Rating = soup.find_all('div', class_='br al b9 bm c3 dd j3')\n",
    "\n",
    "ratings = []\n",
    "\n",
    "for i in res_Rating:\n",
    "    rating = i.find('div').text.strip()\n",
    "    ratings.append(rating)\n",
    "\n",
    "df2 = pd.DataFrame(ratings, columns=['Rating'])\n",
    "print(df2)"
   ]
  },
  {
   "cell_type": "code",
   "execution_count": 41,
   "id": "fee02591",
   "metadata": {},
   "outputs": [
    {
     "name": "stdout",
     "output_type": "stream",
     "text": [
      "                                              Address\n",
      "0      278 Tecumseh Rd E @ Mcdougall, Windsor, ON N8X\n",
      "1               880 Goyeau St, Windsor, NAMER N9A 1H7\n",
      "2              300 Tecumseh Rd E, Windsor, ON N8X 5E8\n",
      "3             4120 Walker Road, Windsor, NAMER N8W3T5\n",
      "4                  300 Tecumseh Rd E, Windsor, ON N8X\n",
      "..                                                ...\n",
      "75           1402 Wyandotte St W, Windsor, ON N9B 1H4\n",
      "76  2475 Mcdougall Street Windsor, On N8x 3n9 Canada,\n",
      "77            3100 Howard Ave, Windsor, NAMER N8X 3Y8\n",
      "78                1311 Ottawa Street, Windsor, ON N8X\n",
      "79               2215 Wyandotte St W, Windsor, On N9B\n",
      "\n",
      "[80 rows x 1 columns]\n"
     ]
    }
   ],
   "source": [
    "# Address\n",
    "res_Address = soup.find_all('div', class_='fz jb al ii')\n",
    "addresses = []\n",
    "\n",
    "for i in res_Address:\n",
    "    if i.text:\n",
    "        spans = i.find_all('span')\n",
    "        if len(spans) > 1:\n",
    "            address = spans[1].text.strip()\n",
    "            addresses.append(address)\n",
    "\n",
    "df3 = pd.DataFrame(addresses, columns=['Address'])\n",
    "print(df3)"
   ]
  },
  {
   "cell_type": "code",
   "execution_count": 42,
   "id": "042043d8",
   "metadata": {},
   "outputs": [
    {
     "name": "stdout",
     "output_type": "stream",
     "text": [
      "                Category\n",
      "0                  Wings\n",
      "1    Everyday Essentials\n",
      "2               American\n",
      "3                Grocery\n",
      "4               American\n",
      "..                   ...\n",
      "75           Convenience\n",
      "76  Breakfast and brunch\n",
      "77         Personal care\n",
      "78                 Asian\n",
      "79              American\n",
      "\n",
      "[80 rows x 1 columns]\n"
     ]
    }
   ],
   "source": [
    "# Category\n",
    "res_category = soup.find_all('div', class_='al ii br j2 c3')\n",
    "categories = []\n",
    "\n",
    "for i in res_category:\n",
    "    span_text = i.find('span').text.strip()\n",
    "    category = span_text.split('•')[0].strip()\n",
    "    categories.append(category)\n",
    "\n",
    "df4 = pd.DataFrame(categories, columns=['Category'])\n",
    "print(df4)"
   ]
  },
  {
   "cell_type": "code",
   "execution_count": 43,
   "id": "c2784c43",
   "metadata": {},
   "outputs": [
    {
     "data": {
      "text/html": [
       "<div>\n",
       "<style scoped>\n",
       "    .dataframe tbody tr th:only-of-type {\n",
       "        vertical-align: middle;\n",
       "    }\n",
       "\n",
       "    .dataframe tbody tr th {\n",
       "        vertical-align: top;\n",
       "    }\n",
       "\n",
       "    .dataframe thead th {\n",
       "        text-align: right;\n",
       "    }\n",
       "</style>\n",
       "<table border=\"1\" class=\"dataframe\">\n",
       "  <thead>\n",
       "    <tr style=\"text-align: right;\">\n",
       "      <th></th>\n",
       "      <th>Restaurant Name</th>\n",
       "      <th>Rating</th>\n",
       "      <th>Category</th>\n",
       "      <th>Address</th>\n",
       "    </tr>\n",
       "  </thead>\n",
       "  <tbody>\n",
       "    <tr>\n",
       "      <th>0</th>\n",
       "      <td>7-Eleven (278 Tecumseh Rd E @ McDougall)</td>\n",
       "      <td>4.5</td>\n",
       "      <td>Wings</td>\n",
       "      <td>278 Tecumseh Rd E @ Mcdougall, Windsor, ON N8X</td>\n",
       "    </tr>\n",
       "    <tr>\n",
       "      <th>1</th>\n",
       "      <td>Food Basics (880 Goyeau St)</td>\n",
       "      <td>4.5</td>\n",
       "      <td>Everyday Essentials</td>\n",
       "      <td>880 Goyeau St, Windsor, NAMER N9A 1H7</td>\n",
       "    </tr>\n",
       "    <tr>\n",
       "      <th>2</th>\n",
       "      <td>Starbucks (300 Tecumseh Road East)</td>\n",
       "      <td>4.9</td>\n",
       "      <td>American</td>\n",
       "      <td>300 Tecumseh Rd E, Windsor, ON N8X 5E8</td>\n",
       "    </tr>\n",
       "    <tr>\n",
       "      <th>3</th>\n",
       "      <td>M&amp;M Food Market (Windsor-Walker)</td>\n",
       "      <td>New</td>\n",
       "      <td>Grocery</td>\n",
       "      <td>4120 Walker Road, Windsor, NAMER N8W3T5</td>\n",
       "    </tr>\n",
       "    <tr>\n",
       "      <th>4</th>\n",
       "      <td>Burger King #13322 (300 Tecumseh Road East)</td>\n",
       "      <td>4.3</td>\n",
       "      <td>American</td>\n",
       "      <td>300 Tecumseh Rd E, Windsor, ON N8X</td>\n",
       "    </tr>\n",
       "  </tbody>\n",
       "</table>\n",
       "</div>"
      ],
      "text/plain": [
       "                               Restaurant Name Rating             Category  \\\n",
       "0     7-Eleven (278 Tecumseh Rd E @ McDougall)    4.5                Wings   \n",
       "1                  Food Basics (880 Goyeau St)    4.5  Everyday Essentials   \n",
       "2           Starbucks (300 Tecumseh Road East)    4.9             American   \n",
       "3             M&M Food Market (Windsor-Walker)    New              Grocery   \n",
       "4  Burger King #13322 (300 Tecumseh Road East)    4.3             American   \n",
       "\n",
       "                                          Address  \n",
       "0  278 Tecumseh Rd E @ Mcdougall, Windsor, ON N8X  \n",
       "1           880 Goyeau St, Windsor, NAMER N9A 1H7  \n",
       "2          300 Tecumseh Rd E, Windsor, ON N8X 5E8  \n",
       "3         4120 Walker Road, Windsor, NAMER N8W3T5  \n",
       "4              300 Tecumseh Rd E, Windsor, ON N8X  "
      ]
     },
     "execution_count": 43,
     "metadata": {},
     "output_type": "execute_result"
    }
   ],
   "source": [
    "# Join the DataFrames in the desired order\n",
    "result = pd.concat([df, df2, df4, df3], axis=1)\n",
    "\n",
    "result.head()"
   ]
  },
  {
   "cell_type": "code",
   "execution_count": 44,
   "id": "1021338a",
   "metadata": {},
   "outputs": [],
   "source": [
    "# Export the joined DataFrame to an Excel file\n",
    "result.to_csv('Windsor-on.csv', index=False)"
   ]
  },
  {
   "cell_type": "code",
   "execution_count": 45,
   "id": "0c41a08a",
   "metadata": {},
   "outputs": [],
   "source": [
    "browser.quit()"
   ]
  },
  {
   "cell_type": "code",
   "execution_count": null,
   "id": "dbc2712a",
   "metadata": {},
   "outputs": [],
   "source": []
  }
 ],
 "metadata": {
  "kernelspec": {
   "display_name": "Python 3 (ipykernel)",
   "language": "python",
   "name": "python3"
  },
  "language_info": {
   "codemirror_mode": {
    "name": "ipython",
    "version": 3
   },
   "file_extension": ".py",
   "mimetype": "text/x-python",
   "name": "python",
   "nbconvert_exporter": "python",
   "pygments_lexer": "ipython3",
   "version": "3.9.13"
  }
 },
 "nbformat": 4,
 "nbformat_minor": 5
}
