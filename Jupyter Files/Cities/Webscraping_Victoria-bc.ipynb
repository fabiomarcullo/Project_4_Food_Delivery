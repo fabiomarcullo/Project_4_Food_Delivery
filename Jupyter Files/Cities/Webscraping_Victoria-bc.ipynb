{
 "cells": [
  {
   "cell_type": "code",
   "execution_count": 69,
   "id": "39d82a98",
   "metadata": {},
   "outputs": [],
   "source": [
    "# Import dependencies/libraries\n",
    "from splinter import Browser\n",
    "from bs4 import BeautifulSoup as soup\n",
    "import pandas as pd\n"
   ]
  },
  {
   "cell_type": "code",
   "execution_count": 70,
   "id": "90fdaf9b",
   "metadata": {},
   "outputs": [],
   "source": [
    "# Setting up the browser\n",
    "browser = Browser('chrome')"
   ]
  },
  {
   "cell_type": "code",
   "execution_count": 71,
   "id": "f683952c",
   "metadata": {},
   "outputs": [],
   "source": [
    "# Visiting the website\n",
    "base_url = \"https://www.ubereats.com/ca/city/\"\n",
    "location = \"victoria-bc/\"\n",
    "url = base_url + location\n",
    "browser.visit(url)"
   ]
  },
  {
   "cell_type": "code",
   "execution_count": 72,
   "id": "f9578c21",
   "metadata": {},
   "outputs": [],
   "source": [
    "html = browser.html\n",
    "soup = soup(html, 'html.parser')"
   ]
  },
  {
   "cell_type": "code",
   "execution_count": 74,
   "id": "16794064",
   "metadata": {
    "scrolled": true
   },
   "outputs": [
    {
     "name": "stdout",
     "output_type": "stream",
     "text": [
      "                          Restaurant Name\n",
      "0               7-Eleven (813 Douglas St)\n",
      "1                 McDonald's (Victoria-H)\n",
      "2   On the Run 43050 | 704 Goldstream Ave\n",
      "3                 Shell (3393 Douglas St)\n",
      "4                         Capones Chicken\n",
      "..                                    ...\n",
      "75                Delicious Pizza & Pasta\n",
      "76         The Tropical Island Restaurant\n",
      "77              Vietnam Garden Restaurant\n",
      "78                            YUMMY TRUCK\n",
      "79                                 Futaba\n",
      "\n",
      "[80 rows x 1 columns]\n"
     ]
    }
   ],
   "source": [
    "# Restaurant name\n",
    "\n",
    "res_name = soup.find_all('div', class_='al ii br j2 c3')\n",
    "restaurants = []\n",
    "\n",
    "for i in res_name:\n",
    "    restaurant = i.find('h3').text.strip()\n",
    "    restaurants.append(restaurant)\n",
    "\n",
    "df = pd.DataFrame(restaurants, columns=['Restaurant Name'])\n",
    "print(df)"
   ]
  },
  {
   "cell_type": "code",
   "execution_count": 75,
   "id": "4a9881ba",
   "metadata": {
    "scrolled": true
   },
   "outputs": [
    {
     "name": "stdout",
     "output_type": "stream",
     "text": [
      "   Rating\n",
      "0     4.7\n",
      "1     4.4\n",
      "2     New\n",
      "3     New\n",
      "4     New\n",
      "..    ...\n",
      "75    4.7\n",
      "76    4.8\n",
      "77    New\n",
      "78    New\n",
      "79    New\n",
      "\n",
      "[80 rows x 1 columns]\n"
     ]
    }
   ],
   "source": [
    "# Rating information \n",
    "\n",
    "\n",
    "res_Rating = soup.find_all('div', class_='br al b9 bm c3 dd j3')\n",
    "\n",
    "ratings = []\n",
    "\n",
    "for i in res_Rating:\n",
    "    rating = i.find('div').text.strip()\n",
    "    ratings.append(rating)\n",
    "\n",
    "df2 = pd.DataFrame(ratings, columns=['Rating'])\n",
    "print(df2)"
   ]
  },
  {
   "cell_type": "code",
   "execution_count": 76,
   "id": "fee02591",
   "metadata": {},
   "outputs": [
    {
     "name": "stdout",
     "output_type": "stream",
     "text": [
      "                                              Address\n",
      "0                813 Douglas St, Victoria, BC V8W 2B9\n",
      "1      102 1581 Hillside Avenue, VICTORIA, BC V8T 2C1\n",
      "2         704 Goldstream Avenue, Langford, BC V9B 2X3\n",
      "3   3393 Douglas Street, Victoria, British Columbi...\n",
      "4                   749 View St, Victoria, BC V8W 1J9\n",
      "..                                                ...\n",
      "75       3388 Douglas Street #6,, Victoria, NAMER V8Z\n",
      "76            3690 Shelbourne St #1, Victoria, BC V8P\n",
      "77            524 Admirals Road , Victoria, BC V9a2n4\n",
      "78                675 Belleville St, Victoria, BC V8V\n",
      "79           759 Yates St, 1 L4, Victoria, BC V8W 0E2\n",
      "\n",
      "[80 rows x 1 columns]\n"
     ]
    }
   ],
   "source": [
    "# Address\n",
    "res_Address = soup.find_all('div', class_='fz jb al ii')\n",
    "addresses = []\n",
    "\n",
    "for i in res_Address:\n",
    "    if i.text:\n",
    "        spans = i.find_all('span')\n",
    "        if len(spans) > 1:\n",
    "            address = spans[1].text.strip()\n",
    "            addresses.append(address)\n",
    "\n",
    "df3 = pd.DataFrame(addresses, columns=['Address'])\n",
    "print(df3)"
   ]
  },
  {
   "cell_type": "code",
   "execution_count": 77,
   "id": "042043d8",
   "metadata": {},
   "outputs": [
    {
     "name": "stdout",
     "output_type": "stream",
     "text": [
      "               Category\n",
      "0                 Wings\n",
      "1               Burgers\n",
      "2   Everyday Essentials\n",
      "3   Everyday Essentials\n",
      "4               Healthy\n",
      "..                  ...\n",
      "75                Pizza\n",
      "76                Asian\n",
      "77           Vietnamese\n",
      "78        Mediterranean\n",
      "79             Japanese\n",
      "\n",
      "[80 rows x 1 columns]\n"
     ]
    }
   ],
   "source": [
    "# Category\n",
    "res_category = soup.find_all('div', class_='al ii br j2 c3')\n",
    "categories = []\n",
    "\n",
    "for i in res_category:\n",
    "    span_text = i.find('span').text.strip()\n",
    "    category = span_text.split('•')[0].strip()\n",
    "    categories.append(category)\n",
    "\n",
    "df4 = pd.DataFrame(categories, columns=['Category'])\n",
    "print(df4)"
   ]
  },
  {
   "cell_type": "code",
   "execution_count": 78,
   "id": "c2784c43",
   "metadata": {},
   "outputs": [
    {
     "data": {
      "text/html": [
       "<div>\n",
       "<style scoped>\n",
       "    .dataframe tbody tr th:only-of-type {\n",
       "        vertical-align: middle;\n",
       "    }\n",
       "\n",
       "    .dataframe tbody tr th {\n",
       "        vertical-align: top;\n",
       "    }\n",
       "\n",
       "    .dataframe thead th {\n",
       "        text-align: right;\n",
       "    }\n",
       "</style>\n",
       "<table border=\"1\" class=\"dataframe\">\n",
       "  <thead>\n",
       "    <tr style=\"text-align: right;\">\n",
       "      <th></th>\n",
       "      <th>Restaurant Name</th>\n",
       "      <th>Rating</th>\n",
       "      <th>Category</th>\n",
       "      <th>Address</th>\n",
       "    </tr>\n",
       "  </thead>\n",
       "  <tbody>\n",
       "    <tr>\n",
       "      <th>0</th>\n",
       "      <td>7-Eleven (813 Douglas St)</td>\n",
       "      <td>4.7</td>\n",
       "      <td>Wings</td>\n",
       "      <td>813 Douglas St, Victoria, BC V8W 2B9</td>\n",
       "    </tr>\n",
       "    <tr>\n",
       "      <th>1</th>\n",
       "      <td>McDonald's (Victoria-H)</td>\n",
       "      <td>4.4</td>\n",
       "      <td>Burgers</td>\n",
       "      <td>102 1581 Hillside Avenue, VICTORIA, BC V8T 2C1</td>\n",
       "    </tr>\n",
       "    <tr>\n",
       "      <th>2</th>\n",
       "      <td>On the Run 43050 | 704 Goldstream Ave</td>\n",
       "      <td>New</td>\n",
       "      <td>Everyday Essentials</td>\n",
       "      <td>704 Goldstream Avenue, Langford, BC V9B 2X3</td>\n",
       "    </tr>\n",
       "    <tr>\n",
       "      <th>3</th>\n",
       "      <td>Shell (3393 Douglas St)</td>\n",
       "      <td>New</td>\n",
       "      <td>Everyday Essentials</td>\n",
       "      <td>3393 Douglas Street, Victoria, British Columbi...</td>\n",
       "    </tr>\n",
       "    <tr>\n",
       "      <th>4</th>\n",
       "      <td>Capones Chicken</td>\n",
       "      <td>New</td>\n",
       "      <td>Healthy</td>\n",
       "      <td>749 View St, Victoria, BC V8W 1J9</td>\n",
       "    </tr>\n",
       "  </tbody>\n",
       "</table>\n",
       "</div>"
      ],
      "text/plain": [
       "                         Restaurant Name Rating             Category  \\\n",
       "0              7-Eleven (813 Douglas St)    4.7                Wings   \n",
       "1                McDonald's (Victoria-H)    4.4              Burgers   \n",
       "2  On the Run 43050 | 704 Goldstream Ave    New  Everyday Essentials   \n",
       "3                Shell (3393 Douglas St)    New  Everyday Essentials   \n",
       "4                        Capones Chicken    New              Healthy   \n",
       "\n",
       "                                             Address  \n",
       "0               813 Douglas St, Victoria, BC V8W 2B9  \n",
       "1     102 1581 Hillside Avenue, VICTORIA, BC V8T 2C1  \n",
       "2        704 Goldstream Avenue, Langford, BC V9B 2X3  \n",
       "3  3393 Douglas Street, Victoria, British Columbi...  \n",
       "4                  749 View St, Victoria, BC V8W 1J9  "
      ]
     },
     "execution_count": 78,
     "metadata": {},
     "output_type": "execute_result"
    }
   ],
   "source": [
    "# Join the DataFrames in the desired order\n",
    "result = pd.concat([df, df2, df4, df3], axis=1)\n",
    "\n",
    "result.head()"
   ]
  },
  {
   "cell_type": "code",
   "execution_count": 79,
   "id": "1021338a",
   "metadata": {},
   "outputs": [],
   "source": [
    "# Export the joined DataFrame to an Excel file\n",
    "result.to_csv('Victoria-bc.csv', index=False)"
   ]
  },
  {
   "cell_type": "code",
   "execution_count": 80,
   "id": "0c41a08a",
   "metadata": {},
   "outputs": [],
   "source": [
    "browser.quit()"
   ]
  },
  {
   "cell_type": "code",
   "execution_count": null,
   "id": "dbc2712a",
   "metadata": {},
   "outputs": [],
   "source": []
  }
 ],
 "metadata": {
  "kernelspec": {
   "display_name": "Python 3 (ipykernel)",
   "language": "python",
   "name": "python3"
  },
  "language_info": {
   "codemirror_mode": {
    "name": "ipython",
    "version": 3
   },
   "file_extension": ".py",
   "mimetype": "text/x-python",
   "name": "python",
   "nbconvert_exporter": "python",
   "pygments_lexer": "ipython3",
   "version": "3.9.13"
  }
 },
 "nbformat": 4,
 "nbformat_minor": 5
}
