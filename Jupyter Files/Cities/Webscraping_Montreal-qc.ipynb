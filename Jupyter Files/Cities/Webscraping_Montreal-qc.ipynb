{
 "cells": [
  {
   "cell_type": "code",
   "execution_count": 46,
   "id": "39d82a98",
   "metadata": {},
   "outputs": [],
   "source": [
    "# Import dependencies/libraries\n",
    "from splinter import Browser\n",
    "from bs4 import BeautifulSoup as soup\n",
    "import pandas as pd\n"
   ]
  },
  {
   "cell_type": "code",
   "execution_count": 47,
   "id": "90fdaf9b",
   "metadata": {},
   "outputs": [],
   "source": [
    "# Setting up the browser\n",
    "browser = Browser('chrome')"
   ]
  },
  {
   "cell_type": "code",
   "execution_count": 48,
   "id": "f683952c",
   "metadata": {},
   "outputs": [],
   "source": [
    "# Visiting the website\n",
    "base_url = \"https://www.ubereats.com/ca/city/\"\n",
    "location = \"montreal-qc/\"\n",
    "url = base_url + location\n",
    "browser.visit(url)"
   ]
  },
  {
   "cell_type": "code",
   "execution_count": 49,
   "id": "f9578c21",
   "metadata": {},
   "outputs": [],
   "source": [
    "html = browser.html\n",
    "soup = soup(html, 'html.parser')"
   ]
  },
  {
   "cell_type": "code",
   "execution_count": 51,
   "id": "16794064",
   "metadata": {
    "scrolled": true
   },
   "outputs": [
    {
     "name": "stdout",
     "output_type": "stream",
     "text": [
      "                      Restaurant Name\n",
      "0   Burger King (1605 Saint-Denis St)\n",
      "1      Pizza Pizza (St-Laurent Blvd.)\n",
      "2                  Capitaine Sandwich\n",
      "3    Première Moisson (Gare Centrale)\n",
      "4                            Pizzaway\n",
      "..                                ...\n",
      "75       Forno West (Ave de Courtrai)\n",
      "76                        Canard Café\n",
      "77               Le Marquis Castelnau\n",
      "78                      Bernie Beigne\n",
      "79              Boulangerie Chez Fred\n",
      "\n",
      "[80 rows x 1 columns]\n"
     ]
    }
   ],
   "source": [
    "# Restaurant name\n",
    "\n",
    "res_name = soup.find_all('div', class_='al ii br iw c3')\n",
    "restaurants = []\n",
    "\n",
    "for i in res_name:\n",
    "    restaurant = i.find('h3').text.strip()\n",
    "    restaurants.append(restaurant)\n",
    "\n",
    "df = pd.DataFrame(restaurants, columns=['Restaurant Name'])\n",
    "print(df)"
   ]
  },
  {
   "cell_type": "code",
   "execution_count": 52,
   "id": "4a9881ba",
   "metadata": {
    "scrolled": true
   },
   "outputs": [
    {
     "name": "stdout",
     "output_type": "stream",
     "text": [
      "   Rating\n",
      "0     4.3\n",
      "1     4.2\n",
      "2     4.9\n",
      "3     New\n",
      "4     4.7\n",
      "..    ...\n",
      "75    4.8\n",
      "76    4.8\n",
      "77    4.7\n",
      "78    5.0\n",
      "79    5.0\n",
      "\n",
      "[80 rows x 1 columns]\n"
     ]
    }
   ],
   "source": [
    "# Rating information \n",
    "\n",
    "\n",
    "res_Rating = soup.find_all('div', class_='br al b9 bm c3 dd ix')\n",
    "\n",
    "ratings = []\n",
    "\n",
    "for i in res_Rating:\n",
    "    rating = i.find('div').text.strip()\n",
    "    ratings.append(rating)\n",
    "\n",
    "df2 = pd.DataFrame(ratings, columns=['Rating'])\n",
    "print(df2)"
   ]
  },
  {
   "cell_type": "code",
   "execution_count": 53,
   "id": "fee02591",
   "metadata": {},
   "outputs": [
    {
     "name": "stdout",
     "output_type": "stream",
     "text": [
      "                                              Address\n",
      "0           1605 Saint-Denis St, Montreal, QC H2X 3K3\n",
      "1             3714 St. Laurent Blvd, Montreal, QC H2X\n",
      "2               4050 Rue De Bullion, Montreal, QC H2W\n",
      "3   895, Rue De La Gauchetière O.,  Suite 90-401,,...\n",
      "4   5595 Chemin De La Côte-Des-Neiges, Montreal, Q...\n",
      "..                                                ...\n",
      "75          5273 Avenue De Courtrai, Montreal, QC H3W\n",
      "76         4299 Rue Ontario Est, Montréal, QC H1V 1K4\n",
      "77     367 Rue De Castelnau Est, Montréal, QC H2R 1R1\n",
      "78         23 Rue Bernard Ouest, Montréal, QC H2T 2J6\n",
      "79        5338 Rue Sherbrooke Ouest, Montreal, QC H4A\n",
      "\n",
      "[80 rows x 1 columns]\n"
     ]
    }
   ],
   "source": [
    "# Address\n",
    "res_Address = soup.find_all('div', class_='fz j5 al ii')\n",
    "addresses = []\n",
    "\n",
    "for i in res_Address:\n",
    "    if i.text:\n",
    "        spans = i.find_all('span')\n",
    "        if len(spans) > 1:\n",
    "            address = spans[1].text.strip()\n",
    "            addresses.append(address)\n",
    "\n",
    "df3 = pd.DataFrame(addresses, columns=['Address'])\n",
    "print(df3)"
   ]
  },
  {
   "cell_type": "code",
   "execution_count": 54,
   "id": "042043d8",
   "metadata": {},
   "outputs": [
    {
     "name": "stdout",
     "output_type": "stream",
     "text": [
      "                Category\n",
      "0               American\n",
      "1                  Pizza\n",
      "2             Sandwiches\n",
      "3               Sandwich\n",
      "4                  Pizza\n",
      "..                   ...\n",
      "75              Sicilian\n",
      "76  Breakfast and brunch\n",
      "77              Desserts\n",
      "78                Pastry\n",
      "79              Desserts\n",
      "\n",
      "[80 rows x 1 columns]\n"
     ]
    }
   ],
   "source": [
    "# Category\n",
    "res_category = soup.find_all('div', class_='al ii br iw c3')\n",
    "categories = []\n",
    "\n",
    "for i in res_category:\n",
    "    span_text = i.find('span').text.strip()\n",
    "    category = span_text.split('•')[0].strip()\n",
    "    categories.append(category)\n",
    "\n",
    "df4 = pd.DataFrame(categories, columns=['Category'])\n",
    "print(df4)"
   ]
  },
  {
   "cell_type": "code",
   "execution_count": 55,
   "id": "c2784c43",
   "metadata": {},
   "outputs": [
    {
     "data": {
      "text/html": [
       "<div>\n",
       "<style scoped>\n",
       "    .dataframe tbody tr th:only-of-type {\n",
       "        vertical-align: middle;\n",
       "    }\n",
       "\n",
       "    .dataframe tbody tr th {\n",
       "        vertical-align: top;\n",
       "    }\n",
       "\n",
       "    .dataframe thead th {\n",
       "        text-align: right;\n",
       "    }\n",
       "</style>\n",
       "<table border=\"1\" class=\"dataframe\">\n",
       "  <thead>\n",
       "    <tr style=\"text-align: right;\">\n",
       "      <th></th>\n",
       "      <th>Restaurant Name</th>\n",
       "      <th>Rating</th>\n",
       "      <th>Category</th>\n",
       "      <th>Address</th>\n",
       "    </tr>\n",
       "  </thead>\n",
       "  <tbody>\n",
       "    <tr>\n",
       "      <th>0</th>\n",
       "      <td>Burger King (1605 Saint-Denis St)</td>\n",
       "      <td>4.3</td>\n",
       "      <td>American</td>\n",
       "      <td>1605 Saint-Denis St, Montreal, QC H2X 3K3</td>\n",
       "    </tr>\n",
       "    <tr>\n",
       "      <th>1</th>\n",
       "      <td>Pizza Pizza (St-Laurent Blvd.)</td>\n",
       "      <td>4.2</td>\n",
       "      <td>Pizza</td>\n",
       "      <td>3714 St. Laurent Blvd, Montreal, QC H2X</td>\n",
       "    </tr>\n",
       "    <tr>\n",
       "      <th>2</th>\n",
       "      <td>Capitaine Sandwich</td>\n",
       "      <td>4.9</td>\n",
       "      <td>Sandwiches</td>\n",
       "      <td>4050 Rue De Bullion, Montreal, QC H2W</td>\n",
       "    </tr>\n",
       "    <tr>\n",
       "      <th>3</th>\n",
       "      <td>Première Moisson (Gare Centrale)</td>\n",
       "      <td>New</td>\n",
       "      <td>Sandwich</td>\n",
       "      <td>895, Rue De La Gauchetière O.,  Suite 90-401,,...</td>\n",
       "    </tr>\n",
       "    <tr>\n",
       "      <th>4</th>\n",
       "      <td>Pizzaway</td>\n",
       "      <td>4.7</td>\n",
       "      <td>Pizza</td>\n",
       "      <td>5595 Chemin De La Côte-Des-Neiges, Montreal, Q...</td>\n",
       "    </tr>\n",
       "  </tbody>\n",
       "</table>\n",
       "</div>"
      ],
      "text/plain": [
       "                     Restaurant Name Rating    Category  \\\n",
       "0  Burger King (1605 Saint-Denis St)    4.3    American   \n",
       "1     Pizza Pizza (St-Laurent Blvd.)    4.2       Pizza   \n",
       "2                 Capitaine Sandwich    4.9  Sandwiches   \n",
       "3   Première Moisson (Gare Centrale)    New    Sandwich   \n",
       "4                           Pizzaway    4.7       Pizza   \n",
       "\n",
       "                                             Address  \n",
       "0          1605 Saint-Denis St, Montreal, QC H2X 3K3  \n",
       "1            3714 St. Laurent Blvd, Montreal, QC H2X  \n",
       "2              4050 Rue De Bullion, Montreal, QC H2W  \n",
       "3  895, Rue De La Gauchetière O.,  Suite 90-401,,...  \n",
       "4  5595 Chemin De La Côte-Des-Neiges, Montreal, Q...  "
      ]
     },
     "execution_count": 55,
     "metadata": {},
     "output_type": "execute_result"
    }
   ],
   "source": [
    "# Join the DataFrames in the desired order\n",
    "result = pd.concat([df, df2, df4, df3], axis=1)\n",
    "\n",
    "result.head()"
   ]
  },
  {
   "cell_type": "code",
   "execution_count": 56,
   "id": "1021338a",
   "metadata": {},
   "outputs": [],
   "source": [
    "# Export the joined DataFrame to an Excel file\n",
    "result.to_csv('Montreal-qc.csv', index=False)"
   ]
  },
  {
   "cell_type": "code",
   "execution_count": 57,
   "id": "0c41a08a",
   "metadata": {},
   "outputs": [],
   "source": [
    "browser.quit()"
   ]
  },
  {
   "cell_type": "code",
   "execution_count": null,
   "id": "dbc2712a",
   "metadata": {},
   "outputs": [],
   "source": []
  }
 ],
 "metadata": {
  "kernelspec": {
   "display_name": "Python 3 (ipykernel)",
   "language": "python",
   "name": "python3"
  },
  "language_info": {
   "codemirror_mode": {
    "name": "ipython",
    "version": 3
   },
   "file_extension": ".py",
   "mimetype": "text/x-python",
   "name": "python",
   "nbconvert_exporter": "python",
   "pygments_lexer": "ipython3",
   "version": "3.9.13"
  }
 },
 "nbformat": 4,
 "nbformat_minor": 5
}
