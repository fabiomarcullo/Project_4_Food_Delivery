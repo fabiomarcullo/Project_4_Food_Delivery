{
 "cells": [
  {
   "cell_type": "code",
   "execution_count": 65,
   "id": "39d82a98",
   "metadata": {},
   "outputs": [],
   "source": [
    "# Import dependencies/libraries\n",
    "from splinter import Browser\n",
    "from bs4 import BeautifulSoup as soup\n",
    "import pandas as pd\n"
   ]
  },
  {
   "cell_type": "code",
   "execution_count": 66,
   "id": "90fdaf9b",
   "metadata": {},
   "outputs": [],
   "source": [
    "# Setting up the browser\n",
    "browser = Browser('chrome')"
   ]
  },
  {
   "cell_type": "code",
   "execution_count": 67,
   "id": "f683952c",
   "metadata": {},
   "outputs": [],
   "source": [
    "# Visiting the website\n",
    "base_url = \"https://www.ubereats.com/ca/city/\"\n",
    "location = \"quebec-qc/\"\n",
    "url = base_url + location\n",
    "browser.visit(url)"
   ]
  },
  {
   "cell_type": "code",
   "execution_count": 68,
   "id": "f9578c21",
   "metadata": {},
   "outputs": [],
   "source": [
    "html = browser.html\n",
    "soup = soup(html, 'html.parser')"
   ]
  },
  {
   "cell_type": "code",
   "execution_count": 69,
   "id": "16794064",
   "metadata": {
    "scrolled": true
   },
   "outputs": [
    {
     "name": "stdout",
     "output_type": "stream",
     "text": [
      "                            Restaurant Name\n",
      "0                      Snack Bar Saint-Jean\n",
      "1                        McDonald's (Hamel)\n",
      "2    Les Aliments M&M (Quebec-de l'Ormière)\n",
      "3          Walmart (550 Wilfrid-Hamel Blvd)\n",
      "4           Metro (707 Boulevard Charest O)\n",
      "..                                      ...\n",
      "75                   Rock'n Deli (Capitale)\n",
      "76  L'Essentiel Marché Express - FC Gourmet\n",
      "77   Café La Maison Smith (Chemin St-Louis)\n",
      "78                 Piment Vert (Le Plateau)\n",
      "79                       La Chaude Assiette\n",
      "\n",
      "[80 rows x 1 columns]\n"
     ]
    }
   ],
   "source": [
    "# Restaurant name\n",
    "\n",
    "res_name = soup.find_all('div', class_='al ii br iw c3')\n",
    "restaurants = []\n",
    "\n",
    "for i in res_name:\n",
    "    restaurant = i.find('h3').text.strip()\n",
    "    restaurants.append(restaurant)\n",
    "\n",
    "df = pd.DataFrame(restaurants, columns=['Restaurant Name'])\n",
    "print(df)"
   ]
  },
  {
   "cell_type": "code",
   "execution_count": 70,
   "id": "4a9881ba",
   "metadata": {
    "scrolled": true
   },
   "outputs": [
    {
     "name": "stdout",
     "output_type": "stream",
     "text": [
      "   Rating\n",
      "0     4.6\n",
      "1     4.5\n",
      "2     New\n",
      "3     New\n",
      "4     4.4\n",
      "..    ...\n",
      "75    New\n",
      "76    4.1\n",
      "77    New\n",
      "78    New\n",
      "79    New\n",
      "\n",
      "[80 rows x 1 columns]\n"
     ]
    }
   ],
   "source": [
    "# Rating information \n",
    "\n",
    "\n",
    "res_Rating = soup.find_all('div', class_='br al b9 bm c3 dd ix')\n",
    "\n",
    "ratings = []\n",
    "\n",
    "for i in res_Rating:\n",
    "    rating = i.find('div').text.strip()\n",
    "    ratings.append(rating)\n",
    "\n",
    "df2 = pd.DataFrame(ratings, columns=['Rating'])\n",
    "print(df2)"
   ]
  },
  {
   "cell_type": "code",
   "execution_count": 71,
   "id": "fee02591",
   "metadata": {},
   "outputs": [
    {
     "name": "stdout",
     "output_type": "stream",
     "text": [
      "                                              Address\n",
      "0                  780 Rue Saint-Jean, Québec, QC G1R\n",
      "1        590, Boul. Wilfrid-Hamel, Québec, QC G1M 2T3\n",
      "2   9465 Boulevard De L'Ormiere, Quebec City, NAME...\n",
      "3   550 Boulevard Wilfrid-Hamel, Québec, Québec G1...\n",
      "4      707 Boulevard Charest O, Quebec, NAMER G1N 4P6\n",
      "..                                                ...\n",
      "75  5401 Boulevard Des Galeries, Ville De Québec, ...\n",
      "76                2276 Ch Ste-Foy, Québec, Qc G1V 1S7\n",
      "77        2012 Chemin Saint-Louis, Quebec, QC G1T 1P1\n",
      "78           1750 Rue Du Périgord, Quebec, QC G1G 5X3\n",
      "79      8500 Boulevard Henri-Bourassa, Quebec, QC G1G\n",
      "\n",
      "[80 rows x 1 columns]\n"
     ]
    }
   ],
   "source": [
    "# Address\n",
    "res_Address = soup.find_all('div', class_='fz j al ii')\n",
    "addresses = []\n",
    "\n",
    "for i in res_Address:\n",
    "    if i.text:\n",
    "        spans = i.find_all('span')\n",
    "        if len(spans) > 1:\n",
    "            address = spans[1].text.strip()\n",
    "            addresses.append(address)\n",
    "\n",
    "df3 = pd.DataFrame(addresses, columns=['Address'])\n",
    "print(df3)"
   ]
  },
  {
   "cell_type": "code",
   "execution_count": 72,
   "id": "042043d8",
   "metadata": {},
   "outputs": [
    {
     "name": "stdout",
     "output_type": "stream",
     "text": [
      "             Category\n",
      "0        Comfort Food\n",
      "1             Burgers\n",
      "2             Grocery\n",
      "3             Grocery\n",
      "4             Grocery\n",
      "..                ...\n",
      "75         Sandwiches\n",
      "76              Halal\n",
      "77  Juice & Smoothies\n",
      "78            Burgers\n",
      "79           American\n",
      "\n",
      "[80 rows x 1 columns]\n"
     ]
    }
   ],
   "source": [
    "# Category\n",
    "res_category = soup.find_all('div', class_='al ii br iw c3')\n",
    "categories = []\n",
    "\n",
    "for i in res_category:\n",
    "    span_text = i.find('span').text.strip()\n",
    "    category = span_text.split('•')[0].strip()\n",
    "    categories.append(category)\n",
    "\n",
    "df4 = pd.DataFrame(categories, columns=['Category'])\n",
    "print(df4)"
   ]
  },
  {
   "cell_type": "code",
   "execution_count": 73,
   "id": "c2784c43",
   "metadata": {},
   "outputs": [
    {
     "data": {
      "text/html": [
       "<div>\n",
       "<style scoped>\n",
       "    .dataframe tbody tr th:only-of-type {\n",
       "        vertical-align: middle;\n",
       "    }\n",
       "\n",
       "    .dataframe tbody tr th {\n",
       "        vertical-align: top;\n",
       "    }\n",
       "\n",
       "    .dataframe thead th {\n",
       "        text-align: right;\n",
       "    }\n",
       "</style>\n",
       "<table border=\"1\" class=\"dataframe\">\n",
       "  <thead>\n",
       "    <tr style=\"text-align: right;\">\n",
       "      <th></th>\n",
       "      <th>Restaurant Name</th>\n",
       "      <th>Rating</th>\n",
       "      <th>Category</th>\n",
       "      <th>Address</th>\n",
       "    </tr>\n",
       "  </thead>\n",
       "  <tbody>\n",
       "    <tr>\n",
       "      <th>0</th>\n",
       "      <td>Snack Bar Saint-Jean</td>\n",
       "      <td>4.6</td>\n",
       "      <td>Comfort Food</td>\n",
       "      <td>780 Rue Saint-Jean, Québec, QC G1R</td>\n",
       "    </tr>\n",
       "    <tr>\n",
       "      <th>1</th>\n",
       "      <td>McDonald's (Hamel)</td>\n",
       "      <td>4.5</td>\n",
       "      <td>Burgers</td>\n",
       "      <td>590, Boul. Wilfrid-Hamel, Québec, QC G1M 2T3</td>\n",
       "    </tr>\n",
       "    <tr>\n",
       "      <th>2</th>\n",
       "      <td>Les Aliments M&amp;M (Quebec-de l'Ormière)</td>\n",
       "      <td>New</td>\n",
       "      <td>Grocery</td>\n",
       "      <td>9465 Boulevard De L'Ormiere, Quebec City, NAME...</td>\n",
       "    </tr>\n",
       "    <tr>\n",
       "      <th>3</th>\n",
       "      <td>Walmart (550 Wilfrid-Hamel Blvd)</td>\n",
       "      <td>New</td>\n",
       "      <td>Grocery</td>\n",
       "      <td>550 Boulevard Wilfrid-Hamel, Québec, Québec G1...</td>\n",
       "    </tr>\n",
       "    <tr>\n",
       "      <th>4</th>\n",
       "      <td>Metro (707 Boulevard Charest O)</td>\n",
       "      <td>4.4</td>\n",
       "      <td>Grocery</td>\n",
       "      <td>707 Boulevard Charest O, Quebec, NAMER G1N 4P6</td>\n",
       "    </tr>\n",
       "  </tbody>\n",
       "</table>\n",
       "</div>"
      ],
      "text/plain": [
       "                          Restaurant Name Rating      Category  \\\n",
       "0                    Snack Bar Saint-Jean    4.6  Comfort Food   \n",
       "1                      McDonald's (Hamel)    4.5       Burgers   \n",
       "2  Les Aliments M&M (Quebec-de l'Ormière)    New       Grocery   \n",
       "3        Walmart (550 Wilfrid-Hamel Blvd)    New       Grocery   \n",
       "4         Metro (707 Boulevard Charest O)    4.4       Grocery   \n",
       "\n",
       "                                             Address  \n",
       "0                 780 Rue Saint-Jean, Québec, QC G1R  \n",
       "1       590, Boul. Wilfrid-Hamel, Québec, QC G1M 2T3  \n",
       "2  9465 Boulevard De L'Ormiere, Quebec City, NAME...  \n",
       "3  550 Boulevard Wilfrid-Hamel, Québec, Québec G1...  \n",
       "4     707 Boulevard Charest O, Quebec, NAMER G1N 4P6  "
      ]
     },
     "execution_count": 73,
     "metadata": {},
     "output_type": "execute_result"
    }
   ],
   "source": [
    "# Join the DataFrames in the desired order\n",
    "result = pd.concat([df, df2, df4, df3], axis=1)\n",
    "\n",
    "result.head()"
   ]
  },
  {
   "cell_type": "code",
   "execution_count": 74,
   "id": "1021338a",
   "metadata": {},
   "outputs": [],
   "source": [
    "# Export the joined DataFrame to an Excel file\n",
    "result.to_csv('sault-ste-marie-on', index=False)"
   ]
  },
  {
   "cell_type": "code",
   "execution_count": 75,
   "id": "0c41a08a",
   "metadata": {},
   "outputs": [],
   "source": [
    "browser.quit()"
   ]
  },
  {
   "cell_type": "code",
   "execution_count": null,
   "id": "dbc2712a",
   "metadata": {},
   "outputs": [],
   "source": []
  }
 ],
 "metadata": {
  "kernelspec": {
   "display_name": "Python 3 (ipykernel)",
   "language": "python",
   "name": "python3"
  },
  "language_info": {
   "codemirror_mode": {
    "name": "ipython",
    "version": 3
   },
   "file_extension": ".py",
   "mimetype": "text/x-python",
   "name": "python",
   "nbconvert_exporter": "python",
   "pygments_lexer": "ipython3",
   "version": "3.9.13"
  }
 },
 "nbformat": 4,
 "nbformat_minor": 5
}
