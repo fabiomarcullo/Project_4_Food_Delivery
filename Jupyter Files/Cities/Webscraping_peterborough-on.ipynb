{
 "cells": [
  {
   "cell_type": "code",
   "execution_count": 53,
   "id": "39d82a98",
   "metadata": {},
   "outputs": [],
   "source": [
    "# Import dependencies/libraries\n",
    "from splinter import Browser\n",
    "from bs4 import BeautifulSoup as soup\n",
    "import pandas as pd\n"
   ]
  },
  {
   "cell_type": "code",
   "execution_count": 54,
   "id": "90fdaf9b",
   "metadata": {},
   "outputs": [],
   "source": [
    "# Setting up the browser\n",
    "browser = Browser('chrome')"
   ]
  },
  {
   "cell_type": "code",
   "execution_count": 55,
   "id": "f683952c",
   "metadata": {},
   "outputs": [],
   "source": [
    "# Visiting the website\n",
    "base_url = \"https://www.ubereats.com/ca/city/\"\n",
    "location = \"peterborough-on/\"\n",
    "url = base_url + location\n",
    "browser.visit(url)"
   ]
  },
  {
   "cell_type": "code",
   "execution_count": 56,
   "id": "f9578c21",
   "metadata": {},
   "outputs": [],
   "source": [
    "html = browser.html\n",
    "soup = soup(html, 'html.parser')"
   ]
  },
  {
   "cell_type": "code",
   "execution_count": 57,
   "id": "16794064",
   "metadata": {
    "scrolled": true
   },
   "outputs": [
    {
     "name": "stdout",
     "output_type": "stream",
     "text": [
      "                        Restaurant Name\n",
      "0           Ariyana Middle Eastern Food\n",
      "1              The Dirty Burger Company\n",
      "2               BrickHouse Craft Burger\n",
      "3                           Pizza Kollo\n",
      "4   Pizza Hut (705 George Street North)\n",
      "..                                  ...\n",
      "75    Mucho Burrito (867 Lansdowne St.)\n",
      "76             TOKYO SUSHI PETERBOROUGH\n",
      "77                          El Camino's\n",
      "78                        Tapas & Tacos\n",
      "79                            Chopstics\n",
      "\n",
      "[80 rows x 1 columns]\n"
     ]
    }
   ],
   "source": [
    "# Restaurant name\n",
    "\n",
    "res_name = soup.find_all('div', class_='al ii br iw c3')\n",
    "restaurants = []\n",
    "\n",
    "for i in res_name:\n",
    "    restaurant = i.find('h3').text.strip()\n",
    "    restaurants.append(restaurant)\n",
    "\n",
    "df = pd.DataFrame(restaurants, columns=['Restaurant Name'])\n",
    "print(df)"
   ]
  },
  {
   "cell_type": "code",
   "execution_count": 58,
   "id": "4a9881ba",
   "metadata": {
    "scrolled": true
   },
   "outputs": [
    {
     "name": "stdout",
     "output_type": "stream",
     "text": [
      "   Rating\n",
      "0     4.5\n",
      "1     4.8\n",
      "2     4.6\n",
      "3     New\n",
      "4     4.2\n",
      "..    ...\n",
      "75    New\n",
      "76    4.6\n",
      "77    4.7\n",
      "78    New\n",
      "79    4.0\n",
      "\n",
      "[80 rows x 1 columns]\n"
     ]
    }
   ],
   "source": [
    "# Rating information \n",
    "\n",
    "\n",
    "res_Rating = soup.find_all('div', class_='br al b9 bm c3 dd ix')\n",
    "\n",
    "ratings = []\n",
    "\n",
    "for i in res_Rating:\n",
    "    rating = i.find('div').text.strip()\n",
    "    ratings.append(rating)\n",
    "\n",
    "df2 = pd.DataFrame(ratings, columns=['Rating'])\n",
    "print(df2)"
   ]
  },
  {
   "cell_type": "code",
   "execution_count": 60,
   "id": "fee02591",
   "metadata": {},
   "outputs": [
    {
     "name": "stdout",
     "output_type": "stream",
     "text": [
      "                                              Address\n",
      "0          396 George St N, Peterborough, Ontario K9H\n",
      "1        211 Hunter Street West, Peterborough, ON K9H\n",
      "2            123 Simcoe St, Peterborough, Ontario K9H\n",
      "3       230 Charlotte Street, Peterborough, NAMER K9J\n",
      "4           705 George St N, Peterborough, ON K9H 3T1\n",
      "..                                                ...\n",
      "75  867 Lansdowne Street, Peterborough, NAMER K9J 1Z7\n",
      "76              360 George St N, Peterborough, ON K9H\n",
      "77  360 George Street North, Unit 56, Peterborough...\n",
      "78       376 George St N, Peterborough, NAMER K9H 3R3\n",
      "79  550 Lansdowne Street West, Peterborough, K9j 8j8,\n",
      "\n",
      "[80 rows x 1 columns]\n"
     ]
    }
   ],
   "source": [
    "# Address\n",
    "res_Address = soup.find_all('div', class_='fz j5 al ii')\n",
    "addresses = []\n",
    "\n",
    "for i in res_Address:\n",
    "    if i.text:\n",
    "        spans = i.find_all('span')\n",
    "        if len(spans) > 1:\n",
    "            address = spans[1].text.strip()\n",
    "            addresses.append(address)\n",
    "\n",
    "df3 = pd.DataFrame(addresses, columns=['Address'])\n",
    "print(df3)"
   ]
  },
  {
   "cell_type": "code",
   "execution_count": 61,
   "id": "042043d8",
   "metadata": {},
   "outputs": [
    {
     "name": "stdout",
     "output_type": "stream",
     "text": [
      "         Category\n",
      "0   Mediterranean\n",
      "1         Burgers\n",
      "2           Wings\n",
      "3           Pizza\n",
      "4           PIzza\n",
      "..            ...\n",
      "75      Fast Food\n",
      "76          Sushi\n",
      "77        Mexican\n",
      "78     Vegetarian\n",
      "79          Asian\n",
      "\n",
      "[80 rows x 1 columns]\n"
     ]
    }
   ],
   "source": [
    "# Category\n",
    "res_category = soup.find_all('div', class_='al ii br iw c3')\n",
    "categories = []\n",
    "\n",
    "for i in res_category:\n",
    "    span_text = i.find('span').text.strip()\n",
    "    category = span_text.split('•')[0].strip()\n",
    "    categories.append(category)\n",
    "\n",
    "df4 = pd.DataFrame(categories, columns=['Category'])\n",
    "print(df4)"
   ]
  },
  {
   "cell_type": "code",
   "execution_count": 62,
   "id": "c2784c43",
   "metadata": {},
   "outputs": [
    {
     "data": {
      "text/html": [
       "<div>\n",
       "<style scoped>\n",
       "    .dataframe tbody tr th:only-of-type {\n",
       "        vertical-align: middle;\n",
       "    }\n",
       "\n",
       "    .dataframe tbody tr th {\n",
       "        vertical-align: top;\n",
       "    }\n",
       "\n",
       "    .dataframe thead th {\n",
       "        text-align: right;\n",
       "    }\n",
       "</style>\n",
       "<table border=\"1\" class=\"dataframe\">\n",
       "  <thead>\n",
       "    <tr style=\"text-align: right;\">\n",
       "      <th></th>\n",
       "      <th>Restaurant Name</th>\n",
       "      <th>Rating</th>\n",
       "      <th>Category</th>\n",
       "      <th>Address</th>\n",
       "    </tr>\n",
       "  </thead>\n",
       "  <tbody>\n",
       "    <tr>\n",
       "      <th>0</th>\n",
       "      <td>Ariyana Middle Eastern Food</td>\n",
       "      <td>4.5</td>\n",
       "      <td>Mediterranean</td>\n",
       "      <td>396 George St N, Peterborough, Ontario K9H</td>\n",
       "    </tr>\n",
       "    <tr>\n",
       "      <th>1</th>\n",
       "      <td>The Dirty Burger Company</td>\n",
       "      <td>4.8</td>\n",
       "      <td>Burgers</td>\n",
       "      <td>211 Hunter Street West, Peterborough, ON K9H</td>\n",
       "    </tr>\n",
       "    <tr>\n",
       "      <th>2</th>\n",
       "      <td>BrickHouse Craft Burger</td>\n",
       "      <td>4.6</td>\n",
       "      <td>Wings</td>\n",
       "      <td>123 Simcoe St, Peterborough, Ontario K9H</td>\n",
       "    </tr>\n",
       "    <tr>\n",
       "      <th>3</th>\n",
       "      <td>Pizza Kollo</td>\n",
       "      <td>New</td>\n",
       "      <td>Pizza</td>\n",
       "      <td>230 Charlotte Street, Peterborough, NAMER K9J</td>\n",
       "    </tr>\n",
       "    <tr>\n",
       "      <th>4</th>\n",
       "      <td>Pizza Hut (705 George Street North)</td>\n",
       "      <td>4.2</td>\n",
       "      <td>PIzza</td>\n",
       "      <td>705 George St N, Peterborough, ON K9H 3T1</td>\n",
       "    </tr>\n",
       "  </tbody>\n",
       "</table>\n",
       "</div>"
      ],
      "text/plain": [
       "                       Restaurant Name Rating       Category  \\\n",
       "0          Ariyana Middle Eastern Food    4.5  Mediterranean   \n",
       "1             The Dirty Burger Company    4.8        Burgers   \n",
       "2              BrickHouse Craft Burger    4.6          Wings   \n",
       "3                          Pizza Kollo    New          Pizza   \n",
       "4  Pizza Hut (705 George Street North)    4.2          PIzza   \n",
       "\n",
       "                                         Address  \n",
       "0     396 George St N, Peterborough, Ontario K9H  \n",
       "1   211 Hunter Street West, Peterborough, ON K9H  \n",
       "2       123 Simcoe St, Peterborough, Ontario K9H  \n",
       "3  230 Charlotte Street, Peterborough, NAMER K9J  \n",
       "4      705 George St N, Peterborough, ON K9H 3T1  "
      ]
     },
     "execution_count": 62,
     "metadata": {},
     "output_type": "execute_result"
    }
   ],
   "source": [
    "# Join the DataFrames in the desired order\n",
    "result = pd.concat([df, df2, df4, df3], axis=1)\n",
    "\n",
    "result.head()"
   ]
  },
  {
   "cell_type": "code",
   "execution_count": 63,
   "id": "1021338a",
   "metadata": {},
   "outputs": [],
   "source": [
    "# Export the joined DataFrame to an Excel file\n",
    "result.to_csv('peterborough-on.csv', index=False)"
   ]
  },
  {
   "cell_type": "code",
   "execution_count": 64,
   "id": "0c41a08a",
   "metadata": {},
   "outputs": [],
   "source": [
    "browser.quit()"
   ]
  },
  {
   "cell_type": "code",
   "execution_count": null,
   "id": "dbc2712a",
   "metadata": {},
   "outputs": [],
   "source": []
  }
 ],
 "metadata": {
  "kernelspec": {
   "display_name": "Python 3 (ipykernel)",
   "language": "python",
   "name": "python3"
  },
  "language_info": {
   "codemirror_mode": {
    "name": "ipython",
    "version": 3
   },
   "file_extension": ".py",
   "mimetype": "text/x-python",
   "name": "python",
   "nbconvert_exporter": "python",
   "pygments_lexer": "ipython3",
   "version": "3.9.13"
  }
 },
 "nbformat": 4,
 "nbformat_minor": 5
}
