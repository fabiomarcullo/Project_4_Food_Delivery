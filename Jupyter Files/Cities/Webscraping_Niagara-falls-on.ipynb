{
 "cells": [
  {
   "cell_type": "code",
   "execution_count": 1,
   "id": "39d82a98",
   "metadata": {},
   "outputs": [],
   "source": [
    "# Import dependencies/libraries\n",
    "from splinter import Browser\n",
    "from bs4 import BeautifulSoup as soup\n",
    "import pandas as pd\n"
   ]
  },
  {
   "cell_type": "code",
   "execution_count": 2,
   "id": "90fdaf9b",
   "metadata": {},
   "outputs": [],
   "source": [
    "# Setting up the browser\n",
    "browser = Browser('chrome')"
   ]
  },
  {
   "cell_type": "code",
   "execution_count": 3,
   "id": "f683952c",
   "metadata": {},
   "outputs": [],
   "source": [
    "# Visiting the website\n",
    "base_url = \"https://www.ubereats.com/ca/city/\"\n",
    "location = \"niagara-falls-on/\"\n",
    "url = base_url + location\n",
    "browser.visit(url)"
   ]
  },
  {
   "cell_type": "code",
   "execution_count": 4,
   "id": "f9578c21",
   "metadata": {},
   "outputs": [],
   "source": [
    "html = browser.html\n",
    "soup = soup(html, 'html.parser')"
   ]
  },
  {
   "cell_type": "code",
   "execution_count": 6,
   "id": "16794064",
   "metadata": {
    "scrolled": true
   },
   "outputs": [
    {
     "name": "stdout",
     "output_type": "stream",
     "text": [
      "                          Restaurant Name\n",
      "0               Country Style (Vansickle)\n",
      "1   7-Eleven (6 Crowland Ave @ East Main)\n",
      "2            Food Basics (325 Thorold Rd)\n",
      "3                    A&W (806 Niagara St)\n",
      "4                     Starbucks (Welland)\n",
      "..                                    ...\n",
      "75         Firehouse Subs (Niagara Falls)\n",
      "76                           The Pizzeria\n",
      "77      Fresh Burrito (5932 Victoria Ave)\n",
      "78   Smoke's Poutinerie (St Paul & James)\n",
      "79           Volcanos Pizzeria (Fonthill)\n",
      "\n",
      "[80 rows x 1 columns]\n"
     ]
    }
   ],
   "source": [
    "# Restaurant name\n",
    "\n",
    "res_name = soup.find_all('div', class_='al ii br iw c3')\n",
    "restaurants = []\n",
    "\n",
    "for i in res_name:\n",
    "    restaurant = i.find('h3').text.strip()\n",
    "    restaurants.append(restaurant)\n",
    "\n",
    "df = pd.DataFrame(restaurants, columns=['Restaurant Name'])\n",
    "print(df)"
   ]
  },
  {
   "cell_type": "code",
   "execution_count": 7,
   "id": "4a9881ba",
   "metadata": {
    "scrolled": true
   },
   "outputs": [
    {
     "name": "stdout",
     "output_type": "stream",
     "text": [
      "   Rating\n",
      "0     New\n",
      "1     4.2\n",
      "2     4.5\n",
      "3     4.3\n",
      "4     4.7\n",
      "..    ...\n",
      "75    4.7\n",
      "76    4.2\n",
      "77    4.4\n",
      "78    4.6\n",
      "79    New\n",
      "\n",
      "[80 rows x 1 columns]\n"
     ]
    }
   ],
   "source": [
    "# Rating information \n",
    "\n",
    "\n",
    "res_Rating = soup.find_all('div', class_='br al b9 bm c3 dd ix')\n",
    "\n",
    "ratings = []\n",
    "\n",
    "for i in res_Rating:\n",
    "    rating = i.find('div').text.strip()\n",
    "    ratings.append(rating)\n",
    "\n",
    "df2 = pd.DataFrame(ratings, columns=['Rating'])\n",
    "print(df2)"
   ]
  },
  {
   "cell_type": "code",
   "execution_count": 8,
   "id": "fee02591",
   "metadata": {},
   "outputs": [
    {
     "name": "stdout",
     "output_type": "stream",
     "text": [
      "                                              Address\n",
      "0   420 Vansickle Rd St. Catharines, On L2s 0c7 Ca...\n",
      "1         6 Crowland Ave @ East Main, Welland, ON L3B\n",
      "2               325 Thorold Rd W, Welland, ON L3C 3W4\n",
      "3                 806 Niagara St, Welland, ON L3C 1M3\n",
      "4                 897 Niagara Street, Welland, ON L3C\n",
      "..                                                ...\n",
      "75     6758 Lundy'S Ln, Unit 6, Niagara Falls, ON L2G\n",
      "76         6175 Dunn St, Niagara Falls, NAMER L2G 2P4\n",
      "77  5932 Victoria Avenue, Unit 6, Niagara Falls, O...\n",
      "78              10 Summer St, St. Catharine'S, ON L2R\n",
      "79                             1409 Pelham St, ON L0S\n",
      "\n",
      "[80 rows x 1 columns]\n"
     ]
    }
   ],
   "source": [
    "# Address\n",
    "res_Address = soup.find_all('div', class_='fz j4 al ii')\n",
    "addresses = []\n",
    "\n",
    "for i in res_Address:\n",
    "    if i.text:\n",
    "        spans = i.find_all('span')\n",
    "        if len(spans) > 1:\n",
    "            address = spans[1].text.strip()\n",
    "            addresses.append(address)\n",
    "\n",
    "df3 = pd.DataFrame(addresses, columns=['Address'])\n",
    "print(df3)"
   ]
  },
  {
   "cell_type": "code",
   "execution_count": 10,
   "id": "042043d8",
   "metadata": {},
   "outputs": [
    {
     "name": "stdout",
     "output_type": "stream",
     "text": [
      "               Category\n",
      "0              American\n",
      "1                 Wings\n",
      "2   Everyday Essentials\n",
      "3             Fast food\n",
      "4          Coffee & tea\n",
      "..                  ...\n",
      "75             Sandwich\n",
      "76                Pizza\n",
      "77              Mexican\n",
      "78            Fast food\n",
      "79                Pizza\n",
      "\n",
      "[80 rows x 1 columns]\n"
     ]
    }
   ],
   "source": [
    "# Category\n",
    "res_category = soup.find_all('div', class_='al ii br iw c3')\n",
    "categories = []\n",
    "\n",
    "for i in res_category:\n",
    "    span_text = i.find('span').text.strip()\n",
    "    category = span_text.split('•')[0].strip()\n",
    "    categories.append(category)\n",
    "\n",
    "df4 = pd.DataFrame(categories, columns=['Category'])\n",
    "print(df4)"
   ]
  },
  {
   "cell_type": "code",
   "execution_count": 11,
   "id": "c2784c43",
   "metadata": {},
   "outputs": [
    {
     "data": {
      "text/html": [
       "<div>\n",
       "<style scoped>\n",
       "    .dataframe tbody tr th:only-of-type {\n",
       "        vertical-align: middle;\n",
       "    }\n",
       "\n",
       "    .dataframe tbody tr th {\n",
       "        vertical-align: top;\n",
       "    }\n",
       "\n",
       "    .dataframe thead th {\n",
       "        text-align: right;\n",
       "    }\n",
       "</style>\n",
       "<table border=\"1\" class=\"dataframe\">\n",
       "  <thead>\n",
       "    <tr style=\"text-align: right;\">\n",
       "      <th></th>\n",
       "      <th>Restaurant Name</th>\n",
       "      <th>Rating</th>\n",
       "      <th>Category</th>\n",
       "      <th>Address</th>\n",
       "    </tr>\n",
       "  </thead>\n",
       "  <tbody>\n",
       "    <tr>\n",
       "      <th>0</th>\n",
       "      <td>Country Style (Vansickle)</td>\n",
       "      <td>New</td>\n",
       "      <td>American</td>\n",
       "      <td>420 Vansickle Rd St. Catharines, On L2s 0c7 Ca...</td>\n",
       "    </tr>\n",
       "    <tr>\n",
       "      <th>1</th>\n",
       "      <td>7-Eleven (6 Crowland Ave @ East Main)</td>\n",
       "      <td>4.2</td>\n",
       "      <td>Wings</td>\n",
       "      <td>6 Crowland Ave @ East Main, Welland, ON L3B</td>\n",
       "    </tr>\n",
       "    <tr>\n",
       "      <th>2</th>\n",
       "      <td>Food Basics (325 Thorold Rd)</td>\n",
       "      <td>4.5</td>\n",
       "      <td>Everyday Essentials</td>\n",
       "      <td>325 Thorold Rd W, Welland, ON L3C 3W4</td>\n",
       "    </tr>\n",
       "    <tr>\n",
       "      <th>3</th>\n",
       "      <td>A&amp;W (806 Niagara St)</td>\n",
       "      <td>4.3</td>\n",
       "      <td>Fast food</td>\n",
       "      <td>806 Niagara St, Welland, ON L3C 1M3</td>\n",
       "    </tr>\n",
       "    <tr>\n",
       "      <th>4</th>\n",
       "      <td>Starbucks (Welland)</td>\n",
       "      <td>4.7</td>\n",
       "      <td>Coffee &amp; tea</td>\n",
       "      <td>897 Niagara Street, Welland, ON L3C</td>\n",
       "    </tr>\n",
       "  </tbody>\n",
       "</table>\n",
       "</div>"
      ],
      "text/plain": [
       "                         Restaurant Name Rating             Category  \\\n",
       "0              Country Style (Vansickle)    New             American   \n",
       "1  7-Eleven (6 Crowland Ave @ East Main)    4.2                Wings   \n",
       "2           Food Basics (325 Thorold Rd)    4.5  Everyday Essentials   \n",
       "3                   A&W (806 Niagara St)    4.3            Fast food   \n",
       "4                    Starbucks (Welland)    4.7         Coffee & tea   \n",
       "\n",
       "                                             Address  \n",
       "0  420 Vansickle Rd St. Catharines, On L2s 0c7 Ca...  \n",
       "1        6 Crowland Ave @ East Main, Welland, ON L3B  \n",
       "2              325 Thorold Rd W, Welland, ON L3C 3W4  \n",
       "3                806 Niagara St, Welland, ON L3C 1M3  \n",
       "4                897 Niagara Street, Welland, ON L3C  "
      ]
     },
     "execution_count": 11,
     "metadata": {},
     "output_type": "execute_result"
    }
   ],
   "source": [
    "# Join the DataFrames in the desired order\n",
    "result = pd.concat([df, df2, df4, df3], axis=1)\n",
    "\n",
    "result.head()"
   ]
  },
  {
   "cell_type": "code",
   "execution_count": 12,
   "id": "1021338a",
   "metadata": {},
   "outputs": [],
   "source": [
    "# Export the joined DataFrame to an Excel file\n",
    "result.to_csv('Niagara-falls-on.csv', index=False)"
   ]
  },
  {
   "cell_type": "code",
   "execution_count": 22,
   "id": "0c41a08a",
   "metadata": {},
   "outputs": [],
   "source": [
    "browser.quit()"
   ]
  },
  {
   "cell_type": "code",
   "execution_count": null,
   "id": "dbc2712a",
   "metadata": {},
   "outputs": [],
   "source": []
  }
 ],
 "metadata": {
  "kernelspec": {
   "display_name": "Python 3 (ipykernel)",
   "language": "python",
   "name": "python3"
  },
  "language_info": {
   "codemirror_mode": {
    "name": "ipython",
    "version": 3
   },
   "file_extension": ".py",
   "mimetype": "text/x-python",
   "name": "python",
   "nbconvert_exporter": "python",
   "pygments_lexer": "ipython3",
   "version": "3.9.13"
  }
 },
 "nbformat": 4,
 "nbformat_minor": 5
}
